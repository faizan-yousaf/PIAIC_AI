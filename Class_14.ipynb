{
 "cells": [
  {
   "cell_type": "markdown",
   "id": "93229aa9",
   "metadata": {},
   "source": [
    "# Encapsulation:\n",
    "* private:\n",
    "    variables or methods that are accessable within a class or use through inheritance. It is never accessible outside of class.\n",
    "    --> If you want to access outside of class, we have to use setter and getter function (Method) <br>\n",
    "  <br>\n",
    "    * we use `__` to make an attribute/method private.\n",
    "    \n",
    "    * Methods\n",
    "    * Attributes\n",
    "   "
   ]
  },
  {
   "cell_type": "markdown",
   "id": "1c11ce71",
   "metadata": {},
   "source": [
    "#### for example, if we see facebook.com , we cannot see any other account's password because it is kept private.\n",
    "### and when we click on forgot password it do 2 task:\n",
    "* set new password  (Reset password) OR\n",
    "* Update the password"
   ]
  },
  {
   "cell_type": "markdown",
   "id": "22356a3f",
   "metadata": {},
   "source": [
    "* forget password = setter function\n",
    "* login = getter funtion"
   ]
  },
  {
   "cell_type": "markdown",
   "id": "0c5885f6",
   "metadata": {},
   "source": [
    "* when we will get something from the database we can say it is getter function.\n",
    "* when we will update something on the database we can say it is setter function."
   ]
  },
  {
   "cell_type": "markdown",
   "id": "a9c2f013",
   "metadata": {},
   "source": [
    "# Getter :\n",
    "* to access private attributes, we use getter. <br>\n",
    "\n",
    "# Setter :\n",
    "* to update the existing attributes, we use setter "
   ]
  },
  {
   "cell_type": "markdown",
   "id": "2dc64190",
   "metadata": {},
   "source": [
    "## Let's create a Class of the example we were talking about:\n"
   ]
  },
  {
   "cell_type": "code",
   "execution_count": 2,
   "id": "eaa1d120",
   "metadata": {},
   "outputs": [],
   "source": [
    "class Facebook():\n",
    "    def __init__(self, user):\n",
    "        self.user = user        # public \n",
    "        self.__password = \"123\" # private\n",
    "        self.__email = None     #private\n",
    "        \n",
    "u1 = Facebook(\"Muhammad Faizan\")\n",
    "u2 = Facebook(\"Ahmad khan\")"
   ]
  },
  {
   "cell_type": "code",
   "execution_count": 3,
   "id": "e98d6854",
   "metadata": {},
   "outputs": [
    {
     "data": {
      "text/plain": [
       "False"
      ]
     },
     "execution_count": 3,
     "metadata": {},
     "output_type": "execute_result"
    }
   ],
   "source": [
    "\"__password\" == \"password\""
   ]
  },
  {
   "cell_type": "markdown",
   "id": "1858786a",
   "metadata": {},
   "source": [
    "* Now if we check, public attributes are callable but private attributes cannot be called!"
   ]
  },
  {
   "cell_type": "code",
   "execution_count": 4,
   "id": "d5b0177c",
   "metadata": {},
   "outputs": [
    {
     "name": "stdout",
     "output_type": "stream",
     "text": [
      "Muhammad Faizan\n"
     ]
    }
   ],
   "source": [
    "print(u1.user)"
   ]
  },
  {
   "cell_type": "code",
   "execution_count": 5,
   "id": "ad9bae43",
   "metadata": {},
   "outputs": [
    {
     "name": "stdout",
     "output_type": "stream",
     "text": [
      "Ahmad khan\n"
     ]
    }
   ],
   "source": [
    "print(u2.user)"
   ]
  },
  {
   "cell_type": "markdown",
   "id": "5539f3d7",
   "metadata": {},
   "source": [
    "* Let's try to call private attributes:"
   ]
  },
  {
   "cell_type": "code",
   "execution_count": 6,
   "id": "73e3006b",
   "metadata": {},
   "outputs": [
    {
     "ename": "AttributeError",
     "evalue": "'Facebook' object has no attribute 'password'",
     "output_type": "error",
     "traceback": [
      "\u001b[1;31m---------------------------------------------------------------------------\u001b[0m",
      "\u001b[1;31mAttributeError\u001b[0m                            Traceback (most recent call last)",
      "Input \u001b[1;32mIn [6]\u001b[0m, in \u001b[0;36m<cell line: 1>\u001b[1;34m()\u001b[0m\n\u001b[1;32m----> 1\u001b[0m \u001b[38;5;28mprint\u001b[39m(\u001b[43mu1\u001b[49m\u001b[38;5;241;43m.\u001b[39;49m\u001b[43mpassword\u001b[49m)\n",
      "\u001b[1;31mAttributeError\u001b[0m: 'Facebook' object has no attribute 'password'"
     ]
    }
   ],
   "source": [
    "print(u1.password)"
   ]
  },
  {
   "cell_type": "code",
   "execution_count": 7,
   "id": "6102554a",
   "metadata": {},
   "outputs": [
    {
     "ename": "AttributeError",
     "evalue": "'Facebook' object has no attribute 'email'",
     "output_type": "error",
     "traceback": [
      "\u001b[1;31m---------------------------------------------------------------------------\u001b[0m",
      "\u001b[1;31mAttributeError\u001b[0m                            Traceback (most recent call last)",
      "Input \u001b[1;32mIn [7]\u001b[0m, in \u001b[0;36m<cell line: 1>\u001b[1;34m()\u001b[0m\n\u001b[1;32m----> 1\u001b[0m \u001b[38;5;28mprint\u001b[39m(\u001b[43mu1\u001b[49m\u001b[38;5;241;43m.\u001b[39;49m\u001b[43memail\u001b[49m)\n",
      "\u001b[1;31mAttributeError\u001b[0m: 'Facebook' object has no attribute 'email'"
     ]
    }
   ],
   "source": [
    "print(u1.email)"
   ]
  },
  {
   "cell_type": "markdown",
   "id": "b86a1dd8",
   "metadata": {},
   "source": [
    "#### Encapsulation:\n",
    "    ksi bi attribute ya method ko private krna...\n",
    "    Example of capsule (dawai)"
   ]
  },
  {
   "cell_type": "markdown",
   "id": "bd34a88e",
   "metadata": {},
   "source": [
    "* python is not pure OOP programming language!"
   ]
  },
  {
   "cell_type": "markdown",
   "id": "902895ea",
   "metadata": {},
   "source": [
    "* we can access any private attribute using the below code... as Python is not pure OOP language!"
   ]
  },
  {
   "cell_type": "markdown",
   "id": "5f7157ac",
   "metadata": {},
   "source": [
    "`object._ClassName__PrivateAttribute`"
   ]
  },
  {
   "cell_type": "code",
   "execution_count": null,
   "id": "8d10a242",
   "metadata": {},
   "outputs": [],
   "source": [
    "u1._Facebook__password"
   ]
  },
  {
   "cell_type": "code",
   "execution_count": 23,
   "id": "3da75961",
   "metadata": {},
   "outputs": [],
   "source": [
    "class Facebook():\n",
    "    def __init__(self, user):\n",
    "        self.user = user        # public \n",
    "        self.__password = \"123\" # private\n",
    "        self.__email = None     #private\n",
    "    #setter:    \n",
    "    def update(self, new_password, new_email):\n",
    "        self.__password = new_password\n",
    "        self.__email = new_email\n",
    "    #getter: \n",
    "    def info(self):\n",
    "        return f\"\"\"\n",
    "        Welcome to your profile {self.user}.\n",
    "        Your new password is {self.__password}\n",
    "        Your new email is {self.__email}\"\"\"\n",
    "        \n",
    "u1 = Facebook(\"Muhammad Faizan\")\n",
    "u2 = Facebook(\"Ahmad khan\")"
   ]
  },
  {
   "cell_type": "code",
   "execution_count": 24,
   "id": "9d166c74",
   "metadata": {},
   "outputs": [
    {
     "name": "stdout",
     "output_type": "stream",
     "text": [
      "\n",
      "        Welcome to your profile Muhammad Faizan.\n",
      "        Your new password is 123\n",
      "        Your new email is None\n"
     ]
    }
   ],
   "source": [
    "print(u1.info())"
   ]
  },
  {
   "cell_type": "code",
   "execution_count": 25,
   "id": "7a8b5be6",
   "metadata": {},
   "outputs": [],
   "source": [
    "u1.update(\"Killerfazi@7.\", \"Faizanyousaf112233@gmail.com\")"
   ]
  },
  {
   "cell_type": "code",
   "execution_count": 26,
   "id": "728d5fe0",
   "metadata": {},
   "outputs": [
    {
     "name": "stdout",
     "output_type": "stream",
     "text": [
      "\n",
      "        Welcome to your profile Muhammad Faizan.\n",
      "        Your new password is Killerfazi@7.\n",
      "        Your new email is Faizanyousaf112233@gmail.com\n"
     ]
    }
   ],
   "source": [
    "print(u1.info())"
   ]
  },
  {
   "cell_type": "code",
   "execution_count": 43,
   "id": "d00baf2c",
   "metadata": {},
   "outputs": [],
   "source": [
    "class Facebook():\n",
    "    def __init__(self, user):\n",
    "        self.user = user        # public \n",
    "        self.__password = \"123\" # private\n",
    "        self.__email = None     #private\n",
    "        \n",
    "    def __connectDB(self):\n",
    "        return \"You can't access this database as it's private :)\"\n",
    "    \n",
    "    #setter:    \n",
    "    def update(self, new_password, new_email):\n",
    "        self.__password = new_password  \n",
    "        self.__email = new_email\n",
    "        \n",
    "    #getter: \n",
    "    def info(self):\n",
    "        a = self.__connectDB()\n",
    "        return f\"\"\"\n",
    "        Welcome to your profile {self.user}.\n",
    "        Your new password is {self.__password}\n",
    "        Your new email is {self.__email}\n",
    "        Hidden data is in the Database: {a} \"\"\"\n",
    "    \n",
    "        \n",
    "u1 = Facebook(\"Muhammad Faizan\")\n",
    "u2 = Facebook(\"Ahmad khan\")"
   ]
  },
  {
   "cell_type": "code",
   "execution_count": 44,
   "id": "1cf1da91",
   "metadata": {},
   "outputs": [
    {
     "ename": "AttributeError",
     "evalue": "'Facebook' object has no attribute 'connectDB'",
     "output_type": "error",
     "traceback": [
      "\u001b[1;31m---------------------------------------------------------------------------\u001b[0m",
      "\u001b[1;31mAttributeError\u001b[0m                            Traceback (most recent call last)",
      "Input \u001b[1;32mIn [44]\u001b[0m, in \u001b[0;36m<cell line: 1>\u001b[1;34m()\u001b[0m\n\u001b[1;32m----> 1\u001b[0m \u001b[38;5;28mprint\u001b[39m(\u001b[43mu1\u001b[49m\u001b[38;5;241;43m.\u001b[39;49m\u001b[43mconnectDB\u001b[49m)\n",
      "\u001b[1;31mAttributeError\u001b[0m: 'Facebook' object has no attribute 'connectDB'"
     ]
    }
   ],
   "source": [
    "print(u1.connectDB)"
   ]
  },
  {
   "cell_type": "code",
   "execution_count": 47,
   "id": "a4b8465e",
   "metadata": {},
   "outputs": [
    {
     "name": "stdout",
     "output_type": "stream",
     "text": [
      "\n",
      "        Welcome to your profile Muhammad Faizan.\n",
      "        Your new password is 121122112\n",
      "        Your new email is Fazi@gmail.com\n",
      "        Hidden data is in the Database: You can't access this database as it's private :) \n"
     ]
    }
   ],
   "source": [
    "u1.update(\"121122112\", \"Fazi@gmail.com\")\n",
    "print(u1.info())"
   ]
  },
  {
   "cell_type": "code",
   "execution_count": null,
   "id": "77f0cbe9",
   "metadata": {},
   "outputs": [],
   "source": []
  },
  {
   "cell_type": "markdown",
   "id": "a579ee24",
   "metadata": {},
   "source": [
    "# Abstraction:"
   ]
  },
  {
   "cell_type": "markdown",
   "id": "9064f1b8",
   "metadata": {},
   "source": [
    "* A class whose instance cannot be made directly is know as Abstraction.\n",
    "* we can use all the methods/attributes through inheritance \n",
    "* we can also access in child class body\n",
    "* Use this library for abstraction:\n",
    "    `from abc import ABC, abstractmethod`\n",
    "    "
   ]
  },
  {
   "cell_type": "markdown",
   "id": "90294d41",
   "metadata": {},
   "source": [
    "hr wo jandar chez un sb k andr ye khasosiyat ho gi k wo ik waqt tk zinda rhain gy or us k bad wo khatam ho jain gy"
   ]
  },
  {
   "cell_type": "markdown",
   "id": "6c5476a2",
   "metadata": {},
   "source": [
    "* 3.6 and above version:"
   ]
  },
  {
   "cell_type": "code",
   "execution_count": null,
   "id": "fa0e92f0",
   "metadata": {},
   "outputs": [],
   "source": []
  }
 ],
 "metadata": {
  "kernelspec": {
   "display_name": "Python 3 (ipykernel)",
   "language": "python",
   "name": "python3"
  },
  "language_info": {
   "codemirror_mode": {
    "name": "ipython",
    "version": 3
   },
   "file_extension": ".py",
   "mimetype": "text/x-python",
   "name": "python",
   "nbconvert_exporter": "python",
   "pygments_lexer": "ipython3",
   "version": "3.9.12"
  }
 },
 "nbformat": 4,
 "nbformat_minor": 5
}
