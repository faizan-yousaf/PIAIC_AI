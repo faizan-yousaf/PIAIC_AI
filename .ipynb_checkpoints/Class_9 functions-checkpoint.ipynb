{
 "cells": [
  {
   "cell_type": "markdown",
   "id": "02cffce7",
   "metadata": {},
   "source": [
    "# Functions in python:\n",
    "* funcion define/decleration\n",
    "    * function name \n",
    "    * arguments\n",
    "    \n",
    "* function body\n",
    "    * set of statements\n",
    "* function calling\n",
    "    * name()\n",
    "    * pass arguments\n",
    "\n",
    "## predefine functions\n",
    "* functions which are defined already.\n",
    "\n",
    "## user define function\n",
    "* function which are made by us for our own ease.\n",
    "\n",
    "## return\n",
    "* stores value in variable.\n",
    "\n",
    "## non-return\n",
    "* does'nt store value in variable.\n",
    "\n",
    "## default\n",
    "* it does'nt require any argument when the function is called.\n",
    "\n",
    "## required arguments\n",
    "* function will not work without these arguments.\n",
    "\n",
    "## optional arguments\n",
    "* if we don't provide these arguments, the function will work.\n",
    "\n",
    "## Generator\n",
    "* generates values one by one.\n",
    "* it remembers the old generated values.\n",
    "\n",
    "## Lambda function\n",
    "* one line function.\n",
    "* it can be used only once.\n",
    "* it has no name.\n",
    "\n",
    "## Recursive function\n",
    "* it call itself in it's body\n"
   ]
  },
  {
   "cell_type": "markdown",
   "id": "4404ea8e",
   "metadata": {},
   "source": [
    "## pre-defined functions"
   ]
  },
  {
   "cell_type": "markdown",
   "id": "fc37a9e1",
   "metadata": {},
   "source": [
    "### Return / Non-return functions"
   ]
  },
  {
   "cell_type": "code",
   "execution_count": 9,
   "id": "058f385a",
   "metadata": {},
   "outputs": [
    {
     "name": "stdout",
     "output_type": "stream",
     "text": [
      "pakistan zindabad\n",
      "None\n"
     ]
    }
   ],
   "source": [
    "c=print(\"pakistan zindabad\")  #non-return function\n",
    "print(c)"
   ]
  },
  {
   "cell_type": "code",
   "execution_count": 10,
   "id": "4cb4c039",
   "metadata": {},
   "outputs": [
    {
     "name": "stdout",
     "output_type": "stream",
     "text": [
      "2020681617008\n"
     ]
    }
   ],
   "source": [
    "a= id(\"Faizan\") #return function\n",
    "print(a)"
   ]
  },
  {
   "cell_type": "code",
   "execution_count": 11,
   "id": "3d8aaf96",
   "metadata": {
    "scrolled": true
   },
   "outputs": [
    {
     "name": "stdout",
     "output_type": "stream",
     "text": [
      "20\n"
     ]
    }
   ],
   "source": [
    "a= len(\"pakistan is the best\")  #return function\n",
    "print(a)"
   ]
  },
  {
   "cell_type": "markdown",
   "id": "e01c85d8",
   "metadata": {},
   "source": [
    "### User defined function\n",
    "\n",
    "```\n",
    "def function_name(arg1, arg2 ....):\n",
    "    statement 1\n",
    "    statement 2\n",
    "    \n",
    "function_name(arg1, arg2)\n",
    "\n",
    "```"
   ]
  },
  {
   "cell_type": "code",
   "execution_count": 27,
   "id": "73e21dc6",
   "metadata": {},
   "outputs": [
    {
     "name": "stdout",
     "output_type": "stream",
     "text": [
      "Name:\n",
      "\t Faizan\n",
      "Degree:\n",
      "\t BS CS\n",
      "Age:\n",
      "\t 20\n"
     ]
    }
   ],
   "source": [
    "def faizan_data():     #function decleration\n",
    "    print(\"Name:\")     # Statements\n",
    "    print(\"\\t Faizan\")\n",
    "    print(\"Degree:\")\n",
    "    print(\"\\t BS CS\")\n",
    "    print(\"Age:\")\n",
    "    print(\"\\t 20\")\n",
    "    \n",
    "faizan_data()        #function calling"
   ]
  },
  {
   "cell_type": "code",
   "execution_count": 37,
   "id": "25eff57e",
   "metadata": {},
   "outputs": [
    {
     "name": "stdout",
     "output_type": "stream",
     "text": [
      "\n",
      "            Student Name: Faizan\n",
      "            Class : BS\n",
      "            Degree : CS\n",
      "            Semester : 3rd\n",
      "            Skills : AI and Data Science\n",
      "            \n"
     ]
    }
   ],
   "source": [
    "def AI_education():\n",
    "    text = \"\"\"\n",
    "            Student Name: Faizan\n",
    "            Class : BS\n",
    "            Degree : CS\n",
    "            Semester : 3rd\n",
    "            Skills : AI and Data Science\n",
    "            \"\"\"\n",
    "    return text    \n",
    "\n",
    "print(AI_education())    #return function"
   ]
  },
  {
   "cell_type": "code",
   "execution_count": 39,
   "id": "9842dd39",
   "metadata": {},
   "outputs": [
    {
     "name": "stdout",
     "output_type": "stream",
     "text": [
      "\n",
      "            Student Name: Faizan\n",
      "            Class : BS\n",
      "            Degree : CS\n",
      "            Semester : 3rd\n",
      "            Skills : AI and Data Science\n",
      "            \n",
      "\n",
      "            Student Name: Faizan\n",
      "            Class : BS\n",
      "            Degree : CS\n",
      "            Semester : 3rd\n",
      "            Skills : AI and Data Science\n",
      "            \n"
     ]
    }
   ],
   "source": [
    "print( AI_education())\n",
    "print( AI_education())\n"
   ]
  },
  {
   "cell_type": "markdown",
   "id": "be0d0997",
   "metadata": {},
   "source": [
    "## Required arguments\n",
    "* function will not work without these arguments."
   ]
  },
  {
   "cell_type": "code",
   "execution_count": 44,
   "id": "4aca9887",
   "metadata": {},
   "outputs": [
    {
     "name": "stdout",
     "output_type": "stream",
     "text": [
      "41\n",
      "100\n",
      "412\n"
     ]
    }
   ],
   "source": [
    "def add ( num1 , num2):   #here num1 and num2 are merely variable names:\n",
    "    return num1+ num2\n",
    "     \n",
    "\n",
    "print(add(20,21))\n",
    "print(add(60,40))\n",
    "print(add(100,312))"
   ]
  },
  {
   "cell_type": "markdown",
   "id": "e7dd0a08",
   "metadata": {},
   "source": [
    "## optional arguments\n",
    "* if we don't provide these arguments, the function will work."
   ]
  },
  {
   "cell_type": "code",
   "execution_count": 51,
   "id": "c7e7a5ca",
   "metadata": {},
   "outputs": [
    {
     "name": "stdout",
     "output_type": "stream",
     "text": [
      "pakistan0\n",
      "faizan0\n",
      "42\n"
     ]
    }
   ],
   "source": [
    "def add ( num1=\"pakistan\" , num2=\"0\"):\n",
    "    return num1+ num2\n",
    "\n",
    "print(add())  #if we don't write any arguments, it will print the parameters of the function\n",
    "\n",
    "print(add(\"faizan\")) #its concatinates the two given arguments: string + string\n",
    "\n",
    "print(add(21,21))   #here it is adding the two given integer arguments "
   ]
  },
  {
   "cell_type": "code",
   "execution_count": 2,
   "id": "6e845461",
   "metadata": {},
   "outputs": [
    {
     "name": "stdout",
     "output_type": "stream",
     "text": [
      "11\n",
      "150\n",
      "42\n"
     ]
    }
   ],
   "source": [
    "def add ( num1=0 , num2=0):\n",
    "    return num1+ num2\n",
    "\n",
    "print(add(10,1))\n",
    "print(add(90,60))\n",
    "print(add(21,21)) "
   ]
  },
  {
   "cell_type": "markdown",
   "id": "68040e00",
   "metadata": {},
   "source": [
    "# Optional and Required Arguments:"
   ]
  },
  {
   "cell_type": "markdown",
   "id": "81ded27b",
   "metadata": {},
   "source": [
    "## Tea making function!"
   ]
  },
  {
   "cell_type": "code",
   "execution_count": 7,
   "id": "235995cb",
   "metadata": {},
   "outputs": [
    {
     "name": "stdout",
     "output_type": "stream",
     "text": [
      "\n",
      "        pour 20  milileters pani in pot...\n",
      "        Now add 0.5 table spoon patti according to your taste....\n",
      "        add 0.5 leters doodh ...\n",
      "        wait for 5 mint...\n",
      "        Now, your amazing tea is ready..Enjoy!!!! \n"
     ]
    }
   ],
   "source": [
    "def Tea( pani, patti, doodh, time=\"5 mint\"):\n",
    "    receipy = f\"\"\"\n",
    "        pour {pani}  milileters pani in pot...\n",
    "        Now add {patti} table spoon patti according to your taste....\n",
    "        add {doodh} leters doodh ...\n",
    "        wait for {time}...\n",
    "        Now, your amazing tea is ready..Enjoy!!!! \"\"\" \n",
    "    return receipy\n",
    "print(Tea(\"20\", \"0.5\",\"0.5\"))"
   ]
  },
  {
   "cell_type": "code",
   "execution_count": 10,
   "id": "2b92f3b4",
   "metadata": {},
   "outputs": [
    {
     "name": "stdout",
     "output_type": "stream",
     "text": [
      "\n",
      "        pour 10  milileters pani in pot...\n",
      "        Now add 20 table spoon patti according to your taste....\n",
      "        add 31 leters doodh ...\n",
      "        wait for 5 mint...\n",
      "        Now, your amazing tea is ready..Enjoy!!!! \n"
     ]
    }
   ],
   "source": [
    "print(Tea(\"10\",\"20\",\"31\"))"
   ]
  },
  {
   "cell_type": "markdown",
   "id": "f60d13c8",
   "metadata": {},
   "source": [
    "# Optional arguments (unlimited)"
   ]
  },
  {
   "cell_type": "code",
   "execution_count": 17,
   "id": "e90533c4",
   "metadata": {},
   "outputs": [
    {
     "name": "stdout",
     "output_type": "stream",
     "text": [
      "1 (2, 3, 32, 11, 20)\n",
      "69\n"
     ]
    }
   ],
   "source": [
    "def add (num1, *num):   # *num will store/take \"unlimited parameters\"!\n",
    "    print(num1, num) \n",
    "    return num1 + sum(num)\n",
    "print(add (1,2,3,32,11,20))\n"
   ]
  },
  {
   "cell_type": "code",
   "execution_count": 18,
   "id": "8a0725a4",
   "metadata": {},
   "outputs": [
    {
     "name": "stdout",
     "output_type": "stream",
     "text": [
      "1 2 (33, 43, 23, 424, 24, 23)\n",
      "(3, 570)\n"
     ]
    }
   ],
   "source": [
    "def add (num1, num2, *num):   # *num will store/take \"unlimited parameters\"!\n",
    "    print(num1,num2, num) \n",
    "    return num1 + num2, sum(num)     #num1= 1, num2 =2, *num will hold the remaning values:\n",
    "print(add (1,2,33,43,23,424,24,23)) \n"
   ]
  },
  {
   "cell_type": "code",
   "execution_count": 29,
   "id": "3206acef",
   "metadata": {},
   "outputs": [
    {
     "name": "stdout",
     "output_type": "stream",
     "text": [
      "10\n",
      "20 \n",
      "\n",
      "30\n",
      "40\n"
     ]
    }
   ],
   "source": [
    "# as we already know :\n",
    "a,b = (10,20)\n",
    "c,d = [30,40]\n",
    "print(a)\n",
    "print(b,\"\\n\")\n",
    "print(c)\n",
    "print( d)"
   ]
  },
  {
   "cell_type": "code",
   "execution_count": 30,
   "id": "a43851e1",
   "metadata": {},
   "outputs": [
    {
     "name": "stdout",
     "output_type": "stream",
     "text": [
      "1 2 (33, 43, 23, 424, 24, 23)\n",
      "(3, 570)\n"
     ]
    }
   ],
   "source": [
    "def add (num1, num2, *num):   # *num will store/take \"unlimited parameters\"! and during function \n",
    "                            #decleration,*num it will return values tuple form.\n",
    "    print(num1,num2, num) \n",
    "    return num1 + num2, sum(num)     #num1= 1, num2 =2, *num will hold the remaning values:\n",
    "print(add (1,2,33,43,23,424,24,23)) \n"
   ]
  },
  {
   "cell_type": "code",
   "execution_count": 32,
   "id": "c86d6d3d",
   "metadata": {},
   "outputs": [
    {
     "name": "stdout",
     "output_type": "stream",
     "text": [
      "1 2 3 4 50 43 23 11 39\n"
     ]
    }
   ],
   "source": [
    "#let's create a list :\n",
    "l= [ 1,2,3,4,50,43,23,11,39]\n",
    "print(l[0],l[1],l[2],l[3],l[4],l[5],l[6],l[7],l[8])"
   ]
  },
  {
   "cell_type": "markdown",
   "id": "8639203a",
   "metadata": {},
   "source": [
    "## but this can be easily done by using *(list/dictionary or any interated datatype) name as *l:\n"
   ]
  },
  {
   "cell_type": "code",
   "execution_count": 34,
   "id": "e268714e",
   "metadata": {},
   "outputs": [
    {
     "name": "stdout",
     "output_type": "stream",
     "text": [
      "1 2 3 4 50 43 23 11 39\n",
      "[1, 2, 3, 4, 50, 43, 23, 11, 39]\n"
     ]
    }
   ],
   "source": [
    "#let's see the above example:     single staric* returns simple string values.\n",
    "l= [ 1,2,3,4,50,43,23,11,39]\n",
    "print(*l)    #*l will the iterated datatypes into unzip values:\n",
    "print(l)    #see the difference b/w these two prints"
   ]
  },
  {
   "cell_type": "code",
   "execution_count": 35,
   "id": "709e1518",
   "metadata": {},
   "outputs": [
    {
     "name": "stdout",
     "output_type": "stream",
     "text": [
      "1 2 (3, 4, 50, 43, 23, 11, 39)\n",
      "(3, 173)\n"
     ]
    }
   ],
   "source": [
    "print(add(*l))"
   ]
  },
  {
   "cell_type": "code",
   "execution_count": 36,
   "id": "311c8480",
   "metadata": {},
   "outputs": [
    {
     "name": "stdout",
     "output_type": "stream",
     "text": [
      "63\n"
     ]
    }
   ],
   "source": [
    "def new_add (num1,num2,num3):\n",
    "    return num1+ num2 + num3\n",
    "print(new_add(10,21,32))"
   ]
  },
  {
   "cell_type": "code",
   "execution_count": 44,
   "id": "20e9f925",
   "metadata": {},
   "outputs": [
    {
     "name": "stdout",
     "output_type": "stream",
     "text": [
      "100 [11, 39]\n"
     ]
    }
   ],
   "source": [
    "def new_add (num1,num2,num3):\n",
    "    return num1+ num2 + num3\n",
    "\n",
    "l= [ 1,2,3,4,50,43,23,11,39]\n",
    "print(new_add(20,30,l[4]),l[-2:])"
   ]
  },
  {
   "cell_type": "markdown",
   "id": "1c508d91",
   "metadata": {},
   "source": [
    "## During calling we can call the function parameters with a keyword to avoid misplacing the parameters info\n"
   ]
  },
  {
   "cell_type": "code",
   "execution_count": 50,
   "id": "5b847d1d",
   "metadata": {},
   "outputs": [
    {
     "name": "stdout",
     "output_type": "stream",
     "text": [
      "\n",
      "    CLEP Volunteer Drive 2022:\n",
      "        Volunteer name: Muhammad Faizan | Father name: Muhammad Yousaf\n",
      "        AG #: 2021-ag-7776 | Degree: BS CS \n",
      "        Skills : Photoshop Expert\n",
      "        Role : Volunteer photographer\n",
      "        \n"
     ]
    }
   ],
   "source": [
    "def CLEP_Drive(name, father_name, AG, Degree, Skills, Role):\n",
    "    Volunteer_info = f\"\"\"\n",
    "    CLEP Volunteer Drive 2022:\n",
    "        Volunteer name: {name} | Father name: {father_name}\n",
    "        AG #: {AG} | Degree: {Degree} \n",
    "        Skills : {Skills}\n",
    "        Role : {Role}\n",
    "        \"\"\"\n",
    "    return Volunteer_info\n",
    "print(CLEP_Drive(name= \"Muhammad Faizan\", father_name= \"Muhammad Yousaf\", AG= \"2021-ag-7776\", Degree =\"BS CS\", Skills= \"Photoshop Expert\", Role = \"Volunteer photographer\"))"
   ]
  },
  {
   "cell_type": "markdown",
   "id": "c2bb15d4",
   "metadata": {},
   "source": [
    "### Now even if we write the arguments info in different order, it will not effect our standard card format!"
   ]
  },
  {
   "cell_type": "code",
   "execution_count": 56,
   "id": "e2ed73b8",
   "metadata": {},
   "outputs": [
    {
     "name": "stdout",
     "output_type": "stream",
     "text": [
      "\n",
      "    CLEP Volunteer Drive 2022:\n",
      "        Volunteer name: Muhammad Faizan | Father name: Muhammad Yousaf\n",
      "        AG #: 2021-ag-7776 \t        | Degree: BS CS \n",
      "        Skills : Photoshop Expert\n",
      "        Role : Volunteer photographer\n",
      "        \n"
     ]
    }
   ],
   "source": [
    "\n",
    "\n",
    "def CLEP_Drive(name, father_name, AG, Degree, Skills, Role):\n",
    "    Volunteer_info = f\"\"\"\n",
    "    CLEP Volunteer Drive 2022:\n",
    "        Volunteer name: {name} | Father name: {father_name}\n",
    "        AG #: {AG} \\t        | Degree: {Degree} \n",
    "        Skills : {Skills}\n",
    "        Role : {Role}\n",
    "        \"\"\"\n",
    "    return Volunteer_info\n",
    "print(CLEP_Drive(input(AG)= \"2021-ag-7776\", Degree =\"BS CS\", Skills= \"Photoshop Expert\",\n",
    "                 name= \"Muhammad Faizan\", father_name= \"Muhammad Yousaf\", \n",
    "                  Role = \"Volunteer photographer\"))"
   ]
  },
  {
   "cell_type": "code",
   "execution_count": 61,
   "id": "8d0702ac",
   "metadata": {},
   "outputs": [
    {
     "name": "stdout",
     "output_type": "stream",
     "text": [
      "\n",
      "    CLEP Volunteer Drive 2022:\n",
      "        Volunteer name: muhammad Faizan | Father name: Muhammad Yousaf\n",
      "        AG #: 21-ag-7776 \t        | Degree: DVM \n",
      "        Skills : Doctor\n",
      "        Role : Volunteer Doctor\n",
      "        \n"
     ]
    }
   ],
   "source": [
    "print(CLEP_Drive(AG= \"21-ag-7776\",name= \"muhammad Faizan\", father_name = \"Muhammad Yousaf\",Degree = \"DVM\"\n",
    "                ,Skills = \"Doctor\", Role=\"Volunteer Doctor\" ))"
   ]
  },
  {
   "cell_type": "code",
   "execution_count": 67,
   "id": "5d6c3749",
   "metadata": {},
   "outputs": [
    {
     "name": "stdout",
     "output_type": "stream",
     "text": [
      "Enter your name: Muhammad Faizan\n",
      "Enter your father's name: Muhammad Yousaf\n",
      "Enter your AG number: 2021-ag-7776\n",
      "\n",
      "    CLEP Volunteer Drive 2022:\n",
      "        Volunteer name: Muhammad Faizan | Father name: Muhammad Yousaf\n",
      "        AG #: 2021-ag-7776\n",
      "        \n"
     ]
    }
   ],
   "source": [
    "def CLEP_Drive_1(name, father_name, AG):\n",
    "    Volunteer_info_1 = f\"\"\"\n",
    "    CLEP Volunteer Drive 2022:\n",
    "        Volunteer name: {name} | Father name: {father_name}\n",
    "        AG #: {AG}\n",
    "        \"\"\"\n",
    "    return Volunteer_info_1\n",
    "print(CLEP_Drive_1(name = input(\"Enter your name: \"), father_name=input(\"Enter your father's name: \" ),\n",
    "                  AG = input(\"Enter your AG number: \")))"
   ]
  },
  {
   "cell_type": "code",
   "execution_count": 1,
   "id": "72b8cd09",
   "metadata": {},
   "outputs": [
    {
     "name": "stdout",
     "output_type": "stream",
     "text": [
      "Enter your name: Muhammad Faizan\n",
      "Enter your father's name: Muhammad Yousaf\n",
      "Enter your AG number: 2021-ag-7776\n",
      "Enter your specified role: Photographer\n",
      "Write your skills here: photoshop\n",
      "Enter your Degree: BS CS\n",
      "\n",
      "    CLEP Volunteer Drive 2022:\n",
      "        Volunteer name: Muhammad Faizan|Father name: Muhammad Yousaf\n",
      "        AG #: 2021-ag-7776|Degree: BS CS \n",
      "        Skills : photoshop\n",
      "        Role : Photographer\n",
      "        \n"
     ]
    }
   ],
   "source": [
    "def CLEP_Drive_2(name, father_name, AG, Degree, Skills, Role):\n",
    "    Volunteer_info_1 = f\"\"\"\n",
    "    CLEP Volunteer Drive 2022:\n",
    "        Volunteer name: {name}|Father name: {father_name}\n",
    "        AG #: {AG}|Degree: {Degree} \n",
    "        Skills : {Skills}\n",
    "        Role : {Role}\n",
    "        \"\"\"\n",
    "    return Volunteer_info_1\n",
    "\n",
    "#we use key and value below because we want our order to be the same\n",
    "print(CLEP_Drive_2(name=input(\"Enter your name: \"), father_name=input(\"Enter your father's name: \" ),\n",
    "                  AG = input(\"Enter your AG number: \"), Role = input(\"Enter your specified role: \"),\n",
    "                  Skills = input(\"Write your skills here: \"), Degree=input(\"Enter your Degree: \")))"
   ]
  },
  {
   "cell_type": "markdown",
   "id": "e5c90c26",
   "metadata": {},
   "source": [
    "## let's check some uses of * and **:\n"
   ]
  },
  {
   "cell_type": "code",
   "execution_count": 5,
   "id": "1ab5dada",
   "metadata": {},
   "outputs": [
    {
     "name": "stdout",
     "output_type": "stream",
     "text": [
      "2 43 ('faizan', 'Yousaf', 21, 21, 43.32, 45, False)\n"
     ]
    }
   ],
   "source": [
    "def fname(num1,num2,*l1):  #*single staric gives us the ability to assign unlimited values to a list\n",
    "    print(num1,num2,l1)\n",
    "    \n",
    "fname( 2,43,'faizan', 'Yousaf',21,21,43.32,45,False)   "
   ]
  },
  {
   "cell_type": "code",
   "execution_count": null,
   "id": "6fe0c99c",
   "metadata": {},
   "outputs": [],
   "source": []
  },
  {
   "cell_type": "markdown",
   "id": "2fd10888",
   "metadata": {},
   "source": [
    "## create unlimited key arguments:"
   ]
  },
  {
   "cell_type": "markdown",
   "id": "824b0c11",
   "metadata": {},
   "source": [
    "## let's use ** :\n",
    "* it is used with dictionaries:\n",
    "* it will return value in dictonary form if we use it as a function parameter:"
   ]
  },
  {
   "cell_type": "code",
   "execution_count": 14,
   "id": "d0c1a0ff",
   "metadata": {},
   "outputs": [
    {
     "name": "stdout",
     "output_type": "stream",
     "text": [
      "21 434 {'age': 21, 'name': 'Faizan', 'Class': 'BS', 'rollnumber': 35}\n"
     ]
    }
   ],
   "source": [
    "def roll ( num1,num3, **d1):\n",
    "    print(num1,num3, d1)\n",
    "    \n",
    "roll(21,434, age= 21, name = \"Faizan\", Class = \"BS\", rollnumber= 35)"
   ]
  },
  {
   "cell_type": "markdown",
   "id": "6498ee10",
   "metadata": {},
   "source": [
    "### and when we use ** during a function call :\n"
   ]
  },
  {
   "cell_type": "code",
   "execution_count": 20,
   "id": "fad5df58",
   "metadata": {},
   "outputs": [
    {
     "name": "stdout",
     "output_type": "stream",
     "text": [
      "Enter your name: Muhammad Faizan\n",
      "Enter your father's name: Muhammad Yousaf\n",
      "Enter your AG number: 21\n",
      "\n",
      "    CLEP Volunteer Drive 2022:\n",
      "        Volunteer name: Muhammad Faizan | Father name: Muhammad Yousaf\n",
      "        AG #: 21\n",
      "        \n"
     ]
    }
   ],
   "source": [
    "def CLEP_Drive_1(name, father_name, AG):\n",
    "    Volunteer_info_1 = f\"\"\"\n",
    "    CLEP Volunteer Drive 2022:\n",
    "        Volunteer name: {name} | Father name: {father_name}\n",
    "        AG #: {AG}\n",
    "        \"\"\"\n",
    "    return Volunteer_info_1\n",
    "print(CLEP_Drive_1(name = input(\"Enter your name: \"), father_name=input(\"Enter your father's name: \" ),\n",
    "                  AG = input(\"Enter your AG number: \")))"
   ]
  },
  {
   "cell_type": "code",
   "execution_count": 26,
   "id": "d3bd73c9",
   "metadata": {},
   "outputs": [
    {
     "name": "stdout",
     "output_type": "stream",
     "text": [
      "\n",
      "    CLEP Volunteer Drive 2022:\n",
      "        Volunteer name: Faizan | Father name: Yousaf\n",
      "        AG #: 35\n",
      "        \n"
     ]
    }
   ],
   "source": [
    "d3 = {\"father_name\": \"Yousaf\",\n",
    "    \"name\": \"Faizan\",\n",
    "     \"AG\" : 35}\n",
    "print(CLEP_Drive_1(**d3))   \n",
    "\n",
    "#as we are using **, it will atomatically allocate the variable accoringly\n",
    "# we just have to write the same parameter names as keys of the dictionary"
   ]
  },
  {
   "cell_type": "markdown",
   "id": "5645c5b9",
   "metadata": {},
   "source": [
    "# Lambda function:\n",
    "* one line function.\n",
    "* it has no name.\n",
    "* it destroys itself after execution. "
   ]
  },
  {
   "cell_type": "markdown",
   "id": "1adb1e5b",
   "metadata": {},
   "source": [
    "### Basic syntax of lambda function:\n",
    "\n",
    "*  lambda arg1,ag2,ag3, ... argn: function_body"
   ]
  },
  {
   "cell_type": "code",
   "execution_count": 27,
   "id": "35154bad",
   "metadata": {
    "scrolled": true
   },
   "outputs": [
    {
     "data": {
      "text/plain": [
       "64"
      ]
     },
     "execution_count": 27,
     "metadata": {},
     "output_type": "execute_result"
    }
   ],
   "source": [
    "a = lambda num1,num2: num1+num2\n",
    "a(21,43)"
   ]
  },
  {
   "cell_type": "code",
   "execution_count": 29,
   "id": "b4044ed1",
   "metadata": {},
   "outputs": [
    {
     "name": "stdout",
     "output_type": "stream",
     "text": [
      "<function <lambda> at 0x00000207C5E66310>\n"
     ]
    }
   ],
   "source": [
    "print(a) # it destroyed itself after execution!"
   ]
  },
  {
   "cell_type": "code",
   "execution_count": 35,
   "id": "5e973f34",
   "metadata": {},
   "outputs": [
    {
     "data": {
      "text/plain": [
       "[[3, 'X'], [2, 'Y'], [1, 'Z']]"
      ]
     },
     "execution_count": 35,
     "metadata": {},
     "output_type": "execute_result"
    }
   ],
   "source": [
    "data = [ \n",
    "         [1 , 'Z'],\n",
    "         [2 , 'Y'],\n",
    "         [3 , 'X']\n",
    "]\n",
    "\n",
    "# we give the index value and we get our sorted values on that specific index\n",
    "sorted(data, key=lambda x:x[1])"
   ]
  },
  {
   "cell_type": "code",
   "execution_count": 36,
   "id": "f6e48129",
   "metadata": {},
   "outputs": [
    {
     "data": {
      "text/plain": [
       "[[1, 'Z'], [2, 'Y'], [3, 'X']]"
      ]
     },
     "execution_count": 36,
     "metadata": {},
     "output_type": "execute_result"
    }
   ],
   "source": [
    "data = [# 0    1\n",
    "         [1 , 'Z'],\n",
    "         [2 , 'Y'],\n",
    "         [3 , 'X']\n",
    "]\n",
    "\n",
    "# we give the index value and we get our sorted values on that specific index\n",
    "sorted(data, key=lambda x:x[0])  "
   ]
  },
  {
   "cell_type": "markdown",
   "id": "befd659e",
   "metadata": {},
   "source": [
    "# Generator functions:\n"
   ]
  },
  {
   "cell_type": "code",
   "execution_count": null,
   "id": "7f64e490",
   "metadata": {},
   "outputs": [],
   "source": []
  }
 ],
 "metadata": {
  "kernelspec": {
   "display_name": "Python 3 (ipykernel)",
   "language": "python",
   "name": "python3"
  },
  "language_info": {
   "codemirror_mode": {
    "name": "ipython",
    "version": 3
   },
   "file_extension": ".py",
   "mimetype": "text/x-python",
   "name": "python",
   "nbconvert_exporter": "python",
   "pygments_lexer": "ipython3",
   "version": "3.9.12"
  }
 },
 "nbformat": 4,
 "nbformat_minor": 5
}
