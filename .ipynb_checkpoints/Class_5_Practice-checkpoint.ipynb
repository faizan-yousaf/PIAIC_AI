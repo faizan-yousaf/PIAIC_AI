{
 "cells": [
  {
   "cell_type": "markdown",
   "id": "c03d10db",
   "metadata": {},
   "source": [
    "# How we can print strings?\n",
    "## Let's start!\n"
   ]
  },
  {
   "cell_type": "code",
   "execution_count": 1,
   "id": "ab08e62a",
   "metadata": {},
   "outputs": [
    {
     "name": "stdout",
     "output_type": "stream",
     "text": [
      "faizan\n"
     ]
    }
   ],
   "source": [
    "print(\"faizan\")"
   ]
  },
  {
   "cell_type": "code",
   "execution_count": 2,
   "id": "0dd5da58",
   "metadata": {},
   "outputs": [
    {
     "name": "stdout",
     "output_type": "stream",
     "text": [
      "faizan is learning python with spirit!\n"
     ]
    }
   ],
   "source": [
    "print(\"faizan is learning python with spirit!\")"
   ]
  },
  {
   "cell_type": "code",
   "execution_count": 17,
   "id": "6607c64a",
   "metadata": {
    "scrolled": true
   },
   "outputs": [
    {
     "name": "stdout",
     "output_type": "stream",
     "text": [
      "Name = Faizan \n",
      "Class = BS CS \n",
      "Age = 21\n"
     ]
    }
   ],
   "source": [
    "data = \"Name = Faizan \\nClass = BS CS \\nAge = 21\" #write strings using \" \"\n",
    "\n",
    "print(data)"
   ]
  },
  {
   "cell_type": "code",
   "execution_count": 16,
   "id": "330d1d25",
   "metadata": {},
   "outputs": [
    {
     "name": "stdout",
     "output_type": "stream",
     "text": [
      "Name = Faizan \n",
      "Class = BS CS \n",
      "Age = 21\n"
     ]
    }
   ],
   "source": [
    "data = 'Name = Faizan \\nClass = BS CS \\nAge = 21' #write strings using ''\n",
    "\n",
    "print(data)"
   ]
  },
  {
   "cell_type": "code",
   "execution_count": 29,
   "id": "f193154f",
   "metadata": {},
   "outputs": [
    {
     "name": "stdout",
     "output_type": "stream",
     "text": [
      "\n",
      "        Name  =\t  Faizan \n",
      "        Class =\t  BS CS \n",
      "        Age   =\t  21\n",
      "        \n",
      "        \n"
     ]
    }
   ],
   "source": [
    "data = \"\"\" \n",
    "        Name  =\\t  Faizan \n",
    "        Class =\\t  BS CS \n",
    "        Age   =\\t  21\n",
    "        \n",
    "        \"\"\"\n",
    "                    #\"\"\" \"\"\" triple double quotes are used to write multi line strings\n",
    "print(data)          \n",
    "                "
   ]
  },
  {
   "cell_type": "code",
   "execution_count": 39,
   "id": "5cd8cb77",
   "metadata": {},
   "outputs": [
    {
     "name": "stdout",
     "output_type": "stream",
     "text": [
      "\n",
      "        Name  =                Faizan\n",
      "        Class =                BS CS\n",
      "        Age   =                21\n",
      "\n",
      "        \n"
     ]
    }
   ],
   "source": [
    "data = \"\"\"\n",
    "        Name  =\\t Faizan\n",
    "        Class =\\t BS CS\n",
    "        Age   =\\t 21\n",
    "\n",
    "        \"\"\"\n",
    "print(data.expandtabs(30))  #.expandtabs() is used to add additional tab spaces \n"
   ]
  },
  {
   "cell_type": "markdown",
   "id": "bb0d6ab4",
   "metadata": {},
   "source": [
    "# Let's create a variable\n"
   ]
  },
  {
   "cell_type": "code",
   "execution_count": 34,
   "id": "4371a329",
   "metadata": {},
   "outputs": [
    {
     "name": "stdout",
     "output_type": "stream",
     "text": [
      "Faizan's age is 21\n"
     ]
    }
   ],
   "source": [
    "age = 21\n",
    "print (\"Faizan's age is\",age)"
   ]
  },
  {
   "cell_type": "code",
   "execution_count": 35,
   "id": "d1aa58b5",
   "metadata": {
    "scrolled": true
   },
   "outputs": [
    {
     "name": "stdout",
     "output_type": "stream",
     "text": [
      "My name is Faizan Yousaf\n"
     ]
    }
   ],
   "source": [
    "name = \"Faizan Yousaf\"\n",
    "print(\"My name is\", name)"
   ]
  },
  {
   "cell_type": "markdown",
   "id": "b274f6e6",
   "metadata": {},
   "source": [
    "## Let's see how we can concatinate variables and strings"
   ]
  },
  {
   "cell_type": "code",
   "execution_count": null,
   "id": "0fee40fe",
   "metadata": {},
   "outputs": [],
   "source": [
    "                                # 1\n",
    "Name = \"Faizan Yousaf\"\n",
    "Class = \"BS CS\"\n",
    "Age = 21\n",
    "University = \"UAF\"\n",
    "print(Name, Class, Age,University)"
   ]
  },
  {
   "cell_type": "code",
   "execution_count": 43,
   "id": "144d27f2",
   "metadata": {},
   "outputs": [
    {
     "data": {
      "text/plain": [
       "21"
      ]
     },
     "execution_count": 43,
     "metadata": {},
     "output_type": "execute_result"
    }
   ],
   "source": [
    "                                # 2\n",
    "Name = \"Faizan Yousaf\"   \n",
    "Class = \"BS CS \"\n",
    "Age = 21\n",
    "University = \"UAF\"\n",
    "                                #in jupyter, It returns the last variable value when you write the variable name without \n",
    "                                    #using print fuction;\n",
    "        \n",
    "# University\n",
    "Age"
   ]
  },
  {
   "cell_type": "code",
   "execution_count": 62,
   "id": "5720a446",
   "metadata": {},
   "outputs": [
    {
     "name": "stdout",
     "output_type": "stream",
     "text": [
      "Your name is Faizan Yousaf\n",
      "Your class is BS CS \n",
      "Your age is 21\n",
      "You study at UAF\n"
     ]
    }
   ],
   "source": [
    "                                # 3\n",
    "Name = \"Faizan Yousaf\"   \n",
    "Class = \"BS CS \"\n",
    "Age = 21\n",
    "University = \"UAF\"\n",
    "                                #we used \"+\" sign to combine variables and strings\n",
    "    \n",
    "print( \"Your name is \"+ Name +\"\\nYour class is \"+ Class +\"\\nYour age is \"+ str(Age) + \"\\nYou study at \"+ University)"
   ]
  },
  {
   "cell_type": "code",
   "execution_count": 69,
   "id": "2f471e06",
   "metadata": {},
   "outputs": [
    {
     "name": "stdout",
     "output_type": "stream",
     "text": [
      "\n",
      "        Your name is = Faizan Yousaf\n",
      "        Your class is = BS CS \n",
      "        Your age is =  21\n",
      "        You study at = UAF\n",
      "\n"
     ]
    }
   ],
   "source": [
    "                                # 3\n",
    "Name = \"Faizan Yousaf\"   \n",
    "Class = \"BS CS \"\n",
    "Age = 21\n",
    "University = \"UAF\"\n",
    "                                #we can concatinate using .format() function\n",
    "data = \"\"\"\n",
    "        Your name is = {}\n",
    "        Your class is = {}\n",
    "        Your age is =  {}\n",
    "        You study at = {}\n",
    "\"\"\".format(Name , Class, Age , University)\n",
    "   #         0     1      2       3\n",
    "print(data)       "
   ]
  },
  {
   "cell_type": "code",
   "execution_count": 73,
   "id": "a042dffe",
   "metadata": {},
   "outputs": [
    {
     "name": "stdout",
     "output_type": "stream",
     "text": [
      "\n",
      "            Your name is Faizan Yousaf\n",
      "            Your class is BS CS \n",
      "            Your age is 21\n",
      "            You study at UAF\n",
      "        \n"
     ]
    }
   ],
   "source": [
    "                                # 4\n",
    "Name = \"Faizan Yousaf\"   \n",
    "Class = \"BS CS \"\n",
    "Age = 21\n",
    "University = \"UAF\"\n",
    "\n",
    "data = \"\"\"\n",
    "            Your name is {3}\n",
    "            Your class is {0}\n",
    "            Your age is {1}\n",
    "            You study at {2}\n",
    "        \"\"\".format(Class , Age , University , Name)\n",
    "            #        0      1      2           3 \n",
    "                                                   #we used .format fucntion with indexes to print out values of variables\n",
    "print(data)"
   ]
  },
  {
   "cell_type": "code",
   "execution_count": 74,
   "id": "a0f461e7",
   "metadata": {},
   "outputs": [
    {
     "name": "stdout",
     "output_type": "stream",
     "text": [
      "\n",
      "            Your name is Faizan Yousaf\n",
      "            Your age is 21\n",
      "            Your class is BS CS \n",
      "            You study at UAF\n",
      "            \n"
     ]
    }
   ],
   "source": [
    "                                # 5\n",
    "Name = \"Faizan Yousaf\"   \n",
    "Class = \"BS CS \"\n",
    "Age = 21\n",
    "University = \"UAF\"\n",
    " \n",
    "data = f\"\"\"\n",
    "            Your name is {Name}\n",
    "            Your age is {Age}\n",
    "            Your class is {Class}\n",
    "            You study at {University}\n",
    "            \"\"\"\n",
    "                                  #SIMPLEST    #just write 'f' after assignment operator and in '{}' write variable name;\n",
    "print(data)\n"
   ]
  },
  {
   "cell_type": "markdown",
   "id": "7b96d7cd",
   "metadata": {},
   "source": [
    "# Let's see how we can use string \".functions\""
   ]
  },
  {
   "cell_type": "markdown",
   "id": "e1913d82",
   "metadata": {},
   "source": [
    "## String Methods"
   ]
  },
  {
   "cell_type": "code",
   "execution_count": 2,
   "id": "af858602",
   "metadata": {},
   "outputs": [
    {
     "name": "stdout",
     "output_type": "stream",
     "text": [
      "\n",
      "            Your name is Faizan Yousaf\n",
      "            Your age is 21\n",
      "            Your class is BS CS \n",
      "            You study at UAF\n",
      "            \n"
     ]
    }
   ],
   "source": [
    "Name = \"Faizan Yousaf\"   \n",
    "Class = \"BS CS \"\n",
    "Age = 21\n",
    "University = \"UAF\"\n",
    " \n",
    "data = f\"\"\"\n",
    "            Your name is {Name}\n",
    "            Your age is {Age}\n",
    "            Your class is {Class}\n",
    "            You study at {University}\n",
    "            \"\"\"\n",
    "                                  #SIMPLEST    #just write 'f' after assignment operator and in '{}' write variable name;\n",
    "print(data)\n"
   ]
  },
  {
   "cell_type": "code",
   "execution_count": 3,
   "id": "86abd756",
   "metadata": {},
   "outputs": [
    {
     "name": "stdout",
     "output_type": "stream",
     "text": [
      "\n",
      "            Your name is Faizan Yousaf\n",
      "            Your age is 21\n",
      "            Your class is BS CS \n",
      "            You study at UAF\n",
      "            \n"
     ]
    }
   ],
   "source": [
    "print(data)"
   ]
  },
  {
   "cell_type": "code",
   "execution_count": 7,
   "id": "d108a7b2",
   "metadata": {},
   "outputs": [
    {
     "name": "stdout",
     "output_type": "stream",
     "text": [
      "Faizan Yousaf\n"
     ]
    }
   ],
   "source": [
    "name = \"Faizan Yousaf\"\n",
    "print(name)"
   ]
  },
  {
   "cell_type": "markdown",
   "id": "9c036fa5",
   "metadata": {},
   "source": [
    "# capitalize function()"
   ]
  },
  {
   "cell_type": "code",
   "execution_count": 16,
   "id": "d1a230a4",
   "metadata": {},
   "outputs": [
    {
     "data": {
      "text/plain": [
       "'Faizan yousaf'"
      ]
     },
     "execution_count": 16,
     "metadata": {},
     "output_type": "execute_result"
    }
   ],
   "source": [
    "name = \"faizan yousaf\"\n",
    "name.capitalize()\n"
   ]
  },
  {
   "cell_type": "markdown",
   "id": "983e092f",
   "metadata": {},
   "source": [
    "# casefold function()"
   ]
  },
  {
   "cell_type": "code",
   "execution_count": 25,
   "id": "48929a08",
   "metadata": {},
   "outputs": [
    {
     "name": "stdout",
     "output_type": "stream",
     "text": [
      "False\n"
     ]
    },
    {
     "data": {
      "text/plain": [
       "True"
      ]
     },
     "execution_count": 25,
     "metadata": {},
     "output_type": "execute_result"
    }
   ],
   "source": [
    "name = \"Faizan yousaf\"\n",
    "print(\"faizan yousaf\" == \"faIZaN yousaf\")  #false\n",
    "\n",
    "\n",
    "name.casefold() ==\"faIZaN yousaf\".casefold() #true\n"
   ]
  },
  {
   "cell_type": "markdown",
   "id": "1be2d220",
   "metadata": {},
   "source": [
    "# center function()"
   ]
  },
  {
   "cell_type": "code",
   "execution_count": 27,
   "id": "5a1aaca2",
   "metadata": {},
   "outputs": [
    {
     "data": {
      "text/plain": [
       "'                            Faizan yousaf                             '"
      ]
     },
     "execution_count": 27,
     "metadata": {},
     "output_type": "execute_result"
    }
   ],
   "source": [
    "name = \"Faizan yousaf\"\n",
    "name.center(70)"
   ]
  },
  {
   "cell_type": "markdown",
   "id": "a001148d",
   "metadata": {},
   "source": [
    "# strip function()"
   ]
  },
  {
   "cell_type": "code",
   "execution_count": 30,
   "id": "4a7de179",
   "metadata": {},
   "outputs": [
    {
     "data": {
      "text/plain": [
       "'Faizan yousaf        '"
      ]
     },
     "execution_count": 30,
     "metadata": {},
     "output_type": "execute_result"
    }
   ],
   "source": [
    "name = \"           Faizan yousaf        \"\n",
    "\n",
    "name.lstrip()"
   ]
  },
  {
   "cell_type": "code",
   "execution_count": 31,
   "id": "1f5a5563",
   "metadata": {},
   "outputs": [
    {
     "data": {
      "text/plain": [
       "'           Faizan yousaf'"
      ]
     },
     "execution_count": 31,
     "metadata": {},
     "output_type": "execute_result"
    }
   ],
   "source": [
    "name = \"           Faizan yousaf        \"\n",
    "\n",
    "name.rstrip()"
   ]
  },
  {
   "cell_type": "code",
   "execution_count": 34,
   "id": "97c8dbba",
   "metadata": {},
   "outputs": [
    {
     "data": {
      "text/plain": [
       "'Faizan yousaf'"
      ]
     },
     "execution_count": 34,
     "metadata": {},
     "output_type": "execute_result"
    }
   ],
   "source": [
    "name = \"Faizan yousaf\"\n",
    "name.center(70)\n",
    "name.strip()"
   ]
  },
  {
   "cell_type": "markdown",
   "id": "a2647ad7",
   "metadata": {},
   "source": [
    "# cout function()"
   ]
  },
  {
   "cell_type": "code",
   "execution_count": 46,
   "id": "38c21777",
   "metadata": {},
   "outputs": [
    {
     "data": {
      "text/plain": [
       "1"
      ]
     },
     "execution_count": 46,
     "metadata": {},
     "output_type": "execute_result"
    }
   ],
   "source": [
    "name = \"Faizan yousaf\"\n",
    "name.count('f')"
   ]
  },
  {
   "cell_type": "markdown",
   "id": "9cda86e7",
   "metadata": {},
   "source": [
    "# encode function()"
   ]
  },
  {
   "cell_type": "code",
   "execution_count": 54,
   "id": "1b49bc1d",
   "metadata": {},
   "outputs": [
    {
     "data": {
      "text/plain": [
       "b'\\xff\\xfef\\x00a\\x00i\\x00z\\x00a\\x00n\\x00 \\x00y\\x00o\\x00u\\x00s\\x00a\\x00f\\x00'"
      ]
     },
     "execution_count": 54,
     "metadata": {},
     "output_type": "execute_result"
    }
   ],
   "source": [
    "name = \"faizan yousaf\"  #utf stands for Universal Transformation format \n",
    "\n",
    "name.encode('utf-16')"
   ]
  },
  {
   "cell_type": "markdown",
   "id": "d91266b1",
   "metadata": {},
   "source": [
    "# endswith function()"
   ]
  },
  {
   "cell_type": "code",
   "execution_count": 61,
   "id": "29ad20d8",
   "metadata": {},
   "outputs": [
    {
     "data": {
      "text/plain": [
       "True"
      ]
     },
     "execution_count": 61,
     "metadata": {},
     "output_type": "execute_result"
    }
   ],
   "source": [
    "name = \"faizan yousaf\"\n",
    "name.endswith(\"f\")        #true\n",
    "name.endswith(\"saf\")      #true\n",
    "name.endswith(\"yousaf\")   #true\n",
    "# name.endswith('an')     #false"
   ]
  },
  {
   "cell_type": "markdown",
   "id": "dde89e45",
   "metadata": {},
   "source": [
    "# expandtabs function()"
   ]
  },
  {
   "cell_type": "code",
   "execution_count": 4,
   "id": "4cca44e1",
   "metadata": {},
   "outputs": [
    {
     "name": "stdout",
     "output_type": "stream",
     "text": [
      "\tfaizan \t Yousaf\n"
     ]
    },
    {
     "data": {
      "text/plain": [
       "'                    faizan               Yousaf'"
      ]
     },
     "execution_count": 4,
     "metadata": {},
     "output_type": "execute_result"
    }
   ],
   "source": [
    "name = \"\\tfaizan \\t Yousaf\"\n",
    "print(name)\n",
    "name.expandtabs(20)  #it adds additional tab spaces"
   ]
  },
  {
   "cell_type": "code",
   "execution_count": 3,
   "id": "7a5ca103",
   "metadata": {},
   "outputs": [
    {
     "name": "stdout",
     "output_type": "stream",
     "text": [
      "\n",
      "    name =               faizan \n",
      "    class =              Bs\n",
      "    age =                21\n",
      "    uni =                UAF\n",
      "            \n"
     ]
    }
   ],
   "source": [
    "data = \"\"\"\n",
    "    name =\\t faizan \n",
    "    class =\\t Bs\n",
    "    age =\\t 21\n",
    "    uni =\\t UAF\n",
    "            \"\"\"\n",
    "print(data.expandtabs(24))"
   ]
  },
  {
   "cell_type": "markdown",
   "id": "cdd7ab56",
   "metadata": {},
   "source": [
    "# find function()"
   ]
  },
  {
   "cell_type": "code",
   "execution_count": 78,
   "id": "8daf5c97",
   "metadata": {},
   "outputs": [
    {
     "data": {
      "text/plain": [
       "11"
      ]
     },
     "execution_count": 78,
     "metadata": {},
     "output_type": "execute_result"
    }
   ],
   "source": [
    "name = \"faizan yousaf\"\n",
    "\n",
    "name.find('y')        #it tells us the index number of the string\n",
    "\n",
    "name.find('a',5)      #to specify from which index number you want to start from!!!!"
   ]
  },
  {
   "cell_type": "markdown",
   "id": "8ab383fd",
   "metadata": {},
   "source": [
    "# format function()"
   ]
  },
  {
   "cell_type": "code",
   "execution_count": 9,
   "id": "a899323d",
   "metadata": {},
   "outputs": [
    {
     "name": "stdout",
     "output_type": "stream",
     "text": [
      "\n",
      "    name = faizan \n",
      "    class = BS\n",
      "    age = 21\n",
      "    uni = UAF\n",
      "        \n"
     ]
    }
   ],
   "source": [
    "name = \"faizan\"\n",
    "grade = \"BS\"\n",
    "age = 21\n",
    "uni = \"UAF\"\n",
    "\n",
    "data = \"\"\"\n",
    "    name = {} \n",
    "    class = {}\n",
    "    age = {}\n",
    "    uni = {}\n",
    "        \"\"\"\n",
    "print(data.format(name,grade,age,uni))\n",
    "\n",
    "\n"
   ]
  },
  {
   "cell_type": "code",
   "execution_count": 12,
   "id": "f1db1a0f",
   "metadata": {},
   "outputs": [
    {
     "name": "stdout",
     "output_type": "stream",
     "text": [
      "\n",
      "    name = faizan \n",
      "    class = BS\n",
      "    age = 21\n",
      "    uni = UAF\n",
      "        \n"
     ]
    }
   ],
   "source": [
    "name = \"faizan\"\n",
    "grade = \"BS\"\n",
    "age = 21\n",
    "uni = \"UAF\"\n",
    "\n",
    "data = f\"\"\"\n",
    "    name = {name} \n",
    "    class = {grade}\n",
    "    age = {age}\n",
    "    uni = {uni}\n",
    "        \"\"\"\n",
    "print(data)"
   ]
  },
  {
   "cell_type": "markdown",
   "id": "b3628a34",
   "metadata": {},
   "source": [
    "# format_map function()"
   ]
  },
  {
   "cell_type": "code",
   "execution_count": 20,
   "id": "d3c712cb",
   "metadata": {},
   "outputs": [
    {
     "name": "stdout",
     "output_type": "stream",
     "text": [
      "Name: faizan \n",
      "Father name: Yousaf\n"
     ]
    }
   ],
   "source": [
    "data = {\"a\" : \"faizan\",     #dictionary\n",
    "        \"b\" : \"Yousaf\"}\n",
    "\n",
    "print(\"Name: {a} \\nFather name: {b}\".format_map(data))"
   ]
  },
  {
   "cell_type": "markdown",
   "id": "fbda618b",
   "metadata": {},
   "source": [
    "# index function()"
   ]
  },
  {
   "cell_type": "code",
   "execution_count": 25,
   "id": "75958d84",
   "metadata": {},
   "outputs": [
    {
     "data": {
      "text/plain": [
       "1"
      ]
     },
     "execution_count": 25,
     "metadata": {},
     "output_type": "execute_result"
    }
   ],
   "source": [
    "name = \"Faizan\"\n",
    "name.index('a')\n",
    "# name.index(\"a\", 3)  #same as find funtion"
   ]
  },
  {
   "cell_type": "code",
   "execution_count": 24,
   "id": "e092f73f",
   "metadata": {},
   "outputs": [
    {
     "data": {
      "text/plain": [
       "4"
      ]
     },
     "execution_count": 24,
     "metadata": {},
     "output_type": "execute_result"
    }
   ],
   "source": [
    "name = \"Faizan\"\n",
    "\n",
    "name.index(\"a\", 3)  #same as find funtion"
   ]
  },
  {
   "cell_type": "markdown",
   "id": "d6123585",
   "metadata": {},
   "source": [
    "# isalnum function()"
   ]
  },
  {
   "cell_type": "code",
   "execution_count": 26,
   "id": "253b83b3",
   "metadata": {},
   "outputs": [
    {
     "data": {
      "text/plain": [
       "True"
      ]
     },
     "execution_count": 26,
     "metadata": {},
     "output_type": "execute_result"
    }
   ],
   "source": [
    "name = \"faizan\"\n",
    "name.isalnum()"
   ]
  },
  {
   "cell_type": "code",
   "execution_count": 27,
   "id": "e63ccc78",
   "metadata": {},
   "outputs": [
    {
     "data": {
      "text/plain": [
       "True"
      ]
     },
     "execution_count": 27,
     "metadata": {},
     "output_type": "execute_result"
    }
   ],
   "source": [
    "name = \"faizan3\"  #it will be true for both alphabets and numbers\n",
    "name.isalnum()"
   ]
  },
  {
   "cell_type": "code",
   "execution_count": 28,
   "id": "43345ab3",
   "metadata": {},
   "outputs": [
    {
     "data": {
      "text/plain": [
       "False"
      ]
     },
     "execution_count": 28,
     "metadata": {},
     "output_type": "execute_result"
    }
   ],
   "source": [
    "name = \"faizan3$\"  #if it contains any special symbol then it is false\n",
    "name.isalnum() "
   ]
  },
  {
   "cell_type": "markdown",
   "id": "2f223dc9",
   "metadata": {},
   "source": [
    "# isalpha function()"
   ]
  },
  {
   "cell_type": "code",
   "execution_count": 29,
   "id": "0cb2bd4e",
   "metadata": {},
   "outputs": [
    {
     "data": {
      "text/plain": [
       "True"
      ]
     },
     "execution_count": 29,
     "metadata": {},
     "output_type": "execute_result"
    }
   ],
   "source": [
    "name = \"faizan\"\n",
    "name.isalpha()"
   ]
  },
  {
   "cell_type": "code",
   "execution_count": 30,
   "id": "4ac70bf7",
   "metadata": {},
   "outputs": [
    {
     "data": {
      "text/plain": [
       "False"
      ]
     },
     "execution_count": 30,
     "metadata": {},
     "output_type": "execute_result"
    }
   ],
   "source": [
    "name = \"faizan22\"       #it will false when any number or symbol is entered\n",
    "name.isalpha()"
   ]
  },
  {
   "cell_type": "code",
   "execution_count": 31,
   "id": "46b7f72e",
   "metadata": {},
   "outputs": [
    {
     "data": {
      "text/plain": [
       "False"
      ]
     },
     "execution_count": 31,
     "metadata": {},
     "output_type": "execute_result"
    }
   ],
   "source": [
    "name = \"faizan$2\"      #it will false when any number or symbol is entered\n",
    "name.isalpha()"
   ]
  },
  {
   "cell_type": "markdown",
   "id": "b02a4fc7",
   "metadata": {},
   "source": [
    "# isascii function()"
   ]
  },
  {
   "cell_type": "code",
   "execution_count": 33,
   "id": "6381f85f",
   "metadata": {},
   "outputs": [
    {
     "data": {
      "text/plain": [
       "True"
      ]
     },
     "execution_count": 33,
     "metadata": {},
     "output_type": "execute_result"
    }
   ],
   "source": [
    "name = \"faizan\"\n",
    "name.isascii()"
   ]
  },
  {
   "cell_type": "code",
   "execution_count": 35,
   "id": "e672a78f",
   "metadata": {},
   "outputs": [
    {
     "data": {
      "text/plain": [
       "True"
      ]
     },
     "execution_count": 35,
     "metadata": {},
     "output_type": "execute_result"
    }
   ],
   "source": [
    "name = \"faizan21\"\n",
    "name.isascii()"
   ]
  },
  {
   "cell_type": "markdown",
   "id": "23124ac4",
   "metadata": {},
   "source": [
    "# isdecimal function()"
   ]
  },
  {
   "cell_type": "code",
   "execution_count": 38,
   "id": "6b9f787a",
   "metadata": {},
   "outputs": [
    {
     "data": {
      "text/plain": [
       "True"
      ]
     },
     "execution_count": 38,
     "metadata": {},
     "output_type": "execute_result"
    }
   ],
   "source": [
    "name = \"0\"               #decimal = 0,1,2,3,4,5,6,7,8,9\n",
    "name.isdecimal()"
   ]
  },
  {
   "cell_type": "code",
   "execution_count": 39,
   "id": "47030a8f",
   "metadata": {},
   "outputs": [
    {
     "data": {
      "text/plain": [
       "True"
      ]
     },
     "execution_count": 39,
     "metadata": {},
     "output_type": "execute_result"
    }
   ],
   "source": [
    "name = \"3\"\n",
    "name.isdecimal()"
   ]
  },
  {
   "cell_type": "code",
   "execution_count": 40,
   "id": "79057c05",
   "metadata": {},
   "outputs": [
    {
     "data": {
      "text/plain": [
       "True"
      ]
     },
     "execution_count": 40,
     "metadata": {},
     "output_type": "execute_result"
    }
   ],
   "source": [
    "name = \"422\"\n",
    "name.isdecimal()"
   ]
  },
  {
   "cell_type": "code",
   "execution_count": 41,
   "id": "edbe460e",
   "metadata": {},
   "outputs": [
    {
     "data": {
      "text/plain": [
       "False"
      ]
     },
     "execution_count": 41,
     "metadata": {},
     "output_type": "execute_result"
    }
   ],
   "source": [
    "name = \"21.1\"      #it returns false if we enter a floating point value\n",
    "\n",
    "name.isdecimal()"
   ]
  },
  {
   "cell_type": "markdown",
   "id": "e494b7c0",
   "metadata": {},
   "source": [
    "# isdigit function()"
   ]
  },
  {
   "cell_type": "code",
   "execution_count": 43,
   "id": "d7580133",
   "metadata": {},
   "outputs": [
    {
     "data": {
      "text/plain": [
       "True"
      ]
     },
     "execution_count": 43,
     "metadata": {},
     "output_type": "execute_result"
    }
   ],
   "source": [
    "name = \"0\"\n",
    "name.isdigit()"
   ]
  },
  {
   "cell_type": "code",
   "execution_count": 45,
   "id": "9658255d",
   "metadata": {},
   "outputs": [
    {
     "data": {
      "text/plain": [
       "True"
      ]
     },
     "execution_count": 45,
     "metadata": {},
     "output_type": "execute_result"
    }
   ],
   "source": [
    "name = \"3242\"\n",
    "name.isdigit()"
   ]
  },
  {
   "cell_type": "code",
   "execution_count": 46,
   "id": "666520c2",
   "metadata": {},
   "outputs": [
    {
     "data": {
      "text/plain": [
       "False"
      ]
     },
     "execution_count": 46,
     "metadata": {},
     "output_type": "execute_result"
    }
   ],
   "source": [
    "name = \"0.2\"\n",
    "name.isdecimal()"
   ]
  },
  {
   "cell_type": "markdown",
   "id": "1c65936a",
   "metadata": {},
   "source": [
    "# isidentifier function()"
   ]
  },
  {
   "cell_type": "code",
   "execution_count": 53,
   "id": "909549db",
   "metadata": {},
   "outputs": [
    {
     "data": {
      "text/plain": [
       "True"
      ]
     },
     "execution_count": 53,
     "metadata": {},
     "output_type": "execute_result"
    }
   ],
   "source": [
    "name = \"faizan\"          #it is false when we violate any rule of writing/initializing variables\n",
    "name.isidentifier()"
   ]
  },
  {
   "cell_type": "code",
   "execution_count": 52,
   "id": "46fa7b14",
   "metadata": {},
   "outputs": [
    {
     "data": {
      "text/plain": [
       "True"
      ]
     },
     "execution_count": 52,
     "metadata": {},
     "output_type": "execute_result"
    }
   ],
   "source": [
    "name = \"faizan_asdlk\"    #spaces are not allowed while writing variable names, so we use \"_\"\n",
    "name.isidentifier()"
   ]
  },
  {
   "cell_type": "code",
   "execution_count": 55,
   "id": "cc3b9192",
   "metadata": {},
   "outputs": [
    {
     "data": {
      "text/plain": [
       "False"
      ]
     },
     "execution_count": 55,
     "metadata": {},
     "output_type": "execute_result"
    }
   ],
   "source": [
    "name = \"1faizan\"          #it is false when we violate any rule of writing/initializing variables\n",
    "\n",
    "name.isidentifier()"
   ]
  },
  {
   "cell_type": "markdown",
   "id": "20463560",
   "metadata": {},
   "source": [
    "# islower function()"
   ]
  },
  {
   "cell_type": "code",
   "execution_count": 56,
   "id": "06f75abe",
   "metadata": {},
   "outputs": [
    {
     "data": {
      "text/plain": [
       "False"
      ]
     },
     "execution_count": 56,
     "metadata": {},
     "output_type": "execute_result"
    }
   ],
   "source": [
    "name = \"Faizan\"    #.islower() tells us if the string is lowercase or not!\n",
    "name.islower()"
   ]
  },
  {
   "cell_type": "code",
   "execution_count": 57,
   "id": "1111f254",
   "metadata": {},
   "outputs": [
    {
     "data": {
      "text/plain": [
       "True"
      ]
     },
     "execution_count": 57,
     "metadata": {},
     "output_type": "execute_result"
    }
   ],
   "source": [
    "name = \"faizan\"\n",
    "name.islower()"
   ]
  },
  {
   "cell_type": "code",
   "execution_count": 62,
   "id": "4a530f8c",
   "metadata": {},
   "outputs": [
    {
     "name": "stdout",
     "output_type": "stream",
     "text": [
      "False\n",
      "faizan\n"
     ]
    },
    {
     "data": {
      "text/plain": [
       "True"
      ]
     },
     "execution_count": 62,
     "metadata": {},
     "output_type": "execute_result"
    }
   ],
   "source": [
    "name = \"Faizan\".casefold()\n",
    "\n",
    "print(\"Faizan\" == \"faizan\") #false\n",
    "\n",
    "print(name.casefold()) # .casefold() makes the string content lowercase\n",
    "\n",
    "name.islower()    #.islower() tells us if the string is lowercase or not!"
   ]
  },
  {
   "cell_type": "markdown",
   "id": "0e80f328",
   "metadata": {},
   "source": [
    "# lower function()"
   ]
  },
  {
   "cell_type": "code",
   "execution_count": 63,
   "id": "385dc6f6",
   "metadata": {},
   "outputs": [
    {
     "data": {
      "text/plain": [
       "'faizan'"
      ]
     },
     "execution_count": 63,
     "metadata": {},
     "output_type": "execute_result"
    }
   ],
   "source": [
    "name = \"FaIzAn\"\n",
    "name.lower     # lower function()"
   ]
  },
  {
   "cell_type": "markdown",
   "id": "54ed2a5e",
   "metadata": {},
   "source": [
    "# isascii function()"
   ]
  },
  {
   "cell_type": "code",
   "execution_count": 33,
   "id": "1422d1d1",
   "metadata": {},
   "outputs": [
    {
     "data": {
      "text/plain": [
       "True"
      ]
     },
     "execution_count": 33,
     "metadata": {},
     "output_type": "execute_result"
    }
   ],
   "source": [
    "name = \"faizan\"\n",
    "name.isascii()"
   ]
  },
  {
   "cell_type": "code",
   "execution_count": 33,
   "id": "d1e75af9",
   "metadata": {},
   "outputs": [
    {
     "data": {
      "text/plain": [
       "True"
      ]
     },
     "execution_count": 33,
     "metadata": {},
     "output_type": "execute_result"
    }
   ],
   "source": [
    "name = \"faizan\"\n",
    "name.isascii()"
   ]
  },
  {
   "cell_type": "markdown",
   "id": "cdfc943e",
   "metadata": {},
   "source": [
    "# isnumeric function()"
   ]
  },
  {
   "cell_type": "code",
   "execution_count": 64,
   "id": "69758ce9",
   "metadata": {},
   "outputs": [
    {
     "data": {
      "text/plain": [
       "True"
      ]
     },
     "execution_count": 64,
     "metadata": {},
     "output_type": "execute_result"
    }
   ],
   "source": [
    "name = \"21\"\n",
    "name.isnumeric()"
   ]
  },
  {
   "cell_type": "code",
   "execution_count": 65,
   "id": "632f0fa2",
   "metadata": {},
   "outputs": [
    {
     "data": {
      "text/plain": [
       "False"
      ]
     },
     "execution_count": 65,
     "metadata": {},
     "output_type": "execute_result"
    }
   ],
   "source": [
    "name = \"21.3\"\n",
    "name.isnumeric()"
   ]
  },
  {
   "cell_type": "markdown",
   "id": "9eab7e36",
   "metadata": {},
   "source": [
    "# istitle function()"
   ]
  },
  {
   "cell_type": "code",
   "execution_count": 66,
   "id": "7a2636dd",
   "metadata": {},
   "outputs": [
    {
     "data": {
      "text/plain": [
       "False"
      ]
     },
     "execution_count": 66,
     "metadata": {},
     "output_type": "execute_result"
    }
   ],
   "source": [
    "name = \"faizan\"\n",
    "name.istitle()"
   ]
  },
  {
   "cell_type": "code",
   "execution_count": 68,
   "id": "17b96cd6",
   "metadata": {},
   "outputs": [
    {
     "data": {
      "text/plain": [
       "True"
      ]
     },
     "execution_count": 68,
     "metadata": {},
     "output_type": "execute_result"
    }
   ],
   "source": [
    "name = \"Faizan Yousaf\"\n",
    "name.istitle()"
   ]
  },
  {
   "cell_type": "code",
   "execution_count": 69,
   "id": "1227a9da",
   "metadata": {},
   "outputs": [
    {
     "data": {
      "text/plain": [
       "False"
      ]
     },
     "execution_count": 69,
     "metadata": {},
     "output_type": "execute_result"
    }
   ],
   "source": [
    "name = \"Faizan yousaf\"\n",
    "name.istitle()"
   ]
  },
  {
   "cell_type": "markdown",
   "id": "3a29e1f2",
   "metadata": {},
   "source": [
    "# title function()"
   ]
  },
  {
   "cell_type": "code",
   "execution_count": 70,
   "id": "3b34c62a",
   "metadata": {},
   "outputs": [
    {
     "data": {
      "text/plain": [
       "'Faizan Yousaf'"
      ]
     },
     "execution_count": 70,
     "metadata": {},
     "output_type": "execute_result"
    }
   ],
   "source": [
    "name = \"faizan yousaf\"\n",
    "name.title()"
   ]
  },
  {
   "cell_type": "markdown",
   "id": "54c12da9",
   "metadata": {},
   "source": [
    "# isspace function()"
   ]
  },
  {
   "cell_type": "code",
   "execution_count": 76,
   "id": "e742678d",
   "metadata": {},
   "outputs": [
    {
     "data": {
      "text/plain": [
       "True"
      ]
     },
     "execution_count": 76,
     "metadata": {},
     "output_type": "execute_result"
    }
   ],
   "source": [
    "name = \" \"     # Return True if the string is a whitespace string, False otherwise.\n",
    "\n",
    "name.isspace()\n"
   ]
  },
  {
   "cell_type": "markdown",
   "id": "d917cf8c",
   "metadata": {},
   "source": [
    "# strip function()"
   ]
  },
  {
   "cell_type": "code",
   "execution_count": 77,
   "id": "1b2d24d5",
   "metadata": {},
   "outputs": [
    {
     "data": {
      "text/plain": [
       "'faizan yousaf'"
      ]
     },
     "execution_count": 77,
     "metadata": {},
     "output_type": "execute_result"
    }
   ],
   "source": [
    "name = \"    faizan yousaf   \"\n",
    "name.strip()"
   ]
  },
  {
   "cell_type": "markdown",
   "id": "21e3167a",
   "metadata": {},
   "source": [
    "# rstrip function()"
   ]
  },
  {
   "cell_type": "code",
   "execution_count": 82,
   "id": "c6f8cc4d",
   "metadata": {},
   "outputs": [
    {
     "data": {
      "text/plain": [
       "'       faizan'"
      ]
     },
     "execution_count": 82,
     "metadata": {},
     "output_type": "execute_result"
    }
   ],
   "source": [
    "name = \"       faizan       \" \n",
    "name.rstrip()"
   ]
  },
  {
   "cell_type": "markdown",
   "id": "6b5ab526",
   "metadata": {},
   "source": [
    "# lstrip function()"
   ]
  },
  {
   "cell_type": "code",
   "execution_count": 83,
   "id": "f2ae5ce1",
   "metadata": {},
   "outputs": [
    {
     "data": {
      "text/plain": [
       "'faizan       '"
      ]
     },
     "execution_count": 83,
     "metadata": {},
     "output_type": "execute_result"
    }
   ],
   "source": [
    "name = \"       faizan       \" \n",
    "name.lstrip()"
   ]
  },
  {
   "cell_type": "markdown",
   "id": "0629fc54",
   "metadata": {},
   "source": [
    "# isupper function()"
   ]
  },
  {
   "cell_type": "code",
   "execution_count": 85,
   "id": "527aa28f",
   "metadata": {},
   "outputs": [
    {
     "data": {
      "text/plain": [
       "True"
      ]
     },
     "execution_count": 85,
     "metadata": {},
     "output_type": "execute_result"
    }
   ],
   "source": [
    "name = \"FAIZAN\"      #Return True if the string is an uppercase string, False otherwise\n",
    "name.isupper()"
   ]
  },
  {
   "cell_type": "code",
   "execution_count": 87,
   "id": "cc6b0dcf",
   "metadata": {},
   "outputs": [
    {
     "data": {
      "text/plain": [
       "True"
      ]
     },
     "execution_count": 87,
     "metadata": {},
     "output_type": "execute_result"
    }
   ],
   "source": [
    "name = \" F\"\n",
    "name.isupper()"
   ]
  },
  {
   "cell_type": "code",
   "execution_count": 86,
   "id": "1a2e4bd5",
   "metadata": {},
   "outputs": [
    {
     "data": {
      "text/plain": [
       "False"
      ]
     },
     "execution_count": 86,
     "metadata": {},
     "output_type": "execute_result"
    }
   ],
   "source": [
    "name = \"Faizan\"\n",
    "name.isupper()"
   ]
  },
  {
   "cell_type": "code",
   "execution_count": 84,
   "id": "5c7fe88d",
   "metadata": {},
   "outputs": [
    {
     "data": {
      "text/plain": [
       "False"
      ]
     },
     "execution_count": 84,
     "metadata": {},
     "output_type": "execute_result"
    }
   ],
   "source": [
    "name = \"faizan\"\n",
    "name.isupper()"
   ]
  },
  {
   "cell_type": "markdown",
   "id": "d0c00f53",
   "metadata": {},
   "source": [
    "# join function()"
   ]
  },
  {
   "cell_type": "code",
   "execution_count": 95,
   "id": "72a1b7b7",
   "metadata": {},
   "outputs": [
    {
     "data": {
      "text/plain": [
       "'1+2+3+4+5'"
      ]
     },
     "execution_count": 95,
     "metadata": {},
     "output_type": "execute_result"
    }
   ],
   "source": [
    "list = ('1','2','3','4','5')\n",
    "'+'.join(list)  .join()"
   ]
  },
  {
   "cell_type": "code",
   "execution_count": 96,
   "id": "aea76e9d",
   "metadata": {},
   "outputs": [
    {
     "data": {
      "text/plain": [
       "'Faizan'"
      ]
     },
     "execution_count": 96,
     "metadata": {},
     "output_type": "execute_result"
    }
   ],
   "source": [
    "name= ('F','a','i','z','a','n')\n",
    "''.join(name)"
   ]
  },
  {
   "cell_type": "code",
   "execution_count": 98,
   "id": "4290be7e",
   "metadata": {},
   "outputs": [
    {
     "data": {
      "text/plain": [
       "'F-a-i-z-a-n'"
      ]
     },
     "execution_count": 98,
     "metadata": {},
     "output_type": "execute_result"
    }
   ],
   "source": [
    "name= ('F','a','i','z','a','n')\n",
    "'-'.join(name)"
   ]
  },
  {
   "cell_type": "code",
   "execution_count": 100,
   "id": "b85252d5",
   "metadata": {},
   "outputs": [
    {
     "data": {
      "text/plain": [
       "'F()a()i()z()a()n'"
      ]
     },
     "execution_count": 100,
     "metadata": {},
     "output_type": "execute_result"
    }
   ],
   "source": [
    "name= ('F','a','i','z','a','n')\n",
    "'()'.join(name)"
   ]
  },
  {
   "cell_type": "code",
   "execution_count": 102,
   "id": "70e62feb",
   "metadata": {},
   "outputs": [
    {
     "name": "stdout",
     "output_type": "stream",
     "text": [
      "f  a  z  i\n"
     ]
    }
   ],
   "source": [
    "list1 = ['f','a','z','i']\n",
    "print(\"  \".join(list1))"
   ]
  },
  {
   "cell_type": "code",
   "execution_count": 103,
   "id": "da271b3a",
   "metadata": {},
   "outputs": [
    {
     "data": {
      "text/plain": [
       "'Geek_For_Geeks'"
      ]
     },
     "execution_count": 103,
     "metadata": {},
     "output_type": "execute_result"
    }
   ],
   "source": [
    "#Joining string character to string\n",
    "'S'.join('12345')\n"
   ]
  },
  {
   "cell_type": "code",
   "execution_count": 104,
   "id": "4e1d15ba",
   "metadata": {},
   "outputs": [
    {
     "data": {
      "text/plain": [
       "'1()2()3()4()5'"
      ]
     },
     "execution_count": 104,
     "metadata": {},
     "output_type": "execute_result"
    }
   ],
   "source": [
    "#Joining special symbols with string\n",
    "'()'.join('12345')\n"
   ]
  },
  {
   "cell_type": "code",
   "execution_count": 105,
   "id": "929b9aa7",
   "metadata": {},
   "outputs": [
    {
     "data": {
      "text/plain": [
       "'G100e100e100k100s'"
      ]
     },
     "execution_count": 105,
     "metadata": {},
     "output_type": "execute_result"
    }
   ],
   "source": [
    "#Joining digits with string\n",
    "'100'.join('Geeks')\n"
   ]
  },
  {
   "cell_type": "code",
   "execution_count": 108,
   "id": "1f1a7b56",
   "metadata": {},
   "outputs": [
    {
     "data": {
      "text/plain": [
       "'f_a_z_i'"
      ]
     },
     "execution_count": 108,
     "metadata": {},
     "output_type": "execute_result"
    }
   ],
   "source": [
    "name =  (\"f\",'a','z','i')\n",
    "'_'.join(name)"
   ]
  },
  {
   "cell_type": "code",
   "execution_count": 109,
   "id": "d769b9e3",
   "metadata": {},
   "outputs": [
    {
     "data": {
      "text/plain": [
       "'faizan_yousaf'"
      ]
     },
     "execution_count": 109,
     "metadata": {},
     "output_type": "execute_result"
    }
   ],
   "source": [
    "name = (\"faizan\", \"yousaf\")\n",
    "'_'.join(name)"
   ]
  },
  {
   "cell_type": "code",
   "execution_count": 106,
   "id": "4c336d6f",
   "metadata": {},
   "outputs": [
    {
     "data": {
      "text/plain": [
       "'Geek_For_Geeks'"
      ]
     },
     "execution_count": 106,
     "metadata": {},
     "output_type": "execute_result"
    }
   ],
   "source": [
    "#Joining special character with dictionary\n",
    "'_'.join({'Geek':1,'For':2,'Geeks':3})\n"
   ]
  },
  {
   "cell_type": "code",
   "execution_count": 107,
   "id": "d63d2bdf",
   "metadata": {},
   "outputs": [
    {
     "data": {
      "text/plain": [
       "'f+)_+a+)_+z+)_+i'"
      ]
     },
     "execution_count": 107,
     "metadata": {},
     "output_type": "execute_result"
    }
   ],
   "source": [
    "name =  (\"f\",'a','z','i')\n",
    "'+)_+'.join(name)\n",
    "name."
   ]
  },
  {
   "cell_type": "markdown",
   "id": "5a02d0df",
   "metadata": {},
   "source": [
    "# rjust function()"
   ]
  },
  {
   "cell_type": "code",
   "execution_count": 116,
   "id": "6da2b41b",
   "metadata": {},
   "outputs": [
    {
     "data": {
      "text/plain": [
       "'                                     faizan'"
      ]
     },
     "execution_count": 116,
     "metadata": {},
     "output_type": "execute_result"
    }
   ],
   "source": [
    "name = \"                                     faizan\"\n",
    "name.rjust(32)"
   ]
  },
  {
   "cell_type": "markdown",
   "id": "d8b0da8b",
   "metadata": {},
   "source": [
    "# ljust function()"
   ]
  },
  {
   "cell_type": "code",
   "execution_count": null,
   "id": "92986fed",
   "metadata": {},
   "outputs": [],
   "source": [
    "name = \"faizan     \"\n",
    "name.ljust(65)"
   ]
  },
  {
   "cell_type": "markdown",
   "id": "6662f3b8",
   "metadata": {},
   "source": [
    "# replace function()"
   ]
  },
  {
   "cell_type": "code",
   "execution_count": 120,
   "id": "cd040c27",
   "metadata": {},
   "outputs": [
    {
     "data": {
      "text/plain": [
       "'f p iz p n'"
      ]
     },
     "execution_count": 120,
     "metadata": {},
     "output_type": "execute_result"
    }
   ],
   "source": [
    "name = \"faizan\"\n",
    "name.replace('a','p')"
   ]
  },
  {
   "cell_type": "code",
   "execution_count": 124,
   "id": "b4f916d2",
   "metadata": {},
   "outputs": [
    {
     "data": {
      "text/plain": [
       "'fwizan'"
      ]
     },
     "execution_count": 124,
     "metadata": {},
     "output_type": "execute_result"
    }
   ],
   "source": [
    "name = \"faizan\"\n",
    "name.replace('a','W', 1)"
   ]
  },
  {
   "cell_type": "code",
   "execution_count": 127,
   "id": "c7e33b0a",
   "metadata": {},
   "outputs": [
    {
     "data": {
      "text/plain": [
       "'fWizWn'"
      ]
     },
     "execution_count": 127,
     "metadata": {},
     "output_type": "execute_result"
    }
   ],
   "source": [
    "name = \"faizan\"\n",
    "name.replace('a','W', 2)"
   ]
  },
  {
   "cell_type": "markdown",
   "id": "ba79096a",
   "metadata": {},
   "source": [
    "# maketrans function()"
   ]
  },
  {
   "cell_type": "code",
   "execution_count": 136,
   "id": "77e2ce8f",
   "metadata": {},
   "outputs": [
    {
     "ename": "TypeError",
     "evalue": "if you give only one argument to maketrans it must be a dict",
     "output_type": "error",
     "traceback": [
      "\u001b[1;31m---------------------------------------------------------------------------\u001b[0m",
      "\u001b[1;31mTypeError\u001b[0m                                 Traceback (most recent call last)",
      "Input \u001b[1;32mIn [136]\u001b[0m, in \u001b[0;36m<cell line: 2>\u001b[1;34m()\u001b[0m\n\u001b[0;32m      1\u001b[0m name \u001b[38;5;241m=\u001b[39m \u001b[38;5;124m\"\u001b[39m\u001b[38;5;124mfaizan\u001b[39m\u001b[38;5;124m\"\u001b[39m\n\u001b[1;32m----> 2\u001b[0m \u001b[43mname\u001b[49m\u001b[38;5;241;43m.\u001b[39;49m\u001b[43mmaketrans\u001b[49m\u001b[43m(\u001b[49m\u001b[43mname\u001b[49m\u001b[43m)\u001b[49m\n",
      "\u001b[1;31mTypeError\u001b[0m: if you give only one argument to maketrans it must be a dict"
     ]
    }
   ],
   "source": [
    "name = \"faizan\"\n",
    "name.maketrans()"
   ]
  },
  {
   "cell_type": "markdown",
   "id": "02a79cf8",
   "metadata": {},
   "source": [
    "# partition function()"
   ]
  },
  {
   "cell_type": "code",
   "execution_count": 149,
   "id": "9a0e61b3",
   "metadata": {},
   "outputs": [
    {
     "data": {
      "text/plain": [
       "('faizan ', 'is', ' learning python')"
      ]
     },
     "execution_count": 149,
     "metadata": {},
     "output_type": "execute_result"
    }
   ],
   "source": [
    "name = \"faizan is learning python\"    #Partition the string into three parts using the given separator.\n",
    "name.partition('is')"
   ]
  },
  {
   "cell_type": "code",
   "execution_count": 145,
   "id": "8fdca62d",
   "metadata": {},
   "outputs": [
    {
     "data": {
      "text/plain": [
       "('faizan is learning python', '', '')"
      ]
     },
     "execution_count": 145,
     "metadata": {},
     "output_type": "execute_result"
    }
   ],
   "source": [
    "name = \"faizan is learning python\"  #if the seperator is not found,then it prints the whole line in one\n",
    "                                    #line and write other 2 in empty quotes\n",
    "name.partition('not')                "
   ]
  },
  {
   "cell_type": "markdown",
   "id": "dde0eb45",
   "metadata": {},
   "source": [
    "# isprintable function()"
   ]
  },
  {
   "cell_type": "code",
   "execution_count": 146,
   "id": "88cd0a2b",
   "metadata": {},
   "outputs": [
    {
     "data": {
      "text/plain": [
       "True"
      ]
     },
     "execution_count": 146,
     "metadata": {},
     "output_type": "execute_result"
    }
   ],
   "source": [
    "name = \"faizan\"           #Return True if the string is printable i.e alphabets, numbers, spaces, symbols\n",
    "name.isprintable()"
   ]
  },
  {
   "cell_type": "code",
   "execution_count": 147,
   "id": "bff5fad1",
   "metadata": {},
   "outputs": [
    {
     "data": {
      "text/plain": [
       "True"
      ]
     },
     "execution_count": 147,
     "metadata": {},
     "output_type": "execute_result"
    }
   ],
   "source": [
    "name = \"faizan#$\"            \n",
    "name.isprintable()"
   ]
  },
  {
   "cell_type": "code",
   "execution_count": 148,
   "id": "3ba9ef5b",
   "metadata": {},
   "outputs": [
    {
     "data": {
      "text/plain": [
       "False"
      ]
     },
     "execution_count": 148,
     "metadata": {},
     "output_type": "execute_result"
    }
   ],
   "source": [
    "name = \"faiz \\n an\"      #false in this case\n",
    "name.isprintable()"
   ]
  },
  {
   "cell_type": "markdown",
   "id": "c3f537d6",
   "metadata": {},
   "source": [
    "# upper function()"
   ]
  },
  {
   "cell_type": "code",
   "execution_count": 154,
   "id": "96e0cca3",
   "metadata": {},
   "outputs": [
    {
     "name": "stdout",
     "output_type": "stream",
     "text": [
      "FAIZAN YOUSAF\n"
     ]
    }
   ],
   "source": [
    "name = \"faizan yousaf\"\n",
    "name.upper()"
   ]
  },
  {
   "cell_type": "markdown",
   "id": "39d88689",
   "metadata": {},
   "source": [
    "# isupper function()"
   ]
  },
  {
   "cell_type": "code",
   "execution_count": 158,
   "id": "bd0a939f",
   "metadata": {},
   "outputs": [
    {
     "data": {
      "text/plain": [
       "True"
      ]
     },
     "execution_count": 158,
     "metadata": {},
     "output_type": "execute_result"
    }
   ],
   "source": [
    "name = \"FAIZAN\"\n",
    "name.isupper()"
   ]
  },
  {
   "cell_type": "markdown",
   "id": "11e9af9b",
   "metadata": {},
   "source": [
    "# removeprefix function()"
   ]
  },
  {
   "cell_type": "code",
   "execution_count": 159,
   "id": "bb7b394d",
   "metadata": {},
   "outputs": [
    {
     "data": {
      "text/plain": [
       "' is not a good student'"
      ]
     },
     "execution_count": 159,
     "metadata": {},
     "output_type": "execute_result"
    }
   ],
   "source": [
    "name = \"faizan is not a good student\"\n",
    "name.removeprefix(\"faizan\")"
   ]
  },
  {
   "cell_type": "code",
   "execution_count": 162,
   "id": "d5ac1e15",
   "metadata": {},
   "outputs": [
    {
     "data": {
      "text/plain": [
       "'aizan is not a good student'"
      ]
     },
     "execution_count": 162,
     "metadata": {},
     "output_type": "execute_result"
    }
   ],
   "source": [
    "name = \"faizan is not a good student\"\n",
    "name.removeprefix(\"f\")"
   ]
  },
  {
   "cell_type": "markdown",
   "id": "19d78004",
   "metadata": {},
   "source": [
    "# removesuffix function()"
   ]
  },
  {
   "cell_type": "code",
   "execution_count": 164,
   "id": "01faf39b",
   "metadata": {},
   "outputs": [
    {
     "data": {
      "text/plain": [
       "'faizan is not a good '"
      ]
     },
     "execution_count": 164,
     "metadata": {},
     "output_type": "execute_result"
    }
   ],
   "source": [
    "name = \"faizan is not a good student\"\n",
    "name.removesuffix(\"student\")"
   ]
  },
  {
   "cell_type": "code",
   "execution_count": null,
   "id": "29b5be76",
   "metadata": {},
   "outputs": [],
   "source": []
  }
 ],
 "metadata": {
  "kernelspec": {
   "display_name": "Python 3 (ipykernel)",
   "language": "python",
   "name": "python3"
  },
  "language_info": {
   "codemirror_mode": {
    "name": "ipython",
    "version": 3
   },
   "file_extension": ".py",
   "mimetype": "text/x-python",
   "name": "python",
   "nbconvert_exporter": "python",
   "pygments_lexer": "ipython3",
   "version": "3.9.12"
  }
 },
 "nbformat": 4,
 "nbformat_minor": 5
}
