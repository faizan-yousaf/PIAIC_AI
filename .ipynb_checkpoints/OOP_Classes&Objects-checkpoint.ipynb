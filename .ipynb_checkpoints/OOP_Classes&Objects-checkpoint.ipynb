{
 "cells": [
  {
   "cell_type": "code",
   "execution_count": 3,
   "id": "e800894e",
   "metadata": {},
   "outputs": [
    {
     "name": "stdout",
     "output_type": "stream",
     "text": [
      "<__main__.employee object at 0x000001F03DB6B0A0>\n",
      "<__main__.employee object at 0x000001F03DB6B340>\n"
     ]
    }
   ],
   "source": [
    "class employee():\n",
    "    pass \n",
    "\n",
    "emp1 = employee()\n",
    "emp2 = employee()\n",
    "\n",
    "print(emp1)\n",
    "print(emp2)\n",
    "\n",
    "#we can see that each instance has unique address in the memory."
   ]
  },
  {
   "cell_type": "code",
   "execution_count": 7,
   "id": "ade40f5f",
   "metadata": {},
   "outputs": [
    {
     "name": "stdout",
     "output_type": "stream",
     "text": [
      "faizan\n",
      "faizan.yousaf@company.com\n",
      "$30000\n"
     ]
    }
   ],
   "source": [
    "#Creating objects manually \n",
    "emp1.first = \"faizan\"\n",
    "emp1.last = \"yousaf\"\n",
    "emp1.email = \"faizan.yousaf@company.com\"\n",
    "emp1.pay = \"$30000\"\n",
    "\n",
    "print(emp1.first)\n",
    "print(emp1.email)\n",
    "print(emp1.pay)\n",
    "\n"
   ]
  },
  {
   "cell_type": "code",
   "execution_count": 8,
   "id": "7f5961d8",
   "metadata": {},
   "outputs": [
    {
     "name": "stdout",
     "output_type": "stream",
     "text": [
      "Waqar\n",
      "Waqar.Akram@company.com\n",
      "$30000\n"
     ]
    }
   ],
   "source": [
    "#Creating objects manually \n",
    "emp2.first = \"Waqar\"\n",
    "emp2.last = \"Akram\"\n",
    "emp2.email = \"Waqar.Akram@company.com\"\n",
    "emp2.pay = \"$30000\"\n",
    "\n",
    "print(emp2.first)\n",
    "print(emp2.email)\n",
    "print(emp2.pay)"
   ]
  },
  {
   "cell_type": "code",
   "execution_count": 39,
   "id": "0c3908af",
   "metadata": {},
   "outputs": [
    {
     "name": "stdout",
     "output_type": "stream",
     "text": [
      "Muhammad  Faizan\n",
      "Waqar Akram\n"
     ]
    }
   ],
   "source": [
    "#let's make a method which can do the above job with less effort and more accuracy:\n",
    "\n",
    "class employee():\n",
    "    \n",
    "    def __init__(self, first, last, pay, department):\n",
    "        self.firstName = first\n",
    "        self.lastName  = last\n",
    "        self.Salary    = pay\n",
    "        self.email     = first+\".\"+last+\"@company.com\"\n",
    "        self.department = department\n",
    "    \n",
    "    def fullName(self):  #method\n",
    "        return '{} {}'.format(self.firstName, self.lastName)\n",
    "\n",
    "emp_1 = employee(\"Muhammad \", \"Faizan\", \"$500000\" ,\"Computer Science\")  #objects\n",
    "emp_2 = employee(\"Waqar\" , \"Akram\" , \"500000\", \"Computer Science\")\n",
    "\n",
    "print(emp_1.fullName())\n",
    "print(emp_2.fullName())"
   ]
  },
  {
   "cell_type": "code",
   "execution_count": 32,
   "id": "1ab94943",
   "metadata": {},
   "outputs": [
    {
     "name": "stdout",
     "output_type": "stream",
     "text": [
      "Muhammad  Faizan Computer Science Muhammad .Faizan@company.com $500000\n"
     ]
    }
   ],
   "source": [
    "#we can call the values by their attribute name(self.attribute)\n",
    "\n",
    "print(emp_1.firstName , emp_1.lastName, emp_1.department, emp_1.email, emp_1.Salary)"
   ]
  },
  {
   "cell_type": "code",
   "execution_count": 18,
   "id": "da09a03d",
   "metadata": {},
   "outputs": [
    {
     "data": {
      "text/plain": [
       "'Waqar.Akram@company.com'"
      ]
     },
     "execution_count": 18,
     "metadata": {},
     "output_type": "execute_result"
    }
   ],
   "source": [
    "emp_2.email"
   ]
  },
  {
   "cell_type": "code",
   "execution_count": 17,
   "id": "21157f96",
   "metadata": {},
   "outputs": [
    {
     "name": "stdout",
     "output_type": "stream",
     "text": [
      "Waqar.Akram@company.com\n"
     ]
    }
   ],
   "source": [
    "print(emp_2.email)"
   ]
  },
  {
   "cell_type": "code",
   "execution_count": 34,
   "id": "684a2a1a",
   "metadata": {},
   "outputs": [
    {
     "name": "stdout",
     "output_type": "stream",
     "text": [
      "Muhammad Faizan is the full name of employee #1\n"
     ]
    }
   ],
   "source": [
    "#let's get the full name of emp1 manually:\n",
    "print(emp_1.firstName + emp_1.lastName + \" is the full name of employee #1\")"
   ]
  },
  {
   "cell_type": "code",
   "execution_count": 41,
   "id": "558b2e12",
   "metadata": {},
   "outputs": [
    {
     "name": "stdout",
     "output_type": "stream",
     "text": [
      "Muhammad  Faizan\n",
      "Waqar Akram\n"
     ]
    }
   ],
   "source": [
    "#let's create a method to do the above task for every object.\n",
    "\n",
    "class employee():\n",
    "    \n",
    "    def __init__(self, first, last, pay, department):\n",
    "        self.firstName = first\n",
    "        self.lastName  = last\n",
    "        self.Salary    = pay\n",
    "        self.email     = first+\".\"+last+\"@company.com\"\n",
    "        self.department = department\n",
    "    \n",
    "    def fullName(self):\n",
    "        return '{} {}'.format(self.firstName, self.lastName)\n",
    "\n",
    "emp_1 = employee(\"Muhammad \", \"Faizan\", \"$500000\" ,\"Computer Science\") \n",
    "emp_2 = employee(\"Waqar\" , \"Akram\" , \"500000\", \"Computer Science\")\n",
    "\n",
    "print(emp_1.fullName()) #() are compulsory while calling the methods\n",
    "print(emp_2.fullName())"
   ]
  },
  {
   "cell_type": "code",
   "execution_count": 45,
   "id": "e05ec790",
   "metadata": {},
   "outputs": [
    {
     "name": "stdout",
     "output_type": "stream",
     "text": [
      "Muhammad  Faizan\n",
      "Muhammad  Faizan\n"
     ]
    }
   ],
   "source": [
    "# another way to call the method:\n",
    "# both statements are doing the same task\n",
    "\n",
    "print(employee.fullName(emp_1))\n",
    "print(emp_1.fullName())"
   ]
  },
  {
   "cell_type": "code",
   "execution_count": null,
   "id": "d0aed82a",
   "metadata": {},
   "outputs": [],
   "source": []
  }
 ],
 "metadata": {
  "kernelspec": {
   "display_name": "Python 3 (ipykernel)",
   "language": "python",
   "name": "python3"
  },
  "language_info": {
   "codemirror_mode": {
    "name": "ipython",
    "version": 3
   },
   "file_extension": ".py",
   "mimetype": "text/x-python",
   "name": "python",
   "nbconvert_exporter": "python",
   "pygments_lexer": "ipython3",
   "version": "3.9.12"
  }
 },
 "nbformat": 4,
 "nbformat_minor": 5
}
