{
 "cells": [
  {
   "cell_type": "markdown",
   "id": "ea89c0e6",
   "metadata": {},
   "source": [
    "# List     mutable        [ , , , , ]   \n",
    "\n",
    "\n",
    "# Tuple  imutable       ( , , , , )\n",
    "\n",
    "  #### list [index]\n",
    "* extract single value from list or tuple\n",
    "#### list [start: end]\n",
    "* extract multiple values from list or tuple\n",
    "#### list [start:end:sequence]\n",
    "* extract multiple values from list or tuple with a sequence\n",
    "\n",
    "# Methods and attributes"
   ]
  },
  {
   "cell_type": "code",
   "execution_count": 4,
   "id": "5e889081",
   "metadata": {},
   "outputs": [
    {
     "name": "stdout",
     "output_type": "stream",
     "text": [
      "Faizan Yousaf\n"
     ]
    }
   ],
   "source": [
    "\n",
    "name = \"Faizan Yousaf\"\n",
    "print(name)"
   ]
  },
  {
   "cell_type": "code",
   "execution_count": 8,
   "id": "4a316286",
   "metadata": {},
   "outputs": [
    {
     "name": "stdout",
     "output_type": "stream",
     "text": [
      "['faizan', 'qasim', 'ali', 'hamza', 'nasir']\n"
     ]
    }
   ],
   "source": [
    "#list\n",
    "\n",
    "names = [\"faizan\" , \"qasim\", \"ali\", \"hamza\", \"nasir\" ]\n",
    "\n",
    "print( names)"
   ]
  },
  {
   "cell_type": "markdown",
   "id": "83e658d3",
   "metadata": {},
   "source": [
    "  #### list [index]\n",
    "* extract single value from list or tuple\n",
    "#### list [start: end]\n",
    "* extract multiple values from list or tuple\n",
    "#### list [start:end:sequence]\n",
    "* extract multiple values from list or tuple with a sequence"
   ]
  },
  {
   "cell_type": "markdown",
   "id": "41a9db8b",
   "metadata": {},
   "source": [
    "# Update value with index number"
   ]
  },
  {
   "cell_type": "code",
   "execution_count": 45,
   "id": "2506ef7b",
   "metadata": {},
   "outputs": [
    {
     "name": "stdout",
     "output_type": "stream",
     "text": [
      "['faizan', 'qasim', 'ali', 'hamza', 'nasir']\n",
      "['Muhammad Faizan', 'qasim', 'ali', 'hamza', 'nasir']\n"
     ]
    }
   ],
   "source": [
    "# ==>      0          1        2       3        4                #positive Index\n",
    "names = [\"faizan\" , \"qasim\", \"ali\", \"hamza\", \"nasir\" ]\n",
    "#           -5         -4      -3      -2       -1     <===      #negative index\n",
    "\n",
    "print(names)\n",
    "\n",
    "(names[0]) = \"Muhammad Faizan\"                  # Update value with index number\n",
    "print(names)"
   ]
  },
  {
   "cell_type": "markdown",
   "id": "dec4ab30",
   "metadata": {},
   "source": [
    "  ## list [index]\n",
    "* extract single value from list or tuple"
   ]
  },
  {
   "cell_type": "markdown",
   "id": "074ee6e6",
   "metadata": {},
   "source": [
    "## extract value using positive index"
   ]
  },
  {
   "cell_type": "code",
   "execution_count": 14,
   "id": "0cb724f9",
   "metadata": {
    "scrolled": true
   },
   "outputs": [
    {
     "name": "stdout",
     "output_type": "stream",
     "text": [
      "['faizan', 'qasim', 'ali', 'hamza', 'nasir'] \n",
      "\n",
      "faizan\n",
      "nasir\n"
     ]
    }
   ],
   "source": [
    "# ==>      0          1        2       3        4                #positive Index\n",
    "names = [\"faizan\" , \"qasim\", \"ali\", \"hamza\", \"nasir\" ]\n",
    "#           -5         -4      -3      -2       -1     <===      #negative index\n",
    "\n",
    "\n",
    "print( names ,\"\\n\")\n",
    "\n",
    "print(names[0])      #extract value using positive index\n",
    "print(names[4])"
   ]
  },
  {
   "cell_type": "markdown",
   "id": "cb8e3b0c",
   "metadata": {},
   "source": [
    "##  extract value from list using negative index"
   ]
  },
  {
   "cell_type": "code",
   "execution_count": 15,
   "id": "d3adb49d",
   "metadata": {},
   "outputs": [
    {
     "name": "stdout",
     "output_type": "stream",
     "text": [
      "['faizan', 'qasim', 'ali', 'hamza', 'nasir'] \n",
      "\n",
      "faizan\n",
      "nasir\n"
     ]
    }
   ],
   "source": [
    "# ==>      0          1        2       3        4 \n",
    "names = [\"faizan\" , \"qasim\", \"ali\", \"hamza\", \"nasir\" ]\n",
    "#           -5         -4      -3      -2       -1     <===\n",
    "\n",
    "print( names ,\"\\n\")\n",
    "\n",
    "print(names[-5])      #extract value using negative index\n",
    "print(names[-1])"
   ]
  },
  {
   "cell_type": "markdown",
   "id": "773b395c",
   "metadata": {},
   "source": [
    "## list [start: end]\n",
    "\n",
    "* start = include\n",
    "* end = exclude or index -1\n",
    "* sequence = steps\n",
    "\n",
    "\n",
    "#### positive index\n",
    "* extract multiple values from list or tuple"
   ]
  },
  {
   "cell_type": "code",
   "execution_count": 46,
   "id": "2b398bf1",
   "metadata": {},
   "outputs": [
    {
     "name": "stdout",
     "output_type": "stream",
     "text": [
      "['faizan', 'qasim', 'ali', 'hamza', 'nasir']\n",
      "\n",
      "\n",
      "['faizan']\n",
      "['faizan', 'qasim']\n",
      "['faizan', 'qasim', 'ali']\n",
      "['faizan', 'qasim', 'ali', 'hamza']\n",
      "['faizan', 'qasim', 'ali', 'hamza', 'nasir']\n"
     ]
    }
   ],
   "source": [
    "# ==>      0          1        2       3        4 \n",
    "names = [\"faizan\" , \"qasim\", \"ali\", \"hamza\", \"nasir\" ]\n",
    "#           -5         -4      -3      -2       -1     <===\n",
    "\n",
    "print(names)\n",
    "\n",
    "print(\"\\n\")         \n",
    "\n",
    "# list [start: end]  \n",
    "#  extract multiple values from list or tuple\n",
    "\n",
    "print(names[0:1])   \n",
    "print(names[0:2])\n",
    "print(names[0:3])\n",
    "print(names[0:4])\n",
    "print(names[0:5])\n"
   ]
  },
  {
   "cell_type": "markdown",
   "id": "1e4d616e",
   "metadata": {},
   "source": [
    "## list [start: end]\n",
    "#### negative index\n",
    "* extract multiple values from list or tuple"
   ]
  },
  {
   "cell_type": "code",
   "execution_count": 50,
   "id": "1817bd42",
   "metadata": {},
   "outputs": [
    {
     "name": "stdout",
     "output_type": "stream",
     "text": [
      "['faizan', 'qasim', 'ali', 'hamza', 'nasir']\n",
      "\n",
      "\n",
      "[]\n",
      "ali\n"
     ]
    }
   ],
   "source": [
    "# ==>      0          1        2       3        4 \n",
    "names = [\"faizan\" , \"qasim\", \"ali\", \"hamza\", \"nasir\" ]\n",
    "#           -5         -4      -3      -2       -1     <===\n",
    "\n",
    "print(names)\n",
    "\n",
    "print(\"\\n\")\n",
    "\n",
    "# list [start: end]  \n",
    "#  extract multiple values from list or tuple\n",
    "\n",
    "print(names[-1:-3])\n",
    "print(names[-3])"
   ]
  },
  {
   "cell_type": "markdown",
   "id": "e418143b",
   "metadata": {},
   "source": [
    "## list [start:end:sequence]\n",
    "\n",
    "* extract multiple values from list or tuple with a sequence\n",
    "* start = include\n",
    "* end = exclude or index -1\n",
    "* sequence = steps\n",
    "\n",
    "\n",
    "* range (start:end:sep)\n",
    "* by default, value of sequence is '1'\n",
    "\n",
    "## slicing"
   ]
  },
  {
   "cell_type": "code",
   "execution_count": 53,
   "id": "f242c93f",
   "metadata": {},
   "outputs": [
    {
     "name": "stdout",
     "output_type": "stream",
     "text": [
      "[0, 1, 2, 3, 4, 5, 6, 7, 8, 9, 10, 11, 12, 13, 14, 15, 16, 17, 18, 19, 20]\n"
     ]
    }
   ],
   "source": [
    "#                                             slicing\n",
    "numbers = list(range(0,21))\n",
    "\n",
    "#             start = include\n",
    "#             end = exclude or index -1\n",
    "#             sequence = steps     \n",
    "print(numbers)"
   ]
  },
  {
   "cell_type": "code",
   "execution_count": 63,
   "id": "01b858b4",
   "metadata": {},
   "outputs": [
    {
     "name": "stdout",
     "output_type": "stream",
     "text": [
      "[0, 1, 2, 3, 4, 5, 6, 7, 8, 9, 10]\n"
     ]
    }
   ],
   "source": [
    "numbers = list(range(0,11))\n",
    "print(numbers)"
   ]
  },
  {
   "cell_type": "code",
   "execution_count": 61,
   "id": "14678b3e",
   "metadata": {},
   "outputs": [
    {
     "name": "stdout",
     "output_type": "stream",
     "text": [
      "[1, 2, 3, 4, 5, 6, 7, 8, 9, 10, 11, 12, 13, 14, 15, 16, 17, 18, 19, 20]\n"
     ]
    }
   ],
   "source": [
    "#  Now let's start from 1 \n",
    "numbers = list(range(1,21))\n",
    "print(numbers)"
   ]
  },
  {
   "cell_type": "code",
   "execution_count": 65,
   "id": "d19b4741",
   "metadata": {
    "scrolled": true
   },
   "outputs": [
    {
     "name": "stdout",
     "output_type": "stream",
     "text": [
      "[1, 2, 3, 4, 5, 6, 7, 8, 9, 10, 11, 12, 13, 14, 15, 16, 17, 18, 19, 20] \n",
      "\n",
      "[5, 6, 7, 8, 9, 10, 11, 12, 13, 14, 15, 16]\n"
     ]
    }
   ],
   "source": [
    "numbers = list(range(1,21))\n",
    "print(numbers, \"\\n\")\n",
    "\n",
    "print(numbers[4:16]) # starts from index 5 and till 16 and the end will be excluded or index -1"
   ]
  },
  {
   "cell_type": "markdown",
   "id": "22fdd052",
   "metadata": {},
   "source": [
    "# what if we don't specify end \n"
   ]
  },
  {
   "cell_type": "code",
   "execution_count": 69,
   "id": "945cce5f",
   "metadata": {},
   "outputs": [
    {
     "name": "stdout",
     "output_type": "stream",
     "text": [
      "[0, 1, 2, 3, 4, 5, 6, 7, 8, 9, 10, 11, 12, 13, 14, 15, 16, 17, 18, 19, 20] \n",
      "\n",
      "[4, 5, 6, 7, 8, 9, 10, 11, 12, 13, 14, 15, 16, 17, 18, 19, 20]\n"
     ]
    }
   ],
   "source": [
    "# what if we don't specify end \n",
    "\n",
    "numbers = list(range(0,21))\n",
    "print(numbers, \"\\n\")\n",
    "\n",
    "print(numbers[4:])\n"
   ]
  },
  {
   "cell_type": "markdown",
   "id": "1c84e18c",
   "metadata": {},
   "source": [
    "# what if we don't specify start"
   ]
  },
  {
   "cell_type": "code",
   "execution_count": 68,
   "id": "7baa0365",
   "metadata": {},
   "outputs": [
    {
     "name": "stdout",
     "output_type": "stream",
     "text": [
      "[0, 1, 2, 3, 4, 5, 6, 7, 8, 9, 10, 11, 12, 13, 14, 15, 16, 17, 18, 19, 20] \n",
      "\n",
      "[0, 1, 2, 3, 4, 5, 6]\n"
     ]
    }
   ],
   "source": [
    "# what if we don't specify start\n",
    "\n",
    "numbers = list(range(0,21))\n",
    "print(numbers, \"\\n\")\n",
    "\n",
    "print(numbers[:7])"
   ]
  },
  {
   "cell_type": "markdown",
   "id": "eda537fb",
   "metadata": {},
   "source": [
    "# what if we don't specify start AND end"
   ]
  },
  {
   "cell_type": "code",
   "execution_count": 70,
   "id": "3ed7c6a5",
   "metadata": {},
   "outputs": [
    {
     "name": "stdout",
     "output_type": "stream",
     "text": [
      "[1, 2, 3, 4, 5, 6, 7, 8, 9, 10, 11, 12, 13, 14, 15, 16, 17, 18, 19, 20] \n",
      "\n",
      "[1, 2, 3, 4, 5, 6, 7, 8, 9, 10, 11, 12, 13, 14, 15, 16, 17, 18, 19, 20]\n"
     ]
    }
   ],
   "source": [
    "# what if we don't specify start AND end\n",
    "\n",
    "numbers = list(range(1,21))\n",
    "print(numbers, \"\\n\")\n",
    "\n",
    "print(numbers[::])    #it will print every element of the list\n"
   ]
  },
  {
   "cell_type": "markdown",
   "id": "a29316e8",
   "metadata": {},
   "source": [
    "# what if we don't specify start , end but we give a sequence"
   ]
  },
  {
   "cell_type": "code",
   "execution_count": 76,
   "id": "dba58e6a",
   "metadata": {},
   "outputs": [
    {
     "name": "stdout",
     "output_type": "stream",
     "text": [
      "[1, 2, 3, 4, 5, 6, 7, 8, 9, 10, 11, 12, 13, 14, 15, 16, 17, 18, 19, 20] \n",
      "\n",
      "[1, 3, 5, 7, 9, 11, 13, 15, 17, 19]\n",
      "\n",
      "\n",
      "[1, 4, 7, 10, 13, 16, 19]\n",
      "\n",
      "\n",
      "[1, 5, 9, 13, 17]\n",
      "\n",
      "\n",
      "[1, 6, 11, 16]\n",
      "\n",
      "\n",
      "[1, 7, 13, 19]\n"
     ]
    }
   ],
   "source": [
    "# what if we don't specify start , end but we give a sequence\n",
    "\n",
    "numbers = list(range(1,21))\n",
    "print(numbers, \"\\n\")\n",
    "\n",
    "print(numbers[::2])\n",
    "print(\"\\n\")\n",
    "\n",
    "print(numbers[::3])\n",
    "print(\"\\n\")\n",
    "\n",
    "print(numbers[::4])\n",
    "print(\"\\n\")\n",
    "\n",
    "print(numbers[::5])\n",
    "print(\"\\n\")\n",
    "\n",
    "print(numbers[::6])"
   ]
  },
  {
   "cell_type": "markdown",
   "id": "35345098",
   "metadata": {},
   "source": [
    "# We can reverse the order of list by giving value of sequence -1"
   ]
  },
  {
   "cell_type": "code",
   "execution_count": 5,
   "id": "a5cf2a70",
   "metadata": {},
   "outputs": [
    {
     "name": "stdout",
     "output_type": "stream",
     "text": [
      "[1, 2, 3, 4, 5, 6, 7, 8, 9, 10, 11, 12, 13, 14, 15, 16, 17, 18, 19, 20] \n",
      "\n",
      "[20, 19, 18, 17, 16, 15, 14, 13, 12, 11, 10, 9, 8, 7, 6, 5, 4, 3, 2, 1]\n"
     ]
    }
   ],
   "source": [
    "# We can reverse the order of list by giving value of sequence -1\n",
    "\n",
    "numbers = list(range(1,21))\n",
    "print(numbers, \"\\n\")\n",
    "\n",
    "print(numbers[::-1])   # the elements of the list are reversed\n"
   ]
  },
  {
   "cell_type": "markdown",
   "id": "5dfce786",
   "metadata": {},
   "source": [
    " # ****index number remains the same; only sequence are reversed.****"
   ]
  },
  {
   "cell_type": "code",
   "execution_count": 23,
   "id": "6c4ca6f3",
   "metadata": {
    "scrolled": true
   },
   "outputs": [
    {
     "name": "stdout",
     "output_type": "stream",
     "text": [
      "[1, 2, 3, 4, 5, 6, 7, 8, 9, 10, 11, 12, 13, 14, 15, 16, 17, 18, 19, 20] \n",
      "\n",
      "[20, 19, 18, 17, 16, 15, 14, 13, 12, 11, 10, 9, 8, 7, 6, 5, 4, 3, 2, 1]\n",
      "[3, 4, 5, 6, 7]\n",
      "[3, 4, 5, 6, 7]\n",
      "[16, 15, 14, 13, 12, 11, 10, 9, 8, 7, 6]\n",
      "[8, 7, 6, 5, 4, 3]\n",
      "[18, 17, 16, 15, 14]\n"
     ]
    }
   ],
   "source": [
    "numbers = list(range(1,21))\n",
    "print(numbers, \"\\n\")\n",
    "print(numbers[::-1])\n",
    "                                      #****index number remains the same; only sequence are reversed.****\n",
    "                            \n",
    "\n",
    "print(numbers[2:7:1])               # 3,4,5,6,7          ==>> right to left in '+' index with +1 sequence\n",
    "print(numbers[-18:-13:1])           # 3,4,5,6,7          ==>> right to left in '-' index with +1 sequence\n",
    "\n",
    "print(numbers[15:4:-1])             # 16, 15, 14, 13, 12, 11, 10, 9, 8, 7, 6\n",
    "print(numbers[-13:-19:-1])          # 8, 7, 6, 5, 4, 3     ==>> left to right in minus index with -1 sequence\n",
    "print(numbers[-3:-8:-1])            # 18, 17, 16, 15, 14  ==>> left to right in minus index with -1 sequence\n",
    "\n",
    "\n"
   ]
  },
  {
   "cell_type": "code",
   "execution_count": null,
   "id": "b8e58907",
   "metadata": {},
   "outputs": [],
   "source": []
  }
 ],
 "metadata": {
  "kernelspec": {
   "display_name": "Python 3 (ipykernel)",
   "language": "python",
   "name": "python3"
  },
  "language_info": {
   "codemirror_mode": {
    "name": "ipython",
    "version": 3
   },
   "file_extension": ".py",
   "mimetype": "text/x-python",
   "name": "python",
   "nbconvert_exporter": "python",
   "pygments_lexer": "ipython3",
   "version": "3.9.12"
  }
 },
 "nbformat": 4,
 "nbformat_minor": 5
}
