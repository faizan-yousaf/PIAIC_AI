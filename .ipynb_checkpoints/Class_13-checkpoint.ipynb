{
 "cells": [
  {
   "cell_type": "markdown",
   "id": "7e54b841",
   "metadata": {},
   "source": [
    "# 4 pillars of OOP:\n",
    "    \n",
    "    * Inheritance: Anything that is inhereted (mehtods and attributes)\n",
    "    * Absraction\n",
    "    * Polymorphism\n",
    "\n"
   ]
  },
  {
   "cell_type": "markdown",
   "id": "8358946a",
   "metadata": {},
   "source": [
    "## Inheritance"
   ]
  },
  {
   "cell_type": "markdown",
   "id": "741cf5c0",
   "metadata": {},
   "source": [
    "### There are levels of inheritance.\n",
    "--> We inherit attributes from our parents...\n",
    "* one to one \n",
    "    * everyone has normally only one father or mother\n",
    "* one to many \n",
    "    * Relation between You and your friends\n",
    "* many to one\n",
    "    * Students to teacher\n",
    "* many to many\n",
    "    * businesses to businesses\n"
   ]
  },
  {
   "cell_type": "markdown",
   "id": "d3af8606",
   "metadata": {},
   "source": [
    "## Let's see how we can use the concept of inheritance:"
   ]
  },
  {
   "cell_type": "code",
   "execution_count": 18,
   "id": "6511b650",
   "metadata": {},
   "outputs": [],
   "source": [
    "class parent(): #class \n",
    "    \n",
    "    def __init__(self): #constructor\n",
    "        self.id = None           #attributes\n",
    "        self.name = None         #attributes\n",
    "        self.fatherNama = None   #attributes\n",
    "        \n",
    "    def eat(self, food): # note that food is only local variable\n",
    "        return f\"{self.name} is eating {food}\"\n",
    "    \n",
    "    def speak(self, words, Language = \"Urdu\"):\n",
    "        return f\"{self.Name} is speaking in {language} language.\"\n",
    "    \n",
    "    class Child(parent):\n",
    "        pass"
   ]
  },
  {
   "cell_type": "markdown",
   "id": "5e9f928e",
   "metadata": {},
   "source": [
    "## let's create some objects in parent class first."
   ]
  },
  {
   "cell_type": "code",
   "execution_count": 19,
   "id": "1d3c2ed2",
   "metadata": {},
   "outputs": [
    {
     "name": "stdout",
     "output_type": "stream",
     "text": [
      "1\n",
      "Muhammad Faizan\n",
      "Muhammad Yousaf\n",
      "Muhammad Faizan is eating pizza and Burger\n"
     ]
    }
   ],
   "source": [
    "# let's create some objects in parent class first.\n",
    "\n",
    "p1 = parent()\n",
    "p1.id = 1\n",
    "p1.name = \"Muhammad Faizan\"\n",
    "p1.fatherName = \"Muhammad Yousaf\"\n",
    "\n",
    "print(p1.id)\n",
    "print(p1.name)\n",
    "print(p1.fatherName)\n",
    "print(p1.eat(\"pizza and Burger\"))"
   ]
  },
  {
   "cell_type": "markdown",
   "id": "82cb61c7",
   "metadata": {},
   "source": [
    "## Now let's create some objects in child class first, inherited from the parent class!"
   ]
  },
  {
   "cell_type": "code",
   "execution_count": 26,
   "id": "b0ea1afe",
   "metadata": {},
   "outputs": [
    {
     "ename": "NameError",
     "evalue": "name 'Child' is not defined",
     "output_type": "error",
     "traceback": [
      "\u001b[1;31m---------------------------------------------------------------------------\u001b[0m",
      "\u001b[1;31mNameError\u001b[0m                                 Traceback (most recent call last)",
      "Input \u001b[1;32mIn [26]\u001b[0m, in \u001b[0;36m<cell line: 2>\u001b[1;34m()\u001b[0m\n\u001b[0;32m      1\u001b[0m \u001b[38;5;66;03m# Now let's create some objects in child class first, inherited from the parent class!\u001b[39;00m\n\u001b[1;32m----> 2\u001b[0m c1 \u001b[38;5;241m=\u001b[39m \u001b[43mChild\u001b[49m()\n\u001b[0;32m      4\u001b[0m c1\u001b[38;5;241m.\u001b[39mid \u001b[38;5;241m=\u001b[39m \u001b[38;5;241m1.1\u001b[39m\n\u001b[0;32m      5\u001b[0m c1\u001b[38;5;241m.\u001b[39mname \u001b[38;5;241m=\u001b[39m \u001b[38;5;124m\"\u001b[39m\u001b[38;5;124mMuhamamd Irsam\u001b[39m\u001b[38;5;124m\"\u001b[39m\n",
      "\u001b[1;31mNameError\u001b[0m: name 'Child' is not defined"
     ]
    }
   ],
   "source": [
    "# Now let's create some objects in child class first, inherited from the parent class!\n",
    "c1 = Child()\n",
    "\n",
    "c1.id = 1.1\n",
    "c1.name = \"Muhamamd Irsam\"\n",
    "c1.fatherName = \"Muhammad Faizan\"\n",
    "\n",
    "# now print the objects of child class.\n",
    "print(c1.id)\n",
    "print(c1.name)\n",
    "print(c1.fatherName)\n",
    "\n",
    "#Let's call speak method of parent class inherited to the child class. \n",
    "print(c1.speak())\n"
   ]
  },
  {
   "cell_type": "code",
   "execution_count": 16,
   "id": "94fe5c1b",
   "metadata": {},
   "outputs": [],
   "source": [
    "# study PEP8.com for checking the standards of python language!\n",
    "\n",
    "#Link:\n",
    "https://peps.python.org/pep-0008/"
   ]
  },
  {
   "cell_type": "code",
   "execution_count": null,
   "id": "6b4e786a",
   "metadata": {},
   "outputs": [],
   "source": []
  }
 ],
 "metadata": {
  "kernelspec": {
   "display_name": "Python 3 (ipykernel)",
   "language": "python",
   "name": "python3"
  },
  "language_info": {
   "codemirror_mode": {
    "name": "ipython",
    "version": 3
   },
   "file_extension": ".py",
   "mimetype": "text/x-python",
   "name": "python",
   "nbconvert_exporter": "python",
   "pygments_lexer": "ipython3",
   "version": "3.9.12"
  }
 },
 "nbformat": 4,
 "nbformat_minor": 5
}
