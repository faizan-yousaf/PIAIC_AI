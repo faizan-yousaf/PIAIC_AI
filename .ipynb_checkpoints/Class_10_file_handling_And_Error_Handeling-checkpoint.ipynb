{
 "cells": [
  {
   "cell_type": "markdown",
   "id": "c914a82b",
   "metadata": {},
   "source": [
    "#  Error handeling and file in Python!"
   ]
  },
  {
   "cell_type": "markdown",
   "id": "4fadd4d9",
   "metadata": {},
   "source": [
    "### map function"
   ]
  },
  {
   "cell_type": "code",
   "execution_count": 8,
   "id": "6c04fd07",
   "metadata": {},
   "outputs": [
    {
     "data": {
      "text/plain": [
       "[1, 2, 3, 4, 5]"
      ]
     },
     "execution_count": 8,
     "metadata": {},
     "output_type": "execute_result"
    }
   ],
   "source": [
    "list=[1,2,3,4,5]\n",
    "list"
   ]
  },
  {
   "cell_type": "code",
   "execution_count": 11,
   "id": "fce3e09b",
   "metadata": {
    "scrolled": true
   },
   "outputs": [
    {
     "ename": "TypeError",
     "evalue": "'list' object is not callable",
     "output_type": "error",
     "traceback": [
      "\u001b[1;31m---------------------------------------------------------------------------\u001b[0m",
      "\u001b[1;31mTypeError\u001b[0m                                 Traceback (most recent call last)",
      "Input \u001b[1;32mIn [11]\u001b[0m, in \u001b[0;36m<cell line: 3>\u001b[1;34m()\u001b[0m\n\u001b[0;32m      1\u001b[0m l \u001b[38;5;241m=\u001b[39m [\u001b[38;5;124m'\u001b[39m\u001b[38;5;124m1\u001b[39m\u001b[38;5;124m'\u001b[39m,\u001b[38;5;124m'\u001b[39m\u001b[38;5;124m2\u001b[39m\u001b[38;5;124m'\u001b[39m,\u001b[38;5;124m'\u001b[39m\u001b[38;5;124m3\u001b[39m\u001b[38;5;124m'\u001b[39m,\u001b[38;5;124m'\u001b[39m\u001b[38;5;124m4\u001b[39m\u001b[38;5;124m'\u001b[39m,\u001b[38;5;124m'\u001b[39m\u001b[38;5;124m5\u001b[39m\u001b[38;5;124m'\u001b[39m]\n\u001b[1;32m----> 3\u001b[0m \u001b[38;5;28;43mlist\u001b[39;49m\u001b[43m(\u001b[49m\u001b[38;5;28;43mmap\u001b[39;49m\u001b[43m(\u001b[49m\u001b[38;5;28;43;01mlambda\u001b[39;49;00m\u001b[43m \u001b[49m\u001b[43mx\u001b[49m\u001b[43m:\u001b[49m\u001b[43mx\u001b[49m\u001b[38;5;241;43m+\u001b[39;49m\u001b[38;5;241;43m2\u001b[39;49m\u001b[43m,\u001b[49m\u001b[43m \u001b[49m\u001b[43ml\u001b[49m\u001b[43m)\u001b[49m\u001b[43m)\u001b[49m\n",
      "\u001b[1;31mTypeError\u001b[0m: 'list' object is not callable"
     ]
    }
   ],
   "source": [
    "l = ['1','2','3','4','5']\n",
    "\n",
    "list(map(lambda x:x+2, l))"
   ]
  },
  {
   "cell_type": "markdown",
   "id": "d11f702e",
   "metadata": {},
   "source": [
    "## Compile time error:\n",
    "#### during code\n",
    "* it will occur at the time of execution"
   ]
  },
  {
   "cell_type": "markdown",
   "id": "24127b61",
   "metadata": {},
   "source": [
    "#### for example we make a list as :"
   ]
  },
  {
   "cell_type": "code",
   "execution_count": 13,
   "id": "bb99ea77",
   "metadata": {},
   "outputs": [
    {
     "ename": "IndexError",
     "evalue": "list index out of range",
     "output_type": "error",
     "traceback": [
      "\u001b[1;31m---------------------------------------------------------------------------\u001b[0m",
      "\u001b[1;31mIndexError\u001b[0m                                Traceback (most recent call last)",
      "Input \u001b[1;32mIn [13]\u001b[0m, in \u001b[0;36m<cell line: 3>\u001b[1;34m()\u001b[0m\n\u001b[0;32m      1\u001b[0m list1 \u001b[38;5;241m=\u001b[39m [\u001b[38;5;241m1\u001b[39m,\u001b[38;5;241m2\u001b[39m,\u001b[38;5;241m3\u001b[39m,\u001b[38;5;241m4\u001b[39m,\u001b[38;5;241m5\u001b[39m]\n\u001b[1;32m----> 3\u001b[0m \u001b[38;5;28mprint\u001b[39m(\u001b[43mlist1\u001b[49m\u001b[43m[\u001b[49m\u001b[38;5;241;43m7\u001b[39;49m\u001b[43m]\u001b[49m)\n",
      "\u001b[1;31mIndexError\u001b[0m: list index out of range"
     ]
    }
   ],
   "source": [
    "list1 = [1,2,3,4,5]\n",
    "\n",
    "print(list1[7])  #it will generate an error as there is no value at the index 7."
   ]
  },
  {
   "cell_type": "markdown",
   "id": "9c957f5b",
   "metadata": {},
   "source": [
    "## Logical error: \n",
    "#### due to poor logic of a programmer\n",
    "* it occurs when a programmer write some wrong logic during programming/coding"
   ]
  },
  {
   "cell_type": "code",
   "execution_count": 17,
   "id": "3c0d9f6a",
   "metadata": {},
   "outputs": [
    {
     "name": "stdout",
     "output_type": "stream",
     "text": [
      "4\n"
     ]
    }
   ],
   "source": [
    "def sum (x,y):\n",
    "    return x+x\n",
    "\n",
    "print(sum(2,54)) # in this example, the user have written wrong logic that's why the \n",
    "                #output is unexpected!"
   ]
  },
  {
   "cell_type": "markdown",
   "id": "a3d68a55",
   "metadata": {},
   "source": [
    "## Runtime Error:\n",
    "#### during production\n",
    "#### live production application error\n",
    "* it will occur when the code will run in the terminal"
   ]
  },
  {
   "cell_type": "code",
   "execution_count": null,
   "id": "df66e088",
   "metadata": {},
   "outputs": [],
   "source": []
  },
  {
   "cell_type": "markdown",
   "id": "b8237030",
   "metadata": {},
   "source": [
    "## these errors must be removed to avoid financial loss and other customer inconvinence!"
   ]
  },
  {
   "cell_type": "markdown",
   "id": "b6d4d6cc",
   "metadata": {},
   "source": [
    "# some types of errors:"
   ]
  },
  {
   "cell_type": "markdown",
   "id": "15b10f94",
   "metadata": {},
   "source": [
    "## NameError\n"
   ]
  },
  {
   "cell_type": "code",
   "execution_count": 19,
   "id": "a2695470",
   "metadata": {},
   "outputs": [
    {
     "name": "stdout",
     "output_type": "stream",
     "text": [
      "line 1\n",
      "line 2\n"
     ]
    },
    {
     "ename": "NameError",
     "evalue": "name 'abc' is not defined",
     "output_type": "error",
     "traceback": [
      "\u001b[1;31m---------------------------------------------------------------------------\u001b[0m",
      "\u001b[1;31mNameError\u001b[0m                                 Traceback (most recent call last)",
      "Input \u001b[1;32mIn [19]\u001b[0m, in \u001b[0;36m<cell line: 3>\u001b[1;34m()\u001b[0m\n\u001b[0;32m      1\u001b[0m \u001b[38;5;28mprint\u001b[39m(\u001b[38;5;124m\"\u001b[39m\u001b[38;5;124mline 1\u001b[39m\u001b[38;5;124m\"\u001b[39m)\n\u001b[0;32m      2\u001b[0m \u001b[38;5;28mprint\u001b[39m(\u001b[38;5;124m\"\u001b[39m\u001b[38;5;124mline 2\u001b[39m\u001b[38;5;124m\"\u001b[39m)\n\u001b[1;32m----> 3\u001b[0m \u001b[38;5;28mprint\u001b[39m(\u001b[43mabc\u001b[49m)\n\u001b[0;32m      4\u001b[0m \u001b[38;5;28mprint\u001b[39m(\u001b[38;5;124m\"\u001b[39m\u001b[38;5;124mline 4\u001b[39m\u001b[38;5;124m\"\u001b[39m)\n\u001b[0;32m      5\u001b[0m \u001b[38;5;28mprint\u001b[39m(\u001b[38;5;124m\"\u001b[39m\u001b[38;5;124mline 5\u001b[39m\u001b[38;5;124m\"\u001b[39m)\n",
      "\u001b[1;31mNameError\u001b[0m: name 'abc' is not defined"
     ]
    }
   ],
   "source": [
    "print(\"line 1\")\n",
    "print(\"line 2\")\n",
    "print(abc)\n",
    "print(\"line 4\")\n",
    "print(\"line 5\")"
   ]
  },
  {
   "cell_type": "markdown",
   "id": "957b16bf",
   "metadata": {},
   "source": [
    "## Type and operational error"
   ]
  },
  {
   "cell_type": "code",
   "execution_count": 20,
   "id": "0dbdb090",
   "metadata": {},
   "outputs": [
    {
     "ename": "TypeError",
     "evalue": "unsupported operand type(s) for +: 'int' and 'str'",
     "output_type": "error",
     "traceback": [
      "\u001b[1;31m---------------------------------------------------------------------------\u001b[0m",
      "\u001b[1;31mTypeError\u001b[0m                                 Traceback (most recent call last)",
      "Input \u001b[1;32mIn [20]\u001b[0m, in \u001b[0;36m<cell line: 1>\u001b[1;34m()\u001b[0m\n\u001b[1;32m----> 1\u001b[0m \u001b[38;5;241;43m2\u001b[39;49m\u001b[43m \u001b[49m\u001b[38;5;241;43m+\u001b[39;49m\u001b[43m \u001b[49m\u001b[38;5;124;43m\"\u001b[39;49m\u001b[38;5;124;43mpakistan\u001b[39;49m\u001b[38;5;124;43m\"\u001b[39;49m\n",
      "\u001b[1;31mTypeError\u001b[0m: unsupported operand type(s) for +: 'int' and 'str'"
     ]
    }
   ],
   "source": [
    "2 + \"pakistan\""
   ]
  },
  {
   "cell_type": "markdown",
   "id": "aa688ee4",
   "metadata": {},
   "source": [
    "## Zero Division Error "
   ]
  },
  {
   "cell_type": "code",
   "execution_count": 26,
   "id": "8375ba49",
   "metadata": {},
   "outputs": [
    {
     "ename": "ZeroDivisionError",
     "evalue": "division by zero",
     "output_type": "error",
     "traceback": [
      "\u001b[1;31m---------------------------------------------------------------------------\u001b[0m",
      "\u001b[1;31mZeroDivisionError\u001b[0m                         Traceback (most recent call last)",
      "Input \u001b[1;32mIn [26]\u001b[0m, in \u001b[0;36m<cell line: 3>\u001b[1;34m()\u001b[0m\n\u001b[0;32m      1\u001b[0m a \u001b[38;5;241m=\u001b[39m\u001b[38;5;241m2\u001b[39m\n\u001b[0;32m      2\u001b[0m b\u001b[38;5;241m=\u001b[39m\u001b[38;5;241m0\u001b[39m\n\u001b[1;32m----> 3\u001b[0m \u001b[38;5;28mprint\u001b[39m(\u001b[43ma\u001b[49m\u001b[38;5;241;43m/\u001b[39;49m\u001b[43mb\u001b[49m)\n",
      "\u001b[1;31mZeroDivisionError\u001b[0m: division by zero"
     ]
    }
   ],
   "source": [
    "\n",
    "a =2\n",
    "b=0\n",
    "print(a/b)"
   ]
  },
  {
   "cell_type": "markdown",
   "id": "558eed31",
   "metadata": {},
   "source": [
    "## value error "
   ]
  },
  {
   "cell_type": "code",
   "execution_count": 27,
   "id": "a2c55b60",
   "metadata": {},
   "outputs": [
    {
     "ename": "ValueError",
     "evalue": "invalid literal for int() with base 10: '7.2'",
     "output_type": "error",
     "traceback": [
      "\u001b[1;31m---------------------------------------------------------------------------\u001b[0m",
      "\u001b[1;31mValueError\u001b[0m                                Traceback (most recent call last)",
      "Input \u001b[1;32mIn [27]\u001b[0m, in \u001b[0;36m<cell line: 1>\u001b[1;34m()\u001b[0m\n\u001b[1;32m----> 1\u001b[0m \u001b[38;5;28;43mint\u001b[39;49m\u001b[43m \u001b[49m\u001b[43m(\u001b[49m\u001b[38;5;124;43m\"\u001b[39;49m\u001b[38;5;124;43m7.2\u001b[39;49m\u001b[38;5;124;43m\"\u001b[39;49m\u001b[43m)\u001b[49m\n",
      "\u001b[1;31mValueError\u001b[0m: invalid literal for int() with base 10: '7.2'"
     ]
    }
   ],
   "source": [
    "int (\"7.2\")  #we cannot convert string to float or int."
   ]
  },
  {
   "cell_type": "code",
   "execution_count": 28,
   "id": "7d690a0d",
   "metadata": {},
   "outputs": [
    {
     "data": {
      "text/plain": [
       "7"
      ]
     },
     "execution_count": 28,
     "metadata": {},
     "output_type": "execute_result"
    }
   ],
   "source": [
    "int(7.2) #we can convert float to int."
   ]
  },
  {
   "cell_type": "code",
   "execution_count": 29,
   "id": "8796ea26",
   "metadata": {},
   "outputs": [
    {
     "data": {
      "text/plain": [
       "10.0"
      ]
     },
     "execution_count": 29,
     "metadata": {},
     "output_type": "execute_result"
    }
   ],
   "source": [
    "float (10)  # we can convert int to float."
   ]
  },
  {
   "cell_type": "markdown",
   "id": "86863d6e",
   "metadata": {},
   "source": [
    "### we can convert string into float and then convert float into strings"
   ]
  },
  {
   "cell_type": "code",
   "execution_count": 31,
   "id": "7b8cee94",
   "metadata": {},
   "outputs": [
    {
     "data": {
      "text/plain": [
       "7"
      ]
     },
     "execution_count": 31,
     "metadata": {},
     "output_type": "execute_result"
    }
   ],
   "source": [
    "int(float(\"7.22\")) # first the floating string is converted into float and then it is converted\n",
    "                    #into int."
   ]
  },
  {
   "cell_type": "markdown",
   "id": "bcdd07cd",
   "metadata": {},
   "source": [
    "## FileNotFound error "
   ]
  },
  {
   "cell_type": "code",
   "execution_count": 33,
   "id": "4193d55d",
   "metadata": {},
   "outputs": [
    {
     "ename": "NameError",
     "evalue": "name 'faizan' is not defined",
     "output_type": "error",
     "traceback": [
      "\u001b[1;31m---------------------------------------------------------------------------\u001b[0m",
      "\u001b[1;31mNameError\u001b[0m                                 Traceback (most recent call last)",
      "Input \u001b[1;32mIn [33]\u001b[0m, in \u001b[0;36m<cell line: 1>\u001b[1;34m()\u001b[0m\n\u001b[1;32m----> 1\u001b[0m \u001b[38;5;28mopen\u001b[39m (\u001b[43mfaizan\u001b[49m\u001b[38;5;241m.\u001b[39mtxt)\n",
      "\u001b[1;31mNameError\u001b[0m: name 'faizan' is not defined"
     ]
    }
   ],
   "source": [
    "open (faizan.txt)"
   ]
  },
  {
   "cell_type": "markdown",
   "id": "09ae1e14",
   "metadata": {},
   "source": [
    "## IndexError "
   ]
  },
  {
   "cell_type": "code",
   "execution_count": 34,
   "id": "d1606335",
   "metadata": {},
   "outputs": [
    {
     "ename": "IndexError",
     "evalue": "list index out of range",
     "output_type": "error",
     "traceback": [
      "\u001b[1;31m---------------------------------------------------------------------------\u001b[0m",
      "\u001b[1;31mIndexError\u001b[0m                                Traceback (most recent call last)",
      "Input \u001b[1;32mIn [34]\u001b[0m, in \u001b[0;36m<cell line: 3>\u001b[1;34m()\u001b[0m\n\u001b[0;32m      1\u001b[0m list8 \u001b[38;5;241m=\u001b[39m[\u001b[38;5;241m1\u001b[39m,\u001b[38;5;241m2\u001b[39m,\u001b[38;5;241m3\u001b[39m,\u001b[38;5;241m4\u001b[39m,\u001b[38;5;241m5\u001b[39m]\n\u001b[1;32m----> 3\u001b[0m \u001b[43mlist8\u001b[49m\u001b[43m[\u001b[49m\u001b[38;5;241;43m10\u001b[39;49m\u001b[43m]\u001b[49m\n",
      "\u001b[1;31mIndexError\u001b[0m: list index out of range"
     ]
    }
   ],
   "source": [
    "list8 =[1,2,3,4,5]\n",
    "\n",
    "list8[10]  # trying to access an index value which never existed in that list or variable."
   ]
  },
  {
   "cell_type": "markdown",
   "id": "115968c9",
   "metadata": {},
   "source": [
    "## tuple errors:"
   ]
  },
  {
   "cell_type": "markdown",
   "id": "6e637ac5",
   "metadata": {},
   "source": [
    "### TypeError"
   ]
  },
  {
   "cell_type": "code",
   "execution_count": 35,
   "id": "7d12590e",
   "metadata": {
    "scrolled": true
   },
   "outputs": [
    {
     "ename": "TypeError",
     "evalue": "unsupported operand type(s) for +: 'int' and 'tuple'",
     "output_type": "error",
     "traceback": [
      "\u001b[1;31m---------------------------------------------------------------------------\u001b[0m",
      "\u001b[1;31mTypeError\u001b[0m                                 Traceback (most recent call last)",
      "Input \u001b[1;32mIn [35]\u001b[0m, in \u001b[0;36m<cell line: 1>\u001b[1;34m()\u001b[0m\n\u001b[1;32m----> 1\u001b[0m \u001b[38;5;241;43m2\u001b[39;49m\u001b[43m \u001b[49m\u001b[38;5;241;43m+\u001b[39;49m\u001b[43m \u001b[49m\u001b[43m(\u001b[49m\u001b[38;5;241;43m2\u001b[39;49m\u001b[43m,\u001b[49m\u001b[38;5;241;43m3\u001b[39;49m\u001b[43m,\u001b[49m\u001b[38;5;241;43m4\u001b[39;49m\u001b[43m,\u001b[49m\u001b[38;5;241;43m5\u001b[39;49m\u001b[43m)\u001b[49m\n",
      "\u001b[1;31mTypeError\u001b[0m: unsupported operand type(s) for +: 'int' and 'tuple'"
     ]
    }
   ],
   "source": [
    "2 + (2,3,4,5)"
   ]
  },
  {
   "cell_type": "code",
   "execution_count": 36,
   "id": "73726beb",
   "metadata": {},
   "outputs": [
    {
     "data": {
      "text/plain": [
       "1"
      ]
     },
     "execution_count": 36,
     "metadata": {},
     "output_type": "execute_result"
    }
   ],
   "source": [
    "a = (1,2,3,4,5,6)\n",
    "\n",
    "a[0]"
   ]
  },
  {
   "cell_type": "code",
   "execution_count": 39,
   "id": "5c1297fb",
   "metadata": {},
   "outputs": [
    {
     "ename": "TypeError",
     "evalue": "'tuple' object does not support item assignment",
     "output_type": "error",
     "traceback": [
      "\u001b[1;31m---------------------------------------------------------------------------\u001b[0m",
      "\u001b[1;31mTypeError\u001b[0m                                 Traceback (most recent call last)",
      "Input \u001b[1;32mIn [39]\u001b[0m, in \u001b[0;36m<cell line: 1>\u001b[1;34m()\u001b[0m\n\u001b[1;32m----> 1\u001b[0m a[\u001b[38;5;241m0\u001b[39m]\u001b[38;5;241m=\u001b[39m\u001b[38;5;241m10\u001b[39m\n",
      "\u001b[1;31mTypeError\u001b[0m: 'tuple' object does not support item assignment"
     ]
    }
   ],
   "source": [
    "a[0]=10"
   ]
  },
  {
   "cell_type": "code",
   "execution_count": 42,
   "id": "8c3adec9",
   "metadata": {},
   "outputs": [
    {
     "ename": "IndexError",
     "evalue": "tuple index out of range",
     "output_type": "error",
     "traceback": [
      "\u001b[1;31m---------------------------------------------------------------------------\u001b[0m",
      "\u001b[1;31mIndexError\u001b[0m                                Traceback (most recent call last)",
      "Input \u001b[1;32mIn [42]\u001b[0m, in \u001b[0;36m<cell line: 3>\u001b[1;34m()\u001b[0m\n\u001b[0;32m      1\u001b[0m b\u001b[38;5;241m=\u001b[39m (\u001b[38;5;241m1\u001b[39m,\u001b[38;5;241m2\u001b[39m,\u001b[38;5;241m3\u001b[39m,\u001b[38;5;241m4\u001b[39m,\u001b[38;5;241m5\u001b[39m,\u001b[38;5;241m6\u001b[39m,\u001b[38;5;241m7\u001b[39m,\u001b[38;5;241m8\u001b[39m)\n\u001b[0;32m      2\u001b[0m c \u001b[38;5;241m=\u001b[39m(\u001b[38;5;241m2\u001b[39m,\u001b[38;5;241m3\u001b[39m,\u001b[38;5;241m4\u001b[39m,\u001b[38;5;241m5\u001b[39m)\n\u001b[1;32m----> 3\u001b[0m \u001b[43mb\u001b[49m\u001b[43m[\u001b[49m\u001b[38;5;241;43m10\u001b[39;49m\u001b[43m]\u001b[49m\n",
      "\u001b[1;31mIndexError\u001b[0m: tuple index out of range"
     ]
    }
   ],
   "source": [
    "b= (1,2,3,4,5,6,7,8)\n",
    "c =(2,3,4,5)\n",
    "b[10]"
   ]
  },
  {
   "cell_type": "code",
   "execution_count": 43,
   "id": "7a85baaa",
   "metadata": {},
   "outputs": [
    {
     "data": {
      "text/plain": [
       "(1, 2, 3, 4, 5, 6, 7, 8, 2, 3, 4, 5)"
      ]
     },
     "execution_count": 43,
     "metadata": {},
     "output_type": "execute_result"
    }
   ],
   "source": [
    "b + c  #it will only add the values of another tuple in the end of the first one."
   ]
  },
  {
   "cell_type": "markdown",
   "id": "63a60e44",
   "metadata": {},
   "source": [
    "## dictionary errors"
   ]
  },
  {
   "cell_type": "code",
   "execution_count": 47,
   "id": "fc151508",
   "metadata": {},
   "outputs": [
    {
     "data": {
      "text/plain": [
       "{'name': 'Faizan', 'degree': 'BS CS', 'university': 'UAF'}"
      ]
     },
     "execution_count": 47,
     "metadata": {},
     "output_type": "execute_result"
    }
   ],
   "source": [
    "d1 = {\"name\": 'Faizan',\n",
    "     \"degree\": \"BS CS\",\n",
    "     \"university\": \"UAF\"}\n",
    "d1"
   ]
  },
  {
   "cell_type": "code",
   "execution_count": 51,
   "id": "0b7211a5",
   "metadata": {},
   "outputs": [
    {
     "name": "stdout",
     "output_type": "stream",
     "text": [
      "dict_keys(['name', 'degree', 'university'])\n"
     ]
    }
   ],
   "source": [
    "print(d1.keys())"
   ]
  },
  {
   "cell_type": "code",
   "execution_count": 52,
   "id": "2b544d15",
   "metadata": {
    "scrolled": true
   },
   "outputs": [
    {
     "name": "stdout",
     "output_type": "stream",
     "text": [
      "dict_values(['Faizan', 'BS CS', 'UAF'])\n"
     ]
    }
   ],
   "source": [
    "print(d1.values())"
   ]
  },
  {
   "cell_type": "code",
   "execution_count": 58,
   "id": "410860fd",
   "metadata": {},
   "outputs": [
    {
     "ename": "NameError",
     "evalue": "name 'name' is not defined",
     "output_type": "error",
     "traceback": [
      "\u001b[1;31m---------------------------------------------------------------------------\u001b[0m",
      "\u001b[1;31mNameError\u001b[0m                                 Traceback (most recent call last)",
      "Input \u001b[1;32mIn [58]\u001b[0m, in \u001b[0;36m<cell line: 1>\u001b[1;34m()\u001b[0m\n\u001b[1;32m----> 1\u001b[0m d1[\u001b[43mname\u001b[49m]\n",
      "\u001b[1;31mNameError\u001b[0m: name 'name' is not defined"
     ]
    }
   ],
   "source": [
    "d1[name]"
   ]
  },
  {
   "cell_type": "code",
   "execution_count": 57,
   "id": "d69c25cc",
   "metadata": {},
   "outputs": [
    {
     "data": {
      "text/plain": [
       "'BS CS'"
      ]
     },
     "execution_count": 57,
     "metadata": {},
     "output_type": "execute_result"
    }
   ],
   "source": [
    "d1[\"degree\"]  #we have to write the key name in \" \" double quotations to get the values of that key."
   ]
  },
  {
   "cell_type": "markdown",
   "id": "e3acae84",
   "metadata": {},
   "source": [
    "### But if we call a key which doesn't even exist in that dictionary, it will surely generate an error.\n",
    "\n"
   ]
  },
  {
   "cell_type": "code",
   "execution_count": 53,
   "id": "42132db2",
   "metadata": {},
   "outputs": [
    {
     "ename": "KeyError",
     "evalue": "'education'",
     "output_type": "error",
     "traceback": [
      "\u001b[1;31m---------------------------------------------------------------------------\u001b[0m",
      "\u001b[1;31mKeyError\u001b[0m                                  Traceback (most recent call last)",
      "Input \u001b[1;32mIn [53]\u001b[0m, in \u001b[0;36m<cell line: 1>\u001b[1;34m()\u001b[0m\n\u001b[1;32m----> 1\u001b[0m \u001b[43md1\u001b[49m\u001b[43m[\u001b[49m\u001b[38;5;124;43m\"\u001b[39;49m\u001b[38;5;124;43meducation\u001b[39;49m\u001b[38;5;124;43m\"\u001b[39;49m\u001b[43m]\u001b[49m\n",
      "\u001b[1;31mKeyError\u001b[0m: 'education'"
     ]
    }
   ],
   "source": [
    "d1[\"education\"]"
   ]
  },
  {
   "cell_type": "markdown",
   "id": "31cd0c74",
   "metadata": {},
   "source": [
    "## compile and exec\n",
    "* compile()\n",
    "    * source file, \"file name\" , \"mode\" (i.e exec) \n",
    "    "
   ]
  },
  {
   "cell_type": "code",
   "execution_count": 2,
   "id": "7aef4e85",
   "metadata": {},
   "outputs": [
    {
     "name": "stdout",
     "output_type": "stream",
     "text": [
      "6\n"
     ]
    }
   ],
   "source": [
    "a = \"\"\"    \n",
    "a=2\n",
    "b=4\n",
    "print(a+b)\n",
    "\"\"\"\n",
    "b= compile(a,\"aa\", \"exec\")   #in this way we can write code within \"\" double quotations and the compile\n",
    "                            #will save the code in binary and the next time it will be executed fast. \n",
    "exec(b)"
   ]
  },
  {
   "cell_type": "code",
   "execution_count": null,
   "id": "54d75d52",
   "metadata": {},
   "outputs": [],
   "source": [
    "#In the above cell we have seen compile and exec functions....\n",
    "# in compile function () we have to write the source file name, then \"the name we want to assign that file\", and \n",
    "# the mode means the what we want to do with that function....here we executed that file."
   ]
  },
  {
   "cell_type": "code",
   "execution_count": 5,
   "id": "c3744d97",
   "metadata": {},
   "outputs": [
    {
     "ename": "TypeError",
     "evalue": "unsupported operand type(s) for +: 'int' and 'str'",
     "output_type": "error",
     "traceback": [
      "\u001b[1;31m---------------------------------------------------------------------------\u001b[0m",
      "\u001b[1;31mTypeError\u001b[0m                                 Traceback (most recent call last)",
      "Input \u001b[1;32mIn [5]\u001b[0m, in \u001b[0;36m<cell line: 7>\u001b[1;34m()\u001b[0m\n\u001b[0;32m      1\u001b[0m code_a \u001b[38;5;241m=\u001b[39m \u001b[38;5;124m\"\"\"\u001b[39m\n\u001b[0;32m      2\u001b[0m \u001b[38;5;124ma=2\u001b[39m\n\u001b[0;32m      3\u001b[0m \u001b[38;5;124mb=\u001b[39m\u001b[38;5;124m\"\u001b[39m\u001b[38;5;124mA\u001b[39m\u001b[38;5;124m\"\u001b[39m\n\u001b[0;32m      4\u001b[0m \u001b[38;5;124mprint(a+b)\u001b[39m\n\u001b[0;32m      5\u001b[0m \u001b[38;5;124m\"\"\"\u001b[39m\n\u001b[0;32m      6\u001b[0m code \u001b[38;5;241m=\u001b[39m \u001b[38;5;28mcompile\u001b[39m(code_a,\u001b[38;5;124m\"\u001b[39m\u001b[38;5;124maa\u001b[39m\u001b[38;5;124m\"\u001b[39m, \u001b[38;5;124m\"\u001b[39m\u001b[38;5;124mexec\u001b[39m\u001b[38;5;124m\"\u001b[39m)\n\u001b[1;32m----> 7\u001b[0m \u001b[43mexec\u001b[49m\u001b[43m(\u001b[49m\u001b[43mcode\u001b[49m\u001b[43m)\u001b[49m\n",
      "File \u001b[1;32maa:4\u001b[0m, in \u001b[0;36m<module>\u001b[1;34m\u001b[0m\n",
      "\u001b[1;31mTypeError\u001b[0m: unsupported operand type(s) for +: 'int' and 'str'"
     ]
    }
   ],
   "source": [
    "code_a = \"\"\"\n",
    "a=2\n",
    "b=\"A\"\n",
    "print(a+b)\n",
    "\"\"\"\n",
    "code = compile(code_a,\"aa\", \"exec\")\n",
    "exec(code)"
   ]
  },
  {
   "cell_type": "markdown",
   "id": "4e6a04a2",
   "metadata": {},
   "source": [
    "## How to deal with run time error?\n",
    "\n",
    "```\n",
    "try:\n",
    "    statement\n",
    "    # write statement where there are error chances\n",
    "except (ErrorClassName,e2,e3,e4,....):\n",
    "    run if an error occurs in the above statement.\n",
    "else:\n",
    "    run if an error occurs in the above statement.\n",
    "finally:\n",
    "    always run\n",
    "    \n",
    "    \n",
    "\n",
    "```"
   ]
  },
  {
   "cell_type": "code",
   "execution_count": 9,
   "id": "cff1ed41",
   "metadata": {},
   "outputs": [
    {
     "name": "stdout",
     "output_type": "stream",
     "text": [
      "starting line\n"
     ]
    },
    {
     "ename": "ZeroDivisionError",
     "evalue": "division by zero",
     "output_type": "error",
     "traceback": [
      "\u001b[1;31m---------------------------------------------------------------------------\u001b[0m",
      "\u001b[1;31mZeroDivisionError\u001b[0m                         Traceback (most recent call last)",
      "Input \u001b[1;32mIn [9]\u001b[0m, in \u001b[0;36m<cell line: 4>\u001b[1;34m()\u001b[0m\n\u001b[0;32m      2\u001b[0m a \u001b[38;5;241m=\u001b[39m\u001b[38;5;241m21\u001b[39m\n\u001b[0;32m      3\u001b[0m b\u001b[38;5;241m=\u001b[39m\u001b[38;5;241m0\u001b[39m\n\u001b[1;32m----> 4\u001b[0m \u001b[38;5;28mprint\u001b[39m(\u001b[43ma\u001b[49m\u001b[38;5;241;43m/\u001b[39;49m\u001b[43mb\u001b[49m)\n\u001b[0;32m      5\u001b[0m \u001b[38;5;28mprint\u001b[39m(\u001b[38;5;124m\"\u001b[39m\u001b[38;5;124mEnding line\u001b[39m\u001b[38;5;124m\"\u001b[39m)\n",
      "\u001b[1;31mZeroDivisionError\u001b[0m: division by zero"
     ]
    }
   ],
   "source": [
    "print(\"starting line\")\n",
    "a =21\n",
    "b=0\n",
    "print(a/b)\n",
    "print(\"Ending line\")"
   ]
  },
  {
   "cell_type": "markdown",
   "id": "18f839fb",
   "metadata": {},
   "source": [
    "## let's see how we can handle runtime errors."
   ]
  },
  {
   "cell_type": "code",
   "execution_count": 6,
   "id": "b8f74356",
   "metadata": {},
   "outputs": [
    {
     "name": "stdout",
     "output_type": "stream",
     "text": [
      "starting line\n",
      "try to divide with a number other than zero '0' \n",
      "Ending line\n"
     ]
    }
   ],
   "source": [
    "print(\"starting line\")\n",
    "a =21\n",
    "b=0\n",
    "\n",
    "try:\n",
    "    print(a/b)\n",
    "except(ZeroDivisionError):\n",
    "    print(\"try to divide with a number other than zero '0' \")\n",
    "    \n",
    "print(\"Ending line\")\n",
    "    "
   ]
  },
  {
   "cell_type": "code",
   "execution_count": 7,
   "id": "99613ea3",
   "metadata": {},
   "outputs": [
    {
     "name": "stdout",
     "output_type": "stream",
     "text": [
      "starting line\n",
      "10.5\n",
      "Ending line\n"
     ]
    }
   ],
   "source": [
    "print(\"starting line\")\n",
    "a =21\n",
    "b=2\n",
    "\n",
    "try:\n",
    "    print(a/b)\n",
    "except(ZeroDivisionError):\n",
    "    print(\"try to divide with a number other than zero '0' \")\n",
    "    \n",
    "print(\"Ending line\")\n",
    "    "
   ]
  },
  {
   "cell_type": "code",
   "execution_count": 14,
   "id": "b5746638",
   "metadata": {},
   "outputs": [
    {
     "ename": "IndentationError",
     "evalue": "expected an indented block (2757761300.py, line 10)",
     "output_type": "error",
     "traceback": [
      "\u001b[1;36m  Input \u001b[1;32mIn [14]\u001b[1;36m\u001b[0m\n\u001b[1;33m    except(ZeroDivisionError, IndexError , FileNotFoundError):\u001b[0m\n\u001b[1;37m    ^\u001b[0m\n\u001b[1;31mIndentationError\u001b[0m\u001b[1;31m:\u001b[0m expected an indented block\n"
     ]
    }
   ],
   "source": [
    "print(\"start\")\n",
    "a = 13\n",
    "b = 0\n",
    "l1 = [1,2,3,4,5]\n",
    "\n",
    "try:\n",
    "    print(a/b)\n",
    "    print(l1[7])\n",
    "    open (\"abc.txt\")\n",
    "except(ZeroDivisionError, IndexError , FileNotFoundError):\n",
    "    print(\"there is something wrong with your instructions!\")\n",
    "    \n",
    "print(\"End\")\n",
    "      "
   ]
  },
  {
   "cell_type": "markdown",
   "id": "0d332cbc",
   "metadata": {},
   "source": [
    "## when we use a single try except block and write all the statements in it, it's difficult to know what was the actual error !\n",
    "\n",
    " * to prevent this , we can use try except block for each case:"
   ]
  },
  {
   "cell_type": "code",
   "execution_count": 20,
   "id": "941f926a",
   "metadata": {},
   "outputs": [
    {
     "name": "stdout",
     "output_type": "stream",
     "text": [
      "start\n",
      "You have divided the number with a zero!\n",
      "Index not found\n",
      "Path not found\n",
      "end\n"
     ]
    }
   ],
   "source": [
    "print(\"start\")\n",
    "a = 21\n",
    "b = 0\n",
    "l1 = [1,2,3,4,5]\n",
    "\n",
    "try:\n",
    "    print(a/b)\n",
    "except (ZeroDivisionError):\n",
    "    print(\"You have divided the number with a zero!\")\n",
    "\n",
    "try:\n",
    "    print(l1[8])\n",
    "except (IndexError):\n",
    "    print(\"Index not found\")\n",
    "\n",
    "try :\n",
    "    open(\"abc.txt\")\n",
    "except (FileNotFoundError):\n",
    "    print(\"Path not found\")\n",
    "    \n",
    "print(\"end\")"
   ]
  },
  {
   "cell_type": "code",
   "execution_count": 21,
   "id": "ee42dc47",
   "metadata": {},
   "outputs": [
    {
     "name": "stdout",
     "output_type": "stream",
     "text": [
      "start\n",
      "there is something wrong with your instructions!\n",
      "End\n"
     ]
    }
   ],
   "source": [
    "print(\"start\")\n",
    "a = 13\n",
    "b = 0\n",
    "l1 = [1,2,3,4,5]\n",
    "\n",
    "try:\n",
    "    print(a/b)\n",
    "    print(l1[7])\n",
    "    open (\"abc.txt\")\n",
    "except :\n",
    "    print(\"there is something wrong with your instructions!\")\n",
    "    \n",
    "print(\"End\")\n",
    "      "
   ]
  },
  {
   "cell_type": "markdown",
   "id": "7b0244c4",
   "metadata": {},
   "source": [
    "# Dynamic Run time error:\n",
    "\n",
    "* dynamic error handeling with custom message.....\n",
    "* Use of \"Exception\" to generate messages!"
   ]
  },
  {
   "cell_type": "code",
   "execution_count": 26,
   "id": "7f58180a",
   "metadata": {},
   "outputs": [
    {
     "name": "stdout",
     "output_type": "stream",
     "text": [
      "start\n",
      "something wrong! division by zero\n",
      "End\n"
     ]
    }
   ],
   "source": [
    "print(\"start\")\n",
    "a = 13\n",
    "b = 0\n",
    "l1 = [1,2,3,4,5]\n",
    "\n",
    "try:\n",
    "    print(a/b)\n",
    "#     print(l1[7])\n",
    "#     open (\"abc.txt\")\n",
    "except Exception as e:  #Exception is a parent class which has all the instructions about errors!\n",
    "    print(\"something wrong!\",e)\n",
    "    \n",
    "print(\"End\")\n",
    "      "
   ]
  },
  {
   "cell_type": "code",
   "execution_count": 27,
   "id": "4e21dc21",
   "metadata": {},
   "outputs": [
    {
     "name": "stdout",
     "output_type": "stream",
     "text": [
      "start\n",
      "something wrong! list index out of range\n",
      "End\n"
     ]
    }
   ],
   "source": [
    "print(\"start\")\n",
    "a = 13\n",
    "b = 0\n",
    "l1 = [1,2,3,4,5]\n",
    "\n",
    "try:\n",
    "#     print(a/b)\n",
    "    print(l1[7])\n",
    "#     open (\"abc.txt\")\n",
    "except Exception as e:  #Exception is a parent class which has all the instructions about errors!\n",
    "    print(\"something wrong!\",e)\n",
    "    \n",
    "print(\"End\")\n",
    "      "
   ]
  },
  {
   "cell_type": "code",
   "execution_count": 28,
   "id": "3555f6b3",
   "metadata": {},
   "outputs": [
    {
     "name": "stdout",
     "output_type": "stream",
     "text": [
      "start\n",
      "something wrong! [Errno 2] No such file or directory: 'abc.txt'\n",
      "End\n"
     ]
    }
   ],
   "source": [
    "print(\"start\")\n",
    "a = 13\n",
    "# b = 0\n",
    "l1 = [1,2,3,4,5]\n",
    "\n",
    "try:\n",
    "#     print(a/b)\n",
    "#     print(l1[7])\n",
    "    open (\"abc.txt\")\n",
    "except Exception as e:  #Exception is a parent class which has all the instructions about errors!\n",
    "    print(\"something wrong!\",e)  \n",
    "\n",
    "#we have to call the nickname for Exception class in the print() of #except block!\n",
    "    \n",
    "print(\"End\")\n",
    "#       "
   ]
  },
  {
   "cell_type": "code",
   "execution_count": 31,
   "id": "2c4d4428",
   "metadata": {},
   "outputs": [
    {
     "ename": "FileNotFoundError",
     "evalue": "[Errno 2] No such file or directory: 'abc.txt'",
     "output_type": "error",
     "traceback": [
      "\u001b[1;31m---------------------------------------------------------------------------\u001b[0m",
      "\u001b[1;31mFileNotFoundError\u001b[0m                         Traceback (most recent call last)",
      "Input \u001b[1;32mIn [31]\u001b[0m, in \u001b[0;36m<cell line: 1>\u001b[1;34m()\u001b[0m\n\u001b[1;32m----> 1\u001b[0m \u001b[38;5;28;43mopen\u001b[39;49m\u001b[43m(\u001b[49m\u001b[38;5;124;43m\"\u001b[39;49m\u001b[38;5;124;43mabc.txt\u001b[39;49m\u001b[38;5;124;43m\"\u001b[39;49m\u001b[43m)\u001b[49m\n",
      "\u001b[1;31mFileNotFoundError\u001b[0m: [Errno 2] No such file or directory: 'abc.txt'"
     ]
    }
   ],
   "source": [
    "open(\"abc.txt\")   #: [Errno 2] No such file or directory: 'abc.txt'"
   ]
  },
  {
   "cell_type": "code",
   "execution_count": 37,
   "id": "25e97441",
   "metadata": {},
   "outputs": [
    {
     "name": "stdout",
     "output_type": "stream",
     "text": [
      "start\n",
      "something is wrong! division by zero\n",
      "something is wrong! list index out of range\n",
      "something is wrong! [Errno 2] No such file or directory: 'abc.txt'\n",
      "end\n"
     ]
    }
   ],
   "source": [
    "print(\"start\")\n",
    "a = 21\n",
    "b = 0\n",
    "l1 = [1,2,3,4,5]\n",
    "\n",
    "try:\n",
    "    print(a/b)\n",
    "except Exception as e:\n",
    "    print(\"something is wrong!\",e)\n",
    "\n",
    "try:\n",
    "    print(l1[8])\n",
    "except Exception as f:\n",
    "    print(\"something is wrong!\",f)\n",
    "\n",
    "try :\n",
    "    open(\"abc.txt\")\n",
    "except Exception as g:\n",
    "    print(\"something is wrong!\",g)\n",
    "    \n",
    "print(\"end\")"
   ]
  },
  {
   "cell_type": "code",
   "execution_count": 39,
   "id": "2f044df4",
   "metadata": {},
   "outputs": [
    {
     "name": "stdout",
     "output_type": "stream",
     "text": [
      "start\n",
      "something is wrong! division by zero\n",
      "list index out of range\n",
      "something is wrong! [Errno 2] No such file or directory: 'abc.txt'\n",
      "end\n"
     ]
    }
   ],
   "source": [
    "print(\"start\")\n",
    "a = 21\n",
    "b = 0\n",
    "l1 = [1,2,3,4,5]\n",
    "\n",
    "try:\n",
    "    print(a/b)\n",
    "except Exception as e:\n",
    "    print(\"something is wrong!\",e)\n",
    "\n",
    "try:\n",
    "    print(l1[8])\n",
    "except Exception as e:\n",
    "    print(\"something is wrong!\",e)\n",
    "\n",
    "try :\n",
    "    open(\"abc.txt\")\n",
    "except Exception as e:\n",
    "    print(\"something is wrong!\",e)\n",
    "    \n",
    "print(\"end\")"
   ]
  },
  {
   "cell_type": "code",
   "execution_count": 42,
   "id": "0eacd005",
   "metadata": {},
   "outputs": [
    {
     "name": "stdout",
     "output_type": "stream",
     "text": [
      "start\n",
      "10.5\n",
      "the task was done successfully! \n",
      "end\n"
     ]
    }
   ],
   "source": [
    "print(\"start\")\n",
    "a = 21\n",
    "b = 2\n",
    "l1 = [1,2,3,4,5]\n",
    "\n",
    "try:\n",
    "    print(a/b)\n",
    "except Exception as e:\n",
    "    print(\"something is wrong!\",e)   #it will run when the error will occur.\n",
    "else:\n",
    "    print(\"the task was done successfully! \")  #it will run only when the error will not occur.\n",
    "    \n",
    "# try:\n",
    "#     print(l1[8])\n",
    "# except Exception as e:\n",
    "#     print(\"something is wrong!\",e)\n",
    "\n",
    "# try :\n",
    "#     open(\"abc.txt\")\n",
    "# except Exception as e:\n",
    "#     print(\"something is wrong!\",e)\n",
    "\n",
    "    \n",
    "print(\"end\")"
   ]
  },
  {
   "cell_type": "markdown",
   "id": "567f7187",
   "metadata": {},
   "source": [
    "## finally : \n",
    "* it will always run! "
   ]
  },
  {
   "cell_type": "code",
   "execution_count": 43,
   "id": "c8b4e4e6",
   "metadata": {},
   "outputs": [
    {
     "name": "stdout",
     "output_type": "stream",
     "text": [
      "start\n",
      "something is wrong! division by zero\n",
      "Always run!\n",
      "end\n"
     ]
    }
   ],
   "source": [
    " print(\"start\")\n",
    "a = 21\n",
    "b = 0     #there is a error!\n",
    "l1 = [1,2,3,4,5]\n",
    "\n",
    "try:\n",
    "    print(a/b)\n",
    "except Exception as e:\n",
    "    print(\"something is wrong!\",e)\n",
    "else:\n",
    "    print(\"the task was done successfully! \")  #it will run only when the error will not occur.\n",
    "finally:\n",
    "    print(\"Always run!\")\n",
    "\n",
    "\n",
    "    \n",
    "print(\"end\")"
   ]
  },
  {
   "cell_type": "code",
   "execution_count": 44,
   "id": "88da1c56",
   "metadata": {},
   "outputs": [
    {
     "name": "stdout",
     "output_type": "stream",
     "text": [
      "start\n",
      "10.5\n",
      "the task was done successfully! \n",
      "Always run!\n",
      "end\n"
     ]
    }
   ],
   "source": [
    " print(\"start\")\n",
    "a = 21\n",
    "b = 2     #there is no a error!\n",
    "l1 = [1,2,3,4,5]\n",
    "\n",
    "try:\n",
    "    print(a/b)\n",
    "except Exception as e:\n",
    "    print(\"something is wrong!\",e)\n",
    "else:\n",
    "    print(\"the task was done successfully! \")  #it will run only when the error will not occur.\n",
    "finally:\n",
    "    print(\"Always run!\")\n",
    "\n",
    "\n",
    "    \n",
    "print(\"end\")"
   ]
  },
  {
   "cell_type": "code",
   "execution_count": null,
   "id": "64a9e7d0",
   "metadata": {},
   "outputs": [],
   "source": []
  },
  {
   "cell_type": "code",
   "execution_count": 46,
   "id": "6caf975b",
   "metadata": {},
   "outputs": [
    {
     "name": "stdout",
     "output_type": "stream",
     "text": [
      "5\n"
     ]
    }
   ],
   "source": [
    "print(2+3  \n",
    "     * 3\n",
    "     \n",
    "     )"
   ]
  },
  {
   "cell_type": "markdown",
   "id": "7c103e5b",
   "metadata": {},
   "source": [
    "# Let's create our own exception classs:\n"
   ]
  },
  {
   "cell_type": "code",
   "execution_count": 63,
   "id": "57c621d6",
   "metadata": {},
   "outputs": [
    {
     "name": "stdout",
     "output_type": "stream",
     "text": [
      "student name is : Fazi\n",
      "student age is : 21\n",
      "student roll number is : 1\n"
     ]
    }
   ],
   "source": [
    "class StudentCard():\n",
    "    def __init__(self, roll, name, age):    #init is predefined!\n",
    "        if age < 18 or age > 60:\n",
    "            raise \"Student less than age 18 and greater than age 60 are not allowed!\"\n",
    "        self.roll = roll\n",
    "        self.name = name\n",
    "        self.age = age\n",
    "        \n",
    "s1 = StudentCard(1,\"Fazi\",21)\n",
    "\n",
    "print(\"student name is :\", s1.name)\n",
    "print(\"student age is :\",s1.age)\n",
    "print(\"student roll number is :\",s1.roll)"
   ]
  },
  {
   "cell_type": "code",
   "execution_count": 64,
   "id": "6b1f2be2",
   "metadata": {
    "scrolled": true
   },
   "outputs": [
    {
     "ename": "Exception",
     "evalue": "Student less than age 18 and greater than age 60 are not allowed!",
     "output_type": "error",
     "traceback": [
      "\u001b[1;31m---------------------------------------------------------------------------\u001b[0m",
      "\u001b[1;31mException\u001b[0m                                 Traceback (most recent call last)",
      "Input \u001b[1;32mIn [64]\u001b[0m, in \u001b[0;36m<cell line: 9>\u001b[1;34m()\u001b[0m\n\u001b[0;32m      6\u001b[0m         \u001b[38;5;28mself\u001b[39m\u001b[38;5;241m.\u001b[39mname \u001b[38;5;241m=\u001b[39m name\n\u001b[0;32m      7\u001b[0m         \u001b[38;5;28mself\u001b[39m\u001b[38;5;241m.\u001b[39mage \u001b[38;5;241m=\u001b[39m age\n\u001b[1;32m----> 9\u001b[0m s2 \u001b[38;5;241m=\u001b[39m \u001b[43mStudentCard\u001b[49m\u001b[43m(\u001b[49m\u001b[38;5;241;43m2\u001b[39;49m\u001b[43m,\u001b[49m\u001b[38;5;124;43m\"\u001b[39;49m\u001b[38;5;124;43mhamza\u001b[39;49m\u001b[38;5;124;43m\"\u001b[39;49m\u001b[43m,\u001b[49m\u001b[38;5;241;43m12\u001b[39;49m\u001b[43m)\u001b[49m\n\u001b[0;32m     11\u001b[0m \u001b[38;5;28mprint\u001b[39m(\u001b[38;5;124m\"\u001b[39m\u001b[38;5;124mstudent name is :\u001b[39m\u001b[38;5;124m\"\u001b[39m, s1\u001b[38;5;241m.\u001b[39mname)\n\u001b[0;32m     12\u001b[0m \u001b[38;5;28mprint\u001b[39m(\u001b[38;5;124m\"\u001b[39m\u001b[38;5;124mstudent age is :\u001b[39m\u001b[38;5;124m\"\u001b[39m,s1\u001b[38;5;241m.\u001b[39mage)\n",
      "Input \u001b[1;32mIn [64]\u001b[0m, in \u001b[0;36mStudentCard.__init__\u001b[1;34m(self, roll, name, age)\u001b[0m\n\u001b[0;32m      2\u001b[0m \u001b[38;5;28;01mdef\u001b[39;00m \u001b[38;5;21m__init__\u001b[39m(\u001b[38;5;28mself\u001b[39m, roll, name, age):    \u001b[38;5;66;03m#init is predefined!\u001b[39;00m\n\u001b[0;32m      3\u001b[0m     \u001b[38;5;28;01mif\u001b[39;00m age \u001b[38;5;241m<\u001b[39m \u001b[38;5;241m18\u001b[39m \u001b[38;5;129;01mor\u001b[39;00m age \u001b[38;5;241m>\u001b[39m \u001b[38;5;241m60\u001b[39m:\n\u001b[1;32m----> 4\u001b[0m         \u001b[38;5;28;01mraise\u001b[39;00m \u001b[38;5;167;01mException\u001b[39;00m(\u001b[38;5;124m\"\u001b[39m\u001b[38;5;124mStudent less than age 18 and greater than age 60 are not allowed!\u001b[39m\u001b[38;5;124m\"\u001b[39m)\n\u001b[0;32m      5\u001b[0m     \u001b[38;5;28mself\u001b[39m\u001b[38;5;241m.\u001b[39mroll \u001b[38;5;241m=\u001b[39m roll\n\u001b[0;32m      6\u001b[0m     \u001b[38;5;28mself\u001b[39m\u001b[38;5;241m.\u001b[39mname \u001b[38;5;241m=\u001b[39m name\n",
      "\u001b[1;31mException\u001b[0m: Student less than age 18 and greater than age 60 are not allowed!"
     ]
    }
   ],
   "source": [
    "class StudentCard():\n",
    "    def __init__(self, roll, name, age):    #init is predefined!\n",
    "        if age < 18 or age > 60:\n",
    "            raise Exception(\"Student less than age 18 and greater than age 60 are not allowed!\")\n",
    "        self.roll = roll\n",
    "        self.name = name\n",
    "        self.age = age\n",
    "        \n",
    "s2 = StudentCard(2,\"hamza\",12)\n",
    "\n",
    "print(\"student name is :\", s1.name)\n",
    "print(\"student age is :\",s1.age)\n",
    "print(\"student roll number is :\",s1.roll)"
   ]
  },
  {
   "cell_type": "code",
   "execution_count": 66,
   "id": "22817988",
   "metadata": {},
   "outputs": [
    {
     "ename": "StudentAgeError",
     "evalue": "Student less than age 18 and greater than age 60 are not allowed!",
     "output_type": "error",
     "traceback": [
      "\u001b[1;31m---------------------------------------------------------------------------\u001b[0m",
      "\u001b[1;31mStudentAgeError\u001b[0m                           Traceback (most recent call last)",
      "Input \u001b[1;32mIn [66]\u001b[0m, in \u001b[0;36m<cell line: 12>\u001b[1;34m()\u001b[0m\n\u001b[0;32m      9\u001b[0m \u001b[38;5;28;01mclass\u001b[39;00m \u001b[38;5;21;01mStudentAgeError\u001b[39;00m(\u001b[38;5;167;01mException\u001b[39;00m):\n\u001b[0;32m     10\u001b[0m     \u001b[38;5;28;01mpass\u001b[39;00m\n\u001b[1;32m---> 12\u001b[0m s2 \u001b[38;5;241m=\u001b[39m \u001b[43mStudentCard\u001b[49m\u001b[43m(\u001b[49m\u001b[38;5;241;43m2\u001b[39;49m\u001b[43m,\u001b[49m\u001b[38;5;124;43m\"\u001b[39;49m\u001b[38;5;124;43mhamza\u001b[39;49m\u001b[38;5;124;43m\"\u001b[39;49m\u001b[43m,\u001b[49m\u001b[38;5;241;43m12\u001b[39;49m\u001b[43m)\u001b[49m\n\u001b[0;32m     13\u001b[0m \u001b[38;5;28mprint\u001b[39m(\u001b[38;5;124m\"\u001b[39m\u001b[38;5;124mstudent name is :\u001b[39m\u001b[38;5;124m\"\u001b[39m, s2\u001b[38;5;241m.\u001b[39mname)\n\u001b[0;32m     14\u001b[0m \u001b[38;5;28mprint\u001b[39m(\u001b[38;5;124m\"\u001b[39m\u001b[38;5;124mstudent age is :\u001b[39m\u001b[38;5;124m\"\u001b[39m,s2\u001b[38;5;241m.\u001b[39mage)\n",
      "Input \u001b[1;32mIn [66]\u001b[0m, in \u001b[0;36mStudentCard.__init__\u001b[1;34m(self, roll, name, age)\u001b[0m\n\u001b[0;32m      2\u001b[0m \u001b[38;5;28;01mdef\u001b[39;00m \u001b[38;5;21m__init__\u001b[39m(\u001b[38;5;28mself\u001b[39m, roll, name, age):    \u001b[38;5;66;03m#init is predefined!\u001b[39;00m\n\u001b[0;32m      3\u001b[0m     \u001b[38;5;28;01mif\u001b[39;00m age \u001b[38;5;241m<\u001b[39m \u001b[38;5;241m18\u001b[39m \u001b[38;5;129;01mor\u001b[39;00m age \u001b[38;5;241m>\u001b[39m \u001b[38;5;241m60\u001b[39m:\n\u001b[1;32m----> 4\u001b[0m         \u001b[38;5;28;01mraise\u001b[39;00m StudentAgeError(\u001b[38;5;124m\"\u001b[39m\u001b[38;5;124mStudent less than age 18 and greater than age 60 are not allowed!\u001b[39m\u001b[38;5;124m\"\u001b[39m)\n\u001b[0;32m      5\u001b[0m     \u001b[38;5;28mself\u001b[39m\u001b[38;5;241m.\u001b[39mroll \u001b[38;5;241m=\u001b[39m roll\n\u001b[0;32m      6\u001b[0m     \u001b[38;5;28mself\u001b[39m\u001b[38;5;241m.\u001b[39mname \u001b[38;5;241m=\u001b[39m name\n",
      "\u001b[1;31mStudentAgeError\u001b[0m: Student less than age 18 and greater than age 60 are not allowed!"
     ]
    }
   ],
   "source": [
    "class StudentCard():\n",
    "    def __init__(self, roll, name, age):    #init is predefined!\n",
    "        if age < 18 or age > 60:\n",
    "            raise StudentAgeError(\"Student less than age 18 and greater than age 60 are not allowed!\")\n",
    "        self.roll = roll\n",
    "        self.name = name\n",
    "        self.age = age\n",
    "        \n",
    "class StudentAgeError(Exception):  #created a class to name it as we want to show the name of error:\n",
    "    pass\n",
    "\n",
    "s2 = StudentCard(2,\"hamza\",12)\n",
    "print(\"student name is :\", s2.name)\n",
    "print(\"student age is :\",s2.age)\n",
    "print(\"student roll number is :\",s2.roll)"
   ]
  },
  {
   "cell_type": "code",
   "execution_count": 77,
   "id": "47e4d49b",
   "metadata": {},
   "outputs": [
    {
     "name": "stdout",
     "output_type": "stream",
     "text": [
      "Something is wrong! Note : Student less than age 18 and greater than age 60 are not allowed!\n"
     ]
    }
   ],
   "source": [
    "class StudentCard():\n",
    "    def __init__(self, roll, name, age):    #init is predefined!\n",
    "        if age < 18 or age > 60:\n",
    "            raise StudentAgeError(\"Student less than age 18 and greater than age 60 are not allowed!\")\n",
    "        self.roll = roll\n",
    "        self.name = name\n",
    "        self.age = age\n",
    "        \n",
    "class StudentAgeError(Exception):  #created a class to name it as we want to show the name of error:\n",
    "    pass\n",
    "try:\n",
    "    s3 = StudentCard(3,\"Wiki\",12)\n",
    "except Exception as er:\n",
    "    print(\"Something is wrong! Note :\",er)\n",
    "    \n",
    "# print(\"student name is :\", s3.name)\n",
    "# print(\"student age is :\",s3.age)\n",
    "# print(\"student roll number is :\",s3.roll)"
   ]
  },
  {
   "cell_type": "code",
   "execution_count": null,
   "id": "4a592643",
   "metadata": {},
   "outputs": [],
   "source": []
  },
  {
   "cell_type": "code",
   "execution_count": null,
   "id": "23f95305",
   "metadata": {},
   "outputs": [],
   "source": []
  },
  {
   "cell_type": "code",
   "execution_count": null,
   "id": "21de2472",
   "metadata": {},
   "outputs": [],
   "source": []
  },
  {
   "cell_type": "code",
   "execution_count": 49,
   "id": "6048d441",
   "metadata": {},
   "outputs": [
    {
     "data": {
      "text/plain": [
       "datetime.datetime(2022, 10, 17, 13, 53, 41, 220047)"
      ]
     },
     "execution_count": 49,
     "metadata": {},
     "output_type": "execute_result"
    }
   ],
   "source": [
    "import datetime as dt\n",
    "dt.datetime.now()"
   ]
  }
 ],
 "metadata": {
  "kernelspec": {
   "display_name": "Python 3 (ipykernel)",
   "language": "python",
   "name": "python3"
  },
  "language_info": {
   "codemirror_mode": {
    "name": "ipython",
    "version": 3
   },
   "file_extension": ".py",
   "mimetype": "text/x-python",
   "name": "python",
   "nbconvert_exporter": "python",
   "pygments_lexer": "ipython3",
   "version": "3.9.12"
  }
 },
 "nbformat": 4,
 "nbformat_minor": 5
}
