{
 "cells": [
  {
   "cell_type": "markdown",
   "id": "5c136ffe",
   "metadata": {},
   "source": [
    "# -->  webscrapping in python:\n",
    "   * beautiful soup:\n",
    "       * reads the data on the webpages and extracts data.\n",
    "       * Beautiful Soup is a Python library that is commonly used for web scraping tasks. It allows you to parse HTML and XML documents and extract information from them. Beautiful Soup provides convenient methods and attributes to navigate and search the parse tree of a document.\n",
    "       \n",
    "   * selinium\n",
    "       * Selenium is a popular automation framework for web browsers that allows you to automate interactions with websites. It is commonly used for tasks such as web scraping, automated testing, and browser automation. In Python, you can use the Selenium WebDriver API to control browsers programmatically."
   ]
  },
  {
   "cell_type": "markdown",
   "id": "27e2e3fc",
   "metadata": {},
   "source": [
    "# beautifulsoup:\n",
    "* used for data scrapping from websites\n",
    "* it reads the data on website and then it extracts the data.\n"
   ]
  },
  {
   "cell_type": "code",
   "execution_count": null,
   "id": "4c88c06c",
   "metadata": {},
   "outputs": [],
   "source": []
  }
 ],
 "metadata": {
  "kernelspec": {
   "display_name": "Python 3 (ipykernel)",
   "language": "python",
   "name": "python3"
  },
  "language_info": {
   "codemirror_mode": {
    "name": "ipython",
    "version": 3
   },
   "file_extension": ".py",
   "mimetype": "text/x-python",
   "name": "python",
   "nbconvert_exporter": "python",
   "pygments_lexer": "ipython3",
   "version": "3.9.12"
  }
 },
 "nbformat": 4,
 "nbformat_minor": 5
}
