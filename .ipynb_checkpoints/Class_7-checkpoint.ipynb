{
 "cells": [
  {
   "cell_type": "markdown",
   "id": "f6cb76e4",
   "metadata": {},
   "source": [
    "---"
   ]
  },
  {
   "cell_type": "markdown",
   "id": "e4c56192",
   "metadata": {},
   "source": [
    "# Dictionary\n",
    "* represented by curly brakets { }\n",
    "* we assign the elements as keys and values\n",
    "* values are assigned to keys using colon \" : \"\n",
    "* every key value pair is seperated by comma \" , \"  i.e  {key1: value1, key2:value2, key3:value3, and so on }\n",
    "* no index, we can easily call the elements by their key names\n",
    "* Keys must be int or string type\n",
    "* Values can be of any type\n",
    "* we can add lists in the dictionaries\n"
   ]
  },
  {
   "cell_type": "markdown",
   "id": "20aff2ab",
   "metadata": {},
   "source": [
    "## declearation of a dictionary "
   ]
  },
  {
   "cell_type": "code",
   "execution_count": 6,
   "id": "315b6bfe",
   "metadata": {},
   "outputs": [
    {
     "data": {
      "text/plain": [
       "{'Name': 'Muhammad Faizan',\n",
       " 'Fahter name': 'Muhammad Yousaf',\n",
       " 'Age': 20,\n",
       " 'Qualification': 'BS Computer Science',\n",
       " 'Skills': ['AI', 'ML', 'NLP', 'DS'],\n",
       " 1: 'Pakistan'}"
      ]
     },
     "execution_count": 6,
     "metadata": {},
     "output_type": "execute_result"
    }
   ],
   "source": [
    "user_data = {\n",
    "    'Name':'Muhammad Faizan',\n",
    "    'Fahter name':'Muhammad Yousaf',\n",
    "    'Age': 20,\n",
    "    'Qualification':'BS Computer Science',\n",
    "    'Skills': [\"AI\", \"ML\", \"NLP\", \"DS\"],\n",
    "    1:\"Pakistan\"\n",
    "    }\n",
    "user_data"
   ]
  },
  {
   "cell_type": "markdown",
   "id": "f3ce8513",
   "metadata": {},
   "source": [
    "## How to access the values of any keys\n",
    "\n",
    "* dictname[key]"
   ]
  },
  {
   "cell_type": "code",
   "execution_count": 12,
   "id": "02e8df5f",
   "metadata": {},
   "outputs": [
    {
     "data": {
      "text/plain": [
       "dict"
      ]
     },
     "execution_count": 12,
     "metadata": {},
     "output_type": "execute_result"
    }
   ],
   "source": [
    "user_data = {\n",
    "    'Name':'Muhammad Faizan',\n",
    "    'Fahter name':'Muhammad Yousaf',\n",
    "    'Age': 20,\n",
    "    'Qualification':'BS Computer Science',\n",
    "    'Skills': [\"AI\", \"ML\", \"NLP\", \"DS\"],\n",
    "    1:\"Pakistan\"\n",
    "    }\n",
    "\n",
    "type(user_data)"
   ]
  },
  {
   "cell_type": "code",
   "execution_count": 18,
   "id": "c4aeb680",
   "metadata": {},
   "outputs": [
    {
     "name": "stdout",
     "output_type": "stream",
     "text": [
      "Muhammad Faizan\n",
      "20\n",
      "BS Computer Science\n"
     ]
    }
   ],
   "source": [
    "user_data = {\n",
    "    'Name':'Muhammad Faizan',\n",
    "    'Fahter name':'Muhammad Yousaf',\n",
    "    'Age': 20,\n",
    "    'Qualification':'BS Computer Science',\n",
    "    'Skills': [\"AI\", \"ML\", \"NLP\", \"DS\"],\n",
    "    1:\"Pakistan\"\n",
    "    }\n",
    "print(user_data[\"Name\"])\n",
    "print(user_data[\"Age\"])\n",
    "print(user_data[\"Qualification\"])"
   ]
  },
  {
   "cell_type": "code",
   "execution_count": 19,
   "id": "5aacb615",
   "metadata": {},
   "outputs": [
    {
     "data": {
      "text/plain": [
       "'Pakistan'"
      ]
     },
     "execution_count": 19,
     "metadata": {},
     "output_type": "execute_result"
    }
   ],
   "source": [
    "user_data[1]"
   ]
  },
  {
   "cell_type": "code",
   "execution_count": 20,
   "id": "8dd17807",
   "metadata": {},
   "outputs": [
    {
     "data": {
      "text/plain": [
       "['faizan', 'faizan']"
      ]
     },
     "execution_count": 20,
     "metadata": {},
     "output_type": "execute_result"
    }
   ],
   "source": [
    "l1= ['faizan', 'faizan']\n",
    "l1"
   ]
  },
  {
   "cell_type": "code",
   "execution_count": 34,
   "id": "c3726f6d",
   "metadata": {},
   "outputs": [
    {
     "data": {
      "text/html": [
       "<div>\n",
       "<style scoped>\n",
       "    .dataframe tbody tr th:only-of-type {\n",
       "        vertical-align: middle;\n",
       "    }\n",
       "\n",
       "    .dataframe tbody tr th {\n",
       "        vertical-align: top;\n",
       "    }\n",
       "\n",
       "    .dataframe thead th {\n",
       "        text-align: right;\n",
       "    }\n",
       "</style>\n",
       "<table border=\"1\" class=\"dataframe\">\n",
       "  <thead>\n",
       "    <tr style=\"text-align: right;\">\n",
       "      <th></th>\n",
       "      <th>Name</th>\n",
       "      <th>Father Name</th>\n",
       "      <th>Age</th>\n",
       "      <th>Skills</th>\n",
       "    </tr>\n",
       "  </thead>\n",
       "  <tbody>\n",
       "    <tr>\n",
       "      <th>0</th>\n",
       "      <td>Zahoor</td>\n",
       "      <td>M.Ahmed</td>\n",
       "      <td>19</td>\n",
       "      <td>Web</td>\n",
       "    </tr>\n",
       "    <tr>\n",
       "      <th>1</th>\n",
       "      <td>Waqar</td>\n",
       "      <td>M.Akram</td>\n",
       "      <td>19</td>\n",
       "      <td>C++</td>\n",
       "    </tr>\n",
       "    <tr>\n",
       "      <th>2</th>\n",
       "      <td>Faizan</td>\n",
       "      <td>M.Yousaf</td>\n",
       "      <td>20</td>\n",
       "      <td>Python</td>\n",
       "    </tr>\n",
       "  </tbody>\n",
       "</table>\n",
       "</div>"
      ],
      "text/plain": [
       "     Name Father Name  Age  Skills\n",
       "0  Zahoor     M.Ahmed   19     Web\n",
       "1   Waqar     M.Akram   19     C++\n",
       "2  Faizan    M.Yousaf   20  Python"
      ]
     },
     "execution_count": 34,
     "metadata": {},
     "output_type": "execute_result"
    }
   ],
   "source": [
    "data= {\n",
    "    'Name': ['Zahoor','Waqar','Faizan'],\n",
    "    'Father Name': ['M.Ahmed','M.Akram','M.Yousaf'],\n",
    "    'Age': [19,19,20],\n",
    "    'Skills': ['Web', 'C++','Python']\n",
    "}\n",
    "import pandas as pd\n",
    "df1 = pd.DataFrame(data)\n",
    "df1"
   ]
  },
  {
   "cell_type": "markdown",
   "id": "9971614c",
   "metadata": {},
   "source": [
    "### another way to create a dictionary\n",
    "* we can work on dictionaries in both ways...all the methods and attributes will work same !"
   ]
  },
  {
   "cell_type": "code",
   "execution_count": 31,
   "id": "14dd0439",
   "metadata": {},
   "outputs": [
    {
     "data": {
      "text/plain": [
       "{'names': ['faizan', 'waqar', 'zahoor'],\n",
       " 'class': ['BS', 'BS', 'BS'],\n",
       " 'degree': ['Data Science', 'BI', 'SE']}"
      ]
     },
     "execution_count": 31,
     "metadata": {},
     "output_type": "execute_result"
    }
   ],
   "source": [
    "data1={}\n",
    "\n",
    "data1[\"names\"]= ['faizan', 'waqar' ,'zahoor']\n",
    "data1['class']= [\"BS\", 'BS', 'BS']\n",
    "data1['degree']= [\"Data Science\", 'BI', 'SE']\n",
    "\n",
    "data1\n"
   ]
  },
  {
   "cell_type": "code",
   "execution_count": 35,
   "id": "228f4cee",
   "metadata": {},
   "outputs": [
    {
     "data": {
      "text/html": [
       "<div>\n",
       "<style scoped>\n",
       "    .dataframe tbody tr th:only-of-type {\n",
       "        vertical-align: middle;\n",
       "    }\n",
       "\n",
       "    .dataframe tbody tr th {\n",
       "        vertical-align: top;\n",
       "    }\n",
       "\n",
       "    .dataframe thead th {\n",
       "        text-align: right;\n",
       "    }\n",
       "</style>\n",
       "<table border=\"1\" class=\"dataframe\">\n",
       "  <thead>\n",
       "    <tr style=\"text-align: right;\">\n",
       "      <th></th>\n",
       "      <th>names</th>\n",
       "      <th>class</th>\n",
       "      <th>degree</th>\n",
       "    </tr>\n",
       "  </thead>\n",
       "  <tbody>\n",
       "    <tr>\n",
       "      <th>0</th>\n",
       "      <td>faizan</td>\n",
       "      <td>BS</td>\n",
       "      <td>Data Science</td>\n",
       "    </tr>\n",
       "    <tr>\n",
       "      <th>1</th>\n",
       "      <td>waqar</td>\n",
       "      <td>BS</td>\n",
       "      <td>BI</td>\n",
       "    </tr>\n",
       "    <tr>\n",
       "      <th>2</th>\n",
       "      <td>zahoor</td>\n",
       "      <td>BS</td>\n",
       "      <td>SE</td>\n",
       "    </tr>\n",
       "  </tbody>\n",
       "</table>\n",
       "</div>"
      ],
      "text/plain": [
       "    names class        degree\n",
       "0  faizan    BS  Data Science\n",
       "1   waqar    BS            BI\n",
       "2  zahoor    BS            SE"
      ]
     },
     "execution_count": 35,
     "metadata": {},
     "output_type": "execute_result"
    }
   ],
   "source": [
    "import pandas as pd\n",
    "df2 = pd.DataFrame(data1)\n",
    "df2"
   ]
  },
  {
   "cell_type": "code",
   "execution_count": 7,
   "id": "3f7a76a4",
   "metadata": {},
   "outputs": [
    {
     "data": {
      "text/plain": [
       "{'names': ['faizan', 'waqar', 'zahoor', 'hamza Ali'],\n",
       " 'class': ['BS', 'BS', 'BS'],\n",
       " 'degree': ['Data Science', 'BI', 'SE']}"
      ]
     },
     "execution_count": 7,
     "metadata": {},
     "output_type": "execute_result"
    }
   ],
   "source": [
    "data1={}\n",
    "\n",
    "data1[\"names\"]= ['faizan', 'waqar' ,'zahoor'] \n",
    "data1['class']= [\"BS\", 'BS', 'BS']\n",
    "data1['degree']= [\"Data Science\", 'BI', 'SE']\n",
    "data1['names']= data1['names']+['hamza Ali']\n",
    "data1"
   ]
  },
  {
   "cell_type": "code",
   "execution_count": 4,
   "id": "05e8d5f8",
   "metadata": {},
   "outputs": [
    {
     "data": {
      "text/plain": [
       "{'names': ['faizan', 'waqar', 'zahoor'],\n",
       " 'class': ['BS', 'BS', 'BS'],\n",
       " 'degree': ['Data Science', 'BI', 'SE']}"
      ]
     },
     "execution_count": 4,
     "metadata": {},
     "output_type": "execute_result"
    }
   ],
   "source": [
    "data1"
   ]
  },
  {
   "cell_type": "code",
   "execution_count": 12,
   "id": "33c17f4f",
   "metadata": {},
   "outputs": [
    {
     "data": {
      "text/plain": [
       "['__class__',\n",
       " '__class_getitem__',\n",
       " '__contains__',\n",
       " '__delattr__',\n",
       " '__delitem__',\n",
       " '__dir__',\n",
       " '__doc__',\n",
       " '__eq__',\n",
       " '__format__',\n",
       " '__ge__',\n",
       " '__getattribute__',\n",
       " '__getitem__',\n",
       " '__gt__',\n",
       " '__hash__',\n",
       " '__init__',\n",
       " '__init_subclass__',\n",
       " '__ior__',\n",
       " '__iter__',\n",
       " '__le__',\n",
       " '__len__',\n",
       " '__lt__',\n",
       " '__ne__',\n",
       " '__new__',\n",
       " '__or__',\n",
       " '__reduce__',\n",
       " '__reduce_ex__',\n",
       " '__repr__',\n",
       " '__reversed__',\n",
       " '__ror__',\n",
       " '__setattr__',\n",
       " '__setitem__',\n",
       " '__sizeof__',\n",
       " '__str__',\n",
       " '__subclasshook__',\n",
       " 'clear',\n",
       " 'copy',\n",
       " 'fromkeys',\n",
       " 'get',\n",
       " 'items',\n",
       " 'keys',\n",
       " 'pop',\n",
       " 'popitem',\n",
       " 'setdefault',\n",
       " 'update',\n",
       " 'values']"
      ]
     },
     "execution_count": 12,
     "metadata": {},
     "output_type": "execute_result"
    }
   ],
   "source": [
    "dir(data2)"
   ]
  },
  {
   "cell_type": "code",
   "execution_count": 10,
   "id": "da3a5e4d",
   "metadata": {},
   "outputs": [
    {
     "data": {
      "text/plain": [
       "{'names': ['faizan', 'waqar', 'zahoor', 'hamza Ali'],\n",
       " 'class': ['BS', 'BS', 'BS'],\n",
       " 'degree': ['Data Science', 'BI', 'SE']}"
      ]
     },
     "execution_count": 10,
     "metadata": {},
     "output_type": "execute_result"
    }
   ],
   "source": [
    "#.copy() is used to assign the data of a dictionary to another dictionary.\n",
    "data2 = data1.copy()\n",
    "data2"
   ]
  },
  {
   "cell_type": "code",
   "execution_count": 11,
   "id": "0910071f",
   "metadata": {},
   "outputs": [
    {
     "data": {
      "text/plain": [
       "{'names': ['faizan', 'waqar', 'zahoor', 'hamza Ali'],\n",
       " 'class': ['BS', 'BS', 'BS'],\n",
       " 'degree': ['Data Science', 'BI', 'SE']}"
      ]
     },
     "execution_count": 11,
     "metadata": {},
     "output_type": "execute_result"
    }
   ],
   "source": [
    "data2"
   ]
  },
  {
   "cell_type": "code",
   "execution_count": 14,
   "id": "976719c6",
   "metadata": {},
   "outputs": [
    {
     "data": {
      "text/plain": [
       "['faizan', 'waqar', 'zahoor', 'hamza Ali']"
      ]
     },
     "execution_count": 14,
     "metadata": {},
     "output_type": "execute_result"
    }
   ],
   "source": [
    "#.get(key) is used to display the values of a specific key.\n",
    "\n",
    "data2.get('names')"
   ]
  },
  {
   "cell_type": "code",
   "execution_count": 15,
   "id": "09e1dfe0",
   "metadata": {},
   "outputs": [
    {
     "data": {
      "text/plain": [
       "['Data Science', 'BI', 'SE']"
      ]
     },
     "execution_count": 15,
     "metadata": {},
     "output_type": "execute_result"
    }
   ],
   "source": [
    "data2.get('degree')"
   ]
  },
  {
   "cell_type": "code",
   "execution_count": 18,
   "id": "e0090ca1",
   "metadata": {},
   "outputs": [],
   "source": [
    "# .get(key) is also used if a key is not present in the dictionary,it will not generate any error and let the program execute.\n",
    "data2.get('contacts')"
   ]
  },
  {
   "cell_type": "code",
   "execution_count": 28,
   "id": "e871824a",
   "metadata": {},
   "outputs": [
    {
     "data": {
      "text/plain": [
       "'Invalid entry'"
      ]
     },
     "execution_count": 28,
     "metadata": {},
     "output_type": "execute_result"
    }
   ],
   "source": [
    "# it can also show a message to the user i.e\n",
    "data2.get('contacts','Invalid entry')"
   ]
  },
  {
   "cell_type": "code",
   "execution_count": 20,
   "id": "aac5d5b2",
   "metadata": {},
   "outputs": [
    {
     "data": {
      "text/plain": [
       "{'name': 'faizan', 'class': 'BS ', 'degree': 'CS', 'address': 'Khanewal'}"
      ]
     },
     "execution_count": 20,
     "metadata": {},
     "output_type": "execute_result"
    }
   ],
   "source": [
    "#.fromkeys() returns a dictionary with the specified keys and value\n",
    "data3 = {\n",
    "    'name': 'faizan',\n",
    "    'class': 'BS ',\n",
    "    'degree': 'CS',\n",
    "    'address': 'Khanewal'\n",
    "}\n",
    "data3"
   ]
  },
  {
   "cell_type": "code",
   "execution_count": 27,
   "id": "32634c44",
   "metadata": {},
   "outputs": [
    {
     "ename": "NameError",
     "evalue": "name 'keys' is not defined",
     "output_type": "error",
     "traceback": [
      "\u001b[1;31m---------------------------------------------------------------------------\u001b[0m",
      "\u001b[1;31mNameError\u001b[0m                                 Traceback (most recent call last)",
      "Input \u001b[1;32mIn [27]\u001b[0m, in \u001b[0;36m<cell line: 4>\u001b[1;34m()\u001b[0m\n\u001b[0;32m      1\u001b[0m \u001b[38;5;66;03m#fromkeys (list) can be used to assign a single value to all the keys of that list.\u001b[39;00m\n\u001b[0;32m      2\u001b[0m d\u001b[38;5;241m=\u001b[39m [ \u001b[38;5;124m'\u001b[39m\u001b[38;5;124mid\u001b[39m\u001b[38;5;124m'\u001b[39m,\u001b[38;5;124m'\u001b[39m\u001b[38;5;124mname\u001b[39m\u001b[38;5;124m'\u001b[39m,\u001b[38;5;124m'\u001b[39m\u001b[38;5;124mdegree\u001b[39m\u001b[38;5;124m'\u001b[39m]\n\u001b[1;32m----> 4\u001b[0m \u001b[38;5;28mdict\u001b[39m\u001b[38;5;241m.\u001b[39mfromkeys(\u001b[43mkeys\u001b[49m,\u001b[38;5;124m'\u001b[39m\u001b[38;5;124mempty\u001b[39m\u001b[38;5;124m'\u001b[39m)\n",
      "\u001b[1;31mNameError\u001b[0m: name 'keys' is not defined"
     ]
    }
   ],
   "source": [
    "#fromkeys (list) can be used to assign a single value to all the keys of that list.\n",
    "d= [ 'id','name','degree']\n",
    "\n",
    "dict.fromkeys(keys,'empty')"
   ]
  },
  {
   "cell_type": "code",
   "execution_count": 21,
   "id": "a79b7e08",
   "metadata": {},
   "outputs": [
    {
     "data": {
      "text/plain": [
       "dict_items([('names', ['faizan', 'waqar', 'zahoor', 'hamza Ali']), ('class', ['BS', 'BS', 'BS']), ('degree', ['Data Science', 'BI', 'SE'])])"
      ]
     },
     "execution_count": 21,
     "metadata": {},
     "output_type": "execute_result"
    }
   ],
   "source": [
    "#.items() is used to list all the elements of the dictionary.\n",
    "\n",
    "data2.items()"
   ]
  },
  {
   "cell_type": "code",
   "execution_count": 23,
   "id": "52c045c9",
   "metadata": {},
   "outputs": [
    {
     "data": {
      "text/plain": [
       "dict_keys(['names', 'class', 'degree'])"
      ]
     },
     "execution_count": 23,
     "metadata": {},
     "output_type": "execute_result"
    }
   ],
   "source": [
    "#.keys() is used to display all the keys of the dictionary.\n",
    "\n",
    "data2.keys()"
   ]
  },
  {
   "cell_type": "code",
   "execution_count": 24,
   "id": "c8acc62d",
   "metadata": {},
   "outputs": [
    {
     "data": {
      "text/plain": [
       "dict_values([['faizan', 'waqar', 'zahoor', 'hamza Ali'], ['BS', 'BS', 'BS'], ['Data Science', 'BI', 'SE']])"
      ]
     },
     "execution_count": 24,
     "metadata": {},
     "output_type": "execute_result"
    }
   ],
   "source": [
    "#.values() is used to display all the values of the keys present in a dictionary.\n",
    "\n",
    "data2.values()"
   ]
  },
  {
   "cell_type": "code",
   "execution_count": 2,
   "id": "1ef368e0",
   "metadata": {},
   "outputs": [],
   "source": [
    "data1={}\n",
    "\n",
    "data1[\"names\"]= ['faizan', 'waqar' ,'zahoor']\n",
    "data1['class']= [\"BS\", 'BS', 'BS']\n",
    "data1['degree']= [\"Data Science\", 'BI', 'SE']\n",
    "\n",
    "data1\n",
    "data2=data1"
   ]
  },
  {
   "cell_type": "code",
   "execution_count": 14,
   "id": "b4d347c6",
   "metadata": {},
   "outputs": [],
   "source": [
    "#.pop(key) removes the element with the specified key\n",
    "\n",
    "data2.pop('class') "
   ]
  },
  {
   "cell_type": "code",
   "execution_count": 8,
   "id": "f2696d68",
   "metadata": {},
   "outputs": [
    {
     "data": {
      "text/plain": [
       "{'names': ['faizan', 'waqar', 'zahoor'],\n",
       " 'degree': ['Data Science', 'BI', 'SE']}"
      ]
     },
     "execution_count": 8,
     "metadata": {},
     "output_type": "execute_result"
    }
   ],
   "source": [
    "data2"
   ]
  },
  {
   "cell_type": "code",
   "execution_count": 9,
   "id": "4587ffac",
   "metadata": {},
   "outputs": [
    {
     "data": {
      "text/plain": [
       "('degree', ['Data Science', 'BI', 'SE'])"
      ]
     },
     "execution_count": 9,
     "metadata": {},
     "output_type": "execute_result"
    }
   ],
   "source": [
    "#.popitems() removes the last inserted key-value pair\n",
    "data2.popitem()"
   ]
  },
  {
   "cell_type": "code",
   "execution_count": 10,
   "id": "1b634f01",
   "metadata": {},
   "outputs": [
    {
     "data": {
      "text/plain": [
       "{'names': ['faizan', 'waqar', 'zahoor']}"
      ]
     },
     "execution_count": 10,
     "metadata": {},
     "output_type": "execute_result"
    }
   ],
   "source": [
    "data2"
   ]
  },
  {
   "cell_type": "code",
   "execution_count": 13,
   "id": "135ee1cd",
   "metadata": {},
   "outputs": [
    {
     "data": {
      "text/plain": [
       "['faizan', 'waqar', 'zahoor']"
      ]
     },
     "execution_count": 13,
     "metadata": {},
     "output_type": "execute_result"
    }
   ],
   "source": [
    "#setdefault(key) returns the value of the specified key. If the key does not exist: insert the key, with the specified value\n",
    "data2.setdefault('names')"
   ]
  },
  {
   "cell_type": "code",
   "execution_count": 17,
   "id": "8f5554f3",
   "metadata": {},
   "outputs": [
    {
     "ename": "SyntaxError",
     "evalue": "cannot assign to function call (1675202804.py, line 2)",
     "output_type": "error",
     "traceback": [
      "\u001b[1;36m  Input \u001b[1;32mIn [17]\u001b[1;36m\u001b[0m\n\u001b[1;33m    data2.update(\"names\")='Hamza Bhai'\u001b[0m\n\u001b[1;37m    ^\u001b[0m\n\u001b[1;31mSyntaxError\u001b[0m\u001b[1;31m:\u001b[0m cannot assign to function call\n"
     ]
    }
   ],
   "source": [
    "#update()  updates the dictionary with the specified key-value pairs\n",
    "data2.update(\"names\")='Hamza Bhai'"
   ]
  },
  {
   "cell_type": "code",
   "execution_count": 61,
   "id": "30f64389",
   "metadata": {},
   "outputs": [],
   "source": [
    "#.clear() is used to clear the elements of a dictionary \n",
    "data2.clear()"
   ]
  },
  {
   "cell_type": "code",
   "execution_count": 62,
   "id": "7da3a56e",
   "metadata": {},
   "outputs": [
    {
     "data": {
      "text/plain": [
       "{}"
      ]
     },
     "execution_count": 62,
     "metadata": {},
     "output_type": "execute_result"
    }
   ],
   "source": [
    "data2"
   ]
  },
  {
   "cell_type": "code",
   "execution_count": 65,
   "id": "b2359bd4",
   "metadata": {},
   "outputs": [
    {
     "ename": "NameError",
     "evalue": "name 'data2' is not defined",
     "output_type": "error",
     "traceback": [
      "\u001b[1;31m---------------------------------------------------------------------------\u001b[0m",
      "\u001b[1;31mNameError\u001b[0m                                 Traceback (most recent call last)",
      "Input \u001b[1;32mIn [65]\u001b[0m, in \u001b[0;36m<cell line: 3>\u001b[1;34m()\u001b[0m\n\u001b[0;32m      1\u001b[0m \u001b[38;5;66;03m# del will delete the variable as well as the elements\u001b[39;00m\n\u001b[1;32m----> 3\u001b[0m \u001b[38;5;28;01mdel\u001b[39;00m data2\n",
      "\u001b[1;31mNameError\u001b[0m: name 'data2' is not defined"
     ]
    }
   ],
   "source": [
    "# del will delete the variable as well as the elements and it will give an error.\n",
    "\n",
    "del data2\n"
   ]
  },
  {
   "cell_type": "code",
   "execution_count": 29,
   "id": "7ab5c3b3",
   "metadata": {},
   "outputs": [
    {
     "data": {
      "text/plain": [
       "[1, 2, 3, 4, 5, 6, 7, 8, 9, 10, 11, 12, 13, 14, 15, 16, 17, 18, 19]"
      ]
     },
     "execution_count": 29,
     "metadata": {},
     "output_type": "execute_result"
    }
   ],
   "source": [
    "\n",
    "list(range(1,20))"
   ]
  },
  {
   "cell_type": "code",
   "execution_count": 30,
   "id": "b5681a93",
   "metadata": {},
   "outputs": [
    {
     "name": "stdout",
     "output_type": "stream",
     "text": [
      "1\n",
      "2\n",
      "3\n",
      "4\n",
      "5\n",
      "6\n",
      "7\n",
      "8\n",
      "9\n",
      "10\n",
      "11\n",
      "12\n",
      "13\n",
      "14\n",
      "15\n",
      "16\n",
      "17\n",
      "18\n",
      "19\n"
     ]
    }
   ],
   "source": [
    "for num in range(1,20):\n",
    "    print(num)"
   ]
  },
  {
   "cell_type": "code",
   "execution_count": 31,
   "id": "87c4c80d",
   "metadata": {},
   "outputs": [
    {
     "name": "stdout",
     "output_type": "stream",
     "text": [
      "1\n",
      "2\n",
      "3\n",
      "4\n",
      "5\n",
      "6\n",
      "7\n",
      "8\n",
      "9\n",
      "10\n",
      "11\n",
      "12\n",
      "13\n",
      "14\n",
      "15\n",
      "16\n",
      "17\n",
      "18\n",
      "19\n"
     ]
    }
   ],
   "source": [
    "                             #OR\n",
    "for num in [1, 2, 3, 4, 5, 6, 7, 8, 9, 10, 11, 12, 13, 14, 15, 16, 17, 18, 19]:\n",
    "    print(num)"
   ]
  },
  {
   "cell_type": "code",
   "execution_count": 38,
   "id": "6851bb9b",
   "metadata": {},
   "outputs": [
    {
     "name": "stdout",
     "output_type": "stream",
     "text": [
      "{'name': 'faizan', 'class': 'BS ', 'degree': 'CS', 'address': 'Khanewal'}\n"
     ]
    }
   ],
   "source": [
    "print(data3)"
   ]
  },
  {
   "cell_type": "code",
   "execution_count": 36,
   "id": "c1111fcb",
   "metadata": {},
   "outputs": [
    {
     "name": "stdout",
     "output_type": "stream",
     "text": [
      "faizan\n",
      "BS \n",
      "CS\n",
      "Khanewal\n"
     ]
    }
   ],
   "source": [
    "# we can access the values using for loop\n",
    "for v in data3.values():\n",
    "    print(v)"
   ]
  },
  {
   "cell_type": "code",
   "execution_count": 35,
   "id": "d283a025",
   "metadata": {},
   "outputs": [
    {
     "name": "stdout",
     "output_type": "stream",
     "text": [
      "name\n",
      "class\n",
      "degree\n",
      "address\n"
     ]
    }
   ],
   "source": [
    "#we can access the keys using for loop\n",
    "for k in data3.keys():\n",
    "    print(k)"
   ]
  },
  {
   "cell_type": "code",
   "execution_count": 42,
   "id": "dbb65101",
   "metadata": {},
   "outputs": [
    {
     "name": "stdout",
     "output_type": "stream",
     "text": [
      "name faizan\n",
      "address Khanewal\n"
     ]
    }
   ],
   "source": [
    "#we can access the keys and values also by using for loop\n",
    "for k in ['name','address']:\n",
    "    print(k, data3[k])"
   ]
  },
  {
   "cell_type": "code",
   "execution_count": 43,
   "id": "41997940",
   "metadata": {},
   "outputs": [
    {
     "name": "stdout",
     "output_type": "stream",
     "text": [
      "('name', 'faizan')\n",
      "('class', 'BS ')\n",
      "('degree', 'CS')\n",
      "('address', 'Khanewal')\n"
     ]
    }
   ],
   "source": [
    "# we can display the all the elements of a dictionary by using for loop\n",
    "for i in data3.items():\n",
    "    print(i)"
   ]
  },
  {
   "cell_type": "code",
   "execution_count": 46,
   "id": "35bfa270",
   "metadata": {},
   "outputs": [
    {
     "name": "stdout",
     "output_type": "stream",
     "text": [
      "faizan yousaf\n"
     ]
    }
   ],
   "source": [
    "a, b = ('faizan', 'yousaf')\n",
    "print(a,b)"
   ]
  },
  {
   "cell_type": "code",
   "execution_count": 45,
   "id": "50457d7e",
   "metadata": {},
   "outputs": [
    {
     "name": "stdout",
     "output_type": "stream",
     "text": [
      "faizan\n",
      "yousaf\n"
     ]
    }
   ],
   "source": [
    "a, b = ('faizan', 'yousaf')\n",
    "print(a)\n",
    "print(b)"
   ]
  },
  {
   "cell_type": "code",
   "execution_count": 47,
   "id": "894384fe",
   "metadata": {},
   "outputs": [
    {
     "name": "stdout",
     "output_type": "stream",
     "text": [
      "name faizan\n",
      "class BS \n",
      "degree CS\n",
      "address Khanewal\n"
     ]
    }
   ],
   "source": [
    "# for loop can be used to print the keys as well as values of the dictionary\n",
    "\n",
    "for k,v in data3.items():\n",
    "    print(k,v)"
   ]
  },
  {
   "cell_type": "code",
   "execution_count": 55,
   "id": "6adf0b3a",
   "metadata": {},
   "outputs": [
    {
     "name": "stdout",
     "output_type": "stream",
     "text": [
      "100\n",
      "20\n"
     ]
    }
   ],
   "source": [
    "#local and global variable scope in python\n",
    "\n",
    "f= 20  #Global variable\n",
    "\n",
    "def abc():\n",
    "    f= 100  #local variable\n",
    "    print(f)\n",
    "\n",
    "abc()  #function call and the local variable is printed\n",
    "\n",
    "print(f) # here the global variable is printed\n"
   ]
  },
  {
   "cell_type": "markdown",
   "id": "cbd2a1c8",
   "metadata": {},
   "source": [
    "# Checking the returnand non-return functions\n",
    "\n",
    "* return: \"if the fucntion returned value can be stored in a variable, then it is return function\"\n",
    "\n",
    "\n",
    "\n",
    "* non-retun: \"if the fucntion returned value CANNOT be stored in a variable, then it is non-return function \""
   ]
  },
  {
   "cell_type": "code",
   "execution_count": 56,
   "id": "6f281aeb",
   "metadata": {},
   "outputs": [
    {
     "name": "stdout",
     "output_type": "stream",
     "text": [
      "faizan\n",
      "None\n"
     ]
    }
   ],
   "source": [
    "\n",
    "\n",
    "a= print('faizan')    #non-return functions\n",
    "print(a)"
   ]
  },
  {
   "cell_type": "code",
   "execution_count": 57,
   "id": "e1b2efb5",
   "metadata": {},
   "outputs": [
    {
     "name": "stdout",
     "output_type": "stream",
     "text": [
      "6\n"
     ]
    }
   ],
   "source": [
    "a = len('faizan')     #return function\n",
    "print(a)"
   ]
  },
  {
   "cell_type": "code",
   "execution_count": 59,
   "id": "da26640c",
   "metadata": {},
   "outputs": [
    {
     "name": "stdout",
     "output_type": "stream",
     "text": [
      "<class 'str'>\n"
     ]
    }
   ],
   "source": [
    "a= type('faizan')    #return functions\n",
    "print(a)"
   ]
  },
  {
   "cell_type": "code",
   "execution_count": 66,
   "id": "514addad",
   "metadata": {},
   "outputs": [],
   "source": [
    "#del name of dictionary[key] , it will delete the key as well as the elements in that key.\n",
    "\n",
    "del data3['name']"
   ]
  },
  {
   "cell_type": "code",
   "execution_count": 67,
   "id": "ac8395a1",
   "metadata": {},
   "outputs": [
    {
     "data": {
      "text/plain": [
       "{'class': 'BS ', 'degree': 'CS', 'address': 'Khanewal'}"
      ]
     },
     "execution_count": 67,
     "metadata": {},
     "output_type": "execute_result"
    }
   ],
   "source": [
    "data3"
   ]
  },
  {
   "cell_type": "code",
   "execution_count": 72,
   "id": "bf6d0105",
   "metadata": {},
   "outputs": [
    {
     "ename": "SyntaxError",
     "evalue": "invalid syntax (4023401984.py, line 8)",
     "output_type": "error",
     "traceback": [
      "\u001b[1;36m  Input \u001b[1;32mIn [72]\u001b[1;36m\u001b[0m\n\u001b[1;33m    a=del data['name']\u001b[0m\n\u001b[1;37m      ^\u001b[0m\n\u001b[1;31mSyntaxError\u001b[0m\u001b[1;31m:\u001b[0m invalid syntax\n"
     ]
    }
   ],
   "source": [
    "data = {\n",
    "    'name': 'faizan',\n",
    "    'class': 'BS ',\n",
    "    'degree': 'CS',\n",
    "    'address': 'Khanewal'\n",
    "}\n",
    "data\n",
    "a= del data['name'] #non- return fuction --> (it will not return the output in a variable)\n",
    "print(a)"
   ]
  },
  {
   "cell_type": "code",
   "execution_count": 73,
   "id": "ae76269a",
   "metadata": {},
   "outputs": [
    {
     "name": "stdout",
     "output_type": "stream",
     "text": [
      "faizan\n",
      "{'class': 'BS ', 'degree': 'CS', 'address': 'Khanewal'}\n"
     ]
    }
   ],
   "source": [
    "data = {\n",
    "    'name': 'faizan',\n",
    "    'class': 'BS ',\n",
    "    'degree': 'CS',\n",
    "    'address': 'Khanewal'\n",
    "}\n",
    "a = data.pop('name') #pop() is a return function;   \n",
    "            #the value of the key \"name\" will be removed.\n",
    "print(a)\n",
    "print(data)             #it will print the remaining keys and values of the dictionary data "
   ]
  },
  {
   "cell_type": "code",
   "execution_count": 80,
   "id": "57e3a529",
   "metadata": {},
   "outputs": [
    {
     "name": "stdout",
     "output_type": "stream",
     "text": [
      "faizan\n",
      "{'degree': 'CS', 'address': 'Khanewal'}\n",
      "\n",
      "The deleted values are:  ['faizan', 'BS ']\n"
     ]
    }
   ],
   "source": [
    "completed_list= []\n",
    "\n",
    "data = {\n",
    "    'name': 'faizan',\n",
    "    'class': 'BS ',\n",
    "    'degree': 'CS',\n",
    "    'address': 'Khanewal'\n",
    "}\n",
    "a = data.pop('name') #pop() is a return function;   \n",
    "b = data.pop('class') \n",
    "\n",
    "completed_list.append(a)\n",
    "completed_list.append(b)\n",
    "\n",
    "print(a)\n",
    "print(data)\n",
    "print('')\n",
    "print(\"The deleted values are: \", completed_list)"
   ]
  },
  {
   "cell_type": "code",
   "execution_count": 81,
   "id": "d42cdc22",
   "metadata": {},
   "outputs": [
    {
     "name": "stdout",
     "output_type": "stream",
     "text": [
      "('address', 'Khanewal')\n",
      "{'name': 'faizan', 'class': 'BS ', 'degree': 'CS'}\n"
     ]
    }
   ],
   "source": [
    "data = {\n",
    "    'name': 'faizan',\n",
    "    'Class': 'BS ',\n",
    "    'degree': 'CS',\n",
    "    'address': 'Khanewal'\n",
    "}\n",
    "a = data.popitem() #popitem() will delete the last key and value.   \n",
    "            \n",
    "print(a)\n",
    "print(data)"
   ]
  },
  {
   "cell_type": "markdown",
   "id": "db46c222",
   "metadata": {},
   "source": [
    "-------------"
   ]
  },
  {
   "cell_type": "markdown",
   "id": "0024f158",
   "metadata": {},
   "source": [
    "## Block Structure"
   ]
  },
  {
   "cell_type": "code",
   "execution_count": 1,
   "id": "ccf0c87b",
   "metadata": {},
   "outputs": [
    {
     "name": "stdout",
     "output_type": "stream",
     "text": [
      "faizan\n"
     ]
    }
   ],
   "source": [
    "print('faizan')"
   ]
  },
  {
   "cell_type": "code",
   "execution_count": 2,
   "id": "ba4cadc1",
   "metadata": {},
   "outputs": [
    {
     "data": {
      "text/plain": [
       "{'Names': ['Faizan', 'Waqar', 'Zahoor'],\n",
       " 'Class': ['BS', 'BS', 'BS'],\n",
       " 'Degree': ['CS', 'CS', 'CS']}"
      ]
     },
     "execution_count": 2,
     "metadata": {},
     "output_type": "execute_result"
    }
   ],
   "source": [
    "dic = { 'Names': ['Faizan','Waqar','Zahoor'],\n",
    "         'Class' : ['BS','BS', 'BS',],\n",
    "          'Degree': ['CS','CS','CS']\n",
    "      }\n",
    "dic"
   ]
  },
  {
   "cell_type": "markdown",
   "id": "ffe27057",
   "metadata": {},
   "source": [
    "# Control Structures\n",
    "\n",
    "* if \n",
    "    * if\n",
    "    * else\n",
    "    * elif\n",
    "         and or not\n",
    "    \n",
    "* while\n",
    "    * break\n",
    "    * continue\n",
    "    * pass\n",
    "\n",
    "* for\n",
    "    * break\n",
    "    * continue\n",
    "    * pass\n",
    "\n",
    "* try\n",
    "    *except\n",
    "    \n",
    "* def\n",
    "* class"
   ]
  },
  {
   "cell_type": "markdown",
   "id": "1d3bd347",
   "metadata": {},
   "source": [
    "# syntax "
   ]
  },
  {
   "cell_type": "markdown",
   "id": "3480e755",
   "metadata": {},
   "source": [
    "# if\n",
    "```\n",
    "if True/False:\n",
    "    print() #true_block\n",
    "``` "
   ]
  },
  {
   "cell_type": "markdown",
   "id": "72a32bb8",
   "metadata": {},
   "source": [
    "# if else\n",
    "```\n",
    "if True/False:\n",
    "    print() #true_block\n",
    "else:\n",
    "    print() #false_block\n",
    "```"
   ]
  },
  {
   "cell_type": "markdown",
   "id": "b46a6b0d",
   "metadata": {},
   "source": [
    "# if elif else ladder \n",
    "```\n",
    "if True/False:\n",
    "    print() #True_block\n",
    "elif True/False:\n",
    "    print() #True_block\n",
    "elif True/False:\n",
    "    print() #True_block\n",
    "elif True/False:\n",
    "    print() #True_block\n",
    "else:\n",
    "    print() #False_block\n",
    "```"
   ]
  },
  {
   "cell_type": "markdown",
   "id": "1f343710",
   "metadata": {},
   "source": [
    "# examples"
   ]
  },
  {
   "cell_type": "markdown",
   "id": "793a4998",
   "metadata": {},
   "source": [
    "# if\n",
    "```\n",
    "if True/False:\n",
    "    print() #true_block\n",
    "``` "
   ]
  },
  {
   "cell_type": "code",
   "execution_count": 3,
   "id": "0a129b35",
   "metadata": {},
   "outputs": [
    {
     "name": "stdout",
     "output_type": "stream",
     "text": [
      "user name is faizan\n"
     ]
    }
   ],
   "source": [
    "if True:\n",
    "    print(\"user name is faizan\")\n",
    "    "
   ]
  },
  {
   "cell_type": "code",
   "execution_count": 4,
   "id": "4cb36866",
   "metadata": {
    "scrolled": true
   },
   "outputs": [
    {
     "name": "stdout",
     "output_type": "stream",
     "text": [
      "Pakistan\n"
     ]
    }
   ],
   "source": [
    "if True:\n",
    "    print(\"Pakistan\")"
   ]
  },
  {
   "cell_type": "code",
   "execution_count": 10,
   "id": "4fcfec15",
   "metadata": {},
   "outputs": [
    {
     "name": "stdout",
     "output_type": "stream",
     "text": [
      "Enter the User Name:Faizan\n",
      "Enter your password:fazi\n",
      "User name is correct!\n",
      "Welcome to your profile.Have a great day!\n"
     ]
    }
   ],
   "source": [
    "# user Input!\n",
    "user = input(\"Enter the User Name:\")\n",
    "password = input( \"Enter your password:\")\n",
    "if user==\"Faizan\":\n",
    "    print(\"User name is correct!\")\n",
    "if password == \"fazi\":\n",
    "    print(\"Welcome to your profile.Have a great day!\")\n"
   ]
  },
  {
   "cell_type": "markdown",
   "id": "47b1a8d6",
   "metadata": {},
   "source": [
    "# if else\n",
    "```\n",
    "if True/False:\n",
    "    print() #true_block\n",
    "else:\n",
    "    print() #false_block\n",
    "```\n",
    "\n"
   ]
  },
  {
   "cell_type": "code",
   "execution_count": 13,
   "id": "71c63b6e",
   "metadata": {},
   "outputs": [
    {
     "name": "stdout",
     "output_type": "stream",
     "text": [
      "Hello Faizan!\n"
     ]
    }
   ],
   "source": [
    "if True:\n",
    "    print(\"Hello Faizan!\") #true block\n",
    "else:\n",
    "    print(\"unauthorized user!\") #false block"
   ]
  },
  {
   "cell_type": "code",
   "execution_count": 14,
   "id": "1cb2f103",
   "metadata": {},
   "outputs": [
    {
     "name": "stdout",
     "output_type": "stream",
     "text": [
      "USA\n"
     ]
    }
   ],
   "source": [
    "if False:\n",
    "    print(\"Pakistan\")\n",
    "else:\n",
    "    print(\"USA\")\n"
   ]
  },
  {
   "cell_type": "code",
   "execution_count": 6,
   "id": "610ffebb",
   "metadata": {},
   "outputs": [
    {
     "name": "stdout",
     "output_type": "stream",
     "text": [
      "enter your name :Fazi\n",
      "welcome!\n"
     ]
    }
   ],
   "source": [
    "name = input(\"enter your name :\")\n",
    "if name== \"Fazi\":\n",
    "    print(\"welcome!\")\n",
    "else:\n",
    "    print(\"Invalid id\")"
   ]
  },
  {
   "cell_type": "markdown",
   "id": "cdb2895c",
   "metadata": {},
   "source": [
    "# if elif else ladder \n",
    "```\n",
    "if True/False:\n",
    "    print() #True_block\n",
    "elif True/False:\n",
    "    print() #True_block\n",
    "elif True/False:\n",
    "    print() #True_block\n",
    "elif True/False:\n",
    "    print() #True_block\n",
    "else:\n",
    "    print() #False_block\n",
    "```"
   ]
  },
  {
   "cell_type": "code",
   "execution_count": 2,
   "id": "be4e49be",
   "metadata": {},
   "outputs": [
    {
     "name": "stdout",
     "output_type": "stream",
     "text": [
      "Enter the User Name:fazian\n",
      "Incorrect Username!\n",
      "Enter a valid Username!\n",
      "Enter your password:fazi\n",
      "Welcome to your profile.Have a great day!\n"
     ]
    }
   ],
   "source": [
    "# user Input:\n",
    "\n",
    "#Username code:    \n",
    "user = input(\"Enter the User Name:\")\n",
    "\n",
    "if user==\"Faizan\":\n",
    "    print(\"User name is correct!\")\n",
    "elif user!= \"Faizan\":\n",
    "    print(\"Incorrect Username!\")\n",
    "    print(\"Enter a valid Username!\")\n",
    "\n",
    "#Password Code:\n",
    "password = input( \"Enter your password:\")\n",
    "if password == \"fazi\":\n",
    "    print(\"Welcome to your profile.Have a great day!\")\n",
    "else:\n",
    "     print(\"Enter a valid Password!\")\n",
    "    "
   ]
  },
  {
   "cell_type": "code",
   "execution_count": null,
   "id": "cf74a20f",
   "metadata": {},
   "outputs": [],
   "source": [
    "# user Input:\n",
    "\n",
    "#Username code:    \n",
    "user = input(\"Enter the User Name:\")\n",
    "\n",
    "if user==\"Faizan\":\n",
    "    print(\"User name is correct!\")\n",
    "elif user!= \"Faizan\":\n",
    "    print(\"Incorrect Username!\")\n",
    "    print(\"Enter a valid Username!\")\n",
    "    \n",
    "#Password Code:\n",
    "password = input( \"Enter your password:\")\n",
    "if password == \"fazi\":\n",
    "    print(\"Welcome to your profile.Have a great day!\")\n",
    "else:\n",
    "     print(\"Enter a valid Password!\")\n",
    "    "
   ]
  },
  {
   "cell_type": "code",
   "execution_count": null,
   "id": "e0fdc8fd",
   "metadata": {},
   "outputs": [],
   "source": [
    "percentage = int(input(\"Enter marks obtained:\"))\n",
    "\n",
    "if percentage >= 90:\n",
    "    print(\"CONGRATS!\")\n",
    "    print(\"A+\")\n",
    "elif percentage>=80:\n",
    "    print(\"A\")\n",
    "elif percentage>=70:\n",
    "    print(\"B\")\n",
    "elif percentage>=60:\n",
    "    print(\"C\")\n",
    "else:\n",
    "    print(\"Sorry, You are FAIL!!!!\")\n",
    "    print('F')\n",
    "    "
   ]
  },
  {
   "cell_type": "code",
   "execution_count": null,
   "id": "c03bb0a1",
   "metadata": {},
   "outputs": [],
   "source": [
    "percentage = int(input(\"Enter your percentage : \"))\n",
    "grade =()\n",
    "\n",
    "if percentage >= 90:\n",
    "    print(\"CONGRATS!\")\n",
    "    grade = \"A+\"\n",
    "elif percentage>=80:\n",
    "    grade = \"A\"\n",
    "elif percentage>=70:\n",
    "    grade = \"B\"\n",
    "elif percentage>=60:\n",
    "    grade = \"C\"\n",
    "else:\n",
    "    print(\"Sorry, You are FAIL!!!!\")\n",
    "    grade = \"F\"\n",
    "\n",
    "print(percentage)\n",
    "print(grade)"
   ]
  },
  {
   "cell_type": "code",
   "execution_count": 2,
   "id": "3d73b3ea",
   "metadata": {},
   "outputs": [
    {
     "name": "stdout",
     "output_type": "stream",
     "text": [
      "Enter your percentage : 90\n",
      "CONGRATS!\n",
      "90\n",
      "A+\n"
     ]
    }
   ],
   "source": [
    "percentage = int(input(\"Enter your percentage : \"))\n",
    "grade =()\n",
    "\n",
    "if percentage >= 90:\n",
    "    print(\"CONGRATS!\")\n",
    "    grade = \"A+\"\n",
    "elif percentage>=80:\n",
    "    grade = \"A\"\n",
    "elif percentage>=70:\n",
    "    grade = \"B\"\n",
    "elif percentage>=60:\n",
    "    grade = \"C\"\n",
    "else:\n",
    "    print(\"Sorry, You are FAIL!!!!\")\n",
    "    grade = \"F\"\n",
    "\n",
    "print(percentage)\n",
    "print(grade)"
   ]
  },
  {
   "cell_type": "code",
   "execution_count": 9,
   "id": "51a9dabd",
   "metadata": {},
   "outputs": [
    {
     "data": {
      "text/plain": [
       "['Faizan', 'yousaf,', 'Haris', 'Raza', 'Farhan']"
      ]
     },
     "execution_count": 9,
     "metadata": {},
     "output_type": "execute_result"
    }
   ],
   "source": [
    "name = \"Faizan yousaf, Haris Raza Farhan\"\n",
    "name.split()\n",
    "\n",
    "# when we use the split( ) function without any  argument, it will split all the values in single string values/elements;"
   ]
  },
  {
   "cell_type": "code",
   "execution_count": 21,
   "id": "316a3a24",
   "metadata": {},
   "outputs": [
    {
     "data": {
      "text/plain": [
       "['faizan is living in Pakistan ', ' maybe he will move to the USA soon!']"
      ]
     },
     "execution_count": 21,
     "metadata": {},
     "output_type": "execute_result"
    }
   ],
   "source": [
    "# we can specify the breaking point in the split (\"the element/value\" ) function\n",
    "\n",
    "'faizan is living in Pakistan and maybe he will move to the USA soon!'.split(\"and\")"
   ]
  },
  {
   "cell_type": "code",
   "execution_count": 22,
   "id": "588b5693",
   "metadata": {},
   "outputs": [
    {
     "data": {
      "text/plain": [
       "['faizan is living in Pakistan ', ' maybe he will move to the USA soon!']"
      ]
     },
     "execution_count": 22,
     "metadata": {},
     "output_type": "execute_result"
    }
   ],
   "source": [
    "# In this example \n",
    "'faizan is living in Pakistan ; maybe he will move to the USA soon!'.split(\";\")\n"
   ]
  },
  {
   "cell_type": "code",
   "execution_count": 13,
   "id": "9d889806",
   "metadata": {},
   "outputs": [
    {
     "data": {
      "text/plain": [
       "['Faizan yousaf', ' Haris Raza Farhan']"
      ]
     },
     "execution_count": 13,
     "metadata": {},
     "output_type": "execute_result"
    }
   ],
   "source": [
    "#when we use split (\",\") function with some argument,it will split the values on the basis of comma present in b/w the elements! \n",
    "name = \"Faizan yousaf, Haris Raza Farhan\"\n",
    "name.split(\",\")"
   ]
  },
  {
   "cell_type": "code",
   "execution_count": 19,
   "id": "4946c086",
   "metadata": {},
   "outputs": [
    {
     "data": {
      "text/plain": [
       "[\"I'm\",\n",
       " 'Faizan',\n",
       " 'and',\n",
       " \"I'm\",\n",
       " 'interested',\n",
       " 'in',\n",
       " 'AI',\n",
       " '&',\n",
       " 'Data',\n",
       " 'Science!']"
      ]
     },
     "execution_count": 19,
     "metadata": {},
     "output_type": "execute_result"
    }
   ],
   "source": [
    "\"I'm Faizan and I'm interested in AI & Data Science!\".split()   "
   ]
  },
  {
   "cell_type": "code",
   "execution_count": null,
   "id": "778ac9e0",
   "metadata": {},
   "outputs": [],
   "source": []
  },
  {
   "cell_type": "code",
   "execution_count": null,
   "id": "436b8a00",
   "metadata": {},
   "outputs": [],
   "source": []
  }
 ],
 "metadata": {
  "kernelspec": {
   "display_name": "Python 3 (ipykernel)",
   "language": "python",
   "name": "python3"
  },
  "language_info": {
   "codemirror_mode": {
    "name": "ipython",
    "version": 3
   },
   "file_extension": ".py",
   "mimetype": "text/x-python",
   "name": "python",
   "nbconvert_exporter": "python",
   "pygments_lexer": "ipython3",
   "version": "3.9.12"
  }
 },
 "nbformat": 4,
 "nbformat_minor": 5
}
