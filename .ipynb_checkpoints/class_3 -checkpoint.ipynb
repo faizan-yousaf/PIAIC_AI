{
 "cells": [
  {
   "cell_type": "markdown",
   "id": "6790f155",
   "metadata": {},
   "source": [
    "# How we can print strings?\n",
    "## Let's start!\n"
   ]
  },
  {
   "cell_type": "code",
   "execution_count": 1,
   "id": "2a3ab29f",
   "metadata": {},
   "outputs": [
    {
     "name": "stdout",
     "output_type": "stream",
     "text": [
      "faizan\n"
     ]
    }
   ],
   "source": [
    "print(\"faizan\")"
   ]
  },
  {
   "cell_type": "code",
   "execution_count": 2,
   "id": "270ff0a4",
   "metadata": {},
   "outputs": [
    {
     "name": "stdout",
     "output_type": "stream",
     "text": [
      "faizan is learning python with spirit!\n"
     ]
    }
   ],
   "source": [
    "print(\"faizan is learning python with spirit!\")"
   ]
  },
  {
   "cell_type": "code",
   "execution_count": 9,
   "id": "5f5b4dde",
   "metadata": {
    "scrolled": true
   },
   "outputs": [
    {
     "name": "stdout",
     "output_type": "stream",
     "text": [
      "Name = Faizan \n",
      "Class = BS CS \n",
      "Age = 19\n"
     ]
    }
   ],
   "source": [
    "data = \"Name = Faizan \\nClass = BS CS \\nAge = 19\" #write strings using \" \"\n",
    "\n",
    "print(data)"
   ]
  },
  {
   "cell_type": "code",
   "execution_count": 10,
   "id": "2cb2abad",
   "metadata": {},
   "outputs": [
    {
     "name": "stdout",
     "output_type": "stream",
     "text": [
      "Name = Faizan \n",
      "Class = BS CS \n",
      "Age = 19\n"
     ]
    }
   ],
   "source": [
    "data = 'Name = Faizan \\nClass = BS CS \\nAge = 19' #write strings using ''\n",
    "\n",
    "print(data)"
   ]
  },
  {
   "cell_type": "code",
   "execution_count": 11,
   "id": "b72f809e",
   "metadata": {},
   "outputs": [
    {
     "name": "stdout",
     "output_type": "stream",
     "text": [
      " \n",
      "        Name  =\t  Faizan \n",
      "        Class =\t  BS CS \n",
      "        Age   =\t  19\n",
      "        \n",
      "        \n"
     ]
    }
   ],
   "source": [
    "data = \"\"\" \n",
    "        Name  =\\t  Faizan \n",
    "        Class =\\t  BS CS \n",
    "        Age   =\\t  19\n",
    "        \n",
    "        \"\"\"\n",
    "                    #\"\"\" \"\"\" triple double quotes are used to write multi line strings\n",
    "print(data)          \n",
    "                "
   ]
  },
  {
   "cell_type": "code",
   "execution_count": 12,
   "id": "6e6c0d47",
   "metadata": {},
   "outputs": [
    {
     "name": "stdout",
     "output_type": "stream",
     "text": [
      "\n",
      "        Name  =                Faizan\n",
      "        Class =                BS CS\n",
      "        Age   =                19\n",
      "\n",
      "        \n"
     ]
    }
   ],
   "source": [
    "data = \"\"\"\n",
    "        Name  =\\t Faizan\n",
    "        Class =\\t BS CS\n",
    "        Age   =\\t 19\n",
    "\n",
    "        \"\"\"\n",
    "print(data.expandtabs(30))  #.expandtabs() is used to add additional tab spaces \n"
   ]
  },
  {
   "cell_type": "markdown",
   "id": "fa9082df",
   "metadata": {},
   "source": [
    "# Let's create a variable\n"
   ]
  },
  {
   "cell_type": "code",
   "execution_count": 13,
   "id": "48182da4",
   "metadata": {},
   "outputs": [
    {
     "name": "stdout",
     "output_type": "stream",
     "text": [
      "Faizan's age is 19\n"
     ]
    }
   ],
   "source": [
    "age = 19\n",
    "print (\"Faizan's age is\",age)"
   ]
  },
  {
   "cell_type": "code",
   "execution_count": 35,
   "id": "35d1158b",
   "metadata": {
    "scrolled": true
   },
   "outputs": [
    {
     "name": "stdout",
     "output_type": "stream",
     "text": [
      "My name is Faizan Yousaf\n"
     ]
    }
   ],
   "source": [
    "name = \"Faizan Yousaf\"\n",
    "print(\"My name is\", name)"
   ]
  },
  {
   "cell_type": "markdown",
   "id": "41c31202",
   "metadata": {},
   "source": [
    "## Let's see how we can concatinate variables and strings"
   ]
  },
  {
   "cell_type": "code",
   "execution_count": 14,
   "id": "f2a387a9",
   "metadata": {},
   "outputs": [
    {
     "name": "stdout",
     "output_type": "stream",
     "text": [
      "Faizan Yousaf BS CS 19 UAF\n"
     ]
    }
   ],
   "source": [
    "                                # 1\n",
    "Name = \"Faizan Yousaf\"\n",
    "Class = \"BS CS\"\n",
    "Age = 19\n",
    "University = \"UAF\"\n",
    "print(Name, Class, Age,University)"
   ]
  },
  {
   "cell_type": "code",
   "execution_count": 15,
   "id": "5450fc1a",
   "metadata": {},
   "outputs": [
    {
     "data": {
      "text/plain": [
       "19"
      ]
     },
     "execution_count": 15,
     "metadata": {},
     "output_type": "execute_result"
    }
   ],
   "source": [
    "                                # 2\n",
    "Name = \"Faizan Yousaf\"   \n",
    "Class = \"BS CS \"\n",
    "Age = 19\n",
    "University = \"UAF\"\n",
    "                                #in jupyter, It returns the last variable value when you write the variable name without \n",
    "                                    #using print fuction;\n",
    "        \n",
    "# University\n",
    "Age"
   ]
  },
  {
   "cell_type": "code",
   "execution_count": 16,
   "id": "2272c01f",
   "metadata": {},
   "outputs": [
    {
     "name": "stdout",
     "output_type": "stream",
     "text": [
      "Your name is Faizan Yousaf\n",
      "Your class is BS CS \n",
      "Your age is 19\n",
      "You study at UAF\n"
     ]
    }
   ],
   "source": [
    "                                # 3\n",
    "Name = \"Faizan Yousaf\"   \n",
    "Class = \"BS CS \"\n",
    "Age = 19\n",
    "University = \"UAF\"\n",
    "                                #we used \"+\" sign to combine variables and strings\n",
    "    \n",
    "print( \"Your name is \"+ Name +\"\\nYour class is \"+ Class +\"\\nYour age is \"+ str(Age) + \"\\nYou study at \"+ University)"
   ]
  },
  {
   "cell_type": "code",
   "execution_count": 17,
   "id": "72789f03",
   "metadata": {},
   "outputs": [
    {
     "name": "stdout",
     "output_type": "stream",
     "text": [
      "\n",
      "        Your name is = Faizan Yousaf\n",
      "        Your class is = BS CS \n",
      "        Your age is =  21\n",
      "        You study at = UAF\n",
      "\n"
     ]
    }
   ],
   "source": [
    "                                # 3\n",
    "Name = \"Faizan Yousaf\"   \n",
    "Class = \"BS CS \"\n",
    "Age = 21\n",
    "University = \"UAF\"\n",
    "                                #we can concatinate using .format() function\n",
    "data = \"\"\"\n",
    "        Your name is = {}\n",
    "        Your class is = {}\n",
    "        Your age is =  {}\n",
    "        You study at = {}\n",
    "\"\"\".format(Name , Class, Age , University)\n",
    "   #         0     1      2       3\n",
    "print(data)       "
   ]
  },
  {
   "cell_type": "code",
   "execution_count": 18,
   "id": "3fdbfb88",
   "metadata": {},
   "outputs": [
    {
     "name": "stdout",
     "output_type": "stream",
     "text": [
      "\n",
      "            Your name is Faizan Yousaf\n",
      "            Your class is BS CS \n",
      "            Your age is 19\n",
      "            You study at UAF\n",
      "        \n"
     ]
    }
   ],
   "source": [
    "                                # 4\n",
    "Name = \"Faizan Yousaf\"   \n",
    "Class = \"BS CS \"\n",
    "Age = 19\n",
    "University = \"UAF\"\n",
    "\n",
    "data = \"\"\"\n",
    "            Your name is {3}\n",
    "            Your class is {0}\n",
    "            Your age is {1}\n",
    "            You study at {2}\n",
    "        \"\"\".format(Class , Age , University , Name)\n",
    "            #        0      1      2           3 \n",
    "                                                   #we used .format fucntion with indexes to print out values of variables\n",
    "print(data)"
   ]
  },
  {
   "cell_type": "code",
   "execution_count": 8,
   "id": "8b872b11",
   "metadata": {},
   "outputs": [
    {
     "name": "stdout",
     "output_type": "stream",
     "text": [
      "\n",
      "            Your name is Faizan Yousaf\n",
      "            Your age is 19\n",
      "            Your class is BS CS \n",
      "            You study at UAF\n",
      "            \n"
     ]
    }
   ],
   "source": [
    "                                # 5\n",
    "Name = \"Faizan Yousaf\"   \n",
    "Class = \"BS CS \"\n",
    "Age = 19\n",
    "University = \"UAF\"\n",
    " \n",
    "data = f\"\"\"\n",
    "            Your name is {Name}\n",
    "            Your age is {Age}\n",
    "            Your class is {Class}\n",
    "            You study at {University}\n",
    "            \"\"\"\n",
    "                                  #SIMPLEST    #just write 'f' after assignment operator and in '{}' write variable name;\n",
    "print(data)\n"
   ]
  },
  {
   "cell_type": "code",
   "execution_count": null,
   "id": "775754dc",
   "metadata": {},
   "outputs": [],
   "source": []
  }
 ],
 "metadata": {
  "kernelspec": {
   "display_name": "Python 3 (ipykernel)",
   "language": "python",
   "name": "python3"
  },
  "language_info": {
   "codemirror_mode": {
    "name": "ipython",
    "version": 3
   },
   "file_extension": ".py",
   "mimetype": "text/x-python",
   "name": "python",
   "nbconvert_exporter": "python",
   "pygments_lexer": "ipython3",
   "version": "3.9.12"
  }
 },
 "nbformat": 4,
 "nbformat_minor": 5
}
