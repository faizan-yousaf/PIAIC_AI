{
 "cells": [
  {
   "cell_type": "markdown",
   "id": "a2e79831",
   "metadata": {},
   "source": [
    "Class 4 practice"
   ]
  },
  {
   "cell_type": "code",
   "execution_count": 1,
   "id": "299a1a4a",
   "metadata": {},
   "outputs": [
    {
     "name": "stdout",
     "output_type": "stream",
     "text": [
      "faizan is learning python\n"
     ]
    }
   ],
   "source": [
    "print(\"faizan is learning python\")"
   ]
  },
  {
   "cell_type": "code",
   "execution_count": 5,
   "id": "087fde2f",
   "metadata": {},
   "outputs": [
    {
     "name": "stdout",
     "output_type": "stream",
     "text": [
      "faizan yousaf Muhammad Yousaf 21 5.3 Khanewal BS Computer Science 3\n"
     ]
    }
   ],
   "source": [
    "name = \"faizan yousaf\"\n",
    "father_name = \"Muhammad Yousaf\"\n",
    "age = 21\n",
    "height = 5.3\n",
    "address = \"Khanewal\"\n",
    "degree = \"BS Computer Science\"\n",
    "semester = 3\n",
    "\n",
    "print ( name , father_name , age, height , address, degree, semester )\n"
   ]
  },
  {
   "cell_type": "code",
   "execution_count": null,
   "id": "6d4bd28e",
   "metadata": {},
   "outputs": [],
   "source": [
    "name = \"faizan yousaf\"\n",
    "father_name = \"Muhammad Yousaf\"\n",
    "age = 21\n",
    "height = 5.3\n",
    "address = \"Khanewal\"\n",
    "degree = \"BS Computer Science\"\n",
    "semester = 3\n",
    "\n",
    "print ( name , father_name , age, height , address, degree, semester )"
   ]
  },
  {
   "cell_type": "code",
   "execution_count": 2,
   "id": "5eb9a3f8",
   "metadata": {},
   "outputs": [
    {
     "name": "stdout",
     "output_type": "stream",
     "text": [
      "hey world... I'm programming in Python\n"
     ]
    }
   ],
   "source": [
    "language = \"Python\"\n",
    "print(f\"hey world... I'm programming in {language}\")"
   ]
  },
  {
   "cell_type": "code",
   "execution_count": null,
   "id": "a5ccd32e",
   "metadata": {},
   "outputs": [],
   "source": []
  }
 ],
 "metadata": {
  "kernelspec": {
   "display_name": "Python 3 (ipykernel)",
   "language": "python",
   "name": "python3"
  },
  "language_info": {
   "codemirror_mode": {
    "name": "ipython",
    "version": 3
   },
   "file_extension": ".py",
   "mimetype": "text/x-python",
   "name": "python",
   "nbconvert_exporter": "python",
   "pygments_lexer": "ipython3",
   "version": "3.9.12"
  }
 },
 "nbformat": 4,
 "nbformat_minor": 5
}
