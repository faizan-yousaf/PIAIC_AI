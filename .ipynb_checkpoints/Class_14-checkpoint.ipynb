{
 "cells": [
  {
   "cell_type": "markdown",
   "id": "0b9cc773",
   "metadata": {},
   "source": [
    "# Encapsulation:\n",
    "* private:\n",
    "    variables or methods that are accessable within a class or use through inheritance. It is never accessible outside of class.\n",
    "    --> If you want to access outside of class, we have to use setter and getter function (Method) <br>\n",
    "  <br>\n",
    "    * we use `__` to make an attribute/method private.\n",
    "    \n",
    "    * Methods\n",
    "    * Attributes\n",
    "   "
   ]
  },
  {
   "cell_type": "markdown",
   "id": "952e0b47",
   "metadata": {},
   "source": [
    "#### for example, if we see facebook.com , we cannot see any other account's password because it is kept private.\n",
    "### and when we click on forgot password it do 2 task:\n",
    "* set new password  (Reset password) OR\n",
    "* Update the password"
   ]
  },
  {
   "cell_type": "markdown",
   "id": "e8d3dc97",
   "metadata": {},
   "source": [
    "* forget password = setter function\n",
    "* login = getter funtion"
   ]
  },
  {
   "cell_type": "markdown",
   "id": "b673e2e7",
   "metadata": {},
   "source": [
    "* when we will get something from the database we can say it is getter function.\n",
    "* when we will update something on the database we can say it is setter function."
   ]
  },
  {
   "cell_type": "markdown",
   "id": "240c0ed5",
   "metadata": {},
   "source": [
    "# Getter :\n",
    "* to access private attributes, we use getter. <br>\n",
    "\n",
    "# Setter :\n",
    "* to update the existing attributes, we use setter "
   ]
  },
  {
   "cell_type": "markdown",
   "id": "157828ac",
   "metadata": {},
   "source": [
    "## Let's create a Class of the example we were talking about:\n"
   ]
  },
  {
   "cell_type": "code",
   "execution_count": 6,
   "id": "dd68f372",
   "metadata": {},
   "outputs": [],
   "source": [
    "class Facebook():\n",
    "    def __init__(self, user):\n",
    "        self.user = user        # public \n",
    "        self.__password = \"123\" # private\n",
    "        self.__email = None     #private\n",
    "        \n",
    "u1 = Facebook(\"Muhammad Faizan\")\n",
    "u2 = Facebook(\"Ahmad khan\")"
   ]
  },
  {
   "cell_type": "code",
   "execution_count": 13,
   "id": "0f819af9",
   "metadata": {},
   "outputs": [
    {
     "data": {
      "text/plain": [
       "False"
      ]
     },
     "execution_count": 13,
     "metadata": {},
     "output_type": "execute_result"
    }
   ],
   "source": [
    "\"__password\" == \"password\""
   ]
  },
  {
   "cell_type": "markdown",
   "id": "d80bc758",
   "metadata": {},
   "source": [
    "* Now if we check, public attributes are callable but private attributes cannot be called!"
   ]
  },
  {
   "cell_type": "code",
   "execution_count": 9,
   "id": "25581653",
   "metadata": {},
   "outputs": [
    {
     "name": "stdout",
     "output_type": "stream",
     "text": [
      "Muhammad Faizan\n"
     ]
    }
   ],
   "source": [
    "print(u1.user)"
   ]
  },
  {
   "cell_type": "code",
   "execution_count": 10,
   "id": "d1f7a7d7",
   "metadata": {},
   "outputs": [
    {
     "name": "stdout",
     "output_type": "stream",
     "text": [
      "Ahmad khan\n"
     ]
    }
   ],
   "source": [
    "print(u2.user)"
   ]
  },
  {
   "cell_type": "markdown",
   "id": "e9b6b9df",
   "metadata": {},
   "source": [
    "* Let's try to call private attributes:"
   ]
  },
  {
   "cell_type": "code",
   "execution_count": 11,
   "id": "c3e91f2f",
   "metadata": {},
   "outputs": [
    {
     "ename": "AttributeError",
     "evalue": "'Facebook' object has no attribute 'password'",
     "output_type": "error",
     "traceback": [
      "\u001b[1;31m---------------------------------------------------------------------------\u001b[0m",
      "\u001b[1;31mAttributeError\u001b[0m                            Traceback (most recent call last)",
      "Input \u001b[1;32mIn [11]\u001b[0m, in \u001b[0;36m<cell line: 1>\u001b[1;34m()\u001b[0m\n\u001b[1;32m----> 1\u001b[0m \u001b[38;5;28mprint\u001b[39m(\u001b[43mu1\u001b[49m\u001b[38;5;241;43m.\u001b[39;49m\u001b[43mpassword\u001b[49m)\n",
      "\u001b[1;31mAttributeError\u001b[0m: 'Facebook' object has no attribute 'password'"
     ]
    }
   ],
   "source": [
    "print(u1.password)"
   ]
  },
  {
   "cell_type": "code",
   "execution_count": 12,
   "id": "f64d83d5",
   "metadata": {},
   "outputs": [
    {
     "ename": "AttributeError",
     "evalue": "'Facebook' object has no attribute 'email'",
     "output_type": "error",
     "traceback": [
      "\u001b[1;31m---------------------------------------------------------------------------\u001b[0m",
      "\u001b[1;31mAttributeError\u001b[0m                            Traceback (most recent call last)",
      "Input \u001b[1;32mIn [12]\u001b[0m, in \u001b[0;36m<cell line: 1>\u001b[1;34m()\u001b[0m\n\u001b[1;32m----> 1\u001b[0m \u001b[38;5;28mprint\u001b[39m(\u001b[43mu1\u001b[49m\u001b[38;5;241;43m.\u001b[39;49m\u001b[43memail\u001b[49m)\n",
      "\u001b[1;31mAttributeError\u001b[0m: 'Facebook' object has no attribute 'email'"
     ]
    }
   ],
   "source": [
    "print(u1.email)"
   ]
  },
  {
   "cell_type": "markdown",
   "id": "409df286",
   "metadata": {},
   "source": [
    "#### Encapsulation:\n",
    "    ksi bi attribute ya method ko private krna...\n",
    "    Example of capsule (dawai)"
   ]
  },
  {
   "cell_type": "markdown",
   "id": "ffed34a3",
   "metadata": {},
   "source": [
    "* python is not pure OOP programming language!"
   ]
  },
  {
   "cell_type": "code",
   "execution_count": null,
   "id": "83f19624",
   "metadata": {},
   "outputs": [],
   "source": []
  },
  {
   "cell_type": "code",
   "execution_count": null,
   "id": "506885fc",
   "metadata": {},
   "outputs": [],
   "source": []
  },
  {
   "cell_type": "code",
   "execution_count": null,
   "id": "c28ab15f",
   "metadata": {},
   "outputs": [],
   "source": []
  },
  {
   "cell_type": "code",
   "execution_count": null,
   "id": "78278071",
   "metadata": {},
   "outputs": [],
   "source": []
  },
  {
   "cell_type": "code",
   "execution_count": null,
   "id": "ce30f4af",
   "metadata": {},
   "outputs": [],
   "source": []
  },
  {
   "cell_type": "code",
   "execution_count": null,
   "id": "849e0980",
   "metadata": {},
   "outputs": [],
   "source": []
  }
 ],
 "metadata": {
  "kernelspec": {
   "display_name": "Python 3 (ipykernel)",
   "language": "python",
   "name": "python3"
  },
  "language_info": {
   "codemirror_mode": {
    "name": "ipython",
    "version": 3
   },
   "file_extension": ".py",
   "mimetype": "text/x-python",
   "name": "python",
   "nbconvert_exporter": "python",
   "pygments_lexer": "ipython3",
   "version": "3.9.12"
  }
 },
 "nbformat": 4,
 "nbformat_minor": 5
}
