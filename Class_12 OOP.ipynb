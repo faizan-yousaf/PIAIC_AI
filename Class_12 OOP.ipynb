{
 "cells": [
  {
   "cell_type": "markdown",
   "id": "02074d29",
   "metadata": {},
   "source": [
    "# OOP :\n",
    "\n",
    "* Objects: \"Everything in the world that has a name is called an object.\"\n",
    "\n",
    "* in OPP, the variables become attributes\n",
    "* in OPP, the functions become methods\n",
    "\n",
    "    ##### Every object has 2 properties:\n",
    "    \n",
    "    ### Method: (function, procedure, subroutine etc)\n",
    "     * it must change some attributes.\n",
    "     * it must return something.\n",
    "        \n",
    "    ### Attributes: (propertites, fields, characteristics)\n",
    "   \n",
    "     * it store some value for a particular time.\n",
    "     "
   ]
  },
  {
   "cell_type": "markdown",
   "id": "516104ca",
   "metadata": {},
   "source": [
    "# OOP :\n",
    "\n",
    "* Objects: \"Everything in the world that has a name is called an object.\"\n",
    "\n",
    "* in OPP, the variables become attributes\n",
    "* in OPP, the functions become methods\n",
    "\n",
    "    ##### Every object has 2 properties:\n",
    "    \n",
    "    ### Method: (function, procedure, subroutine etc)\n",
    "     * it must change some attributes.\n",
    "     * it must return something.\n",
    "        \n",
    "    ### Attributes: (propertites, fields, characteristics)\n",
    "   \n",
    "     * it store some value for a particular time.\n",
    "     "
   ]
  },
  {
   "cell_type": "markdown",
   "id": "1458aeb3",
   "metadata": {},
   "source": [
    " ##### Every object has 2 properties:"
   ]
  },
  {
   "cell_type": "markdown",
   "id": "260cebeb",
   "metadata": {},
   "source": [
    "# Class\n",
    "\n",
    "* Blue print\n",
    "* Calpitalize each word i.e (ClassName) <br>\n",
    "  i.e `class ClassName(): pass`\n",
    "* we place same type of objects in single class.\n",
    "\n",
    "* constructor (Method):\n",
    "     * always called when we create new objects. \n",
    "* destructor (Method):\n",
    "     * always called when we delete any objects.\n",
    "\n",
    "* In Old programming languages:\n",
    "    * function name must be same as the class name;\n",
    "* But in python:\n",
    "    * function name must be :\n",
    "       \n",
    "       *`def __init(self):`      (within a class)\n",
    "       * self argument should always be used during the creation.\n",
    "       * But it must be ignored while calling the function.\n",
    "         * the first argument can have any name:\n",
    "            * self\n",
    "            * abc\n",
    "            * xyz\n",
    "            * this\n",
    "        \n",
    "        * all attributes should be written in constructor body\n",
    "            * self.attribute_name\n",
    "\n"
   ]
  },
  {
   "cell_type": "markdown",
   "id": "38af178d",
   "metadata": {},
   "source": [
    "## In Linear programming :"
   ]
  },
  {
   "cell_type": "code",
   "execution_count": 2,
   "id": "58350fca",
   "metadata": {},
   "outputs": [],
   "source": [
    "Faizan_name = \"Muhammad Faizan\"\n",
    "Faizan_age = 21\n",
    "Faizan_degree = \"BS DATA SCIENCE\"\n",
    "\n",
    "def faizan_speak():\n",
    "    pass\n",
    "def faizan_eat():\n",
    "    pass\n",
    "def faizan_sleep():\n",
    "    pass\n",
    "\n"
   ]
  },
  {
   "cell_type": "markdown",
   "id": "c5b9cee6",
   "metadata": {},
   "source": [
    "# OPP:\n",
    "   * less computing power \n",
    "   * copressed code\n",
    "   * code management too simple\n",
    "    "
   ]
  },
  {
   "cell_type": "markdown",
   "id": "1067e716",
   "metadata": {},
   "source": [
    "# let's create our first code in OOP !!!!"
   ]
  },
  {
   "cell_type": "code",
   "execution_count": 1,
   "id": "20784830",
   "metadata": {},
   "outputs": [],
   "source": [
    "class Student(): # we have created our class!\n",
    "    \n",
    "    def __init__(self, student_id , student_name): #constructor \n",
    "    \n",
    "    #self.Attribute_name = constructor local variable name \n",
    "        self.id = student_id\n",
    "        self.name = student_name\n",
    "        self.education = None\n",
    "        self.age = None\n",
    "        self.username = student_name\n",
    "        self.password = \"123\"\n",
    "    \n",
    "    \n",
    "    \n",
    "    \n",
    "    def login(self, user_n, pws ):  # Method\n",
    "        if self.username == user_n and self.password == pws:\n",
    "            return \"Valid user! /n Welcome to your profile. :)\"\n",
    "        else:\n",
    "            return \"Invalid User! /n Please enter correct username and password.\"\n",
    "        \n",
    "    def displayInfo (self): # Method\n",
    "        cards = f\"\"\"\n",
    "        PIAIC Student Cards: \n",
    "            Name= {self.name}\n",
    "            class = {self.education}\n",
    "            age = {self.age}\n",
    "            User Name = {self.username}\n",
    "        \"\"\"\n",
    "        return cards\n",
    "    "
   ]
  },
  {
   "cell_type": "code",
   "execution_count": 3,
   "id": "dc9d2c85",
   "metadata": {},
   "outputs": [],
   "source": [
    "# ClassName(arg1, agr2...) ignore the self arg while calling the class.\n",
    "\n",
    "s1 = Student(1,\"Muhammad Faizan\") #creating new object s1\n",
    "s2 = Student(2, \"Waqar Akram\")    #creating new object s1\n",
    "s3 = Student(3, \"Zahoor Ahmed\")   #creating new object s1"
   ]
  },
  {
   "cell_type": "markdown",
   "id": "d63da302",
   "metadata": {},
   "source": [
    "# How to access the objects:\n",
    "* `print(objectName.attributeName)`\n",
    "    "
   ]
  },
  {
   "cell_type": "code",
   "execution_count": 5,
   "id": "84df48bb",
   "metadata": {},
   "outputs": [
    {
     "name": "stdout",
     "output_type": "stream",
     "text": [
      "None\n"
     ]
    }
   ],
   "source": [
    "print(s1.age)"
   ]
  },
  {
   "cell_type": "code",
   "execution_count": 7,
   "id": "4d9d0d86",
   "metadata": {
    "scrolled": true
   },
   "outputs": [
    {
     "name": "stdout",
     "output_type": "stream",
     "text": [
      "Muhammad Faizan\n",
      "1\n",
      "123\n"
     ]
    }
   ],
   "source": [
    "print(s1.name)\n",
    "print(s1.id)\n",
    "print(s1.password)"
   ]
  },
  {
   "cell_type": "code",
   "execution_count": 8,
   "id": "207f5e19",
   "metadata": {},
   "outputs": [
    {
     "name": "stdout",
     "output_type": "stream",
     "text": [
      "Zahoor Ahmed 3\n"
     ]
    }
   ],
   "source": [
    "print(s3.name, s3.id)"
   ]
  },
  {
   "cell_type": "markdown",
   "id": "e2d3f0b2",
   "metadata": {},
   "source": [
    "# How to call the methods \n",
    "* `object_Name.methods(arg1 value, arg2 value)`  "
   ]
  },
  {
   "cell_type": "code",
   "execution_count": 4,
   "id": "2cacc159",
   "metadata": {},
   "outputs": [],
   "source": [
    "class Student(): # we have created our class!\n",
    "    \n",
    "    def __init__(self, student_id , student_name): #constructor \n",
    "    \n",
    "    #self.Attribute_name = constructor local variable name \n",
    "        self.id = student_id\n",
    "        self.name = student_name\n",
    "        self.education = None\n",
    "        self.age = None\n",
    "        self.username = student_name\n",
    "        self.password = \"123\"\n",
    "    \n",
    "    \n",
    "    \n",
    "    \n",
    "    def login(self, user_n, pws ):  # Method\n",
    "        if self.user_n == self.username and self.password == self.pws:\n",
    "            return \"Valid user! /n Welcome to your profile. :)\"\n",
    "        else:\n",
    "            return \"Invalid User! /n Please enter correct username and password.\"\n",
    "        \n",
    "    def displayInfo (self): # Method\n",
    "        cards = f\"\"\"\n",
    "        PIAIC Student Cards: \n",
    "            Name= {self.name}\n",
    "            class = {self.education}\n",
    "            age = {self.age}\n",
    "            User Name = {self.username}\n",
    "        \"\"\"\n",
    "        return cards\n",
    "    "
   ]
  },
  {
   "cell_type": "code",
   "execution_count": 7,
   "id": "d93c590c",
   "metadata": {},
   "outputs": [
    {
     "ename": "TypeError",
     "evalue": "login() missing 2 required positional arguments: 'user_n' and 'pws'",
     "output_type": "error",
     "traceback": [
      "\u001b[1;31m---------------------------------------------------------------------------\u001b[0m",
      "\u001b[1;31mTypeError\u001b[0m                                 Traceback (most recent call last)",
      "Input \u001b[1;32mIn [7]\u001b[0m, in \u001b[0;36m<cell line: 2>\u001b[1;34m()\u001b[0m\n\u001b[0;32m      1\u001b[0m \u001b[38;5;66;03m#it will through an error as there are no arguments passed in the mehtod.\u001b[39;00m\n\u001b[1;32m----> 2\u001b[0m \u001b[43ms1\u001b[49m\u001b[38;5;241;43m.\u001b[39;49m\u001b[43mlogin\u001b[49m\u001b[43m(\u001b[49m\u001b[43m)\u001b[49m\n",
      "\u001b[1;31mTypeError\u001b[0m: login() missing 2 required positional arguments: 'user_n' and 'pws'"
     ]
    }
   ],
   "source": [
    "#it will through an error as there are no arguments passed in the mehtod.\n",
    "s1.login()"
   ]
  },
  {
   "cell_type": "code",
   "execution_count": 6,
   "id": "efcab26c",
   "metadata": {},
   "outputs": [
    {
     "data": {
      "text/plain": [
       "'Valid user! /n Welcome to your profile. :)'"
      ]
     },
     "execution_count": 6,
     "metadata": {},
     "output_type": "execute_result"
    }
   ],
   "source": [
    "s1.login(\"Muhammad Faizan\",\"123\")"
   ]
  },
  {
   "cell_type": "code",
   "execution_count": 17,
   "id": "f5f28964",
   "metadata": {},
   "outputs": [
    {
     "data": {
      "text/plain": [
       "'Invalid User! /n Please enter correct username and password.'"
      ]
     },
     "execution_count": 17,
     "metadata": {},
     "output_type": "execute_result"
    }
   ],
   "source": [
    "#if we put different values of objects in our functions, then the else message will be displayed!\n",
    "s1.login(\"Faizan \", \"123\")"
   ]
  },
  {
   "cell_type": "code",
   "execution_count": 13,
   "id": "989bf236",
   "metadata": {},
   "outputs": [
    {
     "data": {
      "text/plain": [
       "'Valid user! /n Welcome to your profile. :)'"
      ]
     },
     "execution_count": 13,
     "metadata": {},
     "output_type": "execute_result"
    }
   ],
   "source": [
    "s2.login(\"Waqar Akram\", '123')"
   ]
  },
  {
   "cell_type": "code",
   "execution_count": 15,
   "id": "dbcce386",
   "metadata": {},
   "outputs": [
    {
     "data": {
      "text/plain": [
       "'Valid user! /n Welcome to your profile. :)'"
      ]
     },
     "execution_count": 15,
     "metadata": {},
     "output_type": "execute_result"
    }
   ],
   "source": [
    "s3.login(\"Zahoor Ahmed\", \"123\")"
   ]
  },
  {
   "cell_type": "code",
   "execution_count": 8,
   "id": "f7a5dc32",
   "metadata": {
    "scrolled": true
   },
   "outputs": [
    {
     "name": "stdout",
     "output_type": "stream",
     "text": [
      "\n",
      "        PIAIC Student Cards: \n",
      "            Name= Muhammad Faizan\n",
      "            class = None\n",
      "            age = None\n",
      "            User Name = Muhammad Faizan\n",
      "        \n"
     ]
    }
   ],
   "source": [
    "print(s1.displayInfo())"
   ]
  },
  {
   "cell_type": "code",
   "execution_count": 12,
   "id": "89342a51",
   "metadata": {},
   "outputs": [
    {
     "name": "stdout",
     "output_type": "stream",
     "text": [
      "\n",
      "        PIAIC Student Cards: \n",
      "            Name= Waqar Akram\n",
      "            class = None\n",
      "            age = None\n",
      "            User Name = Waqar Akram\n",
      "        \n"
     ]
    }
   ],
   "source": [
    "print(s2.displayInfo())"
   ]
  },
  {
   "cell_type": "code",
   "execution_count": 11,
   "id": "840b2736",
   "metadata": {},
   "outputs": [
    {
     "name": "stdout",
     "output_type": "stream",
     "text": [
      "\n",
      "        PIAIC Student Cards: \n",
      "            Name= Zahoor Ahmed\n",
      "            class = None\n",
      "            age = None\n",
      "            User Name = Zahoor Ahmed\n",
      "        \n"
     ]
    }
   ],
   "source": [
    "print(s3.displayInfo())"
   ]
  },
  {
   "cell_type": "markdown",
   "id": "f20d6ce2",
   "metadata": {},
   "source": [
    "# now let's assign age value :"
   ]
  },
  {
   "cell_type": "code",
   "execution_count": 41,
   "id": "5768a3a6",
   "metadata": {},
   "outputs": [],
   "source": [
    "s1.age = \"21\""
   ]
  },
  {
   "cell_type": "code",
   "execution_count": 42,
   "id": "0577da2e",
   "metadata": {
    "scrolled": false
   },
   "outputs": [
    {
     "name": "stdout",
     "output_type": "stream",
     "text": [
      "\n",
      "        PIAIC Student Cards: \n",
      "            Name= Muhammad Faizan\n",
      "            class = None\n",
      "            age = 21\n",
      "            User Name = Muhammad Faizan\n",
      "        \n"
     ]
    }
   ],
   "source": [
    "print(s1.displayInfo())"
   ]
  },
  {
   "cell_type": "code",
   "execution_count": 23,
   "id": "ea248252",
   "metadata": {},
   "outputs": [],
   "source": [
    "s1.education = \"BS CS\"\n",
    "s1.age = '21'"
   ]
  },
  {
   "cell_type": "code",
   "execution_count": 24,
   "id": "5d268b3a",
   "metadata": {},
   "outputs": [
    {
     "name": "stdout",
     "output_type": "stream",
     "text": [
      "\n",
      "        PIAIC Student Cards: \n",
      "            Name= Muhammad Faizan\n",
      "            class = BS CS\n",
      "            age = 21\n",
      "            User Name = Muhammad Faizan\n",
      "        \n"
     ]
    }
   ],
   "source": [
    "print(s1.displayInfo())"
   ]
  },
  {
   "cell_type": "markdown",
   "id": "23f24708",
   "metadata": {},
   "source": [
    "### `use dir(object/class Name) to see the functions of objects / class` "
   ]
  },
  {
   "cell_type": "code",
   "execution_count": 43,
   "id": "728bf52c",
   "metadata": {},
   "outputs": [
    {
     "data": {
      "text/plain": [
       "['__class__',\n",
       " '__delattr__',\n",
       " '__dict__',\n",
       " '__dir__',\n",
       " '__doc__',\n",
       " '__eq__',\n",
       " '__format__',\n",
       " '__ge__',\n",
       " '__getattribute__',\n",
       " '__gt__',\n",
       " '__hash__',\n",
       " '__init__',\n",
       " '__init_subclass__',\n",
       " '__le__',\n",
       " '__lt__',\n",
       " '__module__',\n",
       " '__ne__',\n",
       " '__new__',\n",
       " '__reduce__',\n",
       " '__reduce_ex__',\n",
       " '__repr__',\n",
       " '__setattr__',\n",
       " '__sizeof__',\n",
       " '__str__',\n",
       " '__subclasshook__',\n",
       " '__weakref__',\n",
       " 'displayInfo',\n",
       " 'login']"
      ]
     },
     "execution_count": 43,
     "metadata": {},
     "output_type": "execute_result"
    }
   ],
   "source": [
    "dir(Student)"
   ]
  },
  {
   "cell_type": "code",
   "execution_count": 44,
   "id": "11bf7a64",
   "metadata": {},
   "outputs": [
    {
     "data": {
      "text/plain": [
       "['__class__',\n",
       " '__delattr__',\n",
       " '__dict__',\n",
       " '__dir__',\n",
       " '__doc__',\n",
       " '__eq__',\n",
       " '__format__',\n",
       " '__ge__',\n",
       " '__getattribute__',\n",
       " '__gt__',\n",
       " '__hash__',\n",
       " '__init__',\n",
       " '__init_subclass__',\n",
       " '__le__',\n",
       " '__lt__',\n",
       " '__module__',\n",
       " '__ne__',\n",
       " '__new__',\n",
       " '__reduce__',\n",
       " '__reduce_ex__',\n",
       " '__repr__',\n",
       " '__setattr__',\n",
       " '__sizeof__',\n",
       " '__str__',\n",
       " '__subclasshook__',\n",
       " '__weakref__',\n",
       " 'age',\n",
       " 'displayInfo',\n",
       " 'education',\n",
       " 'id',\n",
       " 'login',\n",
       " 'name',\n",
       " 'password',\n",
       " 'username']"
      ]
     },
     "execution_count": 44,
     "metadata": {},
     "output_type": "execute_result"
    }
   ],
   "source": [
    "dir(s1)"
   ]
  },
  {
   "cell_type": "code",
   "execution_count": null,
   "id": "679d1876",
   "metadata": {},
   "outputs": [],
   "source": []
  }
 ],
 "metadata": {
  "kernelspec": {
   "display_name": "Python 3 (ipykernel)",
   "language": "python",
   "name": "python3"
  },
  "language_info": {
   "codemirror_mode": {
    "name": "ipython",
    "version": 3
   },
   "file_extension": ".py",
   "mimetype": "text/x-python",
   "name": "python",
   "nbconvert_exporter": "python",
   "pygments_lexer": "ipython3",
   "version": "3.9.12"
  }
 },
 "nbformat": 4,
 "nbformat_minor": 5
}
