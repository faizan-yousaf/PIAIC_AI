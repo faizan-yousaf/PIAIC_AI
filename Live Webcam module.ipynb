{
 "cells": [
  {
   "cell_type": "markdown",
   "id": "775d75ee",
   "metadata": {},
   "source": [
    "## Use your webcam using python pakage: "
   ]
  },
  {
   "cell_type": "markdown",
   "id": "a42f81a7",
   "metadata": {},
   "source": [
    "* `OpenCV`\n"
   ]
  },
  {
   "cell_type": "code",
   "execution_count": null,
   "id": "5e11324a",
   "metadata": {},
   "outputs": [],
   "source": [
    "import numpy as np\n",
    "import cv2\n",
    "\n",
    "cap = cv2.VideoCapture(0)\n",
    "\n",
    "while(True):\n",
    "    rat, frame = cap.read()\n",
    "    gray = cv2.cvtColor(frame, cv2.COLOR_BGR2GRAY)\n",
    "    \n",
    "    cv2.imshow(\"Mera camera h tmhain kia\", gray)\n",
    "    if cv2.waitKey(1) & 0xFF == ord('q'):\n",
    "        break\n",
    "        \n",
    "cap.release()\n",
    "cv2.destroyAllWindows()\n",
    "    \n",
    "    "
   ]
  },
  {
   "cell_type": "markdown",
   "id": "e582b162",
   "metadata": {},
   "source": [
    "# How you both can run this on your systems...\n",
    "* As I've used openCV pakage in my code, it has a built-in funtion named `videoCapture` it is used for the visuals in python.\n",
    "* simply run the code using any IDE; i.e JupyterNotebook, VS code.\n",
    "* Wait for a few seconds, and it will send commands to run your webcam. \n",
    "* If a seperate window having your live video doesn't appear, check your tabs in the tab bar.\n",
    "* To close the webcam, restart your kernal.\n",
    "    "
   ]
  },
  {
   "cell_type": "code",
   "execution_count": null,
   "id": "451f0a41",
   "metadata": {},
   "outputs": [],
   "source": []
  }
 ],
 "metadata": {
  "kernelspec": {
   "display_name": "Python 3 (ipykernel)",
   "language": "python",
   "name": "python3"
  },
  "language_info": {
   "codemirror_mode": {
    "name": "ipython",
    "version": 3
   },
   "file_extension": ".py",
   "mimetype": "text/x-python",
   "name": "python",
   "nbconvert_exporter": "python",
   "pygments_lexer": "ipython3",
   "version": "3.9.12"
  }
 },
 "nbformat": 4,
 "nbformat_minor": 5
}
