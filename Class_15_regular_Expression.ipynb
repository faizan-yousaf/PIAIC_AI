{
 "cells": [
  {
   "cell_type": "markdown",
   "id": "15fc167a",
   "metadata": {},
   "source": [
    "# Regular Expression"
   ]
  },
  {
   "cell_type": "markdown",
   "id": "59d1bdbe",
   "metadata": {},
   "source": [
    "# Regular Expression :\n",
    "   * Sequence of a character is called regular expression.\n",
    "   * only used for strings.\n",
    "   * if one true then it will go on the next step.\n",
    "   * we extract some information from text.\n",
    "   * it's easy to extract information from structured data but difficult to extract info from unstructured data.\n",
    "   * i.e in CNIC, we can define gender from the last digit of CNIC.\n",
    "   * there are 2 patterns in CNIC: with hyphen and without hyphen.\n",
    "   * it will extract the exact pattern which we will search for.\n",
    "   \n",
    "   * `It is very important in checking emails in the forms and in checking if both passwords are correct or not.`"
   ]
  },
  {
   "cell_type": "markdown",
   "id": "18ca204e",
   "metadata": {},
   "source": [
    "# Data Science:\n",
    "   * Using the best algorithms to solve any real world problem"
   ]
  },
  {
   "cell_type": "code",
   "execution_count": 2,
   "id": "a81b571a",
   "metadata": {},
   "outputs": [],
   "source": [
    "import re"
   ]
  },
  {
   "cell_type": "code",
   "execution_count": null,
   "id": "ff9f2b7c",
   "metadata": {},
   "outputs": [],
   "source": [
    "abc@domian.org "
   ]
  },
  {
   "cell_type": "markdown",
   "id": "bae76a16",
   "metadata": {},
   "source": [
    "### Syntax of re.findall() function\n",
    "\n",
    "`re.findall('pattern', string, flag=n)`"
   ]
  },
  {
   "cell_type": "code",
   "execution_count": 9,
   "id": "ee554623",
   "metadata": {},
   "outputs": [
    {
     "data": {
      "text/plain": [
       "['a', 'a']"
      ]
     },
     "execution_count": 9,
     "metadata": {},
     "output_type": "execute_result"
    }
   ],
   "source": [
    "text = \"\"\" \n",
    "pakistan\n",
    "\"\"\"\n",
    "re.findall('a', text) # extract character wise"
   ]
  },
  {
   "cell_type": "code",
   "execution_count": 10,
   "id": "2c1224fe",
   "metadata": {},
   "outputs": [
    {
     "data": {
      "text/plain": [
       "['ki', 'ki', 'ki']"
      ]
     },
     "execution_count": 10,
     "metadata": {},
     "output_type": "execute_result"
    }
   ],
   "source": [
    "text1 = \"\"\" \n",
    "pakistan, America, Africa, Kuba, Addaki, Addakki\n",
    "\"\"\"\n",
    "\n",
    "re.findall('ki', text1)"
   ]
  },
  {
   "cell_type": "code",
   "execution_count": 11,
   "id": "8b469d4d",
   "metadata": {},
   "outputs": [
    {
     "data": {
      "text/plain": [
       "['kki']"
      ]
     },
     "execution_count": 11,
     "metadata": {},
     "output_type": "execute_result"
    }
   ],
   "source": [
    "text1 = \"\"\" \n",
    "pakistan, America, Africa, Kuba, Addaki, Addakki\n",
    "\"\"\"\n",
    "\n",
    "re.findall('kki', text1)"
   ]
  },
  {
   "cell_type": "code",
   "execution_count": 14,
   "id": "f2ce17ff",
   "metadata": {},
   "outputs": [
    {
     "data": {
      "text/plain": [
       "[]"
      ]
     },
     "execution_count": 14,
     "metadata": {},
     "output_type": "execute_result"
    }
   ],
   "source": [
    "text1 = \"\"\" \n",
    "pakistan, America, Africa, Kuba, Addaki, Addakki\n",
    "\"\"\"\n",
    "\n",
    "re.findall('Pak', text1) #extract the exact pattern (case sensitive)"
   ]
  },
  {
   "cell_type": "code",
   "execution_count": 40,
   "id": "3ab4a0c3",
   "metadata": {},
   "outputs": [
    {
     "data": {
      "text/plain": [
       "['Pakistan\\t']"
      ]
     },
     "execution_count": 40,
     "metadata": {},
     "output_type": "execute_result"
    }
   ],
   "source": [
    "text2 = \"\"\" \n",
    "Pakistan\\t, America, Africa, Kuba, Addaki, Addakki, Pakistan\n",
    "\"\"\"\n",
    "\n",
    "re.findall(\"Pakistan\\t\", text2) #extract the exact pattern (case sensitive)"
   ]
  },
  {
   "cell_type": "markdown",
   "id": "50acf123",
   "metadata": {},
   "source": [
    "### to extract escape sequences, we write 'r' before pattern:\n",
    "`re.findall(r\"pattern\", string)`"
   ]
  },
  {
   "cell_type": "code",
   "execution_count": 31,
   "id": "c9e03e21",
   "metadata": {},
   "outputs": [
    {
     "data": {
      "text/plain": [
       "['Pakistan\\n', 'Pakistan\\n']"
      ]
     },
     "execution_count": 31,
     "metadata": {},
     "output_type": "execute_result"
    }
   ],
   "source": [
    "text4 = \"\"\" \n",
    "Pakistan\\n, America, Africa, Kuba, Addaki, Addakki, Pakistan\n",
    "\"\"\"\n",
    "\n",
    "re.findall(r\"Pakistan\\n\", text4) # it's showing Pakistan\\n 2 times "
   ]
  },
  {
   "cell_type": "markdown",
   "id": "bb720b72",
   "metadata": {},
   "source": [
    "#### Now let's use:\n",
    "`re.findall(r\"pattern\", string)`"
   ]
  },
  {
   "cell_type": "code",
   "execution_count": 28,
   "id": "d60e11da",
   "metadata": {},
   "outputs": [
    {
     "data": {
      "text/plain": [
       "['Pakistan\\n']"
      ]
     },
     "execution_count": 28,
     "metadata": {},
     "output_type": "execute_result"
    }
   ],
   "source": [
    "text5 = \"\"\" \n",
    "Pakistan\\n, America, Africa, Kuba, Addaki, Addakki\n",
    "\"\"\"\n",
    "\n",
    "re.findall(r\"Pakistan\\n\", text5) # Now it's showing Pakistan\\n one time & it is correct."
   ]
  },
  {
   "cell_type": "markdown",
   "id": "f68382ec",
   "metadata": {},
   "source": [
    "## Boundary:\n",
    "`\"\\bpattern\\b\"`\n",
    "* we can use `'r'` as well if we have to deal with escape sequences...\n",
    "\n",
    "`r\"\\bpattern\\b\"`"
   ]
  },
  {
   "cell_type": "code",
   "execution_count": 45,
   "id": "8472efd2",
   "metadata": {},
   "outputs": [
    {
     "data": {
      "text/plain": [
       "[]"
      ]
     },
     "execution_count": 45,
     "metadata": {},
     "output_type": "execute_result"
    }
   ],
   "source": [
    "text6 = \"\"\" \n",
    "Pakistan\\n America Africa Kuba Addaki Addakki Pakistan\\n PakistanApnaMulkHBhai\n",
    "\"\"\"\n",
    "\n",
    "re.findall(\"\\bPakistan\\b\", text6) #\\b = boundary ( \\ , b )"
   ]
  },
  {
   "cell_type": "code",
   "execution_count": 52,
   "id": "1b775df4",
   "metadata": {},
   "outputs": [
    {
     "data": {
      "text/plain": [
       "['Pakistan', 'Pakistan']"
      ]
     },
     "execution_count": 52,
     "metadata": {},
     "output_type": "execute_result"
    }
   ],
   "source": [
    "text6 = \"\"\" \n",
    "Pakistan\\n America Africa Kuba Addaki Addakki Pakistan\\n PakistanApnaMulkHBhai\n",
    "\"\"\"\n",
    "\n",
    "re.findall(r\"\\bPakistan\\b\", text6) \n",
    "\n",
    "#\\b = boundary & r is used to consider escape sequence as a part of character"
   ]
  },
  {
   "cell_type": "code",
   "execution_count": 53,
   "id": "a205bf1b",
   "metadata": {},
   "outputs": [
    {
     "data": {
      "text/plain": [
       "['Pakistan\\n']"
      ]
     },
     "execution_count": 53,
     "metadata": {},
     "output_type": "execute_result"
    }
   ],
   "source": [
    "text6 = \"\"\" \n",
    "Pakistan\\n America Africa Kuba Addaki Addakki Pakistan PakistanApnaMulkHBhai\n",
    "\"\"\"\n",
    "\n",
    "re.findall(r\"Pakistan\\n\", text6) # as r is used for extracting escape sequance character only"
   ]
  },
  {
   "cell_type": "code",
   "execution_count": 55,
   "id": "7e0e6eff",
   "metadata": {},
   "outputs": [
    {
     "ename": "error",
     "evalue": "nothing to repeat at position 0",
     "output_type": "error",
     "traceback": [
      "\u001b[1;31m---------------------------------------------------------------------------\u001b[0m",
      "\u001b[1;31merror\u001b[0m                                     Traceback (most recent call last)",
      "Input \u001b[1;32mIn [55]\u001b[0m, in \u001b[0;36m<cell line: 4>\u001b[1;34m()\u001b[0m\n\u001b[0;32m      1\u001b[0m text \u001b[38;5;241m=\u001b[39m \u001b[38;5;124m\"\"\"\u001b[39m\n\u001b[0;32m      2\u001b[0m \u001b[38;5;124mPakistan + USA + UK + China\u001b[39m\n\u001b[0;32m      3\u001b[0m \u001b[38;5;124m\"\"\"\u001b[39m\n\u001b[1;32m----> 4\u001b[0m \u001b[43mre\u001b[49m\u001b[38;5;241;43m.\u001b[39;49m\u001b[43mfindall\u001b[49m\u001b[43m(\u001b[49m\u001b[38;5;124;43m\"\u001b[39;49m\u001b[38;5;124;43m+\u001b[39;49m\u001b[38;5;124;43m\"\u001b[39;49m\u001b[43m,\u001b[49m\u001b[43m \u001b[49m\u001b[43mtext\u001b[49m\u001b[43m)\u001b[49m\n",
      "File \u001b[1;32m~\\anaconda3\\lib\\re.py:241\u001b[0m, in \u001b[0;36mfindall\u001b[1;34m(pattern, string, flags)\u001b[0m\n\u001b[0;32m    233\u001b[0m \u001b[38;5;28;01mdef\u001b[39;00m \u001b[38;5;21mfindall\u001b[39m(pattern, string, flags\u001b[38;5;241m=\u001b[39m\u001b[38;5;241m0\u001b[39m):\n\u001b[0;32m    234\u001b[0m     \u001b[38;5;124;03m\"\"\"Return a list of all non-overlapping matches in the string.\u001b[39;00m\n\u001b[0;32m    235\u001b[0m \n\u001b[0;32m    236\u001b[0m \u001b[38;5;124;03m    If one or more capturing groups are present in the pattern, return\u001b[39;00m\n\u001b[1;32m   (...)\u001b[0m\n\u001b[0;32m    239\u001b[0m \n\u001b[0;32m    240\u001b[0m \u001b[38;5;124;03m    Empty matches are included in the result.\"\"\"\u001b[39;00m\n\u001b[1;32m--> 241\u001b[0m     \u001b[38;5;28;01mreturn\u001b[39;00m \u001b[43m_compile\u001b[49m\u001b[43m(\u001b[49m\u001b[43mpattern\u001b[49m\u001b[43m,\u001b[49m\u001b[43m \u001b[49m\u001b[43mflags\u001b[49m\u001b[43m)\u001b[49m\u001b[38;5;241m.\u001b[39mfindall(string)\n",
      "File \u001b[1;32m~\\anaconda3\\lib\\re.py:304\u001b[0m, in \u001b[0;36m_compile\u001b[1;34m(pattern, flags)\u001b[0m\n\u001b[0;32m    302\u001b[0m \u001b[38;5;28;01mif\u001b[39;00m \u001b[38;5;129;01mnot\u001b[39;00m sre_compile\u001b[38;5;241m.\u001b[39misstring(pattern):\n\u001b[0;32m    303\u001b[0m     \u001b[38;5;28;01mraise\u001b[39;00m \u001b[38;5;167;01mTypeError\u001b[39;00m(\u001b[38;5;124m\"\u001b[39m\u001b[38;5;124mfirst argument must be string or compiled pattern\u001b[39m\u001b[38;5;124m\"\u001b[39m)\n\u001b[1;32m--> 304\u001b[0m p \u001b[38;5;241m=\u001b[39m \u001b[43msre_compile\u001b[49m\u001b[38;5;241;43m.\u001b[39;49m\u001b[43mcompile\u001b[49m\u001b[43m(\u001b[49m\u001b[43mpattern\u001b[49m\u001b[43m,\u001b[49m\u001b[43m \u001b[49m\u001b[43mflags\u001b[49m\u001b[43m)\u001b[49m\n\u001b[0;32m    305\u001b[0m \u001b[38;5;28;01mif\u001b[39;00m \u001b[38;5;129;01mnot\u001b[39;00m (flags \u001b[38;5;241m&\u001b[39m DEBUG):\n\u001b[0;32m    306\u001b[0m     \u001b[38;5;28;01mif\u001b[39;00m \u001b[38;5;28mlen\u001b[39m(_cache) \u001b[38;5;241m>\u001b[39m\u001b[38;5;241m=\u001b[39m _MAXCACHE:\n\u001b[0;32m    307\u001b[0m         \u001b[38;5;66;03m# Drop the oldest item\u001b[39;00m\n",
      "File \u001b[1;32m~\\anaconda3\\lib\\sre_compile.py:764\u001b[0m, in \u001b[0;36mcompile\u001b[1;34m(p, flags)\u001b[0m\n\u001b[0;32m    762\u001b[0m \u001b[38;5;28;01mif\u001b[39;00m isstring(p):\n\u001b[0;32m    763\u001b[0m     pattern \u001b[38;5;241m=\u001b[39m p\n\u001b[1;32m--> 764\u001b[0m     p \u001b[38;5;241m=\u001b[39m \u001b[43msre_parse\u001b[49m\u001b[38;5;241;43m.\u001b[39;49m\u001b[43mparse\u001b[49m\u001b[43m(\u001b[49m\u001b[43mp\u001b[49m\u001b[43m,\u001b[49m\u001b[43m \u001b[49m\u001b[43mflags\u001b[49m\u001b[43m)\u001b[49m\n\u001b[0;32m    765\u001b[0m \u001b[38;5;28;01melse\u001b[39;00m:\n\u001b[0;32m    766\u001b[0m     pattern \u001b[38;5;241m=\u001b[39m \u001b[38;5;28;01mNone\u001b[39;00m\n",
      "File \u001b[1;32m~\\anaconda3\\lib\\sre_parse.py:950\u001b[0m, in \u001b[0;36mparse\u001b[1;34m(str, flags, state)\u001b[0m\n\u001b[0;32m    947\u001b[0m state\u001b[38;5;241m.\u001b[39mstr \u001b[38;5;241m=\u001b[39m \u001b[38;5;28mstr\u001b[39m\n\u001b[0;32m    949\u001b[0m \u001b[38;5;28;01mtry\u001b[39;00m:\n\u001b[1;32m--> 950\u001b[0m     p \u001b[38;5;241m=\u001b[39m \u001b[43m_parse_sub\u001b[49m\u001b[43m(\u001b[49m\u001b[43msource\u001b[49m\u001b[43m,\u001b[49m\u001b[43m \u001b[49m\u001b[43mstate\u001b[49m\u001b[43m,\u001b[49m\u001b[43m \u001b[49m\u001b[43mflags\u001b[49m\u001b[43m \u001b[49m\u001b[38;5;241;43m&\u001b[39;49m\u001b[43m \u001b[49m\u001b[43mSRE_FLAG_VERBOSE\u001b[49m\u001b[43m,\u001b[49m\u001b[43m \u001b[49m\u001b[38;5;241;43m0\u001b[39;49m\u001b[43m)\u001b[49m\n\u001b[0;32m    951\u001b[0m \u001b[38;5;28;01mexcept\u001b[39;00m Verbose:\n\u001b[0;32m    952\u001b[0m     \u001b[38;5;66;03m# the VERBOSE flag was switched on inside the pattern.  to be\u001b[39;00m\n\u001b[0;32m    953\u001b[0m     \u001b[38;5;66;03m# on the safe side, we'll parse the whole thing again...\u001b[39;00m\n\u001b[0;32m    954\u001b[0m     state \u001b[38;5;241m=\u001b[39m State()\n",
      "File \u001b[1;32m~\\anaconda3\\lib\\sre_parse.py:443\u001b[0m, in \u001b[0;36m_parse_sub\u001b[1;34m(source, state, verbose, nested)\u001b[0m\n\u001b[0;32m    441\u001b[0m start \u001b[38;5;241m=\u001b[39m source\u001b[38;5;241m.\u001b[39mtell()\n\u001b[0;32m    442\u001b[0m \u001b[38;5;28;01mwhile\u001b[39;00m \u001b[38;5;28;01mTrue\u001b[39;00m:\n\u001b[1;32m--> 443\u001b[0m     itemsappend(\u001b[43m_parse\u001b[49m\u001b[43m(\u001b[49m\u001b[43msource\u001b[49m\u001b[43m,\u001b[49m\u001b[43m \u001b[49m\u001b[43mstate\u001b[49m\u001b[43m,\u001b[49m\u001b[43m \u001b[49m\u001b[43mverbose\u001b[49m\u001b[43m,\u001b[49m\u001b[43m \u001b[49m\u001b[43mnested\u001b[49m\u001b[43m \u001b[49m\u001b[38;5;241;43m+\u001b[39;49m\u001b[43m \u001b[49m\u001b[38;5;241;43m1\u001b[39;49m\u001b[43m,\u001b[49m\n\u001b[0;32m    444\u001b[0m \u001b[43m                       \u001b[49m\u001b[38;5;129;43;01mnot\u001b[39;49;00m\u001b[43m \u001b[49m\u001b[43mnested\u001b[49m\u001b[43m \u001b[49m\u001b[38;5;129;43;01mand\u001b[39;49;00m\u001b[43m \u001b[49m\u001b[38;5;129;43;01mnot\u001b[39;49;00m\u001b[43m \u001b[49m\u001b[43mitems\u001b[49m\u001b[43m)\u001b[49m)\n\u001b[0;32m    445\u001b[0m     \u001b[38;5;28;01mif\u001b[39;00m \u001b[38;5;129;01mnot\u001b[39;00m sourcematch(\u001b[38;5;124m\"\u001b[39m\u001b[38;5;124m|\u001b[39m\u001b[38;5;124m\"\u001b[39m):\n\u001b[0;32m    446\u001b[0m         \u001b[38;5;28;01mbreak\u001b[39;00m\n",
      "File \u001b[1;32m~\\anaconda3\\lib\\sre_parse.py:668\u001b[0m, in \u001b[0;36m_parse\u001b[1;34m(source, state, verbose, nested, first)\u001b[0m\n\u001b[0;32m    666\u001b[0m     item \u001b[38;5;241m=\u001b[39m \u001b[38;5;28;01mNone\u001b[39;00m\n\u001b[0;32m    667\u001b[0m \u001b[38;5;28;01mif\u001b[39;00m \u001b[38;5;129;01mnot\u001b[39;00m item \u001b[38;5;129;01mor\u001b[39;00m item[\u001b[38;5;241m0\u001b[39m][\u001b[38;5;241m0\u001b[39m] \u001b[38;5;129;01mis\u001b[39;00m AT:\n\u001b[1;32m--> 668\u001b[0m     \u001b[38;5;28;01mraise\u001b[39;00m source\u001b[38;5;241m.\u001b[39merror(\u001b[38;5;124m\"\u001b[39m\u001b[38;5;124mnothing to repeat\u001b[39m\u001b[38;5;124m\"\u001b[39m,\n\u001b[0;32m    669\u001b[0m                        source\u001b[38;5;241m.\u001b[39mtell() \u001b[38;5;241m-\u001b[39m here \u001b[38;5;241m+\u001b[39m \u001b[38;5;28mlen\u001b[39m(this))\n\u001b[0;32m    670\u001b[0m \u001b[38;5;28;01mif\u001b[39;00m item[\u001b[38;5;241m0\u001b[39m][\u001b[38;5;241m0\u001b[39m] \u001b[38;5;129;01min\u001b[39;00m _REPEATCODES:\n\u001b[0;32m    671\u001b[0m     \u001b[38;5;28;01mraise\u001b[39;00m source\u001b[38;5;241m.\u001b[39merror(\u001b[38;5;124m\"\u001b[39m\u001b[38;5;124mmultiple repeat\u001b[39m\u001b[38;5;124m\"\u001b[39m,\n\u001b[0;32m    672\u001b[0m                        source\u001b[38;5;241m.\u001b[39mtell() \u001b[38;5;241m-\u001b[39m here \u001b[38;5;241m+\u001b[39m \u001b[38;5;28mlen\u001b[39m(this))\n",
      "\u001b[1;31merror\u001b[0m: nothing to repeat at position 0"
     ]
    }
   ],
   "source": [
    "text = \"\"\"\n",
    "Pakistan + USA + UK + China\n",
    "\"\"\"\n",
    "re.findall(\"+\", text) #it will through an error as '+' is a special character for findall() function"
   ]
  },
  {
   "cell_type": "markdown",
   "id": "5187eb14",
   "metadata": {},
   "source": [
    "### Use of `\"\\\"` for converting the speacial symbol into normal character."
   ]
  },
  {
   "cell_type": "markdown",
   "id": "457738a1",
   "metadata": {},
   "source": [
    "* Some important special symbols in re-regular Expression\n",
    "\n",
    "* `^` caret ==> starting line character.\n",
    "* `.` dot ==> get all the upcoming character except \\n.\n",
    "* `*` stratic ==> repeat sequence written before *.\n",
    "* `[]` is used to define number, alphabets and other special characters i.e [0-9a-zA-Z]\n",
    "\n"
   ]
  },
  {
   "cell_type": "code",
   "execution_count": 57,
   "id": "69e4c62b",
   "metadata": {},
   "outputs": [
    {
     "ename": "error",
     "evalue": "nothing to repeat at position 0",
     "output_type": "error",
     "traceback": [
      "\u001b[1;31m---------------------------------------------------------------------------\u001b[0m",
      "\u001b[1;31merror\u001b[0m                                     Traceback (most recent call last)",
      "Input \u001b[1;32mIn [57]\u001b[0m, in \u001b[0;36m<cell line: 4>\u001b[1;34m()\u001b[0m\n\u001b[0;32m      1\u001b[0m text \u001b[38;5;241m=\u001b[39m \u001b[38;5;124m\"\"\"\u001b[39m\n\u001b[0;32m      2\u001b[0m \u001b[38;5;124mPakistan + USA + UK + China\u001b[39m\n\u001b[0;32m      3\u001b[0m \u001b[38;5;124m\"\"\"\u001b[39m\n\u001b[1;32m----> 4\u001b[0m \u001b[43mre\u001b[49m\u001b[38;5;241;43m.\u001b[39;49m\u001b[43mfindall\u001b[49m\u001b[43m(\u001b[49m\u001b[38;5;124;43m\"\u001b[39;49m\u001b[38;5;124;43m+\u001b[39;49m\u001b[38;5;124;43m\"\u001b[39;49m\u001b[43m,\u001b[49m\u001b[43m \u001b[49m\u001b[43mtext\u001b[49m\u001b[43m)\u001b[49m\n",
      "File \u001b[1;32m~\\anaconda3\\lib\\re.py:241\u001b[0m, in \u001b[0;36mfindall\u001b[1;34m(pattern, string, flags)\u001b[0m\n\u001b[0;32m    233\u001b[0m \u001b[38;5;28;01mdef\u001b[39;00m \u001b[38;5;21mfindall\u001b[39m(pattern, string, flags\u001b[38;5;241m=\u001b[39m\u001b[38;5;241m0\u001b[39m):\n\u001b[0;32m    234\u001b[0m     \u001b[38;5;124;03m\"\"\"Return a list of all non-overlapping matches in the string.\u001b[39;00m\n\u001b[0;32m    235\u001b[0m \n\u001b[0;32m    236\u001b[0m \u001b[38;5;124;03m    If one or more capturing groups are present in the pattern, return\u001b[39;00m\n\u001b[1;32m   (...)\u001b[0m\n\u001b[0;32m    239\u001b[0m \n\u001b[0;32m    240\u001b[0m \u001b[38;5;124;03m    Empty matches are included in the result.\"\"\"\u001b[39;00m\n\u001b[1;32m--> 241\u001b[0m     \u001b[38;5;28;01mreturn\u001b[39;00m \u001b[43m_compile\u001b[49m\u001b[43m(\u001b[49m\u001b[43mpattern\u001b[49m\u001b[43m,\u001b[49m\u001b[43m \u001b[49m\u001b[43mflags\u001b[49m\u001b[43m)\u001b[49m\u001b[38;5;241m.\u001b[39mfindall(string)\n",
      "File \u001b[1;32m~\\anaconda3\\lib\\re.py:304\u001b[0m, in \u001b[0;36m_compile\u001b[1;34m(pattern, flags)\u001b[0m\n\u001b[0;32m    302\u001b[0m \u001b[38;5;28;01mif\u001b[39;00m \u001b[38;5;129;01mnot\u001b[39;00m sre_compile\u001b[38;5;241m.\u001b[39misstring(pattern):\n\u001b[0;32m    303\u001b[0m     \u001b[38;5;28;01mraise\u001b[39;00m \u001b[38;5;167;01mTypeError\u001b[39;00m(\u001b[38;5;124m\"\u001b[39m\u001b[38;5;124mfirst argument must be string or compiled pattern\u001b[39m\u001b[38;5;124m\"\u001b[39m)\n\u001b[1;32m--> 304\u001b[0m p \u001b[38;5;241m=\u001b[39m \u001b[43msre_compile\u001b[49m\u001b[38;5;241;43m.\u001b[39;49m\u001b[43mcompile\u001b[49m\u001b[43m(\u001b[49m\u001b[43mpattern\u001b[49m\u001b[43m,\u001b[49m\u001b[43m \u001b[49m\u001b[43mflags\u001b[49m\u001b[43m)\u001b[49m\n\u001b[0;32m    305\u001b[0m \u001b[38;5;28;01mif\u001b[39;00m \u001b[38;5;129;01mnot\u001b[39;00m (flags \u001b[38;5;241m&\u001b[39m DEBUG):\n\u001b[0;32m    306\u001b[0m     \u001b[38;5;28;01mif\u001b[39;00m \u001b[38;5;28mlen\u001b[39m(_cache) \u001b[38;5;241m>\u001b[39m\u001b[38;5;241m=\u001b[39m _MAXCACHE:\n\u001b[0;32m    307\u001b[0m         \u001b[38;5;66;03m# Drop the oldest item\u001b[39;00m\n",
      "File \u001b[1;32m~\\anaconda3\\lib\\sre_compile.py:764\u001b[0m, in \u001b[0;36mcompile\u001b[1;34m(p, flags)\u001b[0m\n\u001b[0;32m    762\u001b[0m \u001b[38;5;28;01mif\u001b[39;00m isstring(p):\n\u001b[0;32m    763\u001b[0m     pattern \u001b[38;5;241m=\u001b[39m p\n\u001b[1;32m--> 764\u001b[0m     p \u001b[38;5;241m=\u001b[39m \u001b[43msre_parse\u001b[49m\u001b[38;5;241;43m.\u001b[39;49m\u001b[43mparse\u001b[49m\u001b[43m(\u001b[49m\u001b[43mp\u001b[49m\u001b[43m,\u001b[49m\u001b[43m \u001b[49m\u001b[43mflags\u001b[49m\u001b[43m)\u001b[49m\n\u001b[0;32m    765\u001b[0m \u001b[38;5;28;01melse\u001b[39;00m:\n\u001b[0;32m    766\u001b[0m     pattern \u001b[38;5;241m=\u001b[39m \u001b[38;5;28;01mNone\u001b[39;00m\n",
      "File \u001b[1;32m~\\anaconda3\\lib\\sre_parse.py:950\u001b[0m, in \u001b[0;36mparse\u001b[1;34m(str, flags, state)\u001b[0m\n\u001b[0;32m    947\u001b[0m state\u001b[38;5;241m.\u001b[39mstr \u001b[38;5;241m=\u001b[39m \u001b[38;5;28mstr\u001b[39m\n\u001b[0;32m    949\u001b[0m \u001b[38;5;28;01mtry\u001b[39;00m:\n\u001b[1;32m--> 950\u001b[0m     p \u001b[38;5;241m=\u001b[39m \u001b[43m_parse_sub\u001b[49m\u001b[43m(\u001b[49m\u001b[43msource\u001b[49m\u001b[43m,\u001b[49m\u001b[43m \u001b[49m\u001b[43mstate\u001b[49m\u001b[43m,\u001b[49m\u001b[43m \u001b[49m\u001b[43mflags\u001b[49m\u001b[43m \u001b[49m\u001b[38;5;241;43m&\u001b[39;49m\u001b[43m \u001b[49m\u001b[43mSRE_FLAG_VERBOSE\u001b[49m\u001b[43m,\u001b[49m\u001b[43m \u001b[49m\u001b[38;5;241;43m0\u001b[39;49m\u001b[43m)\u001b[49m\n\u001b[0;32m    951\u001b[0m \u001b[38;5;28;01mexcept\u001b[39;00m Verbose:\n\u001b[0;32m    952\u001b[0m     \u001b[38;5;66;03m# the VERBOSE flag was switched on inside the pattern.  to be\u001b[39;00m\n\u001b[0;32m    953\u001b[0m     \u001b[38;5;66;03m# on the safe side, we'll parse the whole thing again...\u001b[39;00m\n\u001b[0;32m    954\u001b[0m     state \u001b[38;5;241m=\u001b[39m State()\n",
      "File \u001b[1;32m~\\anaconda3\\lib\\sre_parse.py:443\u001b[0m, in \u001b[0;36m_parse_sub\u001b[1;34m(source, state, verbose, nested)\u001b[0m\n\u001b[0;32m    441\u001b[0m start \u001b[38;5;241m=\u001b[39m source\u001b[38;5;241m.\u001b[39mtell()\n\u001b[0;32m    442\u001b[0m \u001b[38;5;28;01mwhile\u001b[39;00m \u001b[38;5;28;01mTrue\u001b[39;00m:\n\u001b[1;32m--> 443\u001b[0m     itemsappend(\u001b[43m_parse\u001b[49m\u001b[43m(\u001b[49m\u001b[43msource\u001b[49m\u001b[43m,\u001b[49m\u001b[43m \u001b[49m\u001b[43mstate\u001b[49m\u001b[43m,\u001b[49m\u001b[43m \u001b[49m\u001b[43mverbose\u001b[49m\u001b[43m,\u001b[49m\u001b[43m \u001b[49m\u001b[43mnested\u001b[49m\u001b[43m \u001b[49m\u001b[38;5;241;43m+\u001b[39;49m\u001b[43m \u001b[49m\u001b[38;5;241;43m1\u001b[39;49m\u001b[43m,\u001b[49m\n\u001b[0;32m    444\u001b[0m \u001b[43m                       \u001b[49m\u001b[38;5;129;43;01mnot\u001b[39;49;00m\u001b[43m \u001b[49m\u001b[43mnested\u001b[49m\u001b[43m \u001b[49m\u001b[38;5;129;43;01mand\u001b[39;49;00m\u001b[43m \u001b[49m\u001b[38;5;129;43;01mnot\u001b[39;49;00m\u001b[43m \u001b[49m\u001b[43mitems\u001b[49m\u001b[43m)\u001b[49m)\n\u001b[0;32m    445\u001b[0m     \u001b[38;5;28;01mif\u001b[39;00m \u001b[38;5;129;01mnot\u001b[39;00m sourcematch(\u001b[38;5;124m\"\u001b[39m\u001b[38;5;124m|\u001b[39m\u001b[38;5;124m\"\u001b[39m):\n\u001b[0;32m    446\u001b[0m         \u001b[38;5;28;01mbreak\u001b[39;00m\n",
      "File \u001b[1;32m~\\anaconda3\\lib\\sre_parse.py:668\u001b[0m, in \u001b[0;36m_parse\u001b[1;34m(source, state, verbose, nested, first)\u001b[0m\n\u001b[0;32m    666\u001b[0m     item \u001b[38;5;241m=\u001b[39m \u001b[38;5;28;01mNone\u001b[39;00m\n\u001b[0;32m    667\u001b[0m \u001b[38;5;28;01mif\u001b[39;00m \u001b[38;5;129;01mnot\u001b[39;00m item \u001b[38;5;129;01mor\u001b[39;00m item[\u001b[38;5;241m0\u001b[39m][\u001b[38;5;241m0\u001b[39m] \u001b[38;5;129;01mis\u001b[39;00m AT:\n\u001b[1;32m--> 668\u001b[0m     \u001b[38;5;28;01mraise\u001b[39;00m source\u001b[38;5;241m.\u001b[39merror(\u001b[38;5;124m\"\u001b[39m\u001b[38;5;124mnothing to repeat\u001b[39m\u001b[38;5;124m\"\u001b[39m,\n\u001b[0;32m    669\u001b[0m                        source\u001b[38;5;241m.\u001b[39mtell() \u001b[38;5;241m-\u001b[39m here \u001b[38;5;241m+\u001b[39m \u001b[38;5;28mlen\u001b[39m(this))\n\u001b[0;32m    670\u001b[0m \u001b[38;5;28;01mif\u001b[39;00m item[\u001b[38;5;241m0\u001b[39m][\u001b[38;5;241m0\u001b[39m] \u001b[38;5;129;01min\u001b[39;00m _REPEATCODES:\n\u001b[0;32m    671\u001b[0m     \u001b[38;5;28;01mraise\u001b[39;00m source\u001b[38;5;241m.\u001b[39merror(\u001b[38;5;124m\"\u001b[39m\u001b[38;5;124mmultiple repeat\u001b[39m\u001b[38;5;124m\"\u001b[39m,\n\u001b[0;32m    672\u001b[0m                        source\u001b[38;5;241m.\u001b[39mtell() \u001b[38;5;241m-\u001b[39m here \u001b[38;5;241m+\u001b[39m \u001b[38;5;28mlen\u001b[39m(this))\n",
      "\u001b[1;31merror\u001b[0m: nothing to repeat at position 0"
     ]
    }
   ],
   "source": [
    "text = \"\"\"\n",
    "Pakistan + USA + UK + China\n",
    "\"\"\"\n",
    "re.findall(\"+\", text) #it will through an error as '+' is a special character for findall() function"
   ]
  },
  {
   "cell_type": "code",
   "execution_count": 56,
   "id": "fc687861",
   "metadata": {},
   "outputs": [
    {
     "data": {
      "text/plain": [
       "['+', '+', '+']"
      ]
     },
     "execution_count": 56,
     "metadata": {},
     "output_type": "execute_result"
    }
   ],
   "source": [
    "text = \"\"\"\n",
    "Pakistan + USA + UK + China\n",
    "\"\"\"\n",
    "re.findall(\"\\+\", text) # use \\ before special symbol to convert it as normal character."
   ]
  },
  {
   "cell_type": "code",
   "execution_count": 60,
   "id": "3a75c565",
   "metadata": {},
   "outputs": [
    {
     "ename": "SyntaxError",
     "evalue": "EOL while scanning string literal (3691477369.py, line 4)",
     "output_type": "error",
     "traceback": [
      "\u001b[1;36m  Input \u001b[1;32mIn [60]\u001b[1;36m\u001b[0m\n\u001b[1;33m    re.findall(\"\\\", text)\u001b[0m\n\u001b[1;37m                          ^\u001b[0m\n\u001b[1;31mSyntaxError\u001b[0m\u001b[1;31m:\u001b[0m EOL while scanning string literal\n"
     ]
    }
   ],
   "source": [
    "text = \"\"\"\n",
    "Pakistan \\ USA \\ UK \\ China\n",
    "\"\"\"\n",
    "re.findall(\"\\\", text) "
   ]
  },
  {
   "cell_type": "code",
   "execution_count": 62,
   "id": "cb320f1f",
   "metadata": {},
   "outputs": [
    {
     "data": {
      "text/plain": [
       "['\\\\', '\\\\', '\\\\']"
      ]
     },
     "execution_count": 62,
     "metadata": {},
     "output_type": "execute_result"
    }
   ],
   "source": [
    "text = \"\"\"\n",
    "Pakistan \\ USA \\ UK \\ China\n",
    "\"\"\"\n",
    "re.findall(r\"\\\\\", text) "
   ]
  },
  {
   "cell_type": "markdown",
   "id": "da0adea1",
   "metadata": {},
   "source": [
    "### ^ (caret) & $ (dollar)"
   ]
  },
  {
   "cell_type": "markdown",
   "id": "b3fed34b",
   "metadata": {},
   "source": [
    "caret: `^` <br>\n",
    "starting line character\n"
   ]
  },
  {
   "cell_type": "code",
   "execution_count": 63,
   "id": "93d03130",
   "metadata": {},
   "outputs": [
    {
     "data": {
      "text/plain": [
       "['pakistan', 'pakistan', 'pakistan', 'pakistan', 'pakistan']"
      ]
     },
     "execution_count": 63,
     "metadata": {},
     "output_type": "execute_result"
    }
   ],
   "source": [
    "text = \"\"\"\n",
    "pakistan is my country\n",
    "pakistan is love \n",
    "pakistan is peaceful and safe country\n",
    "I love pakistan\n",
    "We will always live in pakistan\n",
    "\"\"\"\n",
    "re.findall(\"pakistan\", text) # 5 times pakistan "
   ]
  },
  {
   "cell_type": "code",
   "execution_count": 75,
   "id": "4804bd77",
   "metadata": {},
   "outputs": [
    {
     "data": {
      "text/plain": [
       "['pakistan']"
      ]
     },
     "execution_count": 75,
     "metadata": {},
     "output_type": "execute_result"
    }
   ],
   "source": [
    "text = \"\"\"pakistan is my country\n",
    "pakistan is love \n",
    "pakistan is peaceful and safe country\n",
    "I love pakistan\n",
    "We will always live in pakistan\n",
    "\"\"\"\n",
    "re.findall(r\"^pakistan\", text) # considering whole variable as single value \n",
    "#checking single line..."
   ]
  },
  {
   "cell_type": "markdown",
   "id": "e3e0cbb7",
   "metadata": {},
   "source": [
    "## dot `.` symbol"
   ]
  },
  {
   "cell_type": "markdown",
   "id": "197863fe",
   "metadata": {},
   "source": [
    "* `'.'` dot is used to select any character except `\\n`\n",
    "\n",
    "* Use of `re.MULTILINE` "
   ]
  },
  {
   "cell_type": "code",
   "execution_count": 7,
   "id": "64a4d0ee",
   "metadata": {},
   "outputs": [
    {
     "data": {
      "text/plain": [
       "'pakistan is my country\\npakistan is love \\npakistan is peaceful and safe country\\nI love pakistan\\nWe will always live in pakistan\\n'"
      ]
     },
     "execution_count": 7,
     "metadata": {},
     "output_type": "execute_result"
    }
   ],
   "source": [
    "x"
   ]
  },
  {
   "cell_type": "code",
   "execution_count": 8,
   "id": "80be36f1",
   "metadata": {},
   "outputs": [
    {
     "data": {
      "text/plain": [
       "['pakistan ']"
      ]
     },
     "execution_count": 8,
     "metadata": {},
     "output_type": "execute_result"
    }
   ],
   "source": [
    "x = \"\"\"pakistan is my country\n",
    "pakistan is love \n",
    "pakistan is peaceful and safe country\n",
    "I love pakistan\n",
    "We will always live in pakistan\n",
    "\"\"\"\n",
    "re.findall(r\"^pakistan.\", x) # checking all the lines starting from \"pakistan\""
   ]
  },
  {
   "cell_type": "code",
   "execution_count": 3,
   "id": "d606da58",
   "metadata": {},
   "outputs": [
    {
     "data": {
      "text/plain": [
       "['p',\n",
       " 'a',\n",
       " 'k',\n",
       " 'i',\n",
       " 's',\n",
       " 't',\n",
       " 'a',\n",
       " 'n',\n",
       " ' ',\n",
       " 'i',\n",
       " 's',\n",
       " ' ',\n",
       " 'm',\n",
       " 'y',\n",
       " ' ',\n",
       " 'c',\n",
       " 'o',\n",
       " 'u',\n",
       " 'n',\n",
       " 't',\n",
       " 'r',\n",
       " 'y',\n",
       " 'p',\n",
       " 'a',\n",
       " 'k',\n",
       " 'i',\n",
       " 's',\n",
       " 't',\n",
       " 'a',\n",
       " 'n',\n",
       " ' ',\n",
       " 'i',\n",
       " 's',\n",
       " ' ',\n",
       " 'l',\n",
       " 'o',\n",
       " 'v',\n",
       " 'e',\n",
       " ' ',\n",
       " 'p',\n",
       " 'a',\n",
       " 'k',\n",
       " 'i',\n",
       " 's',\n",
       " 't',\n",
       " 'a',\n",
       " 'n',\n",
       " ' ',\n",
       " 'i',\n",
       " 's',\n",
       " ' ',\n",
       " 'p',\n",
       " 'e',\n",
       " 'a',\n",
       " 'c',\n",
       " 'e',\n",
       " 'f',\n",
       " 'u',\n",
       " 'l',\n",
       " ' ',\n",
       " 'a',\n",
       " 'n',\n",
       " 'd',\n",
       " ' ',\n",
       " 's',\n",
       " 'a',\n",
       " 'f',\n",
       " 'e',\n",
       " ' ',\n",
       " 'c',\n",
       " 'o',\n",
       " 'u',\n",
       " 'n',\n",
       " 't',\n",
       " 'r',\n",
       " 'y',\n",
       " 'I',\n",
       " ' ',\n",
       " 'l',\n",
       " 'o',\n",
       " 'v',\n",
       " 'e',\n",
       " ' ',\n",
       " 'p',\n",
       " 'a',\n",
       " 'k',\n",
       " 'i',\n",
       " 's',\n",
       " 't',\n",
       " 'a',\n",
       " 'n',\n",
       " 'W',\n",
       " 'e',\n",
       " ' ',\n",
       " 'w',\n",
       " 'i',\n",
       " 'l',\n",
       " 'l',\n",
       " ' ',\n",
       " 'a',\n",
       " 'l',\n",
       " 'w',\n",
       " 'a',\n",
       " 'y',\n",
       " 's',\n",
       " ' ',\n",
       " 'l',\n",
       " 'i',\n",
       " 'v',\n",
       " 'e',\n",
       " ' ',\n",
       " 'i',\n",
       " 'n',\n",
       " ' ',\n",
       " 'p',\n",
       " 'a',\n",
       " 'k',\n",
       " 'i',\n",
       " 's',\n",
       " 't',\n",
       " 'a',\n",
       " 'n']"
      ]
     },
     "execution_count": 3,
     "metadata": {},
     "output_type": "execute_result"
    }
   ],
   "source": [
    "x= \"\"\"pakistan is my country\n",
    "pakistan is love \n",
    "pakistan is peaceful and safe country\n",
    "I love pakistan\n",
    "We will always live in pakistan\n",
    "\"\"\"\n",
    "re.findall(\".\", x, re.MULTILINE) # checking all the lines starting from \"pakistan\""
   ]
  },
  {
   "cell_type": "code",
   "execution_count": 5,
   "id": "944f8172",
   "metadata": {},
   "outputs": [
    {
     "data": {
      "text/plain": [
       "['pakistan ', 'pakistan ', 'pakistan ']"
      ]
     },
     "execution_count": 5,
     "metadata": {},
     "output_type": "execute_result"
    }
   ],
   "source": [
    "x = \"\"\"pakistan is my country\n",
    "pakistan is love \n",
    "pakistan is peaceful and safe country\n",
    "I love pakistan\n",
    "We will always live in pakistan\n",
    "\"\"\"\n",
    "re.findall(r\"^pakistan.\", x, re.MULTILINE) # checking all the lines starting from \"pakistan\""
   ]
  },
  {
   "cell_type": "markdown",
   "id": "c4dcadb5",
   "metadata": {},
   "source": [
    "### \"MULTILINE\" & \"*\"\n",
    "* `re.MULTILINE`\n",
    "* `*` staric is used for repeat sequence from the last word before staric..."
   ]
  },
  {
   "cell_type": "code",
   "execution_count": 10,
   "id": "c7351a85",
   "metadata": {},
   "outputs": [
    {
     "data": {
      "text/plain": [
       "['pakistan is my country',\n",
       " 'pakistan is love ',\n",
       " 'pakistan is peaceful and safe country']"
      ]
     },
     "execution_count": 10,
     "metadata": {},
     "output_type": "execute_result"
    }
   ],
   "source": [
    "x = \"\"\"pakistan is my country\n",
    "pakistan is love \n",
    "pakistan is peaceful and safe country\n",
    "I love pakistan\n",
    "We will always live in pakistan\n",
    "\"\"\"\n",
    "re.findall(r\"^pakistan.*\", x, re.MULTILINE) # checking all the lines starting from \"pakistan\""
   ]
  },
  {
   "cell_type": "code",
   "execution_count": 9,
   "id": "2747ab33",
   "metadata": {},
   "outputs": [
    {
     "data": {
      "text/plain": [
       "['pakistan is my country',\n",
       " 'pakistan is love ',\n",
       " 'pakistan is peaceful and safe country']"
      ]
     },
     "execution_count": 9,
     "metadata": {},
     "output_type": "execute_result"
    }
   ],
   "source": [
    "x = \"\"\"pakistan is my country\n",
    "pakistan is love \n",
    "pakistan is peaceful and safe country\n",
    "I love pakistan\n",
    "We will always live in pakistan\n",
    "\"\"\"\n",
    "re.findall(r\"^pakistan.+\", x, re.MULTILINE) # checking all the lines starting from \"pakistan\""
   ]
  },
  {
   "cell_type": "markdown",
   "id": "81766a5e",
   "metadata": {},
   "source": [
    "## * and +\n",
    "\n",
    "* ==> 0 or more (counts non related characters as null objects)\n",
    "+ ==> must be one or more (counts only related characters)\n"
   ]
  },
  {
   "cell_type": "code",
   "execution_count": 2,
   "id": "e19a886c",
   "metadata": {},
   "outputs": [],
   "source": [
    "import re"
   ]
  },
  {
   "cell_type": "code",
   "execution_count": 5,
   "id": "001b8488",
   "metadata": {},
   "outputs": [
    {
     "data": {
      "text/plain": [
       "['a',\n",
       " '',\n",
       " 'aa',\n",
       " '',\n",
       " '',\n",
       " '',\n",
       " 'a',\n",
       " '',\n",
       " '',\n",
       " 'a',\n",
       " '',\n",
       " 'a',\n",
       " '',\n",
       " 'aa',\n",
       " '',\n",
       " '',\n",
       " '',\n",
       " 'aa',\n",
       " '',\n",
       " 'aaa',\n",
       " '',\n",
       " 'aa',\n",
       " '']"
      ]
     },
     "execution_count": 5,
     "metadata": {},
     "output_type": "execute_result"
    }
   ],
   "source": [
    "v1 = \"a aabc abeada aaedsaa aaawaa\"\n",
    "re.findall(\"a*\", v1)"
   ]
  },
  {
   "cell_type": "code",
   "execution_count": 6,
   "id": "e8cc0909",
   "metadata": {},
   "outputs": [
    {
     "data": {
      "text/plain": [
       "['a', 'aa', 'a', 'a', 'a', 'aa', 'aa', 'aaa', 'aa']"
      ]
     },
     "execution_count": 6,
     "metadata": {},
     "output_type": "execute_result"
    }
   ],
   "source": [
    "v1 = \"a aabc abeada aaedsaa aaawaa\"\n",
    "re.findall(\"a+\", v1)"
   ]
  },
  {
   "cell_type": "markdown",
   "id": "d9760d91",
   "metadata": {},
   "source": [
    "## ?\n",
    "* `? question mark` ==> pick if 1st medatory but second optional: i.e ab? = a, ab. (will not select b indivisually)"
   ]
  },
  {
   "cell_type": "code",
   "execution_count": 7,
   "id": "fe34db98",
   "metadata": {},
   "outputs": [
    {
     "data": {
      "text/plain": [
       "['a', 'a', 'ab', 'ab', 'a', 'a', 'a', 'a', 'a', 'a', 'a', 'a', 'a', 'ab', 'a']"
      ]
     },
     "execution_count": 7,
     "metadata": {},
     "output_type": "execute_result"
    }
   ],
   "source": [
    "v1 = \"a aabc abeada aaedsaa aaawaba\"\n",
    "re.findall(\"ab?\", v1)"
   ]
  },
  {
   "cell_type": "code",
   "execution_count": 17,
   "id": "d3061b7f",
   "metadata": {},
   "outputs": [
    {
     "data": {
      "text/plain": [
       "['a', 'ab', 'ba ', 'a', 'ab', 'ab', 'ba ', 'a', 'a', 'b ']"
      ]
     },
     "execution_count": 17,
     "metadata": {},
     "output_type": "execute_result"
    }
   ],
   "source": [
    "v2 = \"a ab ba aabab ba aea b bs\"\n",
    "re.findall(\"ab?|ba? \", v2)\n"
   ]
  },
  {
   "cell_type": "code",
   "execution_count": 19,
   "id": "70258cdc",
   "metadata": {},
   "outputs": [
    {
     "data": {
      "text/plain": [
       "['<html>',\n",
       " '<head>',\n",
       " '<title>Pakistan zinda bad</title>',\n",
       " '</head>',\n",
       " '<body>',\n",
       " '<h1>Hello World</h1>',\n",
       " '</body>',\n",
       " '</html>']"
      ]
     },
     "execution_count": 19,
     "metadata": {},
     "output_type": "execute_result"
    }
   ],
   "source": [
    "x = \"\"\"\n",
    "<html>\n",
    " <head>\n",
    "     <title>Pakistan zinda bad</title>\n",
    " </head>\n",
    " \n",
    " <body>\n",
    " <h1>Hello World</h1>\n",
    " </body>\n",
    "</html>\n",
    "\"\"\"\n",
    "\n",
    "re.findall(r\"<.*>\",x) #showing all tags, also the content inside as staric * is used after . and dot takes all characters except \\n"
   ]
  },
  {
   "cell_type": "code",
   "execution_count": 20,
   "id": "dfd08134",
   "metadata": {},
   "outputs": [
    {
     "data": {
      "text/plain": [
       "['<html> <head>     <title>Pakistan zinda bad</title> </head>  <body> <h1>Hello World</h1> </body></html>']"
      ]
     },
     "execution_count": 20,
     "metadata": {},
     "output_type": "execute_result"
    }
   ],
   "source": [
    "x = \"\"\"<html> <head>     <title>Pakistan zinda bad</title> </head>  <body> <h1>Hello World</h1> </body></html>\"\"\"\n",
    "\n",
    "re.findall(r\"<.*>\",x)"
   ]
  },
  {
   "cell_type": "code",
   "execution_count": 21,
   "id": "20398aa6",
   "metadata": {},
   "outputs": [
    {
     "data": {
      "text/plain": [
       "['<html> <head>     <title>Pakistan zinda bad</title> </head>  <body> <h1>Hello World</h1> </body></html>']"
      ]
     },
     "execution_count": 21,
     "metadata": {},
     "output_type": "execute_result"
    }
   ],
   "source": [
    "x = \"\"\"<html> <head>     <title>Pakistan zinda bad</title> </head>  <body> <h1>Hello World</h1> </body></html>\"\"\"\n",
    "\n",
    "re.findall(r\"<.+>\",x)"
   ]
  },
  {
   "cell_type": "code",
   "execution_count": 22,
   "id": "3b6b91e6",
   "metadata": {},
   "outputs": [
    {
     "data": {
      "text/plain": [
       "['<html>',\n",
       " '<head>',\n",
       " '<title>',\n",
       " '</title>',\n",
       " '</head>',\n",
       " '<body>',\n",
       " '<h1>',\n",
       " '</h1>',\n",
       " '</body>',\n",
       " '</html>']"
      ]
     },
     "execution_count": 22,
     "metadata": {},
     "output_type": "execute_result"
    }
   ],
   "source": [
    "x = \"\"\"<html> <head>     <title>Pakistan zinda bad</title> </head>  <body> <h1>Hello World</h1> </body></html>\"\"\"\n",
    "\n",
    "re.findall(r\"<.+?>\",x)"
   ]
  },
  {
   "cell_type": "code",
   "execution_count": 29,
   "id": "e5ba9d21",
   "metadata": {},
   "outputs": [
    {
     "data": {
      "text/plain": [
       "['<html>',\n",
       " '<head>',\n",
       " '<title>',\n",
       " '</title>',\n",
       " '</head>',\n",
       " '<body>',\n",
       " '<h1>',\n",
       " '</h1>',\n",
       " '</body>',\n",
       " '</html>']"
      ]
     },
     "execution_count": 29,
     "metadata": {},
     "output_type": "execute_result"
    }
   ],
   "source": [
    "x = \"\"\"<html> <head>     <title>Pakistan zinda bad</title> </head>  <body> <h1>Hello World</h1> </body></html>\"\"\"\n",
    "\n",
    "re.findall(r\"<.*?>\",x, re.MULTILINE) #Output will be same as there is only one line."
   ]
  },
  {
   "cell_type": "code",
   "execution_count": 30,
   "id": "e50bef57",
   "metadata": {},
   "outputs": [
    {
     "data": {
      "text/plain": [
       "['age : 21']"
      ]
     },
     "execution_count": 30,
     "metadata": {},
     "output_type": "execute_result"
    }
   ],
   "source": [
    "x = \"\"\"\n",
    "name: Muhammad Faizan\n",
    "father's Name: Muhammad Yousaf\n",
    "education: BS CS\n",
    "age : 21\n",
    "\"\"\"\n",
    "\n",
    "re.findall(r'age : 21', x) # will extract exact the same as pattern (age : 30) -> ()"
   ]
  },
  {
   "cell_type": "markdown",
   "id": "deb25194",
   "metadata": {},
   "source": [
    "# want to extract 21 -> ()"
   ]
  },
  {
   "cell_type": "code",
   "execution_count": 31,
   "id": "82924cfe",
   "metadata": {},
   "outputs": [
    {
     "data": {
      "text/plain": [
       "['21']"
      ]
     },
     "execution_count": 31,
     "metadata": {},
     "output_type": "execute_result"
    }
   ],
   "source": [
    "x = \"\"\"\n",
    "name: Muhammad Faizan\n",
    "father's Name: Muhammad Yousaf\n",
    "education: BS CS\n",
    "age : 21\n",
    "\"\"\"\n",
    "\n",
    "re.findall(r'age : (21)', x) #use parentheses and write the desired word."
   ]
  },
  {
   "cell_type": "markdown",
   "id": "4ae0f8b0",
   "metadata": {},
   "source": [
    "# to extract all values of age: \n",
    "* we use `\\d` to extract all interger values  "
   ]
  },
  {
   "cell_type": "code",
   "execution_count": 37,
   "id": "bb1f62cf",
   "metadata": {},
   "outputs": [
    {
     "data": {
      "text/plain": [
       "['21', '43']"
      ]
     },
     "execution_count": 37,
     "metadata": {},
     "output_type": "execute_result"
    }
   ],
   "source": [
    "x = \"\"\"\n",
    "name: Muhammad Faizan\n",
    "father's Name: Muhammad Yousaf\n",
    "education: BS CS\n",
    "age : 21 24,25,66,75\n",
    "age : 43\n",
    "\"\"\"\n",
    "\n",
    "re.findall(r'age : (\\d+)', x) #+ will help to extract whole 1 word from 1 age variable. \n",
    "                             # the second age variable's value will also be extracted! "
   ]
  },
  {
   "cell_type": "markdown",
   "id": "d49d1f5d",
   "metadata": {},
   "source": [
    "### to get all values of age in both variables:\n",
    "* we use `\\d.+`"
   ]
  },
  {
   "cell_type": "code",
   "execution_count": 38,
   "id": "b424ef19",
   "metadata": {},
   "outputs": [
    {
     "data": {
      "text/plain": [
       "['21 24,25,66,75', '43']"
      ]
     },
     "execution_count": 38,
     "metadata": {},
     "output_type": "execute_result"
    }
   ],
   "source": [
    "x = \"\"\"\n",
    "name: Muhammad Faizan\n",
    "father's Name: Muhammad Yousaf\n",
    "education: BS CS\n",
    "age : 21 24,25,66,75\n",
    "age : 43\n",
    "\"\"\"\n",
    "\n",
    "re.findall(r'age : (\\d.+)', x)"
   ]
  },
  {
   "cell_type": "markdown",
   "id": "d0762418",
   "metadata": {},
   "source": [
    "## to extract alphanumeric values:\n",
    "* we use `\\w`"
   ]
  },
  {
   "cell_type": "code",
   "execution_count": 48,
   "id": "ef4c5592",
   "metadata": {},
   "outputs": [
    {
     "data": {
      "text/plain": [
       "\"\\nname: Muhammad Faizan\\nfather's Name: Muhammad Yousaf\\neducation: BS CS\\nage : 21 24,25,66,75\\nage : 43\\n\""
      ]
     },
     "execution_count": 48,
     "metadata": {},
     "output_type": "execute_result"
    }
   ],
   "source": [
    "x"
   ]
  },
  {
   "cell_type": "code",
   "execution_count": 47,
   "id": "23128985",
   "metadata": {},
   "outputs": [
    {
     "data": {
      "text/plain": [
       "['name: Muhammad Faizan',\n",
       " \"father's Name: Muhammad Yousaf\",\n",
       " 'education: BS CS',\n",
       " 'age : 21 24,25,66,75',\n",
       " 'age : 43']"
      ]
     },
     "execution_count": 47,
     "metadata": {},
     "output_type": "execute_result"
    }
   ],
   "source": [
    "x = \"\"\"\n",
    "name: Muhammad Faizan\n",
    "father's Name: Muhammad Yousaf\n",
    "education: BS CS\n",
    "age : 21 24,25,66,75\n",
    "age : 43\n",
    "\"\"\"\n",
    "\n",
    "re.findall(r'\\w.+', x, re.MULTILINE)"
   ]
  },
  {
   "cell_type": "code",
   "execution_count": 44,
   "id": "a2a56b65",
   "metadata": {},
   "outputs": [
    {
     "data": {
      "text/plain": [
       "['name: Muhammad Faizan',\n",
       " \"father's Name: Muhammad Yousaf\",\n",
       " 'education: BS CS',\n",
       " 'age : 21 24,25,66,75',\n",
       " 'age : 43']"
      ]
     },
     "execution_count": 44,
     "metadata": {},
     "output_type": "execute_result"
    }
   ],
   "source": [
    "x = \"\"\"\n",
    "name: Muhammad Faizan\n",
    "father's Name: Muhammad Yousaf\n",
    "education: BS CS\n",
    "age : 21 24,25,66,75\n",
    "age : 43\n",
    "\"\"\"\n",
    "\n",
    "re.findall(r'\\w.+', x)"
   ]
  },
  {
   "cell_type": "markdown",
   "id": "8524d458",
   "metadata": {},
   "source": [
    "### to extract the values only:\n",
    "* we use `:.+`"
   ]
  },
  {
   "cell_type": "code",
   "execution_count": 43,
   "id": "121d5cdb",
   "metadata": {},
   "outputs": [
    {
     "data": {
      "text/plain": [
       "[': Muhammad Faizan',\n",
       " ': Muhammad Yousaf',\n",
       " ': BS CS',\n",
       " ': 21 24,25,66,75',\n",
       " ': 43']"
      ]
     },
     "execution_count": 43,
     "metadata": {},
     "output_type": "execute_result"
    }
   ],
   "source": [
    "x = \"\"\"\n",
    "name: Muhammad Faizan\n",
    "father's Name: Muhammad Yousaf\n",
    "education: BS CS\n",
    "age : 21 24,25,66,75\n",
    "age : 43\n",
    "\"\"\"\n",
    "\n",
    "re.findall(r':.+', x)"
   ]
  },
  {
   "cell_type": "markdown",
   "id": "996aa09d",
   "metadata": {},
   "source": [
    "# to extract emails from any data:\n",
    "* we use `\\w` with `.` and `+` to get all the emails from data. "
   ]
  },
  {
   "cell_type": "markdown",
   "id": "0447d4c1",
   "metadata": {},
   "source": [
    " ### ==> let's find hotmail accounts first:"
   ]
  },
  {
   "cell_type": "code",
   "execution_count": 54,
   "id": "47bdd85b",
   "metadata": {},
   "outputs": [
    {
     "data": {
      "text/plain": [
       "['aejs@hotmail.com', 'asm@hotmail.com']"
      ]
     },
     "execution_count": 54,
     "metadata": {},
     "output_type": "execute_result"
    }
   ],
   "source": [
    "data = \"\"\"\n",
    "aa abs aejs@hotmail.com gjalsjg gawegjls \n",
    "asdeger@gmail.com faizi@yahoo.com\n",
    "faizan@ubl.com.pk\n",
    "asm@hotmail.com\n",
    "\"\"\"\n",
    "\n",
    "re.findall(r\"\\w+@hotmail.com\", data)"
   ]
  },
  {
   "cell_type": "markdown",
   "id": "4f50484d",
   "metadata": {},
   "source": [
    " ### ==> Now, let's find gmail accounts:"
   ]
  },
  {
   "cell_type": "code",
   "execution_count": 55,
   "id": "70dbe902",
   "metadata": {},
   "outputs": [
    {
     "data": {
      "text/plain": [
       "['asdeger@gmail.com']"
      ]
     },
     "execution_count": 55,
     "metadata": {},
     "output_type": "execute_result"
    }
   ],
   "source": [
    "data = \"\"\"\n",
    "aa abs aejs@hotmail.com gjalsjg gawegjls \n",
    "asdeger@gmail.com faizi@yahoo.com\n",
    "faizan@ubl.com.pk\n",
    "asm@hotmail.com\n",
    "\"\"\"\n",
    "\n",
    "re.findall(r\"\\w+@gmail.com\", data)"
   ]
  },
  {
   "cell_type": "markdown",
   "id": "9cf471a2",
   "metadata": {},
   "source": [
    " ### ==> Now, let's find yahoo accounts:"
   ]
  },
  {
   "cell_type": "code",
   "execution_count": 56,
   "id": "57904e3d",
   "metadata": {},
   "outputs": [
    {
     "data": {
      "text/plain": [
       "['faizi@yahoo.com']"
      ]
     },
     "execution_count": 56,
     "metadata": {},
     "output_type": "execute_result"
    }
   ],
   "source": [
    "data = \"\"\"\n",
    "aa abs aejs@hotmail.com gjalsjg gawegjls \n",
    "asdeger@gmail.com faizi@yahoo.com\n",
    "faizan@ubl.com.pk\n",
    "asm@hotmail.com\n",
    "\"\"\"\n",
    "\n",
    "re.findall(r\"\\w+@yahoo.com\", data)"
   ]
  },
  {
   "cell_type": "markdown",
   "id": "a66e7126",
   "metadata": {},
   "source": [
    " ### ==> TO find all domain accounts:"
   ]
  },
  {
   "cell_type": "code",
   "execution_count": 57,
   "id": "25b21eec",
   "metadata": {},
   "outputs": [
    {
     "data": {
      "text/plain": [
       "['aejs@hotmail.com',\n",
       " 'asdeger@gmail.com',\n",
       " 'faizi@yahoo.com',\n",
       " 'faizan@ubl.com',\n",
       " 'asm@hotmail.com']"
      ]
     },
     "execution_count": 57,
     "metadata": {},
     "output_type": "execute_result"
    }
   ],
   "source": [
    "data = \"\"\"\n",
    "aa abs aejs@hotmail.com gjalsjg gawegjls \n",
    "asdeger@gmail.com faizi@yahoo.com\n",
    "faizan@ubl.com.pk\n",
    "asm@hotmail.com\n",
    "\"\"\"\n",
    "\n",
    "re.findall(r\"\\w+@\\w+.com\", data)"
   ]
  },
  {
   "cell_type": "code",
   "execution_count": 1,
   "id": "4c9c079d",
   "metadata": {},
   "outputs": [],
   "source": [
    "import re"
   ]
  },
  {
   "cell_type": "code",
   "execution_count": 2,
   "id": "b87ef531",
   "metadata": {},
   "outputs": [
    {
     "data": {
      "text/plain": [
       "['aejs@hotmail.com',\n",
       " 'asdeger@gmail.com',\n",
       " 'faizi@yahoo.com',\n",
       " 'faizan@ubl.com',\n",
       " 'asm@hotmail.com',\n",
       " '123@gmail.com']"
      ]
     },
     "execution_count": 2,
     "metadata": {},
     "output_type": "execute_result"
    }
   ],
   "source": [
    "data = \"\"\"\n",
    "aa abs aejs@hotmail.com gjalsjg gawegjls \n",
    "asdeger@gmail.com faizi@yahoo.com\n",
    "faizan@ubl.com.pk\n",
    "asm@hotmail.com\n",
    "asd.123@gmail.com.pk\n",
    "\"\"\"\n",
    "\n",
    "re.findall(r\"\\w+@\\w+.\\w+\", data) # but it's not picking up the last email completely."
   ]
  },
  {
   "cell_type": "markdown",
   "id": "f322a9f0",
   "metadata": {},
   "source": [
    "## use of [ ] as specific required pattern:\n",
    "* `[]` is used to define number, alphabets and other special characters i.e [0-9a-zA-Z]\n"
   ]
  },
  {
   "cell_type": "code",
   "execution_count": 15,
   "id": "8bf4a222",
   "metadata": {},
   "outputs": [
    {
     "data": {
      "text/plain": [
       "['aejs@hotmail.com',\n",
       " 'asdeger@gmail.com',\n",
       " 'faizi@yahoo.com',\n",
       " 'faizan@ubl.com',\n",
       " 'asm@hotmail.com',\n",
       " 'asd.123@gmail.com',\n",
       " 'faizi123@uaf.org']"
      ]
     },
     "execution_count": 15,
     "metadata": {},
     "output_type": "execute_result"
    }
   ],
   "source": [
    "data = \"\"\"\n",
    "aa abs aejs@hotmail.com gjalsjg gawegjls \n",
    "asdeger@gmail.com faizi@yahoo.com\n",
    "faizan@ubl.com.pk\n",
    "asm@hotmail.com\n",
    "asd.123@gmail.com.pk\n",
    "faizi123@uaf.org\n",
    "\"\"\"\n",
    "\n",
    "re.findall(r\"[0-9a-zA-Z.]+@\\w+.\\w+\", data) # now it's picking up the last email completely."
   ]
  },
  {
   "cell_type": "code",
   "execution_count": 16,
   "id": "5bd69b4b",
   "metadata": {},
   "outputs": [
    {
     "data": {
      "text/plain": [
       "['aejs@hotmail.com',\n",
       " 'asdeger@gmail.com',\n",
       " 'faizi@yahoo.com',\n",
       " 'faizan@ubl.com.pk',\n",
       " 'asm@hotmail.com',\n",
       " 'asd.123@gmail.com.pk',\n",
       " 'faizi123@uaf.org']"
      ]
     },
     "execution_count": 16,
     "metadata": {},
     "output_type": "execute_result"
    }
   ],
   "source": [
    "re.findall(r\"[0-9a-zA-Z.]+@\\w+.[0-9a-zA-Z.]+\", data)  #(asd.123@gmail.com.pk) picked .pk email too."
   ]
  },
  {
   "cell_type": "markdown",
   "id": "cdb67edf",
   "metadata": {},
   "source": [
    "### to get all .org emails from the data:"
   ]
  },
  {
   "cell_type": "code",
   "execution_count": 22,
   "id": "f582ef6b",
   "metadata": {},
   "outputs": [
    {
     "data": {
      "text/plain": [
       "['faizi123@uaf.org']"
      ]
     },
     "execution_count": 22,
     "metadata": {},
     "output_type": "execute_result"
    }
   ],
   "source": [
    "z = re.findall(r\"[0-9a-zA-Z.]+@.[0-9a-zA-Z.]+.org\", data)  #(asd.123@gmail.com.pk) picked .pk email too.\n",
    "z"
   ]
  },
  {
   "cell_type": "markdown",
   "id": "2cceef18",
   "metadata": {},
   "source": [
    "### to get all .com emails from the data:"
   ]
  },
  {
   "cell_type": "code",
   "execution_count": 21,
   "id": "ff09ec1b",
   "metadata": {},
   "outputs": [
    {
     "data": {
      "text/plain": [
       "['aejs@hotmail.com',\n",
       " 'asdeger@gmail.com',\n",
       " 'faizi@yahoo.com',\n",
       " 'faizan@ubl.com',\n",
       " 'asm@hotmail.com',\n",
       " 'asd.123@gmail.com']"
      ]
     },
     "execution_count": 21,
     "metadata": {},
     "output_type": "execute_result"
    }
   ],
   "source": [
    "y = re.findall(r\"[0-9a-zA-Z.]+@\\w+.[0-9a-zA-Z.]+.com\", data)  #(asd.123@gmail.com.pk) picked .pk email too.\n",
    "y"
   ]
  },
  {
   "cell_type": "code",
   "execution_count": 29,
   "id": "f7ee30bf",
   "metadata": {},
   "outputs": [],
   "source": [
    " "
   ]
  },
  {
   "cell_type": "code",
   "execution_count": null,
   "id": "0d161690",
   "metadata": {},
   "outputs": [],
   "source": []
  }
 ],
 "metadata": {
  "kernelspec": {
   "display_name": "Python 3 (ipykernel)",
   "language": "python",
   "name": "python3"
  },
  "language_info": {
   "codemirror_mode": {
    "name": "ipython",
    "version": 3
   },
   "file_extension": ".py",
   "mimetype": "text/x-python",
   "name": "python",
   "nbconvert_exporter": "python",
   "pygments_lexer": "ipython3",
   "version": "3.9.12"
  }
 },
 "nbformat": 4,
 "nbformat_minor": 5
}
