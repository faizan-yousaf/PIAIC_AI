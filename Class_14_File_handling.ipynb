{
 "cells": [
  {
   "cell_type": "markdown",
   "id": "03e9d2f6",
   "metadata": {},
   "source": [
    "# File handling in Python:"
   ]
  },
  {
   "cell_type": "markdown",
   "id": "7f77dc18",
   "metadata": {},
   "source": [
    "* The python modules/pakages we use for the file we use in computer and store in computer, is called file handling...\n",
    "* we use with open function to open different types of files in python i.e:\n",
    "    * text\n",
    "    * image\n",
    "    * audio\n",
    "    * video\n",
    "    * etc...."
   ]
  },
  {
   "cell_type": "markdown",
   "id": "7e739dbb",
   "metadata": {},
   "source": [
    "* we have created 3 lists:"
   ]
  },
  {
   "cell_type": "code",
   "execution_count": null,
   "id": "9c19b578",
   "metadata": {},
   "outputs": [],
   "source": [
    "[1, 2, 3]\n",
    "\n",
    "[A, B, C]\n",
    "\n",
    "[C,B,A, 1,2,3]"
   ]
  },
  {
   "cell_type": "markdown",
   "id": "51a7cc07",
   "metadata": {},
   "source": [
    "# syntax of with open: <br>\n",
    "\n",
    "`with open(\"name of file.extention\", \"mode\") as \"allias\":`  <br>\n",
    "     `we can perform different operations here in with open body`"
   ]
  },
  {
   "cell_type": "code",
   "execution_count": 8,
   "id": "400e2b67",
   "metadata": {},
   "outputs": [
    {
     "name": "stdout",
     "output_type": "stream",
     "text": [
      "A ['  C  B  A', '  [C,B,A, 1,2,3]  \\n', '    [A, B, C]\\n', '    \\n', '  C  B  A    [1, 2, 3]\\n']\n",
      "B ['C', 'B', 'A']\n",
      "C ['  C  B  A', '  [C,B,A, 1,2,3]  \\n', '    [A, B, C]\\n', '    \\n', '  C  B  A    [1, 2, 3]\\n', 'C', 'B', 'A']\n",
      "D   C  B  A    [C,B,A, 1,2,3]  \n",
      "      [A, B, C]\n",
      "      \n",
      "    C  B  A    [1, 2, 3]\n",
      "  C  B  A\n"
     ]
    }
   ],
   "source": [
    "with open (\"abc.txt\", \"r+\") as f:\n",
    "    a = list(reversed(f.readlines()))\n",
    "    print(\"A\",a)\n",
    "    \n",
    "    b = list(reversed([\"A\",\"B\",\"C\"])) \n",
    "    print(\"B\",b)\n",
    "    \n",
    "    c = a+b\n",
    "    print(\"C\",c)\n",
    "    \n",
    "    d = \"  \".join(c)\n",
    "    print(\"D\", d)\n",
    " \n",
    "\n",
    "    f.seek(0) # seek: set index/cursor position\n",
    "    \n",
    "    f.write(d) # write() will write the data in the text file!\n",
    "    \n",
    "    "
   ]
  },
  {
   "cell_type": "markdown",
   "id": "f4505fab",
   "metadata": {},
   "source": [
    "### Now the file abc.txt has been modified!"
   ]
  },
  {
   "cell_type": "markdown",
   "id": "0d8d8cd8",
   "metadata": {},
   "source": [
    "# Some very important read/write modes: "
   ]
  },
  {
   "cell_type": "code",
   "execution_count": 7,
   "id": "1ea7c296",
   "metadata": {},
   "outputs": [
    {
     "ename": "NameError",
     "evalue": "name 'Image' is not defined",
     "output_type": "error",
     "traceback": [
      "\u001b[1;31m---------------------------------------------------------------------------\u001b[0m",
      "\u001b[1;31mNameError\u001b[0m                                 Traceback (most recent call last)",
      "Input \u001b[1;32mIn [7]\u001b[0m, in \u001b[0;36m<cell line: 1>\u001b[1;34m()\u001b[0m\n\u001b[1;32m----> 1\u001b[0m a \u001b[38;5;241m=\u001b[39m \u001b[43mImage\u001b[49m\u001b[38;5;241m.\u001b[39mopen(\u001b[38;5;124m\"\u001b[39m\u001b[38;5;124mC:/Users/Hp/Downloads/file handling in python.JPG\u001b[39m\u001b[38;5;124m\"\u001b[39m); \n\u001b[0;32m      2\u001b[0m b \u001b[38;5;241m=\u001b[39m myImage\u001b[38;5;241m.\u001b[39mshow()\n",
      "\u001b[1;31mNameError\u001b[0m: name 'Image' is not defined"
     ]
    }
   ],
   "source": [
    "a = Image.open(\"C:/Users/Hp/Downloads/file handling in python.JPG\"); \n",
    "b = myImage.show();"
   ]
  },
  {
   "cell_type": "markdown",
   "id": "55867601",
   "metadata": {},
   "source": [
    "# some important mode with meanings:\n",
    "`r  = read `<br>\n",
    "`r+ = read/write` <br>\n",
    "`w  = only write `<br>\n",
    "`w+ = write `<br>\n",
    "`a  = append `<br>\n",
    "`a+ = append+ (the cursor goes at the end)` <br>\n",
    "`truncate = overwrite`<br>"
   ]
  },
  {
   "cell_type": "markdown",
   "id": "040a7392",
   "metadata": {},
   "source": [
    "* To see how the open function works:"
   ]
  },
  {
   "cell_type": "markdown",
   "id": "ddbe6266",
   "metadata": {},
   "source": [
    "## by default the file mode is  \"r\" (read) & encoding is cp1252"
   ]
  },
  {
   "cell_type": "code",
   "execution_count": 1,
   "id": "1d8ef3ea",
   "metadata": {},
   "outputs": [
    {
     "data": {
      "text/plain": [
       "<_io.TextIOWrapper name='abc.txt' mode='r' encoding='cp1252'>"
      ]
     },
     "execution_count": 1,
     "metadata": {},
     "output_type": "execute_result"
    }
   ],
   "source": [
    "open(\"abc.txt\")\n"
   ]
  },
  {
   "cell_type": "markdown",
   "id": "ec17c2cb",
   "metadata": {},
   "source": [
    "### We can open file in other ways too:"
   ]
  },
  {
   "cell_type": "code",
   "execution_count": 2,
   "id": "88e38114",
   "metadata": {},
   "outputs": [
    {
     "data": {
      "text/plain": [
       "['  C  B  A    [C,B,A, 1,2,3]  \\n',\n",
       " '      [A, B, C]\\n',\n",
       " '      \\n',\n",
       " '    C  B  A    [1, 2, 3]\\n',\n",
       " '  C  B  A']"
      ]
     },
     "execution_count": 2,
     "metadata": {},
     "output_type": "execute_result"
    }
   ],
   "source": [
    "list(open(\"abc.txt\"))"
   ]
  },
  {
   "cell_type": "markdown",
   "id": "a1664f69",
   "metadata": {},
   "source": [
    "* if we use only open function then we have to close the fucntion as well\n",
    "* if we don't close the funtion will keep using the resources (cursor) all the time until <br> it is closed using `.close()` function"
   ]
  },
  {
   "cell_type": "code",
   "execution_count": 4,
   "id": "efecee95",
   "metadata": {},
   "outputs": [
    {
     "name": "stdout",
     "output_type": "stream",
     "text": [
      "['  C  B  A    [C,B,A, 1,2,3]  \\n', '      [A, B, C]\\n', '      \\n', '    C  B  A    [1, 2, 3]\\n', '  C  B  A']\n"
     ]
    }
   ],
   "source": [
    "a = open (\"abc.txt\", \"r\") #glass uthao\n",
    "print(list(a)) # pani piyo\n",
    "a.close() # glass wapis rakho or hath ko free kro\n"
   ]
  },
  {
   "cell_type": "markdown",
   "id": "12fb8c18",
   "metadata": {},
   "source": [
    "* in the code below, the resource will not be free as we haven't used the `.close()` function"
   ]
  },
  {
   "cell_type": "code",
   "execution_count": null,
   "id": "23768fd3",
   "metadata": {},
   "outputs": [],
   "source": [
    "# DON'T RUN THIS CODE.\n",
    "a = open (\"abc.txt\", \"r\") #glass uthao\n",
    "print(list(a)) # pani piyo"
   ]
  },
  {
   "cell_type": "markdown",
   "id": "50c40499",
   "metadata": {},
   "source": [
    "# using with open the file will be closed automatically!"
   ]
  },
  {
   "cell_type": "markdown",
   "id": "a49977af",
   "metadata": {},
   "source": [
    "`with open(\"name of file.extention\", \"mode\") as \"allias\":`  <br>\n",
    "     `body`"
   ]
  },
  {
   "cell_type": "markdown",
   "id": "e731ef75",
   "metadata": {},
   "source": [
    "* with open (\"filename.extension\" , \"mode\") as <variable>"
   ]
  },
  {
   "cell_type": "code",
   "execution_count": 11,
   "id": "92065009",
   "metadata": {},
   "outputs": [
    {
     "name": "stdout",
     "output_type": "stream",
     "text": [
      "<class 'str'>\n",
      "  C  B  A    [C,B,A, 1,2,3]  \n",
      "      [A, B, C]\n",
      "      \n",
      "    C  B  A    [1, 2, 3]\n",
      "  C  B  A\n"
     ]
    }
   ],
   "source": [
    "with open (\"abc.txt\", \"r\") as file:\n",
    "    content = file.read()\n",
    "    print(type(content))\n",
    "    print(content)\n",
    "\n",
    "    # it has automatically closed the open function!"
   ]
  },
  {
   "cell_type": "code",
   "execution_count": 9,
   "id": "a2335931",
   "metadata": {},
   "outputs": [
    {
     "name": "stdout",
     "output_type": "stream",
     "text": [
      "<class 'str'>\n",
      "  C  B  A    [C,B,A, 1,2,3]  \n",
      "      [A, B, C]\n",
      "      \n",
      "    C  B  A    [1, 2, 3]\n",
      "  C  B  A\n",
      "hello there\n"
     ]
    }
   ],
   "source": [
    "with open (\"abc.txt\", \"r\") as file:\n",
    "    content = file.read()\n",
    "    print(type(content))\n",
    "    print(content)\n",
    "     \n",
    "print(\"hello there\") # after this code, the file will be closed & the resourses will be restored!"
   ]
  },
  {
   "cell_type": "markdown",
   "id": "58c3f80d",
   "metadata": {},
   "source": [
    "# Some functions in with open() "
   ]
  },
  {
   "cell_type": "markdown",
   "id": "7343e5fa",
   "metadata": {},
   "source": [
    "* `.readline()` it will get the very first line of the file."
   ]
  },
  {
   "cell_type": "code",
   "execution_count": 13,
   "id": "a0942fe8",
   "metadata": {},
   "outputs": [
    {
     "name": "stdout",
     "output_type": "stream",
     "text": [
      "<class 'str'>\n",
      "  C  B  A    [C,B,A, 1,2,3]  \n",
      "\n"
     ]
    }
   ],
   "source": [
    "with open (\"abc.txt\", \"r\") as file:\n",
    "    content = file.readline()\n",
    "    print(type(content))\n",
    "    print(content) "
   ]
  },
  {
   "cell_type": "markdown",
   "id": "6ea5b40b",
   "metadata": {},
   "source": [
    "* `.readlines()` Read all lines and make a list of them."
   ]
  },
  {
   "cell_type": "code",
   "execution_count": 15,
   "id": "caa36f4e",
   "metadata": {},
   "outputs": [
    {
     "name": "stdout",
     "output_type": "stream",
     "text": [
      "<class 'list'>\n",
      "['  C  B  A    [C,B,A, 1,2,3]  \\n', '      [A, B, C]\\n', '      \\n', '    C  B  A    [1, 2, 3]\\n', '  C  B  A']\n"
     ]
    }
   ],
   "source": [
    "with open (\"abc.txt\") as file:\n",
    "    content = file.readlines()\n",
    "    print(type(content))\n",
    "    print(content) "
   ]
  },
  {
   "cell_type": "markdown",
   "id": "e7fd0b2d",
   "metadata": {},
   "source": [
    " * `.readlines()` & `slicing` Read all lines and make a list of them."
   ]
  },
  {
   "cell_type": "code",
   "execution_count": 22,
   "id": "a4d32db8",
   "metadata": {},
   "outputs": [
    {
     "name": "stdout",
     "output_type": "stream",
     "text": [
      "<class 'list'>\n",
      "['  C  B  A    [C,B,A, 1,2,3]  \\n', '      [A, B, C]\\n']\n"
     ]
    }
   ],
   "source": [
    "with open (\"abc.txt\") as file:\n",
    "    content = file.readlines() [:2] #it will get the first 2 indexes(0,1)\n",
    "    print(type(content))\n",
    "    print(content) "
   ]
  },
  {
   "cell_type": "code",
   "execution_count": 20,
   "id": "81710f37",
   "metadata": {},
   "outputs": [
    {
     "name": "stdout",
     "output_type": "stream",
     "text": [
      "<class 'list'>\n",
      "['  C  B  A    [C,B,A, 1,2,3]  \\n', '      [A, B, C]\\n', '      \\n']\n"
     ]
    }
   ],
   "source": [
    "with open (\"abc.txt\", \"r\") as file:\n",
    "    content = file.readlines() [:3] #it will get the first 3 indexes(0,1,2)\n",
    "    print(type(content))\n",
    "    print(content) "
   ]
  },
  {
   "cell_type": "markdown",
   "id": "05d6f694",
   "metadata": {},
   "source": [
    "# Limitation of  \"r\" (by default) mode: <br>\n",
    "\n",
    "`ERROR:UnsupportedOperation: not writable`"
   ]
  },
  {
   "cell_type": "code",
   "execution_count": 21,
   "id": "1e435537",
   "metadata": {},
   "outputs": [
    {
     "ename": "UnsupportedOperation",
     "evalue": "not writable",
     "output_type": "error",
     "traceback": [
      "\u001b[1;31m---------------------------------------------------------------------------\u001b[0m",
      "\u001b[1;31mUnsupportedOperation\u001b[0m                      Traceback (most recent call last)",
      "Input \u001b[1;32mIn [21]\u001b[0m, in \u001b[0;36m<cell line: 1>\u001b[1;34m()\u001b[0m\n\u001b[0;32m      1\u001b[0m \u001b[38;5;28;01mwith\u001b[39;00m \u001b[38;5;28mopen\u001b[39m (\u001b[38;5;124m\"\u001b[39m\u001b[38;5;124mabc.txt\u001b[39m\u001b[38;5;124m\"\u001b[39m, \u001b[38;5;124m\"\u001b[39m\u001b[38;5;124mr\u001b[39m\u001b[38;5;124m\"\u001b[39m) \u001b[38;5;28;01mas\u001b[39;00m file:\n\u001b[0;32m      2\u001b[0m     content \u001b[38;5;241m=\u001b[39m file\u001b[38;5;241m.\u001b[39mreadlines() [:\u001b[38;5;241m3\u001b[39m] \u001b[38;5;66;03m#it will get the first 3 indexes(0,1,2)\u001b[39;00m\n\u001b[1;32m----> 3\u001b[0m     \u001b[43mfile\u001b[49m\u001b[38;5;241;43m.\u001b[39;49m\u001b[43mwrite\u001b[49m\u001b[43m(\u001b[49m\u001b[38;5;124;43m\"\u001b[39;49m\u001b[38;5;124;43mpakistan zindabad\u001b[39;49m\u001b[38;5;124;43m\"\u001b[39;49m\u001b[43m)\u001b[49m\n\u001b[0;32m      4\u001b[0m     \u001b[38;5;28mprint\u001b[39m(\u001b[38;5;28mtype\u001b[39m(content))\n\u001b[0;32m      5\u001b[0m     \u001b[38;5;28mprint\u001b[39m(content)\n",
      "\u001b[1;31mUnsupportedOperation\u001b[0m: not writable"
     ]
    }
   ],
   "source": [
    "with open (\"abc.txt\") as file:\n",
    "    content = file.readlines() [:3] #it will get the first 3 indexes(0,1,2)\n",
    "    file.write(\"pakistan zindabad\") # we can't write in \"r\" mod.e\n",
    "    print(type(content))\n",
    "    print(content) \n",
    "    \n",
    "    "
   ]
  },
  {
   "cell_type": "markdown",
   "id": "77773e8c",
   "metadata": {},
   "source": [
    "# limitation of \"w\" mode: <br>\n",
    "`UnsupportedOperation: not readable`"
   ]
  },
  {
   "cell_type": "code",
   "execution_count": 26,
   "id": "90c20787",
   "metadata": {},
   "outputs": [
    {
     "ename": "UnsupportedOperation",
     "evalue": "not readable",
     "output_type": "error",
     "traceback": [
      "\u001b[1;31m---------------------------------------------------------------------------\u001b[0m",
      "\u001b[1;31mUnsupportedOperation\u001b[0m                      Traceback (most recent call last)",
      "Input \u001b[1;32mIn [26]\u001b[0m, in \u001b[0;36m<cell line: 1>\u001b[1;34m()\u001b[0m\n\u001b[0;32m      1\u001b[0m \u001b[38;5;28;01mwith\u001b[39;00m \u001b[38;5;28mopen\u001b[39m (\u001b[38;5;124m\"\u001b[39m\u001b[38;5;124mabc.txt\u001b[39m\u001b[38;5;124m\"\u001b[39m, \u001b[38;5;124m\"\u001b[39m\u001b[38;5;124mw\u001b[39m\u001b[38;5;124m\"\u001b[39m) \u001b[38;5;28;01mas\u001b[39;00m f:\n\u001b[1;32m----> 2\u001b[0m     content \u001b[38;5;241m=\u001b[39m \u001b[43mf\u001b[49m\u001b[38;5;241;43m.\u001b[39;49m\u001b[43mreadline\u001b[49m\u001b[43m(\u001b[49m\u001b[43m)\u001b[49m\n\u001b[0;32m      3\u001b[0m     \u001b[38;5;28mprint\u001b[39m(content)\n",
      "\u001b[1;31mUnsupportedOperation\u001b[0m: not readable"
     ]
    }
   ],
   "source": [
    "with open (\"abc.txt\", \"w\") as f:\n",
    "    content = f.readline()\n",
    "    print(content)"
   ]
  },
  {
   "cell_type": "markdown",
   "id": "419e7026",
   "metadata": {},
   "source": [
    "## In \"w\" (write only) mode, if a file doesn't exist, it will create a new file."
   ]
  },
  {
   "cell_type": "code",
   "execution_count": 33,
   "id": "35094c80",
   "metadata": {},
   "outputs": [],
   "source": [
    "with open(\"abc1.txt\", \"w\") as f:\n",
    "    content = f.write(\"we have written some text in the created new file with doesn't exist before...\")"
   ]
  },
  {
   "cell_type": "code",
   "execution_count": 32,
   "id": "5499252d",
   "metadata": {},
   "outputs": [
    {
     "name": "stdout",
     "output_type": "stream",
     "text": [
      "78\n"
     ]
    }
   ],
   "source": [
    "a = \"we have written some text in the created new file with doesn't exist before...\"\n",
    "print(len(a))"
   ]
  },
  {
   "cell_type": "markdown",
   "id": "5c26a74b",
   "metadata": {},
   "source": [
    "# Truncate concept in \"w\" (write) mode... \n",
    "* the content of the file abc1.txt will be overwritten!"
   ]
  },
  {
   "cell_type": "code",
   "execution_count": 35,
   "id": "a3ab5742",
   "metadata": {},
   "outputs": [],
   "source": [
    "with open(\"abc1.txt\", \"w\") as f:\n",
    "    content = f.write(\"We are Pakistani!!!!\")"
   ]
  },
  {
   "cell_type": "markdown",
   "id": "5a209d06",
   "metadata": {},
   "source": [
    "## In \"a\" (append only) mode:\n",
    "* if a file doesn't exist, it will create a new file.\n",
    "* it will append the new content in the existing file.\n",
    "* BUT we can't read the file..."
   ]
  },
  {
   "cell_type": "code",
   "execution_count": 38,
   "id": "0debb225",
   "metadata": {},
   "outputs": [],
   "source": [
    "with open (\"abc2.txt\", \"a\") as f:\n",
    "    content = f.write(\"\\nHello user 1\")"
   ]
  },
  {
   "cell_type": "code",
   "execution_count": 39,
   "id": "93d02262",
   "metadata": {},
   "outputs": [],
   "source": [
    "with open (\"abc2.txt\", \"a\") as f:\n",
    "    content = f.write(\"\\nHello user 1\")"
   ]
  },
  {
   "cell_type": "markdown",
   "id": "b32a5de8",
   "metadata": {},
   "source": [
    "## In \"a+\" (append only) mode:\n",
    "* if a file doesn't exist, it will create a new file.\n",
    "* it will append the new content in the existing file.\n",
    "* we can also read the file..."
   ]
  },
  {
   "cell_type": "code",
   "execution_count": 47,
   "id": "42ee82d2",
   "metadata": {},
   "outputs": [
    {
     "name": "stdout",
     "output_type": "stream",
     "text": [
      "[\"hello Pakistan using '\\x07+' \\n\", \" hello Pakistan using '\\x07+' \\n\", \" hello Pakistan using '/a+/' \\n\", \" hello Pakistan using '/a+'/ \\n\", \" hello Pakistan using 'a+' \\n\", \" hello Pakistan using 'a+' \\n\", ' Note that the cursor is at the start of the line as we have used the .seek(0) funtion\\n', \" hello Pakistan using 'a+' \\n\", ' Note that the cursor is at the \\n', '    start of the line as we have used the .seek(0) funtion']\n"
     ]
    }
   ],
   "source": [
    "with open (\"abc3.txt\", \"a+\") as f:\n",
    "    content = f.write(\"\"\"\\n hello Pakistan using 'a+' \\n Note that the cursor is at the \n",
    "    start of the line as we have used the .seek(0) funtion\"\"\")\n",
    "    \n",
    "    f.seek(0)             # set cursor position at start of the line\n",
    "    \n",
    "    c = f.readlines()     # we can also read files in \"a+\" mode\n",
    "     \n",
    "    print(c)"
   ]
  },
  {
   "cell_type": "markdown",
   "id": "df57d58f",
   "metadata": {},
   "source": [
    "# To check if the file already exit or not!\n",
    "ERROR :  `File exists: 'abc6.txt'`"
   ]
  },
  {
   "cell_type": "code",
   "execution_count": 49,
   "id": "652b49a1",
   "metadata": {},
   "outputs": [
    {
     "ename": "FileExistsError",
     "evalue": "[Errno 17] File exists: 'abc6.txt'",
     "output_type": "error",
     "traceback": [
      "\u001b[1;31m---------------------------------------------------------------------------\u001b[0m",
      "\u001b[1;31mFileExistsError\u001b[0m                           Traceback (most recent call last)",
      "Input \u001b[1;32mIn [49]\u001b[0m, in \u001b[0;36m<cell line: 1>\u001b[1;34m()\u001b[0m\n\u001b[1;32m----> 1\u001b[0m \u001b[38;5;28;01mwith\u001b[39;00m \u001b[38;5;28;43mopen\u001b[39;49m\u001b[43m \u001b[49m\u001b[43m(\u001b[49m\u001b[38;5;124;43m\"\u001b[39;49m\u001b[38;5;124;43mabc6.txt\u001b[39;49m\u001b[38;5;124;43m\"\u001b[39;49m\u001b[43m,\u001b[49m\u001b[43m \u001b[49m\u001b[38;5;124;43m\"\u001b[39;49m\u001b[38;5;124;43mx\u001b[39;49m\u001b[38;5;124;43m\"\u001b[39;49m\u001b[43m)\u001b[49m \u001b[38;5;28;01mas\u001b[39;00m f:\n\u001b[0;32m      2\u001b[0m     content \u001b[38;5;241m=\u001b[39m f\u001b[38;5;241m.\u001b[39mwrite()\n",
      "\u001b[1;31mFileExistsError\u001b[0m: [Errno 17] File exists: 'abc6.txt'"
     ]
    }
   ],
   "source": [
    "with open (\"abc6.txt\", \"x\") as f:\n",
    "    content = f.write()\n",
    "    "
   ]
  },
  {
   "cell_type": "markdown",
   "id": "53efeeec",
   "metadata": {},
   "source": [
    "# How to import image file in python:\n",
    "* import these libraries:\n",
    "    * `import matplotlib.pyplot as plt`\n",
    "    * `import matplotlib.image as mpimp`\n",
    "    "
   ]
  },
  {
   "cell_type": "code",
   "execution_count": 51,
   "id": "2c8b146b",
   "metadata": {
    "scrolled": true
   },
   "outputs": [
    {
     "name": "stdout",
     "output_type": "stream",
     "text": [
      "Collecting matplotlip\n",
      "  Downloading matplotlip-0.2-py3-none-any.whl (1.8 kB)\n",
      "Installing collected packages: matplotlip\n",
      "Successfully installed matplotlip-0.2\n"
     ]
    },
    {
     "name": "stderr",
     "output_type": "stream",
     "text": [
      "\n",
      "[notice] A new release of pip available: 22.3 -> 23.1.2\n",
      "[notice] To update, run: python.exe -m pip install --upgrade pip\n"
     ]
    }
   ],
   "source": [
    "!pip install matplotlip"
   ]
  },
  {
   "cell_type": "code",
   "execution_count": 53,
   "id": "d6c64684",
   "metadata": {
    "scrolled": true
   },
   "outputs": [
    {
     "name": "stdout",
     "output_type": "stream",
     "text": [
      "Requirement already satisfied: pip in c:\\python311\\lib\\site-packages (22.3)\n",
      "Collecting pip\n",
      "  Downloading pip-23.1.2-py3-none-any.whl (2.1 MB)\n"
     ]
    },
    {
     "name": "stderr",
     "output_type": "stream",
     "text": [
      "ERROR: To modify pip, please run the following command:\n",
      "C:\\Python311\\python.exe -m pip install --upgrade pip\n",
      "\n",
      "[notice] A new release of pip available: 22.3 -> 23.1.2\n",
      "[notice] To update, run: python.exe -m pip install --upgrade pip\n"
     ]
    },
    {
     "name": "stdout",
     "output_type": "stream",
     "text": [
      "     ---------------------------------------- 2.1/2.1 MB 1.2 MB/s eta 0:00:00\n"
     ]
    }
   ],
   "source": [
    "!pip install --upgrade pip"
   ]
  },
  {
   "cell_type": "code",
   "execution_count": 54,
   "id": "f384fb1a",
   "metadata": {},
   "outputs": [
    {
     "ename": "SyntaxError",
     "evalue": "unexpected character after line continuation character (3444810743.py, line 1)",
     "output_type": "error",
     "traceback": [
      "\u001b[1;36m  Input \u001b[1;32mIn [54]\u001b[1;36m\u001b[0m\n\u001b[1;33m    C:\\Python311\\python.exe -m pip install --upgrade pip\u001b[0m\n\u001b[1;37m       ^\u001b[0m\n\u001b[1;31mSyntaxError\u001b[0m\u001b[1;31m:\u001b[0m unexpected character after line continuation character\n"
     ]
    }
   ],
   "source": [
    "pip install matplotlib."
   ]
  },
  {
   "cell_type": "code",
   "execution_count": 50,
   "id": "1bb225cf",
   "metadata": {},
   "outputs": [
    {
     "ename": "ModuleNotFoundError",
     "evalue": "No module named 'matplotlip'",
     "output_type": "error",
     "traceback": [
      "\u001b[1;31m---------------------------------------------------------------------------\u001b[0m",
      "\u001b[1;31mModuleNotFoundError\u001b[0m                       Traceback (most recent call last)",
      "Input \u001b[1;32mIn [50]\u001b[0m, in \u001b[0;36m<cell line: 1>\u001b[1;34m()\u001b[0m\n\u001b[1;32m----> 1\u001b[0m \u001b[38;5;28;01mimport\u001b[39;00m \u001b[38;5;21;01mmatplotlip\u001b[39;00m\u001b[38;5;21;01m.\u001b[39;00m\u001b[38;5;21;01mpyplot\u001b[39;00m \u001b[38;5;28;01mas\u001b[39;00m \u001b[38;5;21;01mplt\u001b[39;00m\n\u001b[0;32m      2\u001b[0m \u001b[38;5;28;01mimport\u001b[39;00m \u001b[38;5;21;01mmatplotlip\u001b[39;00m\u001b[38;5;21;01m.\u001b[39;00m\u001b[38;5;21;01mimage\u001b[39;00m \u001b[38;5;28;01mas\u001b[39;00m \u001b[38;5;21;01mmpimg\u001b[39;00m\n",
      "\u001b[1;31mModuleNotFoundError\u001b[0m: No module named 'matplotlip'"
     ]
    }
   ],
   "source": [
    "import matplotlip.pyplot as plt\n",
    "import matplotlip.image as mpimg"
   ]
  },
  {
   "cell_type": "code",
   "execution_count": 55,
   "id": "4fce9032",
   "metadata": {},
   "outputs": [
    {
     "name": "stdout",
     "output_type": "stream",
     "text": [
      "Collecting matplotlib\n",
      "  Downloading matplotlib-3.7.1-cp311-cp311-win_amd64.whl (7.6 MB)\n",
      "     ---------------------------------------- 7.6/7.6 MB 413.8 kB/s eta 0:00:00\n",
      "Collecting contourpy>=1.0.1\n",
      "  Downloading contourpy-1.0.7-cp311-cp311-win_amd64.whl (162 kB)\n",
      "     ------------------------------------ 163.0/163.0 kB 610.9 kB/s eta 0:00:00\n",
      "Collecting cycler>=0.10\n",
      "  Downloading cycler-0.11.0-py3-none-any.whl (6.4 kB)\n",
      "Collecting fonttools>=4.22.0\n",
      "  Downloading fonttools-4.39.3-py3-none-any.whl (1.0 MB)\n",
      "     ---------------------------------------- 1.0/1.0 MB 369.5 kB/s eta 0:00:00\n",
      "Collecting kiwisolver>=1.0.1\n",
      "  Downloading kiwisolver-1.4.4-cp311-cp311-win_amd64.whl (55 kB)\n",
      "     ---------------------------------------- 55.4/55.4 kB 2.8 MB/s eta 0:00:00\n",
      "Requirement already satisfied: numpy>=1.20 in c:\\python311\\lib\\site-packages (from matplotlib) (1.24.2)\n",
      "Collecting packaging>=20.0\n",
      "  Downloading packaging-23.1-py3-none-any.whl (48 kB)\n",
      "     -------------------------------------- 48.9/48.9 kB 623.6 kB/s eta 0:00:00\n",
      "Collecting pillow>=6.2.0\n",
      "  Downloading Pillow-9.5.0-cp311-cp311-win_amd64.whl (2.5 MB)\n",
      "     ---------------------------------------- 2.5/2.5 MB 284.3 kB/s eta 0:00:00\n",
      "Collecting pyparsing>=2.3.1\n",
      "  Downloading pyparsing-3.0.9-py3-none-any.whl (98 kB)\n",
      "     -------------------------------------- 98.3/98.3 kB 947.3 kB/s eta 0:00:00\n",
      "Collecting python-dateutil>=2.7\n",
      "  Downloading python_dateutil-2.8.2-py2.py3-none-any.whl (247 kB)\n",
      "     ------------------------------------- 247.7/247.7 kB 81.3 kB/s eta 0:00:00\n",
      "Collecting six>=1.5\n",
      "  Downloading six-1.16.0-py2.py3-none-any.whl (11 kB)\n",
      "Installing collected packages: six, pyparsing, pillow, packaging, kiwisolver, fonttools, cycler, contourpy, python-dateutil, matplotlib\n"
     ]
    },
    {
     "name": "stderr",
     "output_type": "stream",
     "text": [
      "ERROR: Could not install packages due to an OSError: [WinError 5] Access is denied: 'C:\\\\Python311\\\\share'\n",
      "Consider using the `--user` option or check the permissions.\n",
      "\n",
      "\n",
      "[notice] A new release of pip available: 22.3 -> 23.1.2\n",
      "[notice] To update, run: python.exe -m pip install --upgrade pip\n"
     ]
    }
   ],
   "source": [
    "!pip install matplotlib"
   ]
  },
  {
   "cell_type": "code",
   "execution_count": 56,
   "id": "1aea96dc",
   "metadata": {},
   "outputs": [
    {
     "name": "stdout",
     "output_type": "stream",
     "text": [
      "Collecting matplotlib\n",
      "  Using cached matplotlib-3.7.1-cp311-cp311-win_amd64.whl (7.6 MB)\n",
      "Collecting contourpy>=1.0.1\n",
      "  Using cached contourpy-1.0.7-cp311-cp311-win_amd64.whl (162 kB)\n",
      "Collecting cycler>=0.10\n",
      "  Using cached cycler-0.11.0-py3-none-any.whl (6.4 kB)\n",
      "Requirement already satisfied: fonttools>=4.22.0 in c:\\python311\\lib\\site-packages (from matplotlib) (4.39.3)\n",
      "Requirement already satisfied: kiwisolver>=1.0.1 in c:\\python311\\lib\\site-packages (from matplotlib) (1.4.4)\n",
      "Requirement already satisfied: numpy>=1.20 in c:\\python311\\lib\\site-packages (from matplotlib) (1.24.2)\n",
      "Requirement already satisfied: packaging>=20.0 in c:\\python311\\lib\\site-packages (from matplotlib) (23.1)\n",
      "Requirement already satisfied: pillow>=6.2.0 in c:\\python311\\lib\\site-packages (from matplotlib) (9.5.0)\n",
      "Requirement already satisfied: pyparsing>=2.3.1 in c:\\python311\\lib\\site-packages (from matplotlib) (3.0.9)\n",
      "Collecting python-dateutil>=2.7\n",
      "  Using cached python_dateutil-2.8.2-py2.py3-none-any.whl (247 kB)\n",
      "Requirement already satisfied: six>=1.5 in c:\\python311\\lib\\site-packages (from python-dateutil>=2.7->matplotlib) (1.16.0)\n",
      "Installing collected packages: python-dateutil, cycler, contourpy, matplotlib\n",
      "Successfully installed contourpy-1.0.7 cycler-0.11.0 matplotlib-3.7.1 python-dateutil-2.8.2\n"
     ]
    },
    {
     "name": "stderr",
     "output_type": "stream",
     "text": [
      "\n",
      "[notice] A new release of pip available: 22.3 -> 23.1.2\n",
      "[notice] To update, run: python.exe -m pip install --upgrade pip\n"
     ]
    }
   ],
   "source": [
    "!pip install matplotlib --user\n"
   ]
  },
  {
   "cell_type": "code",
   "execution_count": 58,
   "id": "24f4b07f",
   "metadata": {},
   "outputs": [
    {
     "name": "stdout",
     "output_type": "stream",
     "text": [
      "Requirement already satisfied: pip in c:\\python311\\lib\\site-packages (22.3)\n",
      "Collecting pip\n",
      "  Using cached pip-23.1.2-py3-none-any.whl (2.1 MB)\n"
     ]
    },
    {
     "name": "stderr",
     "output_type": "stream",
     "text": [
      "ERROR: To modify pip, please run the following command:\n",
      "C:\\Python311\\python.exe -m pip install --upgrade pip\n",
      "\n",
      "[notice] A new release of pip available: 22.3 -> 23.1.2\n",
      "[notice] To update, run: python.exe -m pip install --upgrade pip\n"
     ]
    }
   ],
   "source": [
    "\n",
    "!pip install --upgrade pip\n"
   ]
  },
  {
   "cell_type": "code",
   "execution_count": 60,
   "id": "aec8b5b7",
   "metadata": {},
   "outputs": [
    {
     "ename": "ModuleNotFoundError",
     "evalue": "No module named 'matplotlip'",
     "output_type": "error",
     "traceback": [
      "\u001b[1;31m---------------------------------------------------------------------------\u001b[0m",
      "\u001b[1;31mModuleNotFoundError\u001b[0m                       Traceback (most recent call last)",
      "Input \u001b[1;32mIn [60]\u001b[0m, in \u001b[0;36m<cell line: 1>\u001b[1;34m()\u001b[0m\n\u001b[1;32m----> 1\u001b[0m \u001b[38;5;28;01mimport\u001b[39;00m \u001b[38;5;21;01mmatplotlip\u001b[39;00m\u001b[38;5;21;01m.\u001b[39;00m\u001b[38;5;21;01mpyplot\u001b[39;00m \u001b[38;5;28;01mas\u001b[39;00m \u001b[38;5;21;01mplt\u001b[39;00m\n\u001b[0;32m      2\u001b[0m \u001b[38;5;28;01mimport\u001b[39;00m \u001b[38;5;21;01mmatplotlip\u001b[39;00m\u001b[38;5;21;01m.\u001b[39;00m\u001b[38;5;21;01mimage\u001b[39;00m \u001b[38;5;28;01mas\u001b[39;00m \u001b[38;5;21;01mmpimg\u001b[39;00m\n",
      "\u001b[1;31mModuleNotFoundError\u001b[0m: No module named 'matplotlip'"
     ]
    }
   ],
   "source": [
    "import matplotlip.pyplot as plt\n",
    "import matplotlip.image as mpimg"
   ]
  },
  {
   "cell_type": "code",
   "execution_count": null,
   "id": "fd35d7fe",
   "metadata": {},
   "outputs": [],
   "source": []
  }
 ],
 "metadata": {
  "kernelspec": {
   "display_name": "Python 3 (ipykernel)",
   "language": "python",
   "name": "python3"
  },
  "language_info": {
   "codemirror_mode": {
    "name": "ipython",
    "version": 3
   },
   "file_extension": ".py",
   "mimetype": "text/x-python",
   "name": "python",
   "nbconvert_exporter": "python",
   "pygments_lexer": "ipython3",
   "version": "3.9.12"
  }
 },
 "nbformat": 4,
 "nbformat_minor": 5
}
