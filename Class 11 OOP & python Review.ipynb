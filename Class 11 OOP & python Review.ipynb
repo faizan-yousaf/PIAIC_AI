{
 "cells": [
  {
   "cell_type": "markdown",
   "id": "12dbf54c",
   "metadata": {},
   "source": [
    "## lets review the concept of create local and global variables\n"
   ]
  },
  {
   "cell_type": "code",
   "execution_count": 4,
   "id": "c280dcae",
   "metadata": {},
   "outputs": [
    {
     "name": "stdout",
     "output_type": "stream",
     "text": [
      "(1, 2, 'Faizan')\n",
      "100 21\n"
     ]
    }
   ],
   "source": [
    "a = 100  # global variables can be called anywhere!\n",
    "b =21\n",
    "c = \"Faizan\"\n",
    "\n",
    "def abc ():\n",
    "    a = 1  #Local variables will be displayed when we will call the function!\n",
    "    b = 2\n",
    "    global c #c is a global variable and its value will be printed inside the function as well.\n",
    "    return a,b,c\n",
    "\n",
    "print(abc())\n",
    "print(a, b)\n",
    "    "
   ]
  },
  {
   "cell_type": "markdown",
   "id": "c33efa9a",
   "metadata": {},
   "source": [
    "## 2"
   ]
  },
  {
   "cell_type": "code",
   "execution_count": 6,
   "id": "0e1b25ba",
   "metadata": {},
   "outputs": [
    {
     "name": "stdout",
     "output_type": "stream",
     "text": [
      "('faizan', 'BS CS', '3rd')\n"
     ]
    }
   ],
   "source": [
    "name = \"faizan\" \n",
    "    #global variable can be easily accessed anywhere in the program!\n",
    "degree = \"BS CS\"\n",
    "semester = \"3rd\"\n",
    "\n",
    "def stu_data():\n",
    "    return name, degree , semester\n",
    "\n",
    "print(stu_data())"
   ]
  },
  {
   "cell_type": "code",
   "execution_count": 8,
   "id": "b929d893",
   "metadata": {},
   "outputs": [
    {
     "name": "stdout",
     "output_type": "stream",
     "text": [
      "('hamza ali', 'BS SE', '1st')\n"
     ]
    }
   ],
   "source": [
    "name = \"faizan\" \n",
    "    #global variable can be easily accessed anywhere in the program!\n",
    "degree = \"BS CS\"\n",
    "semester = \"3rd\"\n",
    "\n",
    "def stu_data():\n",
    "    name = \"hamza ali\"\n",
    "    degree = \"BS SE\"\n",
    "    semester = \"1st\"\n",
    "    \n",
    "    return name, degree , semester #now its printing out the values of local variable ....\n",
    "\n",
    "print(stu_data())"
   ]
  },
  {
   "cell_type": "code",
   "execution_count": 15,
   "id": "86c2aa1c",
   "metadata": {},
   "outputs": [
    {
     "name": "stdout",
     "output_type": "stream",
     "text": [
      "('hamza ali', 'BS SE', '1st')\n"
     ]
    }
   ],
   "source": [
    "names = \"faizan\" \n",
    "    #global variable can be easily accessed anywhere in the program!\n",
    "degree = \"BS CS\"\n",
    "semester = \"3rd\"\n",
    "\n",
    "def stu_data():\n",
    "    global names\n",
    "    degree = \"BS SE\"\n",
    "    semester = \"1st\"\n",
    "    \n",
    "    return name, degree , semester #now its printing out the values of local variable ....\n",
    "\n",
    "print(stu_data())"
   ]
  },
  {
   "cell_type": "code",
   "execution_count": 20,
   "id": "79fa4b95",
   "metadata": {},
   "outputs": [
    {
     "name": "stdout",
     "output_type": "stream",
     "text": [
      "('faizan', 'BS CS', '3rd')\n"
     ]
    }
   ],
   "source": [
    "names = \"faizan\" \n",
    "    #global variable can be easily accessed anywhere in the program!\n",
    "degree = \"BS CS\"\n",
    "semester = \"3rd\"\n",
    "\n",
    "def stu_data():\n",
    "    global names  # here we called the value of global variable inside the function!\n",
    "    \n",
    "    return names, degree , semester #now its printing out the values of local variable ....\n",
    "\n",
    "print(stu_data())"
   ]
  },
  {
   "cell_type": "code",
   "execution_count": 24,
   "id": "d2ee2dbc",
   "metadata": {},
   "outputs": [
    {
     "name": "stdout",
     "output_type": "stream",
     "text": [
      "('faizan', 'BS CS', '3rd', '19')\n",
      "19\n"
     ]
    }
   ],
   "source": [
    "names = \"faizan\"    #global variable can be easily accessed anywhere in the program!\n",
    "degree = \"BS CS\"\n",
    "semester = \"3rd\"\n",
    "\n",
    "def stu_data():\n",
    "    global names  # here we called the value of global variable inside the function!\n",
    "    global age \n",
    "    age = \"19\"\n",
    "    return names, degree , semester, age #now its printing out the values of local variable ....\n",
    "\n",
    "print(stu_data())\n",
    "print(age) # it can be accessed any where in the program as its a global variable!"
   ]
  },
  {
   "cell_type": "code",
   "execution_count": 1,
   "id": "6d51cd14",
   "metadata": {},
   "outputs": [
    {
     "data": {
      "text/plain": [
       "True"
      ]
     },
     "execution_count": 1,
     "metadata": {},
     "output_type": "execute_result"
    }
   ],
   "source": [
    "a = 21\n",
    "b = 21\n",
    "\n",
    "\n",
    "a == b # to compare values\n"
   ]
  },
  {
   "cell_type": "code",
   "execution_count": 2,
   "id": "f5f51748",
   "metadata": {},
   "outputs": [
    {
     "data": {
      "text/plain": [
       "True"
      ]
     },
     "execution_count": 2,
     "metadata": {},
     "output_type": "execute_result"
    }
   ],
   "source": [
    "a is b # to check equal id "
   ]
  },
  {
   "cell_type": "code",
   "execution_count": 3,
   "id": "134b5dc7",
   "metadata": {},
   "outputs": [
    {
     "data": {
      "text/plain": [
       "True"
      ]
     },
     "execution_count": 3,
     "metadata": {},
     "output_type": "execute_result"
    }
   ],
   "source": [
    "l1 = [2]\n",
    "l2 = [2]\n",
    "\n",
    "l1 == l2"
   ]
  },
  {
   "cell_type": "code",
   "execution_count": null,
   "id": "a6d73c43",
   "metadata": {},
   "outputs": [],
   "source": []
  }
 ],
 "metadata": {
  "kernelspec": {
   "display_name": "Python 3 (ipykernel)",
   "language": "python",
   "name": "python3"
  },
  "language_info": {
   "codemirror_mode": {
    "name": "ipython",
    "version": 3
   },
   "file_extension": ".py",
   "mimetype": "text/x-python",
   "name": "python",
   "nbconvert_exporter": "python",
   "pygments_lexer": "ipython3",
   "version": "3.9.12"
  }
 },
 "nbformat": 4,
 "nbformat_minor": 5
}
