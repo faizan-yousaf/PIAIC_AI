{
 "cells": [
  {
   "cell_type": "markdown",
   "id": "65ee8dc2",
   "metadata": {},
   "source": [
    "# Abstraction:"
   ]
  },
  {
   "cell_type": "markdown",
   "id": "76e8f4e2",
   "metadata": {},
   "source": [
    "* A class whose instance cannot be made directly is know as Abstraction.\n",
    "* we can use all the methods/attributes through inheritance \n",
    "* we can also access in child class body\n",
    "* Use this library for abstraction:\n",
    "    `from abc import ABC, abstractmethod`\n",
    "    "
   ]
  },
  {
   "cell_type": "markdown",
   "id": "e98ac7da",
   "metadata": {},
   "source": [
    "hr wo jandar chez un sb k andr ye khasosiyat ho gi k wo ik waqt tk zinda rhain gy or us k bad wo khatam ho jain gy"
   ]
  },
  {
   "cell_type": "markdown",
   "id": "5bbb9e2d",
   "metadata": {},
   "source": [
    "* 3.6 and above version:"
   ]
  },
  {
   "cell_type": "markdown",
   "id": "b34206e7",
   "metadata": {},
   "source": [
    "### Let's import the following library to use the abstraction in python:\n",
    "* Use this library for abstraction:\n",
    "    `from abc import ABC, abstractmethod`"
   ]
  },
  {
   "cell_type": "markdown",
   "id": "08d2f7bc",
   "metadata": {},
   "source": []
  },
  {
   "cell_type": "code",
   "execution_count": 4,
   "id": "66283e1e",
   "metadata": {},
   "outputs": [],
   "source": [
    "from abc import ABC, abstractmethod"
   ]
  },
  {
   "cell_type": "code",
   "execution_count": 25,
   "id": "a15f5e19",
   "metadata": {},
   "outputs": [],
   "source": [
    "from abc import ABC, abstractmethod\n",
    "class Human(ABC): #Abstract class\n",
    "    @abstractmethod #decorator\n",
    "    def __int__(self, name , age):\n",
    "        self.name = name\n",
    "        self.age = age\n",
    "       \n",
    "    def hello(self):\n",
    "        return \"Hello world \"\n",
    "class Male(Human): #chlid class\n",
    "    def __int__(self, name , age):\n",
    "        self.name = name\n",
    "        self.age = age\n",
    "\n",
    "#p = Human(\"Faizan , 20 \") #trying to create object of abstract class \n",
    "                        #and we will face an error!"
   ]
  },
  {
   "cell_type": "code",
   "execution_count": 26,
   "id": "2b12ff8b",
   "metadata": {},
   "outputs": [
    {
     "ename": "TypeError",
     "evalue": "Male() takes no arguments",
     "output_type": "error",
     "traceback": [
      "\u001b[1;31m---------------------------------------------------------------------------\u001b[0m",
      "\u001b[1;31mTypeError\u001b[0m                                 Traceback (most recent call last)",
      "Input \u001b[1;32mIn [26]\u001b[0m, in \u001b[0;36m<cell line: 1>\u001b[1;34m()\u001b[0m\n\u001b[1;32m----> 1\u001b[0m m1 \u001b[38;5;241m=\u001b[39m \u001b[43mMale\u001b[49m\u001b[43m(\u001b[49m\u001b[38;5;124;43m\"\u001b[39;49m\u001b[38;5;124;43mfaizan\u001b[39;49m\u001b[38;5;124;43m\"\u001b[39;49m\u001b[43m,\u001b[49m\u001b[43m \u001b[49m\u001b[38;5;124;43m\"\u001b[39;49m\u001b[38;5;124;43m20\u001b[39;49m\u001b[38;5;124;43m\"\u001b[39;49m\u001b[43m)\u001b[49m\n\u001b[0;32m      2\u001b[0m m1\u001b[38;5;241m.\u001b[39mhello()\n",
      "\u001b[1;31mTypeError\u001b[0m: Male() takes no arguments"
     ]
    }
   ],
   "source": [
    "m1 = Male(\"faizan\", \"20\")\n"
   ]
  },
  {
   "cell_type": "code",
   "execution_count": 27,
   "id": "eed28c0b",
   "metadata": {},
   "outputs": [
    {
     "ename": "NameError",
     "evalue": "name 'm1' is not defined",
     "output_type": "error",
     "traceback": [
      "\u001b[1;31m---------------------------------------------------------------------------\u001b[0m",
      "\u001b[1;31mNameError\u001b[0m                                 Traceback (most recent call last)",
      "Input \u001b[1;32mIn [27]\u001b[0m, in \u001b[0;36m<cell line: 1>\u001b[1;34m()\u001b[0m\n\u001b[1;32m----> 1\u001b[0m \u001b[43mm1\u001b[49m\u001b[38;5;241m.\u001b[39mhello()\n",
      "\u001b[1;31mNameError\u001b[0m: name 'm1' is not defined"
     ]
    }
   ],
   "source": [
    "m1.hello()"
   ]
  },
  {
   "cell_type": "markdown",
   "id": "53504cbc",
   "metadata": {},
   "source": [
    "* now we can call each attribute of the child classes... but we can't make objects of parent class!"
   ]
  },
  {
   "cell_type": "markdown",
   "id": "cae7c79f",
   "metadata": {},
   "source": [
    "* Example of Abstract class:\n",
    "    * Animals\n",
    "    * Human\n",
    "    * Living things\n",
    "    "
   ]
  },
  {
   "cell_type": "code",
   "execution_count": null,
   "id": "cc9ec4a2",
   "metadata": {},
   "outputs": [],
   "source": []
  }
 ],
 "metadata": {
  "kernelspec": {
   "display_name": "Python 3 (ipykernel)",
   "language": "python",
   "name": "python3"
  },
  "language_info": {
   "codemirror_mode": {
    "name": "ipython",
    "version": 3
   },
   "file_extension": ".py",
   "mimetype": "text/x-python",
   "name": "python",
   "nbconvert_exporter": "python",
   "pygments_lexer": "ipython3",
   "version": "3.9.12"
  }
 },
 "nbformat": 4,
 "nbformat_minor": 5
}
