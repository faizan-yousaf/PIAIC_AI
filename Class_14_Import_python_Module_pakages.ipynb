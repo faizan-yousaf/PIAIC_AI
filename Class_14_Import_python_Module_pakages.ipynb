{
 "cells": [
  {
   "cell_type": "markdown",
   "id": "1602a1de",
   "metadata": {},
   "source": [
    "# Importing pakages in python:"
   ]
  },
  {
   "cell_type": "code",
   "execution_count": 7,
   "id": "f308f91c",
   "metadata": {},
   "outputs": [],
   "source": [
    "from piaic.maths import *"
   ]
  },
  {
   "cell_type": "code",
   "execution_count": 9,
   "id": "dceebb56",
   "metadata": {},
   "outputs": [
    {
     "data": {
      "text/plain": [
       "'This is my first pakage in python!'"
      ]
     },
     "execution_count": 9,
     "metadata": {},
     "output_type": "execute_result"
    }
   ],
   "source": [
    "f1()"
   ]
  },
  {
   "cell_type": "code",
   "execution_count": 10,
   "id": "77578a57",
   "metadata": {},
   "outputs": [
    {
     "data": {
      "text/plain": [
       "'This is my first pakage in python!'"
      ]
     },
     "execution_count": 10,
     "metadata": {},
     "output_type": "execute_result"
    }
   ],
   "source": [
    "f2()"
   ]
  },
  {
   "cell_type": "code",
   "execution_count": 11,
   "id": "1956150a",
   "metadata": {},
   "outputs": [
    {
     "data": {
      "text/plain": [
       "'This is my first pakage in python!'"
      ]
     },
     "execution_count": 11,
     "metadata": {},
     "output_type": "execute_result"
    }
   ],
   "source": [
    "f3()"
   ]
  },
  {
   "cell_type": "code",
   "execution_count": 13,
   "id": "892af853",
   "metadata": {},
   "outputs": [
    {
     "data": {
      "text/plain": [
       "'This is my first pakage in python!'"
      ]
     },
     "execution_count": 13,
     "metadata": {},
     "output_type": "execute_result"
    }
   ],
   "source": [
    "f4()"
   ]
  },
  {
   "cell_type": "markdown",
   "id": "c28a12d4",
   "metadata": {},
   "source": [
    "#### if we want to import only few methods of any module we can use:"
   ]
  },
  {
   "cell_type": "code",
   "execution_count": 14,
   "id": "2817818d",
   "metadata": {},
   "outputs": [],
   "source": [
    "import piaic.maths as aic"
   ]
  },
  {
   "cell_type": "markdown",
   "id": "66bdc652",
   "metadata": {},
   "source": [
    "* to call the attribute and it's specific funtions we will use `as` allias and then we will use: <br>\n",
    "`allias.attribute()`"
   ]
  },
  {
   "cell_type": "code",
   "execution_count": 16,
   "id": "450e303f",
   "metadata": {},
   "outputs": [
    {
     "data": {
      "text/plain": [
       "'This is my first pakage in python!'"
      ]
     },
     "execution_count": 16,
     "metadata": {},
     "output_type": "execute_result"
    }
   ],
   "source": [
    "aic.f3()"
   ]
  },
  {
   "cell_type": "code",
   "execution_count": 17,
   "id": "e8a7b562",
   "metadata": {},
   "outputs": [
    {
     "data": {
      "text/plain": [
       "'This is my first pakage in python!'"
      ]
     },
     "execution_count": 17,
     "metadata": {},
     "output_type": "execute_result"
    }
   ],
   "source": [
    "aic.f1()"
   ]
  },
  {
   "cell_type": "markdown",
   "id": "65894a7c",
   "metadata": {},
   "source": [
    "* Deploy your first pakage on the link below: <br>\n",
    "  `https://pypi.org/`  "
   ]
  },
  {
   "cell_type": "code",
   "execution_count": null,
   "id": "f6ad4242",
   "metadata": {},
   "outputs": [],
   "source": []
  }
 ],
 "metadata": {
  "kernelspec": {
   "display_name": "Python 3 (ipykernel)",
   "language": "python",
   "name": "python3"
  },
  "language_info": {
   "codemirror_mode": {
    "name": "ipython",
    "version": 3
   },
   "file_extension": ".py",
   "mimetype": "text/x-python",
   "name": "python",
   "nbconvert_exporter": "python",
   "pygments_lexer": "ipython3",
   "version": "3.9.12"
  }
 },
 "nbformat": 4,
 "nbformat_minor": 5
}
