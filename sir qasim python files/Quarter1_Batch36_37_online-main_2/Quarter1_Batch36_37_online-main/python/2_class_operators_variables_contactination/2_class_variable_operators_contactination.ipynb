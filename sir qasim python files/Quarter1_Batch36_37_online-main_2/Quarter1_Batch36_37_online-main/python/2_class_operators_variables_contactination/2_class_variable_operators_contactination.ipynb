{
 "cells": [
  {
   "cell_type": "markdown",
   "metadata": {},
   "source": [
    "Operation\n",
    "\n",
    "    * oprand\n",
    "    * operators"
   ]
  },
  {
   "cell_type": "code",
   "execution_count": 2,
   "metadata": {},
   "outputs": [
    {
     "name": "stdout",
     "output_type": "stream",
     "text": [
      "7\n"
     ]
    }
   ],
   "source": [
    "print(5 + 2)"
   ]
  },
  {
   "cell_type": "code",
   "execution_count": 3,
   "metadata": {},
   "outputs": [
    {
     "name": "stdout",
     "output_type": "stream",
     "text": [
      "3\n"
     ]
    }
   ],
   "source": [
    "print( 5 - 2 )"
   ]
  },
  {
   "cell_type": "code",
   "execution_count": 4,
   "metadata": {},
   "outputs": [
    {
     "name": "stdout",
     "output_type": "stream",
     "text": [
      "10\n"
     ]
    }
   ],
   "source": [
    "print( 5 * 2)"
   ]
  },
  {
   "cell_type": "code",
   "execution_count": 5,
   "metadata": {},
   "outputs": [
    {
     "name": "stdout",
     "output_type": "stream",
     "text": [
      "2.5\n"
     ]
    }
   ],
   "source": [
    "print(5/2) # float"
   ]
  },
  {
   "cell_type": "code",
   "execution_count": 6,
   "metadata": {},
   "outputs": [
    {
     "name": "stdout",
     "output_type": "stream",
     "text": [
      "25\n"
     ]
    }
   ],
   "source": [
    "print(5**2) #power"
   ]
  },
  {
   "cell_type": "code",
   "execution_count": 7,
   "metadata": {},
   "outputs": [
    {
     "name": "stdout",
     "output_type": "stream",
     "text": [
      "2\n"
     ]
    }
   ],
   "source": [
    "print(5//2) # floor division"
   ]
  },
  {
   "cell_type": "code",
   "execution_count": 8,
   "metadata": {},
   "outputs": [
    {
     "name": "stdout",
     "output_type": "stream",
     "text": [
      "3\n"
     ]
    }
   ],
   "source": [
    "print(7//2)"
   ]
  },
  {
   "cell_type": "code",
   "execution_count": 9,
   "metadata": {},
   "outputs": [
    {
     "name": "stdout",
     "output_type": "stream",
     "text": [
      "2\n"
     ]
    }
   ],
   "source": [
    "print(11 % 3) # modulus"
   ]
  },
  {
   "cell_type": "markdown",
   "metadata": {},
   "source": [
    "#### = equal operator \n",
    "assign any value to variable (placeholder)\n",
    "syntax:\n",
    "\n",
    "``` variable_name = value ```\n",
    "\n",
    "* value any data type"
   ]
  },
  {
   "cell_type": "code",
   "execution_count": 12,
   "metadata": {},
   "outputs": [
    {
     "name": "stdout",
     "output_type": "stream",
     "text": [
      "PIAIC\n",
      "36/37\n",
      "Muhammad Qasim\n",
      "9 am to 12 pm\n",
      "PIAIC\n",
      "36/37\n",
      "Muhammad Qasim\n",
      "9 am to 12 pm\n",
      "PIAIC\n",
      "36/37\n",
      "Muhammad Qasim\n",
      "9 am to 12 pm\n",
      "PIAIC\n",
      "36/37\n",
      "Muhammad Qasim\n",
      "9 am to 12 pm\n"
     ]
    }
   ],
   "source": [
    "school = \"PIAIC\"\n",
    "batch = \"36/37\"\n",
    "teacher = \"Muhammad Qasim\"\n",
    "timing = \"9 am to 12 pm\"\n",
    "\n",
    "\n",
    "print(school)\n",
    "print(batch)\n",
    "print(teacher)\n",
    "print(timing)\n",
    "\n",
    "print(school)\n",
    "print(batch)\n",
    "print(teacher)\n",
    "print(timing)\n",
    "\n",
    "print(school)\n",
    "print(batch)\n",
    "print(teacher)\n",
    "print(timing)\n",
    "\n",
    "print(school)\n",
    "print(batch)\n",
    "print(teacher)\n",
    "print(timing)"
   ]
  },
  {
   "cell_type": "code",
   "execution_count": 18,
   "metadata": {},
   "outputs": [
    {
     "name": "stdout",
     "output_type": "stream",
     "text": [
      "139680744984880\n",
      "139680744987440\n",
      "139680745070704\n",
      "139680745070640\n"
     ]
    }
   ],
   "source": [
    "print(id(school))\n",
    "print(id(batch))\n",
    "print(id(teacher))\n",
    "print(id(timing))"
   ]
  },
  {
   "cell_type": "code",
   "execution_count": 13,
   "metadata": {},
   "outputs": [
    {
     "name": "stdout",
     "output_type": "stream",
     "text": [
      "Muhammad Qasim\n"
     ]
    }
   ],
   "source": [
    "name = \"Muhammad Qasim\"\n",
    "print(name)"
   ]
  },
  {
   "cell_type": "markdown",
   "metadata": {},
   "source": [
    "# use some pre-define functions\n",
    "* print()\n",
    "* type()\n",
    "* id()\n",
    "* len()"
   ]
  },
  {
   "cell_type": "code",
   "execution_count": 17,
   "metadata": {},
   "outputs": [
    {
     "name": "stdout",
     "output_type": "stream",
     "text": [
      "<class 'str'>\n",
      "139680745056880\n",
      "14\n"
     ]
    }
   ],
   "source": [
    "name = \"Muhammad Qasim\"\n",
    "print(type(name)) # data type \n",
    "print(id(name)) # memory address\n",
    "print(len(name)) # length (count number of character)\n"
   ]
  },
  {
   "cell_type": "code",
   "execution_count": 19,
   "metadata": {},
   "outputs": [
    {
     "name": "stdout",
     "output_type": "stream",
     "text": [
      "139680739920112\n",
      "139680739920496\n"
     ]
    }
   ],
   "source": [
    "name = \"Muhammad Qasim\"\n",
    "teacher_name = \"Muhammad Qasim\"\n",
    "\n",
    "print(id(name))\n",
    "print(id(teacher_name))"
   ]
  },
  {
   "cell_type": "code",
   "execution_count": 20,
   "metadata": {},
   "outputs": [
    {
     "name": "stdout",
     "output_type": "stream",
     "text": [
      "139680739921136\n",
      "139680739921136\n"
     ]
    }
   ],
   "source": [
    "a = \"Pakistan\"\n",
    "b = \"Pakistan\"\n",
    "\n",
    "print(id(a))\n",
    "print(id(b))"
   ]
  },
  {
   "cell_type": "code",
   "execution_count": null,
   "metadata": {},
   "outputs": [],
   "source": []
  }
 ],
 "metadata": {
  "kernelspec": {
   "display_name": "Python 3",
   "language": "python",
   "name": "python3"
  },
  "language_info": {
   "codemirror_mode": {
    "name": "ipython",
    "version": 3
   },
   "file_extension": ".py",
   "mimetype": "text/x-python",
   "name": "python",
   "nbconvert_exporter": "python",
   "pygments_lexer": "ipython3",
   "version": "3.7.6"
  }
 },
 "nbformat": 4,
 "nbformat_minor": 4
}
